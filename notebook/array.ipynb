{
    "metadata": {
        "kernelspec": {
            "name": "SQL",
            "display_name": "SQL",
            "language": "sql"
        },
        "language_info": {
            "name": "sql",
            "version": ""
        },
        "extensions": {
            "azuredatastudio": {
                "version": 1,
                "views": []
            }
        }
    },
    "nbformat_minor": 2,
    "nbformat": 4,
    "cells": [
        {
            "cell_type": "markdown",
            "source": [
                "# Array"
            ],
            "metadata": {
                "azdata_cell_guid": "0cf2ba30-5913-4efe-a602-06d5f6ab33c0"
            }
        },
        {
            "cell_type": "markdown",
            "source": [
                "## store multivalued columns with array"
            ],
            "metadata": {
                "azdata_cell_guid": "74cf382b-ccfd-46d6-ae1b-dd078efac9d7"
            }
        },
        {
            "cell_type": "code",
            "source": [
                "drop table if exists applicant;\r\n",
                "\r\n",
                "create table applicant(\r\n",
                "    id int PRIMARY key,\r\n",
                "    name varchar(50) not null,\r\n",
                "    skills varchar(50)[] -- array of skills\r\n",
                ");\r\n",
                "\r\n",
                "insert into applicant(id, name, skills) values (1, 'Peter', '{C,Java,SQL}');\r\n",
                "\r\n",
                "insert into applicant(id, name, skills) values \r\n",
                "    (2, 'Mike', '{\"C\",\"Java\",\"SQL\"}'),\r\n",
                "    (3, 'Ann', '{Word,Excel 2016,PowerPoint}'),\r\n",
                "    (4, 'Jane', '{\"One, Two, Three\",\"Word\"}'),\r\n",
                "    (5, 'Sharon', '{Python,SQL,C,C++,C#,Java}'),\r\n",
                "    (6, 'John', '{MySQL,SQLite,C}');\r\n",
                ""
            ],
            "metadata": {
                "azdata_cell_guid": "db955a79-9040-47df-a278-ba8e3b8840f7"
            },
            "outputs": [],
            "execution_count": null
        },
        {
            "cell_type": "code",
            "source": [
                "select * from applicant;"
            ],
            "metadata": {
                "azdata_cell_guid": "6347997a-cc1c-463d-b1fa-a8f9480c1e1e"
            },
            "outputs": [],
            "execution_count": null
        },
        {
            "cell_type": "code",
            "source": [
                "select name, skills, array_length(skills, 1) from applicant;"
            ],
            "metadata": {
                "azdata_cell_guid": "a0fe9a78-c487-45fc-bd75-e456a7eeec8f"
            },
            "outputs": [],
            "execution_count": null
        },
        {
            "cell_type": "code",
            "source": [
                "\r\n",
                "select name, skills, skills[4] from applicant;\r\n",
                ""
            ],
            "metadata": {
                "azdata_cell_guid": "2438e780-d374-4f11-bf7e-de4e288333bd",
                "tags": [
                    "hide_input"
                ]
            },
            "outputs": [],
            "execution_count": null
        },
        {
            "cell_type": "markdown",
            "source": [
                "# normalized tables"
            ],
            "metadata": {
                "azdata_cell_guid": "69a6e14d-3634-4927-9cb2-1905a5fa9943"
            }
        },
        {
            "cell_type": "code",
            "source": [
                "drop table if exists appln_info;\r\n",
                "create table appln_info(\r\n",
                "    id int PRIMARY key,\r\n",
                "    name varchar(50) not null \r\n",
                ");\r\n",
                "\r\n",
                "create table appln_skills(\r\n",
                "    id int,\r\n",
                "    skills varchar(50)\r\n",
                ");\r\n",
                "\r\n",
                "insert into appln_info(id, name) values(1, 'Peter');\r\n",
                "insert into appln_skills(id, skills) values(1, 'C'), (1, 'Java'), (1, 'SQL');\r\n",
                "select * from appln_skills;\r\n",
                "\r\n",
                "insert into appln_info(id, name) values(6, 'John');\r\n",
                "insert into appln_skills(id, skills) values(6, 'MySQL'), (6, 'SQLite'), (6, 'C');\r\n",
                "select * from appln_skills;\r\n",
                ""
            ],
            "metadata": {
                "azdata_cell_guid": "e0d903a6-b2b8-490a-8630-8571a856cf37"
            },
            "outputs": [],
            "execution_count": null
        },
        {
            "cell_type": "code",
            "source": [
                "select id, unnest(skills) skill from applicant;"
            ],
            "metadata": {
                "azdata_cell_guid": "96902d8b-8256-4965-8ce6-326ce2aaa510"
            },
            "outputs": [],
            "execution_count": null
        }
    ]
}