{
    "metadata": {
        "kernelspec": {
            "name": "SQL",
            "display_name": "SQL",
            "language": "sql"
        },
        "language_info": {
            "name": "sql",
            "version": ""
        }
    },
    "nbformat_minor": 2,
    "nbformat": 4,
    "cells": [
        {
            "cell_type": "markdown",
            "source": [
                "# Sample Azure Data Studio `Interactive Notebook` (ipynb)"
            ],
            "metadata": {
                "azdata_cell_guid": "5b4fda9c-fe0d-43fb-ae74-31fdadfe5574"
            }
        },
        {
            "cell_type": "code",
            "source": [
                "select * from menu limit 5;"
            ],
            "metadata": {
                "azdata_cell_guid": "7528a199-5318-4587-be8e-9e2802169c5b"
            },
            "outputs": [
                {
                    "output_type": "display_data",
                    "data": {
                        "text/html": "(5 row(s) affected)"
                    },
                    "metadata": {}
                },
                {
                    "output_type": "display_data",
                    "data": {
                        "text/html": "Total execution time: 00:00:00.046"
                    },
                    "metadata": {}
                },
                {
                    "output_type": "execute_result",
                    "execution_count": 1,
                    "data": {
                        "application/vnd.dataresource+json": {
                            "schema": {
                                "fields": [
                                    {
                                        "name": "menuid"
                                    },
                                    {
                                        "name": "descr"
                                    },
                                    {
                                        "name": "descrth"
                                    },
                                    {
                                        "name": "sizeid"
                                    },
                                    {
                                        "name": "categoryid"
                                    },
                                    {
                                        "name": "isrecommended"
                                    },
                                    {
                                        "name": "isdiscontinued"
                                    },
                                    {
                                        "name": "price"
                                    },
                                    {
                                        "name": "cost"
                                    },
                                    {
                                        "name": "margin"
                                    },
                                    {
                                        "name": "username"
                                    },
                                    {
                                        "name": "firstintrodt"
                                    },
                                    {
                                        "name": "discontinueddt"
                                    }
                                ]
                            },
                            "data": [
                                {
                                    "0": "201L6",
                                    "1": "Tom Yum Kung (Large)",
                                    "2": "ต้มยำกุ้ง (ใหญ่)",
                                    "3": "L",
                                    "4": "DI",
                                    "5": "False",
                                    "6": "False",
                                    "7": "200",
                                    "8": "80",
                                    "9": "120.0",
                                    "10": "dbo",
                                    "11": "2002-01-01T00:00:00",
                                    "12": "NULL"
                                },
                                {
                                    "0": "201M7",
                                    "1": "Tom Yum Kung (Medium)",
                                    "2": "ต้มยำกุ้ง (กลาง)",
                                    "3": "M",
                                    "4": "DI",
                                    "5": "True",
                                    "6": "False",
                                    "7": "100",
                                    "8": "40",
                                    "9": "60.0",
                                    "10": "dbo",
                                    "11": "2002-01-01T00:00:00",
                                    "12": "NULL"
                                },
                                {
                                    "0": "201S3",
                                    "1": "Tom Yum Kung (Small)",
                                    "2": "ต้มยำกุ้ง (เล็ก)",
                                    "3": "S",
                                    "4": "DI",
                                    "5": "False",
                                    "6": "False",
                                    "7": "20",
                                    "8": "8",
                                    "9": "12.0",
                                    "10": "dbo",
                                    "11": "2002-01-01T00:00:00",
                                    "12": "NULL"
                                },
                                {
                                    "0": "202M9",
                                    "1": "Green Curry with Chicken",
                                    "2": "แกงเขียวหวานไก่",
                                    "3": "M",
                                    "4": "DI",
                                    "5": "True",
                                    "6": "False",
                                    "7": "60",
                                    "8": "24",
                                    "9": "36.0",
                                    "10": "dbo",
                                    "11": "2002-01-01T00:00:00",
                                    "12": "NULL"
                                },
                                {
                                    "0": "203M1",
                                    "1": "Pla Rad Prik",
                                    "2": "ปลาราดพริก",
                                    "3": "L",
                                    "4": "DI",
                                    "5": "False",
                                    "6": "False",
                                    "7": "400",
                                    "8": "160",
                                    "9": "240.0",
                                    "10": "dbo",
                                    "11": "2002-01-01T00:00:00",
                                    "12": "NULL"
                                }
                            ]
                        },
                        "text/html": "<table><tr><th>menuid</th><th>descr</th><th>descrth</th><th>sizeid</th><th>categoryid</th><th>isrecommended</th><th>isdiscontinued</th><th>price</th><th>cost</th><th>margin</th><th>username</th><th>firstintrodt</th><th>discontinueddt</th></tr><tr><td>201L6</td><td>Tom Yum Kung (Large)</td><td>ต้มยำกุ้ง (ใหญ่)</td><td>L</td><td>DI</td><td>False</td><td>False</td><td>200</td><td>80</td><td>120.0</td><td>dbo</td><td>2002-01-01T00:00:00</td><td>NULL</td></tr><tr><td>201M7</td><td>Tom Yum Kung (Medium)</td><td>ต้มยำกุ้ง (กลาง)</td><td>M</td><td>DI</td><td>True</td><td>False</td><td>100</td><td>40</td><td>60.0</td><td>dbo</td><td>2002-01-01T00:00:00</td><td>NULL</td></tr><tr><td>201S3</td><td>Tom Yum Kung (Small)</td><td>ต้มยำกุ้ง (เล็ก)</td><td>S</td><td>DI</td><td>False</td><td>False</td><td>20</td><td>8</td><td>12.0</td><td>dbo</td><td>2002-01-01T00:00:00</td><td>NULL</td></tr><tr><td>202M9</td><td>Green Curry with Chicken</td><td>แกงเขียวหวานไก่</td><td>M</td><td>DI</td><td>True</td><td>False</td><td>60</td><td>24</td><td>36.0</td><td>dbo</td><td>2002-01-01T00:00:00</td><td>NULL</td></tr><tr><td>203M1</td><td>Pla Rad Prik</td><td>ปลาราดพริก</td><td>L</td><td>DI</td><td>False</td><td>False</td><td>400</td><td>160</td><td>240.0</td><td>dbo</td><td>2002-01-01T00:00:00</td><td>NULL</td></tr></table>"
                    },
                    "metadata": {}
                }
            ],
            "execution_count": 1
        },
        {
            "cell_type": "markdown",
            "source": [
                ""
            ],
            "metadata": {
                "azdata_cell_guid": "803fd30e-cab5-4a06-a64d-4769828a04da"
            }
        },
        {
            "cell_type": "code",
            "source": [
                "select * from menu where descr ilike '%chicken%'"
            ],
            "metadata": {
                "azdata_cell_guid": "c05fc735-0981-4ed6-be1c-ef1dc26b19ae"
            },
            "outputs": [
                {
                    "output_type": "display_data",
                    "data": {
                        "text/html": "(2 row(s) affected)"
                    },
                    "metadata": {}
                },
                {
                    "output_type": "display_data",
                    "data": {
                        "text/html": "Total execution time: 00:00:00.052"
                    },
                    "metadata": {}
                },
                {
                    "output_type": "execute_result",
                    "metadata": {},
                    "execution_count": 2,
                    "data": {
                        "application/vnd.dataresource+json": {
                            "schema": {
                                "fields": [
                                    {
                                        "name": "menuid"
                                    },
                                    {
                                        "name": "descr"
                                    },
                                    {
                                        "name": "descrth"
                                    },
                                    {
                                        "name": "sizeid"
                                    },
                                    {
                                        "name": "categoryid"
                                    },
                                    {
                                        "name": "isrecommended"
                                    },
                                    {
                                        "name": "isdiscontinued"
                                    },
                                    {
                                        "name": "price"
                                    },
                                    {
                                        "name": "cost"
                                    },
                                    {
                                        "name": "margin"
                                    },
                                    {
                                        "name": "username"
                                    },
                                    {
                                        "name": "firstintrodt"
                                    },
                                    {
                                        "name": "discontinueddt"
                                    }
                                ]
                            },
                            "data": [
                                {
                                    "0": "202M9",
                                    "1": "Green Curry with Chicken",
                                    "2": "แกงเขียวหวานไก่",
                                    "3": "M",
                                    "4": "DI",
                                    "5": "True",
                                    "6": "False",
                                    "7": "60",
                                    "8": "24",
                                    "9": "36.0",
                                    "10": "dbo",
                                    "11": "2002-01-01T00:00:00",
                                    "12": "NULL"
                                },
                                {
                                    "0": "205M5",
                                    "1": "Fried Chicken",
                                    "2": "ไก่ทอด",
                                    "3": "M",
                                    "4": "DI",
                                    "5": "False",
                                    "6": "False",
                                    "7": "70",
                                    "8": "28",
                                    "9": "42.0",
                                    "10": "dbo",
                                    "11": "2002-01-01T00:00:00",
                                    "12": "NULL"
                                }
                            ]
                        },
                        "text/html": [
                            "<table>",
                            "<tr><th>menuid</th><th>descr</th><th>descrth</th><th>sizeid</th><th>categoryid</th><th>isrecommended</th><th>isdiscontinued</th><th>price</th><th>cost</th><th>margin</th><th>username</th><th>firstintrodt</th><th>discontinueddt</th></tr>",
                            "<tr><td>202M9</td><td>Green Curry with Chicken</td><td>แกงเขียวหวานไก่</td><td>M</td><td>DI</td><td>True</td><td>False</td><td>60</td><td>24</td><td>36.0</td><td>dbo</td><td>2002-01-01T00:00:00</td><td>NULL</td></tr>",
                            "<tr><td>205M5</td><td>Fried Chicken</td><td>ไก่ทอด</td><td>M</td><td>DI</td><td>False</td><td>False</td><td>70</td><td>28</td><td>42.0</td><td>dbo</td><td>2002-01-01T00:00:00</td><td>NULL</td></tr>",
                            "</table>"
                        ]
                    }
                }
            ],
            "execution_count": 2
        }
    ]
}