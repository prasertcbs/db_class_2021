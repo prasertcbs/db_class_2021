{
    "metadata": {
        "kernelspec": {
            "name": "SQL",
            "display_name": "SQL",
            "language": "sql"
        },
        "language_info": {
            "name": "sql",
            "version": ""
        },
        "colab": {
            "name": "postgres_databars_visitor.ipynb",
            "provenance": []
        },
        "extensions": {
            "azuredatastudio": {
                "version": 1,
                "views": []
            }
        }
    },
    "nbformat_minor": 2,
    "nbformat": 4,
    "cells": [
        {
            "cell_type": "markdown",
            "source": [
                "# databars\n",
                "## Server: PostgreSQL\n",
                "## Author: Prasert Kanawattanachai\n",
                "## YouTube: http://bit.ly/2mseopN"
            ],
            "metadata": {
                "azdata_cell_guid": "d6aa73ef-9f1d-44ce-88b2-05bb4f931c56",
                "id": "zWguLMPcSsFK",
                "extensions": {
                    "azuredatastudio": {
                        "views": []
                    }
                }
            }
        },
        {
            "cell_type": "markdown",
            "source": [
                "## Block elements\n",
                "https://en.wikipedia.org/wiki/Block_Elements\n",
                "\n",
                "<table class=\"wikitable sortable collapsible mw-collapsible jquery-tablesorter mw-made-collapsible\">\n",
                "<thead><tr>\n",
                "<th class=\"headerSort\" tabindex=\"0\" role=\"columnheader button\" title=\"Sort ascending\"><span class=\"mw-collapsible-toggle mw-collapsible-toggle-default\" role=\"button\" tabindex=\"0\"><a class=\"mw-collapsible-text\"></a></span>Code\n",
                "</th>\n",
                "<th class=\"headerSort\" tabindex=\"0\" role=\"columnheader button\" title=\"Sort ascending\">Result\n",
                "</th>\n",
                "<th class=\"headerSort\" tabindex=\"0\" role=\"columnheader button\" title=\"Sort ascending\">Description\n",
                "</th></tr></thead><tbody>\n",
                "<tr>\n",
                "<td>U+2580\n",
                "</td>\n",
                "<td>▀\n",
                "</td>\n",
                "<td>Upper half block\n",
                "</td></tr>\n",
                "<tr>\n",
                "<td>U+2581\n",
                "</td>\n",
                "<td>▁\n",
                "</td>\n",
                "<td>Lower one eighth block\n",
                "</td></tr>\n",
                "<tr>\n",
                "<td>U+2582\n",
                "</td>\n",
                "<td>▂\n",
                "</td>\n",
                "<td>Lower one quarter block\n",
                "</td></tr>\n",
                "<tr>\n",
                "<td>U+2583\n",
                "</td>\n",
                "<td>▃\n",
                "</td>\n",
                "<td>Lower three eighths block\n",
                "</td></tr>\n",
                "<tr>\n",
                "<td>U+2584\n",
                "</td>\n",
                "<td>▄\n",
                "</td>\n",
                "<td>Lower half block\n",
                "</td></tr>\n",
                "<tr>\n",
                "<td>U+2585\n",
                "</td>\n",
                "<td>▅\n",
                "</td>\n",
                "<td>Lower five eighths block\n",
                "</td></tr>\n",
                "<tr>\n",
                "<td>U+2586\n",
                "</td>\n",
                "<td>▆\n",
                "</td>\n",
                "<td>Lower three quarters block\n",
                "</td></tr>\n",
                "<tr>\n",
                "<td>U+2587\n",
                "</td>\n",
                "<td>▇\n",
                "</td>\n",
                "<td>Lower seven eighths block\n",
                "</td></tr>\n",
                "<tr>\n",
                "<td>U+2588\n",
                "</td>\n",
                "<td>█\n",
                "</td>\n",
                "<td>Full block\n",
                "</td></tr>\n",
                "<tr>\n",
                "<td>U+2589\n",
                "</td>\n",
                "<td>▉\n",
                "</td>\n",
                "<td>Left seven eighths block\n",
                "</td></tr>\n",
                "<tr>\n",
                "<td>U+258A\n",
                "</td>\n",
                "<td>▊\n",
                "</td>\n",
                "<td>Left three quarters block\n",
                "</td></tr>\n",
                "<tr>\n",
                "<td>U+258B\n",
                "</td>\n",
                "<td>▋\n",
                "</td>\n",
                "<td>Left five eighths block\n",
                "</td></tr>\n",
                "<tr>\n",
                "<td>U+258C\n",
                "</td>\n",
                "<td>▌\n",
                "</td>\n",
                "<td>Left half block\n",
                "</td></tr>\n",
                "<tr>\n",
                "<td>U+258D\n",
                "</td>\n",
                "<td>▍\n",
                "</td>\n",
                "<td>Left three eighths block\n",
                "</td></tr>\n",
                "<tr>\n",
                "<td>U+258E\n",
                "</td>\n",
                "<td>▎\n",
                "</td>\n",
                "<td>Left one quarter block\n",
                "</td></tr>\n",
                "<tr>\n",
                "<td>U+258F\n",
                "</td>\n",
                "<td>▏\n",
                "</td>\n",
                "<td>Left one eighth block\n",
                "</td></tr>\n",
                "<tr>\n",
                "<td>U+2590\n",
                "</td>\n",
                "<td>▐\n",
                "</td>\n",
                "<td>Right half block\n",
                "</td></tr>\n",
                "<tr>\n",
                "<td>U+2591\n",
                "</td>\n",
                "<td>░\n",
                "</td>\n",
                "<td>Light shade\n",
                "</td></tr>\n",
                "<tr>\n",
                "<td>U+2592\n",
                "</td>\n",
                "<td>▒\n",
                "</td>\n",
                "<td>Medium shade\n",
                "</td></tr>\n",
                "<tr>\n",
                "<td>U+2593\n",
                "</td>\n",
                "<td>▓\n",
                "</td>\n",
                "<td>Dark shade\n",
                "</td></tr>\n",
                "<tr>\n",
                "<td>U+2594\n",
                "</td>\n",
                "<td>▔\n",
                "</td>\n",
                "<td>Upper one eighth block\n",
                "</td></tr>\n",
                "<tr>\n",
                "<td>U+2595\n",
                "</td>\n",
                "<td>▕\n",
                "</td>\n",
                "<td>Right one eighth block\n",
                "</td></tr>\n",
                "<tr>\n",
                "<td>U+2596\n",
                "</td>\n",
                "<td>▖\n",
                "</td>\n",
                "<td>Quadrant lower left\n",
                "</td></tr>\n",
                "<tr>\n",
                "<td>U+2597\n",
                "</td>\n",
                "<td>▗\n",
                "</td>\n",
                "<td>Quadrant lower right\n",
                "</td></tr>\n",
                "<tr>\n",
                "<td>U+2598\n",
                "</td>\n",
                "<td>▘\n",
                "</td>\n",
                "<td>Quadrant upper left\n",
                "</td></tr>\n",
                "<tr>\n",
                "<td>U+2599\n",
                "</td>\n",
                "<td>▙\n",
                "</td>\n",
                "<td>Quadrant upper left and lower left and lower right\n",
                "</td></tr>\n",
                "<tr>\n",
                "<td>U+259A\n",
                "</td>\n",
                "<td>▚\n",
                "</td>\n",
                "<td>Quadrant upper left and lower right\n",
                "</td></tr>\n",
                "<tr>\n",
                "<td>U+259B\n",
                "</td>\n",
                "<td>▛\n",
                "</td>\n",
                "<td>Quadrant upper left and upper right and lower left\n",
                "</td></tr>\n",
                "<tr>\n",
                "<td>U+259C\n",
                "</td>\n",
                "<td>▜\n",
                "</td>\n",
                "<td>Quadrant upper left and upper right and lower right\n",
                "</td></tr>\n",
                "<tr>\n",
                "<td>U+259D\n",
                "</td>\n",
                "<td>▝\n",
                "</td>\n",
                "<td>Quadrant upper right\n",
                "</td></tr>\n",
                "<tr>\n",
                "<td>U+259E\n",
                "</td>\n",
                "<td>▞\n",
                "</td>\n",
                "<td>Quadrant upper right and lower left\n",
                "</td></tr>\n",
                "<tr>\n",
                "<td>U+259F\n",
                "</td>\n",
                "<td>▟\n",
                "</td>\n",
                "<td>Quadrant upper right and lower left and lower right\n",
                "</td></tr></tbody><tfoot></tfoot></table>"
            ],
            "metadata": {
                "azdata_cell_guid": "4f33b281-dfd6-44c4-9256-98fc79ec905c",
                "id": "DvSgea9VSsFP",
                "extensions": {
                    "azuredatastudio": {
                        "views": []
                    }
                }
            }
        },
        {
            "cell_type": "code",
            "source": [
                "drop table if exists visitor;\n",
                "\n",
                "create table visitor (\n",
                "    dt date,\n",
                "    male int,\n",
                "    female int\n",
                ");"
            ],
            "metadata": {
                "azdata_cell_guid": "da9d3f00-aab0-4984-b6af-2e1c26577c8f",
                "id": "mgw49_dtSsFT",
                "outputId": "254bd82a-de6e-47a6-f4e2-5ac18af69b76",
                "extensions": {
                    "azuredatastudio": {
                        "views": []
                    }
                }
            },
            "outputs": [
                {
                    "output_type": "display_data",
                    "data": {
                        "text/html": "Commands completed successfully"
                    },
                    "metadata": {}
                },
                {
                    "output_type": "display_data",
                    "data": {
                        "text/html": "Commands completed successfully"
                    },
                    "metadata": {}
                },
                {
                    "output_type": "display_data",
                    "data": {
                        "text/html": "Total execution time: 00:00:00.340"
                    },
                    "metadata": {}
                }
            ],
            "execution_count": 1
        },
        {
            "cell_type": "code",
            "source": [
                "select random()"
            ],
            "metadata": {
                "azdata_cell_guid": "e5a30b91-007b-44b2-8516-f81adbf0075b",
                "id": "ZDSMV0VWSsFY",
                "outputId": "3b35b607-d558-42f5-fc1d-3b447ee3a7ad",
                "extensions": {
                    "azuredatastudio": {
                        "views": []
                    }
                }
            },
            "outputs": [
                {
                    "output_type": "display_data",
                    "data": {
                        "text/html": "(1 row(s) affected)"
                    },
                    "metadata": {}
                },
                {
                    "output_type": "display_data",
                    "data": {
                        "text/html": "Total execution time: 00:00:00.046"
                    },
                    "metadata": {}
                },
                {
                    "output_type": "execute_result",
                    "metadata": {},
                    "execution_count": 2,
                    "data": {
                        "application/vnd.dataresource+json": {
                            "schema": {
                                "fields": [
                                    {
                                        "name": "random"
                                    }
                                ]
                            },
                            "data": [
                                {
                                    "0": "0.673267304431647"
                                }
                            ]
                        },
                        "text/html": [
                            "<table>",
                            "<tr><th>random</th></tr>",
                            "<tr><td>0.673267304431647</td></tr>",
                            "</table>"
                        ]
                    }
                }
            ],
            "execution_count": 2
        },
        {
            "cell_type": "code",
            "source": [
                "select g,  \r\n",
                "    random(),\r\n",
                "    random()*6,\r\n",
                "    ceiling(random() * 6)::int,\r\n",
                "    floor(1 + random() * 6)::int\r\n",
                "    from generate_series(1, 10) g"
            ],
            "metadata": {
                "azdata_cell_guid": "9ea872ce-e23f-48dc-a49e-6723117ae5f7"
            },
            "outputs": [
                {
                    "output_type": "display_data",
                    "data": {
                        "text/html": "(10 row(s) affected)"
                    },
                    "metadata": {}
                },
                {
                    "output_type": "display_data",
                    "data": {
                        "text/html": "Total execution time: 00:00:00.036"
                    },
                    "metadata": {}
                },
                {
                    "output_type": "execute_result",
                    "metadata": {},
                    "execution_count": 19,
                    "data": {
                        "application/vnd.dataresource+json": {
                            "schema": {
                                "fields": [
                                    {
                                        "name": "g"
                                    },
                                    {
                                        "name": "random"
                                    },
                                    {
                                        "name": "Column3"
                                    },
                                    {
                                        "name": "ceiling"
                                    },
                                    {
                                        "name": "floor"
                                    }
                                ]
                            },
                            "data": [
                                {
                                    "0": "1",
                                    "1": "0.530004553031176",
                                    "2": "3.93023010436445",
                                    "3": "2",
                                    "4": "2"
                                },
                                {
                                    "0": "2",
                                    "1": "0.942936858162284",
                                    "2": "3.45042218640447",
                                    "3": "5",
                                    "4": "2"
                                },
                                {
                                    "0": "3",
                                    "1": "0.137218015268445",
                                    "2": "5.75650640297681",
                                    "3": "2",
                                    "4": "6"
                                },
                                {
                                    "0": "4",
                                    "1": "0.246314625255764",
                                    "2": "2.92927423305809",
                                    "3": "5",
                                    "4": "1"
                                },
                                {
                                    "0": "5",
                                    "1": "0.747823838610202",
                                    "2": "2.31972834002227",
                                    "3": "3",
                                    "4": "6"
                                },
                                {
                                    "0": "6",
                                    "1": "0.513004606124014",
                                    "2": "3.63282239343971",
                                    "3": "5",
                                    "4": "1"
                                },
                                {
                                    "0": "7",
                                    "1": "0.134358655195683",
                                    "2": "1.76943083759397",
                                    "3": "6",
                                    "4": "5"
                                },
                                {
                                    "0": "8",
                                    "1": "0.629772163927555",
                                    "2": "1.93695844709873",
                                    "3": "1",
                                    "4": "3"
                                },
                                {
                                    "0": "9",
                                    "1": "0.672453154809773",
                                    "2": "4.4976710351184",
                                    "3": "3",
                                    "4": "2"
                                },
                                {
                                    "0": "10",
                                    "1": "0.966606546193361",
                                    "2": "4.21382356435061",
                                    "3": "1",
                                    "4": "6"
                                }
                            ]
                        },
                        "text/html": [
                            "<table>",
                            "<tr><th>g</th><th>random</th><th>Column3</th><th>ceiling</th><th>floor</th></tr>",
                            "<tr><td>1</td><td>0.530004553031176</td><td>3.93023010436445</td><td>2</td><td>2</td></tr>",
                            "<tr><td>2</td><td>0.942936858162284</td><td>3.45042218640447</td><td>5</td><td>2</td></tr>",
                            "<tr><td>3</td><td>0.137218015268445</td><td>5.75650640297681</td><td>2</td><td>6</td></tr>",
                            "<tr><td>4</td><td>0.246314625255764</td><td>2.92927423305809</td><td>5</td><td>1</td></tr>",
                            "<tr><td>5</td><td>0.747823838610202</td><td>2.31972834002227</td><td>3</td><td>6</td></tr>",
                            "<tr><td>6</td><td>0.513004606124014</td><td>3.63282239343971</td><td>5</td><td>1</td></tr>",
                            "<tr><td>7</td><td>0.134358655195683</td><td>1.76943083759397</td><td>6</td><td>5</td></tr>",
                            "<tr><td>8</td><td>0.629772163927555</td><td>1.93695844709873</td><td>1</td><td>3</td></tr>",
                            "<tr><td>9</td><td>0.672453154809773</td><td>4.4976710351184</td><td>3</td><td>2</td></tr>",
                            "<tr><td>10</td><td>0.966606546193361</td><td>4.21382356435061</td><td>1</td><td>6</td></tr>",
                            "</table>"
                        ]
                    }
                }
            ],
            "execution_count": 19
        },
        {
            "cell_type": "code",
            "source": [
                "select dt::date,\n",
                "    (10 + random() * 20)::int male,\n",
                "    (15 + random() * 20)::int female\n",
                "    from generate_series('2019-07-01'::date, '2019-07-07'::date, '1 day') dt"
            ],
            "metadata": {
                "azdata_cell_guid": "911e9ac6-f0d8-45fc-b62c-49d817ad02fc",
                "id": "tGRecafHSsFY",
                "outputId": "3d0dc337-02b1-4cd9-e88f-c3e1d426fdfb",
                "extensions": {
                    "azuredatastudio": {
                        "views": []
                    }
                }
            },
            "outputs": [
                {
                    "output_type": "display_data",
                    "data": {
                        "text/html": "(7 row(s) affected)"
                    },
                    "metadata": {}
                },
                {
                    "output_type": "display_data",
                    "data": {
                        "text/html": "Total execution time: 00:00:00.050"
                    },
                    "metadata": {}
                },
                {
                    "output_type": "execute_result",
                    "metadata": {},
                    "execution_count": 3,
                    "data": {
                        "application/vnd.dataresource+json": {
                            "schema": {
                                "fields": [
                                    {
                                        "name": "dt"
                                    },
                                    {
                                        "name": "male"
                                    },
                                    {
                                        "name": "female"
                                    }
                                ]
                            },
                            "data": [
                                {
                                    "0": "2019-07-01",
                                    "1": "19",
                                    "2": "20"
                                },
                                {
                                    "0": "2019-07-02",
                                    "1": "23",
                                    "2": "26"
                                },
                                {
                                    "0": "2019-07-03",
                                    "1": "28",
                                    "2": "23"
                                },
                                {
                                    "0": "2019-07-04",
                                    "1": "21",
                                    "2": "21"
                                },
                                {
                                    "0": "2019-07-05",
                                    "1": "23",
                                    "2": "35"
                                },
                                {
                                    "0": "2019-07-06",
                                    "1": "20",
                                    "2": "16"
                                },
                                {
                                    "0": "2019-07-07",
                                    "1": "27",
                                    "2": "29"
                                }
                            ]
                        },
                        "text/html": [
                            "<table>",
                            "<tr><th>dt</th><th>male</th><th>female</th></tr>",
                            "<tr><td>2019-07-01</td><td>19</td><td>20</td></tr>",
                            "<tr><td>2019-07-02</td><td>23</td><td>26</td></tr>",
                            "<tr><td>2019-07-03</td><td>28</td><td>23</td></tr>",
                            "<tr><td>2019-07-04</td><td>21</td><td>21</td></tr>",
                            "<tr><td>2019-07-05</td><td>23</td><td>35</td></tr>",
                            "<tr><td>2019-07-06</td><td>20</td><td>16</td></tr>",
                            "<tr><td>2019-07-07</td><td>27</td><td>29</td></tr>",
                            "</table>"
                        ]
                    }
                }
            ],
            "execution_count": 3
        },
        {
            "cell_type": "code",
            "source": [
                "insert into visitor\n",
                "    select dt::date,\n",
                "        (10 + random() * 20)::int male,\n",
                "        (15 + random() * 20)::int female\n",
                "        from generate_series('2019-07-01'::date, '2019-07-07'::date, '1 day') dt"
            ],
            "metadata": {
                "azdata_cell_guid": "4170c29a-bb71-4059-b186-349c9148597f",
                "id": "GlavE1xtSsFZ",
                "outputId": "8f9c723a-a942-4c18-b7f2-e0d274745139",
                "extensions": {
                    "azuredatastudio": {
                        "views": []
                    }
                }
            },
            "outputs": [
                {
                    "output_type": "display_data",
                    "data": {
                        "text/html": "Commands completed successfully"
                    },
                    "metadata": {}
                },
                {
                    "output_type": "display_data",
                    "data": {
                        "text/html": "Total execution time: 00:00:00.002"
                    },
                    "metadata": {}
                }
            ],
            "execution_count": null
        },
        {
            "cell_type": "code",
            "source": [
                "select * from visitor"
            ],
            "metadata": {
                "azdata_cell_guid": "1b341654-c5b2-4762-a9b4-7af730bb6fba",
                "id": "hA86lAfrSsFa",
                "outputId": "194869e6-5961-46fe-f87c-1140bc615641",
                "extensions": {
                    "azuredatastudio": {
                        "views": []
                    }
                }
            },
            "outputs": [
                {
                    "output_type": "display_data",
                    "data": {
                        "text/html": "(7 row(s) affected)"
                    },
                    "metadata": {}
                },
                {
                    "output_type": "display_data",
                    "data": {
                        "text/html": "Total execution time: 00:00:00.003"
                    },
                    "metadata": {}
                },
                {
                    "output_type": "execute_result",
                    "execution_count": 15,
                    "data": {
                        "application/vnd.dataresource+json": {
                            "schema": {
                                "fields": [
                                    {
                                        "name": "dt"
                                    },
                                    {
                                        "name": "male"
                                    },
                                    {
                                        "name": "female"
                                    }
                                ]
                            },
                            "data": [
                                {
                                    "0": "2019-07-01",
                                    "1": "22",
                                    "2": "21"
                                },
                                {
                                    "0": "2019-07-02",
                                    "1": "10",
                                    "2": "26"
                                },
                                {
                                    "0": "2019-07-03",
                                    "1": "11",
                                    "2": "29"
                                },
                                {
                                    "0": "2019-07-04",
                                    "1": "14",
                                    "2": "32"
                                },
                                {
                                    "0": "2019-07-05",
                                    "1": "12",
                                    "2": "33"
                                },
                                {
                                    "0": "2019-07-06",
                                    "1": "23",
                                    "2": "28"
                                },
                                {
                                    "0": "2019-07-07",
                                    "1": "17",
                                    "2": "28"
                                }
                            ]
                        },
                        "text/html": "<table><tr><th>dt</th><th>male</th><th>female</th></tr><tr><td>2019-07-01</td><td>22</td><td>21</td></tr><tr><td>2019-07-02</td><td>10</td><td>26</td></tr><tr><td>2019-07-03</td><td>11</td><td>29</td></tr><tr><td>2019-07-04</td><td>14</td><td>32</td></tr><tr><td>2019-07-05</td><td>12</td><td>33</td></tr><tr><td>2019-07-06</td><td>23</td><td>28</td></tr><tr><td>2019-07-07</td><td>17</td><td>28</td></tr></table>"
                    },
                    "metadata": {}
                }
            ],
            "execution_count": null
        },
        {
            "cell_type": "code",
            "source": [
                "select dt, male, \n",
                "    repeat('x', male),\n",
                "    female, repeat('+', female)\n",
                "    from visitor"
            ],
            "metadata": {
                "azdata_cell_guid": "3102afe9-016a-476c-ad9a-87eeb0514947",
                "id": "IYv5qkgySsFa",
                "outputId": "df4e2079-0534-4a4c-9026-2d8e194073e8",
                "extensions": {
                    "azuredatastudio": {
                        "views": []
                    }
                }
            },
            "outputs": [
                {
                    "output_type": "display_data",
                    "data": {
                        "text/html": "(7 row(s) affected)"
                    },
                    "metadata": {}
                },
                {
                    "output_type": "display_data",
                    "data": {
                        "text/html": "Total execution time: 00:00:00.003"
                    },
                    "metadata": {}
                },
                {
                    "output_type": "execute_result",
                    "execution_count": 18,
                    "data": {
                        "application/vnd.dataresource+json": {
                            "schema": {
                                "fields": [
                                    {
                                        "name": "dt"
                                    },
                                    {
                                        "name": "male"
                                    },
                                    {
                                        "name": "repeat"
                                    },
                                    {
                                        "name": "female"
                                    },
                                    {
                                        "name": "repeat"
                                    }
                                ]
                            },
                            "data": [
                                {
                                    "0": "2019-07-01",
                                    "1": "22",
                                    "2": "xxxxxxxxxxxxxxxxxxxxxx",
                                    "3": "21",
                                    "4": "+++++++++++++++++++++"
                                },
                                {
                                    "0": "2019-07-02",
                                    "1": "10",
                                    "2": "xxxxxxxxxx",
                                    "3": "26",
                                    "4": "++++++++++++++++++++++++++"
                                },
                                {
                                    "0": "2019-07-03",
                                    "1": "11",
                                    "2": "xxxxxxxxxxx",
                                    "3": "29",
                                    "4": "+++++++++++++++++++++++++++++"
                                },
                                {
                                    "0": "2019-07-04",
                                    "1": "14",
                                    "2": "xxxxxxxxxxxxxx",
                                    "3": "32",
                                    "4": "++++++++++++++++++++++++++++++++"
                                },
                                {
                                    "0": "2019-07-05",
                                    "1": "12",
                                    "2": "xxxxxxxxxxxx",
                                    "3": "33",
                                    "4": "+++++++++++++++++++++++++++++++++"
                                },
                                {
                                    "0": "2019-07-06",
                                    "1": "23",
                                    "2": "xxxxxxxxxxxxxxxxxxxxxxx",
                                    "3": "28",
                                    "4": "++++++++++++++++++++++++++++"
                                },
                                {
                                    "0": "2019-07-07",
                                    "1": "17",
                                    "2": "xxxxxxxxxxxxxxxxx",
                                    "3": "28",
                                    "4": "++++++++++++++++++++++++++++"
                                }
                            ]
                        },
                        "text/html": "<table><tr><th>dt</th><th>male</th><th>repeat</th><th>female</th><th>repeat</th></tr><tr><td>2019-07-01</td><td>22</td><td>xxxxxxxxxxxxxxxxxxxxxx</td><td>21</td><td>+++++++++++++++++++++</td></tr><tr><td>2019-07-02</td><td>10</td><td>xxxxxxxxxx</td><td>26</td><td>++++++++++++++++++++++++++</td></tr><tr><td>2019-07-03</td><td>11</td><td>xxxxxxxxxxx</td><td>29</td><td>+++++++++++++++++++++++++++++</td></tr><tr><td>2019-07-04</td><td>14</td><td>xxxxxxxxxxxxxx</td><td>32</td><td>++++++++++++++++++++++++++++++++</td></tr><tr><td>2019-07-05</td><td>12</td><td>xxxxxxxxxxxx</td><td>33</td><td>+++++++++++++++++++++++++++++++++</td></tr><tr><td>2019-07-06</td><td>23</td><td>xxxxxxxxxxxxxxxxxxxxxxx</td><td>28</td><td>++++++++++++++++++++++++++++</td></tr><tr><td>2019-07-07</td><td>17</td><td>xxxxxxxxxxxxxxxxx</td><td>28</td><td>++++++++++++++++++++++++++++</td></tr></table>"
                    },
                    "metadata": {}
                }
            ],
            "execution_count": null
        },
        {
            "cell_type": "code",
            "source": [
                "select chr(x'2591'::int)"
            ],
            "metadata": {
                "azdata_cell_guid": "c8bb8b34-7e2b-4a7e-a640-38b86332e4e8",
                "id": "7hMEYcRoSsFb",
                "outputId": "f96df65e-2d5e-4838-8f03-59277f61c53a",
                "extensions": {
                    "azuredatastudio": {
                        "views": []
                    }
                }
            },
            "outputs": [
                {
                    "output_type": "display_data",
                    "data": {
                        "text/html": "(1 row(s) affected)"
                    },
                    "metadata": {}
                },
                {
                    "output_type": "display_data",
                    "data": {
                        "text/html": "Total execution time: 00:00:00.008"
                    },
                    "metadata": {}
                },
                {
                    "output_type": "execute_result",
                    "execution_count": 19,
                    "data": {
                        "application/vnd.dataresource+json": {
                            "schema": {
                                "fields": [
                                    {
                                        "name": "chr"
                                    }
                                ]
                            },
                            "data": [
                                {
                                    "0": "░"
                                }
                            ]
                        },
                        "text/html": "<table><tr><th>chr</th></tr><tr><td>░</td></tr></table>"
                    },
                    "metadata": {}
                }
            ],
            "execution_count": null
        },
        {
            "cell_type": "code",
            "source": [
                "select dt, male, \n",
                "    repeat(chr(x'2591'::int), male) male,\n",
                "    female, repeat(chr(x'2592'::int), female) female\n",
                "    from visitor"
            ],
            "metadata": {
                "azdata_cell_guid": "c558fd54-4428-4780-806c-198c9d1a296a",
                "id": "7ZzgC4dCSsFb",
                "outputId": "79b7546a-1017-4e91-bdf6-07debee5ee16",
                "extensions": {
                    "azuredatastudio": {
                        "views": []
                    }
                }
            },
            "outputs": [
                {
                    "output_type": "display_data",
                    "data": {
                        "text/html": "(7 row(s) affected)"
                    },
                    "metadata": {}
                },
                {
                    "output_type": "display_data",
                    "data": {
                        "text/html": "Total execution time: 00:00:00.007"
                    },
                    "metadata": {}
                },
                {
                    "output_type": "execute_result",
                    "execution_count": 1,
                    "data": {
                        "application/vnd.dataresource+json": {
                            "schema": {
                                "fields": [
                                    {
                                        "name": "dt"
                                    },
                                    {
                                        "name": "male"
                                    },
                                    {
                                        "name": "male"
                                    },
                                    {
                                        "name": "female"
                                    },
                                    {
                                        "name": "female"
                                    }
                                ]
                            },
                            "data": [
                                {
                                    "0": "2019-07-01",
                                    "1": "22",
                                    "2": "░░░░░░░░░░░░░░░░░░░░░░",
                                    "3": "21",
                                    "4": "▒▒▒▒▒▒▒▒▒▒▒▒▒▒▒▒▒▒▒▒▒"
                                },
                                {
                                    "0": "2019-07-02",
                                    "1": "10",
                                    "2": "░░░░░░░░░░",
                                    "3": "26",
                                    "4": "▒▒▒▒▒▒▒▒▒▒▒▒▒▒▒▒▒▒▒▒▒▒▒▒▒▒"
                                },
                                {
                                    "0": "2019-07-03",
                                    "1": "11",
                                    "2": "░░░░░░░░░░░",
                                    "3": "29",
                                    "4": "▒▒▒▒▒▒▒▒▒▒▒▒▒▒▒▒▒▒▒▒▒▒▒▒▒▒▒▒▒"
                                },
                                {
                                    "0": "2019-07-04",
                                    "1": "14",
                                    "2": "░░░░░░░░░░░░░░",
                                    "3": "32",
                                    "4": "▒▒▒▒▒▒▒▒▒▒▒▒▒▒▒▒▒▒▒▒▒▒▒▒▒▒▒▒▒▒▒▒"
                                },
                                {
                                    "0": "2019-07-05",
                                    "1": "12",
                                    "2": "░░░░░░░░░░░░",
                                    "3": "33",
                                    "4": "▒▒▒▒▒▒▒▒▒▒▒▒▒▒▒▒▒▒▒▒▒▒▒▒▒▒▒▒▒▒▒▒▒"
                                },
                                {
                                    "0": "2019-07-06",
                                    "1": "23",
                                    "2": "░░░░░░░░░░░░░░░░░░░░░░░",
                                    "3": "28",
                                    "4": "▒▒▒▒▒▒▒▒▒▒▒▒▒▒▒▒▒▒▒▒▒▒▒▒▒▒▒▒"
                                },
                                {
                                    "0": "2019-07-07",
                                    "1": "17",
                                    "2": "░░░░░░░░░░░░░░░░░",
                                    "3": "28",
                                    "4": "▒▒▒▒▒▒▒▒▒▒▒▒▒▒▒▒▒▒▒▒▒▒▒▒▒▒▒▒"
                                }
                            ]
                        },
                        "text/html": "<table><tr><th>dt</th><th>male</th><th>male</th><th>female</th><th>female</th></tr><tr><td>2019-07-01</td><td>22</td><td>░░░░░░░░░░░░░░░░░░░░░░</td><td>21</td><td>▒▒▒▒▒▒▒▒▒▒▒▒▒▒▒▒▒▒▒▒▒</td></tr><tr><td>2019-07-02</td><td>10</td><td>░░░░░░░░░░</td><td>26</td><td>▒▒▒▒▒▒▒▒▒▒▒▒▒▒▒▒▒▒▒▒▒▒▒▒▒▒</td></tr><tr><td>2019-07-03</td><td>11</td><td>░░░░░░░░░░░</td><td>29</td><td>▒▒▒▒▒▒▒▒▒▒▒▒▒▒▒▒▒▒▒▒▒▒▒▒▒▒▒▒▒</td></tr><tr><td>2019-07-04</td><td>14</td><td>░░░░░░░░░░░░░░</td><td>32</td><td>▒▒▒▒▒▒▒▒▒▒▒▒▒▒▒▒▒▒▒▒▒▒▒▒▒▒▒▒▒▒▒▒</td></tr><tr><td>2019-07-05</td><td>12</td><td>░░░░░░░░░░░░</td><td>33</td><td>▒▒▒▒▒▒▒▒▒▒▒▒▒▒▒▒▒▒▒▒▒▒▒▒▒▒▒▒▒▒▒▒▒</td></tr><tr><td>2019-07-06</td><td>23</td><td>░░░░░░░░░░░░░░░░░░░░░░░</td><td>28</td><td>▒▒▒▒▒▒▒▒▒▒▒▒▒▒▒▒▒▒▒▒▒▒▒▒▒▒▒▒</td></tr><tr><td>2019-07-07</td><td>17</td><td>░░░░░░░░░░░░░░░░░</td><td>28</td><td>▒▒▒▒▒▒▒▒▒▒▒▒▒▒▒▒▒▒▒▒▒▒▒▒▒▒▒▒</td></tr></table>"
                    },
                    "metadata": {}
                }
            ],
            "execution_count": null
        },
        {
            "cell_type": "code",
            "source": [
                "select dt, \n",
                "    male, \n",
                "    repeat(chr(x'2591'::int), male) || ' (' || male || ')',\n",
                "    female, \n",
                "    repeat(chr(x'2592'::int), female) || ' (' || female || ')'\n",
                "    from visitor"
            ],
            "metadata": {
                "azdata_cell_guid": "e8df59a4-c4ea-4fc9-9b11-756f5e246d3a",
                "id": "9S8C29RqSsFc",
                "outputId": "687638d8-cead-4e11-b1cf-40c0662e626d",
                "extensions": {
                    "azuredatastudio": {
                        "views": []
                    }
                }
            },
            "outputs": [
                {
                    "output_type": "display_data",
                    "data": {
                        "text/html": "(7 row(s) affected)"
                    },
                    "metadata": {}
                },
                {
                    "output_type": "display_data",
                    "data": {
                        "text/html": "Total execution time: 00:00:00.009"
                    },
                    "metadata": {}
                },
                {
                    "output_type": "execute_result",
                    "execution_count": 2,
                    "data": {
                        "application/vnd.dataresource+json": {
                            "schema": {
                                "fields": [
                                    {
                                        "name": "dt"
                                    },
                                    {
                                        "name": "male"
                                    },
                                    {
                                        "name": "Column3"
                                    },
                                    {
                                        "name": "female"
                                    },
                                    {
                                        "name": "Column5"
                                    }
                                ]
                            },
                            "data": [
                                {
                                    "0": "2019-07-01",
                                    "1": "22",
                                    "2": "░░░░░░░░░░░░░░░░░░░░░░ (22)",
                                    "3": "21",
                                    "4": "▒▒▒▒▒▒▒▒▒▒▒▒▒▒▒▒▒▒▒▒▒ (21)"
                                },
                                {
                                    "0": "2019-07-02",
                                    "1": "10",
                                    "2": "░░░░░░░░░░ (10)",
                                    "3": "26",
                                    "4": "▒▒▒▒▒▒▒▒▒▒▒▒▒▒▒▒▒▒▒▒▒▒▒▒▒▒ (26)"
                                },
                                {
                                    "0": "2019-07-03",
                                    "1": "11",
                                    "2": "░░░░░░░░░░░ (11)",
                                    "3": "29",
                                    "4": "▒▒▒▒▒▒▒▒▒▒▒▒▒▒▒▒▒▒▒▒▒▒▒▒▒▒▒▒▒ (29)"
                                },
                                {
                                    "0": "2019-07-04",
                                    "1": "14",
                                    "2": "░░░░░░░░░░░░░░ (14)",
                                    "3": "32",
                                    "4": "▒▒▒▒▒▒▒▒▒▒▒▒▒▒▒▒▒▒▒▒▒▒▒▒▒▒▒▒▒▒▒▒ (32)"
                                },
                                {
                                    "0": "2019-07-05",
                                    "1": "12",
                                    "2": "░░░░░░░░░░░░ (12)",
                                    "3": "33",
                                    "4": "▒▒▒▒▒▒▒▒▒▒▒▒▒▒▒▒▒▒▒▒▒▒▒▒▒▒▒▒▒▒▒▒▒ (33)"
                                },
                                {
                                    "0": "2019-07-06",
                                    "1": "23",
                                    "2": "░░░░░░░░░░░░░░░░░░░░░░░ (23)",
                                    "3": "28",
                                    "4": "▒▒▒▒▒▒▒▒▒▒▒▒▒▒▒▒▒▒▒▒▒▒▒▒▒▒▒▒ (28)"
                                },
                                {
                                    "0": "2019-07-07",
                                    "1": "17",
                                    "2": "░░░░░░░░░░░░░░░░░ (17)",
                                    "3": "28",
                                    "4": "▒▒▒▒▒▒▒▒▒▒▒▒▒▒▒▒▒▒▒▒▒▒▒▒▒▒▒▒ (28)"
                                }
                            ]
                        },
                        "text/html": "<table><tr><th>dt</th><th>male</th><th>Column3</th><th>female</th><th>Column5</th></tr><tr><td>2019-07-01</td><td>22</td><td>░░░░░░░░░░░░░░░░░░░░░░ (22)</td><td>21</td><td>▒▒▒▒▒▒▒▒▒▒▒▒▒▒▒▒▒▒▒▒▒ (21)</td></tr><tr><td>2019-07-02</td><td>10</td><td>░░░░░░░░░░ (10)</td><td>26</td><td>▒▒▒▒▒▒▒▒▒▒▒▒▒▒▒▒▒▒▒▒▒▒▒▒▒▒ (26)</td></tr><tr><td>2019-07-03</td><td>11</td><td>░░░░░░░░░░░ (11)</td><td>29</td><td>▒▒▒▒▒▒▒▒▒▒▒▒▒▒▒▒▒▒▒▒▒▒▒▒▒▒▒▒▒ (29)</td></tr><tr><td>2019-07-04</td><td>14</td><td>░░░░░░░░░░░░░░ (14)</td><td>32</td><td>▒▒▒▒▒▒▒▒▒▒▒▒▒▒▒▒▒▒▒▒▒▒▒▒▒▒▒▒▒▒▒▒ (32)</td></tr><tr><td>2019-07-05</td><td>12</td><td>░░░░░░░░░░░░ (12)</td><td>33</td><td>▒▒▒▒▒▒▒▒▒▒▒▒▒▒▒▒▒▒▒▒▒▒▒▒▒▒▒▒▒▒▒▒▒ (33)</td></tr><tr><td>2019-07-06</td><td>23</td><td>░░░░░░░░░░░░░░░░░░░░░░░ (23)</td><td>28</td><td>▒▒▒▒▒▒▒▒▒▒▒▒▒▒▒▒▒▒▒▒▒▒▒▒▒▒▒▒ (28)</td></tr><tr><td>2019-07-07</td><td>17</td><td>░░░░░░░░░░░░░░░░░ (17)</td><td>28</td><td>▒▒▒▒▒▒▒▒▒▒▒▒▒▒▒▒▒▒▒▒▒▒▒▒▒▒▒▒ (28)</td></tr></table>"
                    },
                    "metadata": {}
                }
            ],
            "execution_count": null
        },
        {
            "cell_type": "code",
            "source": [
                "select dt, \n",
                "    repeat(chr(x'2591'::int), male) || ' (' || male || ')' male,\n",
                "    repeat(chr(x'2592'::int), female) || ' (' || female || ')' female\n",
                "    from visitor"
            ],
            "metadata": {
                "azdata_cell_guid": "b05c9570-b1b8-4b0f-8700-523e7c20129f",
                "id": "nZ4H5eiSSsFc",
                "outputId": "08834267-c3e5-4f74-dfd2-8e7b7a7bc828",
                "extensions": {
                    "azuredatastudio": {
                        "views": []
                    }
                }
            },
            "outputs": [
                {
                    "output_type": "display_data",
                    "data": {
                        "text/html": "(7 row(s) affected)"
                    },
                    "metadata": {}
                },
                {
                    "output_type": "display_data",
                    "data": {
                        "text/html": "Total execution time: 00:00:00.005"
                    },
                    "metadata": {}
                },
                {
                    "output_type": "execute_result",
                    "execution_count": 4,
                    "data": {
                        "application/vnd.dataresource+json": {
                            "schema": {
                                "fields": [
                                    {
                                        "name": "dt"
                                    },
                                    {
                                        "name": "male"
                                    },
                                    {
                                        "name": "female"
                                    }
                                ]
                            },
                            "data": [
                                {
                                    "0": "2019-07-01",
                                    "1": "░░░░░░░░░░░░░░░░░░░░░░ (22)",
                                    "2": "▒▒▒▒▒▒▒▒▒▒▒▒▒▒▒▒▒▒▒▒▒ (21)"
                                },
                                {
                                    "0": "2019-07-02",
                                    "1": "░░░░░░░░░░ (10)",
                                    "2": "▒▒▒▒▒▒▒▒▒▒▒▒▒▒▒▒▒▒▒▒▒▒▒▒▒▒ (26)"
                                },
                                {
                                    "0": "2019-07-03",
                                    "1": "░░░░░░░░░░░ (11)",
                                    "2": "▒▒▒▒▒▒▒▒▒▒▒▒▒▒▒▒▒▒▒▒▒▒▒▒▒▒▒▒▒ (29)"
                                },
                                {
                                    "0": "2019-07-04",
                                    "1": "░░░░░░░░░░░░░░ (14)",
                                    "2": "▒▒▒▒▒▒▒▒▒▒▒▒▒▒▒▒▒▒▒▒▒▒▒▒▒▒▒▒▒▒▒▒ (32)"
                                },
                                {
                                    "0": "2019-07-05",
                                    "1": "░░░░░░░░░░░░ (12)",
                                    "2": "▒▒▒▒▒▒▒▒▒▒▒▒▒▒▒▒▒▒▒▒▒▒▒▒▒▒▒▒▒▒▒▒▒ (33)"
                                },
                                {
                                    "0": "2019-07-06",
                                    "1": "░░░░░░░░░░░░░░░░░░░░░░░ (23)",
                                    "2": "▒▒▒▒▒▒▒▒▒▒▒▒▒▒▒▒▒▒▒▒▒▒▒▒▒▒▒▒ (28)"
                                },
                                {
                                    "0": "2019-07-07",
                                    "1": "░░░░░░░░░░░░░░░░░ (17)",
                                    "2": "▒▒▒▒▒▒▒▒▒▒▒▒▒▒▒▒▒▒▒▒▒▒▒▒▒▒▒▒ (28)"
                                }
                            ]
                        },
                        "text/html": "<table><tr><th>dt</th><th>male</th><th>female</th></tr><tr><td>2019-07-01</td><td>░░░░░░░░░░░░░░░░░░░░░░ (22)</td><td>▒▒▒▒▒▒▒▒▒▒▒▒▒▒▒▒▒▒▒▒▒ (21)</td></tr><tr><td>2019-07-02</td><td>░░░░░░░░░░ (10)</td><td>▒▒▒▒▒▒▒▒▒▒▒▒▒▒▒▒▒▒▒▒▒▒▒▒▒▒ (26)</td></tr><tr><td>2019-07-03</td><td>░░░░░░░░░░░ (11)</td><td>▒▒▒▒▒▒▒▒▒▒▒▒▒▒▒▒▒▒▒▒▒▒▒▒▒▒▒▒▒ (29)</td></tr><tr><td>2019-07-04</td><td>░░░░░░░░░░░░░░ (14)</td><td>▒▒▒▒▒▒▒▒▒▒▒▒▒▒▒▒▒▒▒▒▒▒▒▒▒▒▒▒▒▒▒▒ (32)</td></tr><tr><td>2019-07-05</td><td>░░░░░░░░░░░░ (12)</td><td>▒▒▒▒▒▒▒▒▒▒▒▒▒▒▒▒▒▒▒▒▒▒▒▒▒▒▒▒▒▒▒▒▒ (33)</td></tr><tr><td>2019-07-06</td><td>░░░░░░░░░░░░░░░░░░░░░░░ (23)</td><td>▒▒▒▒▒▒▒▒▒▒▒▒▒▒▒▒▒▒▒▒▒▒▒▒▒▒▒▒ (28)</td></tr><tr><td>2019-07-07</td><td>░░░░░░░░░░░░░░░░░ (17)</td><td>▒▒▒▒▒▒▒▒▒▒▒▒▒▒▒▒▒▒▒▒▒▒▒▒▒▒▒▒ (28)</td></tr></table>"
                    },
                    "metadata": {}
                }
            ],
            "execution_count": null
        },
        {
            "cell_type": "code",
            "source": [
                "select dt, male, \n",
                "    repeat(chr(x'2591'::int), male) male,\n",
                "    female, repeat(chr(x'2592'::int), female) female,\n",
                "    repeat(chr(x'2591'::int), male) || repeat(chr(x'2592'::int), female) || ' (' || (male + female) || ')' total\n",
                "    from visitor"
            ],
            "metadata": {
                "azdata_cell_guid": "ccfda4cf-2c44-428d-b5cb-dd3d6aaf695d",
                "id": "4pOUO15gSsFd",
                "outputId": "5a6eae78-5185-49a1-fac9-4b4ab142cd90",
                "extensions": {
                    "azuredatastudio": {
                        "views": []
                    }
                }
            },
            "outputs": [
                {
                    "output_type": "display_data",
                    "data": {
                        "text/html": "(7 row(s) affected)"
                    },
                    "metadata": {}
                },
                {
                    "output_type": "display_data",
                    "data": {
                        "text/html": "Total execution time: 00:00:00.009"
                    },
                    "metadata": {}
                },
                {
                    "output_type": "execute_result",
                    "execution_count": 29,
                    "data": {
                        "application/vnd.dataresource+json": {
                            "schema": {
                                "fields": [
                                    {
                                        "name": "dt"
                                    },
                                    {
                                        "name": "male"
                                    },
                                    {
                                        "name": "male"
                                    },
                                    {
                                        "name": "female"
                                    },
                                    {
                                        "name": "female"
                                    },
                                    {
                                        "name": "total"
                                    }
                                ]
                            },
                            "data": [
                                {
                                    "0": "2019-07-01",
                                    "1": "22",
                                    "2": "░░░░░░░░░░░░░░░░░░░░░░",
                                    "3": "21",
                                    "4": "▒▒▒▒▒▒▒▒▒▒▒▒▒▒▒▒▒▒▒▒▒",
                                    "5": "░░░░░░░░░░░░░░░░░░░░░░▒▒▒▒▒▒▒▒▒▒▒▒▒▒▒▒▒▒▒▒▒ (43)"
                                },
                                {
                                    "0": "2019-07-02",
                                    "1": "10",
                                    "2": "░░░░░░░░░░",
                                    "3": "26",
                                    "4": "▒▒▒▒▒▒▒▒▒▒▒▒▒▒▒▒▒▒▒▒▒▒▒▒▒▒",
                                    "5": "░░░░░░░░░░▒▒▒▒▒▒▒▒▒▒▒▒▒▒▒▒▒▒▒▒▒▒▒▒▒▒ (36)"
                                },
                                {
                                    "0": "2019-07-03",
                                    "1": "11",
                                    "2": "░░░░░░░░░░░",
                                    "3": "29",
                                    "4": "▒▒▒▒▒▒▒▒▒▒▒▒▒▒▒▒▒▒▒▒▒▒▒▒▒▒▒▒▒",
                                    "5": "░░░░░░░░░░░▒▒▒▒▒▒▒▒▒▒▒▒▒▒▒▒▒▒▒▒▒▒▒▒▒▒▒▒▒ (40)"
                                },
                                {
                                    "0": "2019-07-04",
                                    "1": "14",
                                    "2": "░░░░░░░░░░░░░░",
                                    "3": "32",
                                    "4": "▒▒▒▒▒▒▒▒▒▒▒▒▒▒▒▒▒▒▒▒▒▒▒▒▒▒▒▒▒▒▒▒",
                                    "5": "░░░░░░░░░░░░░░▒▒▒▒▒▒▒▒▒▒▒▒▒▒▒▒▒▒▒▒▒▒▒▒▒▒▒▒▒▒▒▒ (46)"
                                },
                                {
                                    "0": "2019-07-05",
                                    "1": "12",
                                    "2": "░░░░░░░░░░░░",
                                    "3": "33",
                                    "4": "▒▒▒▒▒▒▒▒▒▒▒▒▒▒▒▒▒▒▒▒▒▒▒▒▒▒▒▒▒▒▒▒▒",
                                    "5": "░░░░░░░░░░░░▒▒▒▒▒▒▒▒▒▒▒▒▒▒▒▒▒▒▒▒▒▒▒▒▒▒▒▒▒▒▒▒▒ (45)"
                                },
                                {
                                    "0": "2019-07-06",
                                    "1": "23",
                                    "2": "░░░░░░░░░░░░░░░░░░░░░░░",
                                    "3": "28",
                                    "4": "▒▒▒▒▒▒▒▒▒▒▒▒▒▒▒▒▒▒▒▒▒▒▒▒▒▒▒▒",
                                    "5": "░░░░░░░░░░░░░░░░░░░░░░░▒▒▒▒▒▒▒▒▒▒▒▒▒▒▒▒▒▒▒▒▒▒▒▒▒▒▒▒ (51)"
                                },
                                {
                                    "0": "2019-07-07",
                                    "1": "17",
                                    "2": "░░░░░░░░░░░░░░░░░",
                                    "3": "28",
                                    "4": "▒▒▒▒▒▒▒▒▒▒▒▒▒▒▒▒▒▒▒▒▒▒▒▒▒▒▒▒",
                                    "5": "░░░░░░░░░░░░░░░░░▒▒▒▒▒▒▒▒▒▒▒▒▒▒▒▒▒▒▒▒▒▒▒▒▒▒▒▒ (45)"
                                }
                            ]
                        },
                        "text/html": "<table><tr><th>dt</th><th>male</th><th>male</th><th>female</th><th>female</th><th>total</th></tr><tr><td>2019-07-01</td><td>22</td><td>░░░░░░░░░░░░░░░░░░░░░░</td><td>21</td><td>▒▒▒▒▒▒▒▒▒▒▒▒▒▒▒▒▒▒▒▒▒</td><td>░░░░░░░░░░░░░░░░░░░░░░▒▒▒▒▒▒▒▒▒▒▒▒▒▒▒▒▒▒▒▒▒ (43)</td></tr><tr><td>2019-07-02</td><td>10</td><td>░░░░░░░░░░</td><td>26</td><td>▒▒▒▒▒▒▒▒▒▒▒▒▒▒▒▒▒▒▒▒▒▒▒▒▒▒</td><td>░░░░░░░░░░▒▒▒▒▒▒▒▒▒▒▒▒▒▒▒▒▒▒▒▒▒▒▒▒▒▒ (36)</td></tr><tr><td>2019-07-03</td><td>11</td><td>░░░░░░░░░░░</td><td>29</td><td>▒▒▒▒▒▒▒▒▒▒▒▒▒▒▒▒▒▒▒▒▒▒▒▒▒▒▒▒▒</td><td>░░░░░░░░░░░▒▒▒▒▒▒▒▒▒▒▒▒▒▒▒▒▒▒▒▒▒▒▒▒▒▒▒▒▒ (40)</td></tr><tr><td>2019-07-04</td><td>14</td><td>░░░░░░░░░░░░░░</td><td>32</td><td>▒▒▒▒▒▒▒▒▒▒▒▒▒▒▒▒▒▒▒▒▒▒▒▒▒▒▒▒▒▒▒▒</td><td>░░░░░░░░░░░░░░▒▒▒▒▒▒▒▒▒▒▒▒▒▒▒▒▒▒▒▒▒▒▒▒▒▒▒▒▒▒▒▒ (46)</td></tr><tr><td>2019-07-05</td><td>12</td><td>░░░░░░░░░░░░</td><td>33</td><td>▒▒▒▒▒▒▒▒▒▒▒▒▒▒▒▒▒▒▒▒▒▒▒▒▒▒▒▒▒▒▒▒▒</td><td>░░░░░░░░░░░░▒▒▒▒▒▒▒▒▒▒▒▒▒▒▒▒▒▒▒▒▒▒▒▒▒▒▒▒▒▒▒▒▒ (45)</td></tr><tr><td>2019-07-06</td><td>23</td><td>░░░░░░░░░░░░░░░░░░░░░░░</td><td>28</td><td>▒▒▒▒▒▒▒▒▒▒▒▒▒▒▒▒▒▒▒▒▒▒▒▒▒▒▒▒</td><td>░░░░░░░░░░░░░░░░░░░░░░░▒▒▒▒▒▒▒▒▒▒▒▒▒▒▒▒▒▒▒▒▒▒▒▒▒▒▒▒ (51)</td></tr><tr><td>2019-07-07</td><td>17</td><td>░░░░░░░░░░░░░░░░░</td><td>28</td><td>▒▒▒▒▒▒▒▒▒▒▒▒▒▒▒▒▒▒▒▒▒▒▒▒▒▒▒▒</td><td>░░░░░░░░░░░░░░░░░▒▒▒▒▒▒▒▒▒▒▒▒▒▒▒▒▒▒▒▒▒▒▒▒▒▒▒▒ (45)</td></tr></table>"
                    },
                    "metadata": {}
                }
            ],
            "execution_count": null
        },
        {
            "cell_type": "code",
            "source": [
                "select chr(x'2591'::int), chr(x'2592'::int)"
            ],
            "metadata": {
                "azdata_cell_guid": "07d4513e-372b-4495-8b8a-fa2420c8720d",
                "id": "TnKvEbduSsFe",
                "outputId": "c2851fec-3822-46c2-b260-167ca7744bdd",
                "extensions": {
                    "azuredatastudio": {
                        "views": []
                    }
                }
            },
            "outputs": [
                {
                    "output_type": "display_data",
                    "data": {
                        "text/html": "(1 row(s) affected)"
                    },
                    "metadata": {}
                },
                {
                    "output_type": "display_data",
                    "data": {
                        "text/html": "Total execution time: 00:00:00.003"
                    },
                    "metadata": {}
                },
                {
                    "output_type": "execute_result",
                    "execution_count": 32,
                    "data": {
                        "application/vnd.dataresource+json": {
                            "schema": {
                                "fields": [
                                    {
                                        "name": "chr"
                                    },
                                    {
                                        "name": "chr"
                                    }
                                ]
                            },
                            "data": [
                                {
                                    "0": "░",
                                    "1": "▒"
                                }
                            ]
                        },
                        "text/html": "<table><tr><th>chr</th><th>chr</th></tr><tr><td>░</td><td>▒</td></tr></table>"
                    },
                    "metadata": {}
                }
            ],
            "execution_count": null
        },
        {
            "cell_type": "code",
            "source": [
                "select dt, \n",
                "    repeat(chr(x'2591'::int), ceil(male * 100.0 / (male + female))::int) ||\n",
                "    repeat(chr(x'2592'::int), floor(female * 100.0 / (male + female))::int) \"░ male  ▒ female\"\n",
                "    from visitor"
            ],
            "metadata": {
                "azdata_cell_guid": "cb938353-0120-4ef4-bfb6-c33b1c97f6bf",
                "id": "Twk6ROBYSsFe",
                "outputId": "b2237c50-8636-4ba8-89a4-0b907240b12c",
                "extensions": {
                    "azuredatastudio": {
                        "views": []
                    }
                }
            },
            "outputs": [
                {
                    "output_type": "display_data",
                    "data": {
                        "text/html": "(7 row(s) affected)"
                    },
                    "metadata": {}
                },
                {
                    "output_type": "display_data",
                    "data": {
                        "text/html": "Total execution time: 00:00:00.004"
                    },
                    "metadata": {}
                },
                {
                    "output_type": "execute_result",
                    "execution_count": 37,
                    "data": {
                        "application/vnd.dataresource+json": {
                            "schema": {
                                "fields": [
                                    {
                                        "name": "dt"
                                    },
                                    {
                                        "name": "░ male  ▒ female"
                                    }
                                ]
                            },
                            "data": [
                                {
                                    "0": "2019-07-01",
                                    "1": "░░░░░░░░░░░░░░░░░░░░░░░░░░░░░░░░░░░░░░░░░░░░░░░░░░░░▒▒▒▒▒▒▒▒▒▒▒▒▒▒▒▒▒▒▒▒▒▒▒▒▒▒▒▒▒▒▒▒▒▒▒▒▒▒▒▒▒▒▒▒▒▒▒▒"
                                },
                                {
                                    "0": "2019-07-02",
                                    "1": "░░░░░░░░░░░░░░░░░░░░░░░░░░░░▒▒▒▒▒▒▒▒▒▒▒▒▒▒▒▒▒▒▒▒▒▒▒▒▒▒▒▒▒▒▒▒▒▒▒▒▒▒▒▒▒▒▒▒▒▒▒▒▒▒▒▒▒▒▒▒▒▒▒▒▒▒▒▒▒▒▒▒▒▒▒▒"
                                },
                                {
                                    "0": "2019-07-03",
                                    "1": "░░░░░░░░░░░░░░░░░░░░░░░░░░░░▒▒▒▒▒▒▒▒▒▒▒▒▒▒▒▒▒▒▒▒▒▒▒▒▒▒▒▒▒▒▒▒▒▒▒▒▒▒▒▒▒▒▒▒▒▒▒▒▒▒▒▒▒▒▒▒▒▒▒▒▒▒▒▒▒▒▒▒▒▒▒▒"
                                },
                                {
                                    "0": "2019-07-04",
                                    "1": "░░░░░░░░░░░░░░░░░░░░░░░░░░░░░░░▒▒▒▒▒▒▒▒▒▒▒▒▒▒▒▒▒▒▒▒▒▒▒▒▒▒▒▒▒▒▒▒▒▒▒▒▒▒▒▒▒▒▒▒▒▒▒▒▒▒▒▒▒▒▒▒▒▒▒▒▒▒▒▒▒▒▒▒▒"
                                },
                                {
                                    "0": "2019-07-05",
                                    "1": "░░░░░░░░░░░░░░░░░░░░░░░░░░░▒▒▒▒▒▒▒▒▒▒▒▒▒▒▒▒▒▒▒▒▒▒▒▒▒▒▒▒▒▒▒▒▒▒▒▒▒▒▒▒▒▒▒▒▒▒▒▒▒▒▒▒▒▒▒▒▒▒▒▒▒▒▒▒▒▒▒▒▒▒▒▒▒"
                                },
                                {
                                    "0": "2019-07-06",
                                    "1": "░░░░░░░░░░░░░░░░░░░░░░░░░░░░░░░░░░░░░░░░░░░░░░▒▒▒▒▒▒▒▒▒▒▒▒▒▒▒▒▒▒▒▒▒▒▒▒▒▒▒▒▒▒▒▒▒▒▒▒▒▒▒▒▒▒▒▒▒▒▒▒▒▒▒▒▒▒"
                                },
                                {
                                    "0": "2019-07-07",
                                    "1": "░░░░░░░░░░░░░░░░░░░░░░░░░░░░░░░░░░░░░░▒▒▒▒▒▒▒▒▒▒▒▒▒▒▒▒▒▒▒▒▒▒▒▒▒▒▒▒▒▒▒▒▒▒▒▒▒▒▒▒▒▒▒▒▒▒▒▒▒▒▒▒▒▒▒▒▒▒▒▒▒▒"
                                }
                            ]
                        },
                        "text/html": "<table><tr><th>dt</th><th>░ male  ▒ female</th></tr><tr><td>2019-07-01</td><td>░░░░░░░░░░░░░░░░░░░░░░░░░░░░░░░░░░░░░░░░░░░░░░░░░░░░▒▒▒▒▒▒▒▒▒▒▒▒▒▒▒▒▒▒▒▒▒▒▒▒▒▒▒▒▒▒▒▒▒▒▒▒▒▒▒▒▒▒▒▒▒▒▒▒</td></tr><tr><td>2019-07-02</td><td>░░░░░░░░░░░░░░░░░░░░░░░░░░░░▒▒▒▒▒▒▒▒▒▒▒▒▒▒▒▒▒▒▒▒▒▒▒▒▒▒▒▒▒▒▒▒▒▒▒▒▒▒▒▒▒▒▒▒▒▒▒▒▒▒▒▒▒▒▒▒▒▒▒▒▒▒▒▒▒▒▒▒▒▒▒▒</td></tr><tr><td>2019-07-03</td><td>░░░░░░░░░░░░░░░░░░░░░░░░░░░░▒▒▒▒▒▒▒▒▒▒▒▒▒▒▒▒▒▒▒▒▒▒▒▒▒▒▒▒▒▒▒▒▒▒▒▒▒▒▒▒▒▒▒▒▒▒▒▒▒▒▒▒▒▒▒▒▒▒▒▒▒▒▒▒▒▒▒▒▒▒▒▒</td></tr><tr><td>2019-07-04</td><td>░░░░░░░░░░░░░░░░░░░░░░░░░░░░░░░▒▒▒▒▒▒▒▒▒▒▒▒▒▒▒▒▒▒▒▒▒▒▒▒▒▒▒▒▒▒▒▒▒▒▒▒▒▒▒▒▒▒▒▒▒▒▒▒▒▒▒▒▒▒▒▒▒▒▒▒▒▒▒▒▒▒▒▒▒</td></tr><tr><td>2019-07-05</td><td>░░░░░░░░░░░░░░░░░░░░░░░░░░░▒▒▒▒▒▒▒▒▒▒▒▒▒▒▒▒▒▒▒▒▒▒▒▒▒▒▒▒▒▒▒▒▒▒▒▒▒▒▒▒▒▒▒▒▒▒▒▒▒▒▒▒▒▒▒▒▒▒▒▒▒▒▒▒▒▒▒▒▒▒▒▒▒</td></tr><tr><td>2019-07-06</td><td>░░░░░░░░░░░░░░░░░░░░░░░░░░░░░░░░░░░░░░░░░░░░░░▒▒▒▒▒▒▒▒▒▒▒▒▒▒▒▒▒▒▒▒▒▒▒▒▒▒▒▒▒▒▒▒▒▒▒▒▒▒▒▒▒▒▒▒▒▒▒▒▒▒▒▒▒▒</td></tr><tr><td>2019-07-07</td><td>░░░░░░░░░░░░░░░░░░░░░░░░░░░░░░░░░░░░░░▒▒▒▒▒▒▒▒▒▒▒▒▒▒▒▒▒▒▒▒▒▒▒▒▒▒▒▒▒▒▒▒▒▒▒▒▒▒▒▒▒▒▒▒▒▒▒▒▒▒▒▒▒▒▒▒▒▒▒▒▒▒</td></tr></table>"
                    },
                    "metadata": {}
                }
            ],
            "execution_count": null
        },
        {
            "cell_type": "markdown",
            "source": [
                "## 100% stacked bar"
            ],
            "metadata": {
                "azdata_cell_guid": "5ea3e40b-a423-47af-9700-7b4ee9ed9216",
                "id": "u91pIaa7SsFf",
                "extensions": {
                    "azuredatastudio": {
                        "views": []
                    }
                }
            }
        },
        {
            "cell_type": "code",
            "source": [
                "select dt, \n",
                "    repeat(chr(x'2591'::int), ceil(male * 50.0 / (male + female))::int) ||\n",
                "    repeat(chr(x'2592'::int), floor(female * 50.0 / (male + female))::int) \"░ male  ▒ female\"\n",
                "    from visitor"
            ],
            "metadata": {
                "azdata_cell_guid": "7c5f1793-f25d-4ea9-b90e-97d2aaf8d701",
                "id": "NYlIOXcxSsFf",
                "outputId": "f8d047fd-0bf8-4858-eb50-abe35c313f63",
                "extensions": {
                    "azuredatastudio": {
                        "views": []
                    }
                }
            },
            "outputs": [
                {
                    "output_type": "display_data",
                    "data": {
                        "text/html": "(7 row(s) affected)"
                    },
                    "metadata": {}
                },
                {
                    "output_type": "display_data",
                    "data": {
                        "text/html": "Total execution time: 00:00:00.008"
                    },
                    "metadata": {}
                },
                {
                    "output_type": "execute_result",
                    "execution_count": 38,
                    "data": {
                        "application/vnd.dataresource+json": {
                            "schema": {
                                "fields": [
                                    {
                                        "name": "dt"
                                    },
                                    {
                                        "name": "░ male  ▒ female"
                                    }
                                ]
                            },
                            "data": [
                                {
                                    "0": "2019-07-01",
                                    "1": "░░░░░░░░░░░░░░░░░░░░░░░░░░▒▒▒▒▒▒▒▒▒▒▒▒▒▒▒▒▒▒▒▒▒▒▒▒"
                                },
                                {
                                    "0": "2019-07-02",
                                    "1": "░░░░░░░░░░░░░░▒▒▒▒▒▒▒▒▒▒▒▒▒▒▒▒▒▒▒▒▒▒▒▒▒▒▒▒▒▒▒▒▒▒▒▒"
                                },
                                {
                                    "0": "2019-07-03",
                                    "1": "░░░░░░░░░░░░░░▒▒▒▒▒▒▒▒▒▒▒▒▒▒▒▒▒▒▒▒▒▒▒▒▒▒▒▒▒▒▒▒▒▒▒▒"
                                },
                                {
                                    "0": "2019-07-04",
                                    "1": "░░░░░░░░░░░░░░░░▒▒▒▒▒▒▒▒▒▒▒▒▒▒▒▒▒▒▒▒▒▒▒▒▒▒▒▒▒▒▒▒▒▒"
                                },
                                {
                                    "0": "2019-07-05",
                                    "1": "░░░░░░░░░░░░░░▒▒▒▒▒▒▒▒▒▒▒▒▒▒▒▒▒▒▒▒▒▒▒▒▒▒▒▒▒▒▒▒▒▒▒▒"
                                },
                                {
                                    "0": "2019-07-06",
                                    "1": "░░░░░░░░░░░░░░░░░░░░░░░▒▒▒▒▒▒▒▒▒▒▒▒▒▒▒▒▒▒▒▒▒▒▒▒▒▒▒"
                                },
                                {
                                    "0": "2019-07-07",
                                    "1": "░░░░░░░░░░░░░░░░░░░▒▒▒▒▒▒▒▒▒▒▒▒▒▒▒▒▒▒▒▒▒▒▒▒▒▒▒▒▒▒▒"
                                }
                            ]
                        },
                        "text/html": "<table><tr><th>dt</th><th>░ male  ▒ female</th></tr><tr><td>2019-07-01</td><td>░░░░░░░░░░░░░░░░░░░░░░░░░░▒▒▒▒▒▒▒▒▒▒▒▒▒▒▒▒▒▒▒▒▒▒▒▒</td></tr><tr><td>2019-07-02</td><td>░░░░░░░░░░░░░░▒▒▒▒▒▒▒▒▒▒▒▒▒▒▒▒▒▒▒▒▒▒▒▒▒▒▒▒▒▒▒▒▒▒▒▒</td></tr><tr><td>2019-07-03</td><td>░░░░░░░░░░░░░░▒▒▒▒▒▒▒▒▒▒▒▒▒▒▒▒▒▒▒▒▒▒▒▒▒▒▒▒▒▒▒▒▒▒▒▒</td></tr><tr><td>2019-07-04</td><td>░░░░░░░░░░░░░░░░▒▒▒▒▒▒▒▒▒▒▒▒▒▒▒▒▒▒▒▒▒▒▒▒▒▒▒▒▒▒▒▒▒▒</td></tr><tr><td>2019-07-05</td><td>░░░░░░░░░░░░░░▒▒▒▒▒▒▒▒▒▒▒▒▒▒▒▒▒▒▒▒▒▒▒▒▒▒▒▒▒▒▒▒▒▒▒▒</td></tr><tr><td>2019-07-06</td><td>░░░░░░░░░░░░░░░░░░░░░░░▒▒▒▒▒▒▒▒▒▒▒▒▒▒▒▒▒▒▒▒▒▒▒▒▒▒▒</td></tr><tr><td>2019-07-07</td><td>░░░░░░░░░░░░░░░░░░░▒▒▒▒▒▒▒▒▒▒▒▒▒▒▒▒▒▒▒▒▒▒▒▒▒▒▒▒▒▒▒</td></tr></table>"
                    },
                    "metadata": {}
                }
            ],
            "execution_count": null
        }
    ]
}