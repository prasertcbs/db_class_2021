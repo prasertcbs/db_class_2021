{
    "metadata": {
        "kernelspec": {
            "name": "SQL",
            "display_name": "SQL",
            "language": "sql"
        },
        "language_info": {
            "name": "sql",
            "version": ""
        }
    },
    "nbformat_minor": 2,
    "nbformat": 4,
    "cells": [
        {
            "cell_type": "markdown",
            "source": [
                "# Database: yummi_plain"
            ],
            "metadata": {
                "azdata_cell_guid": "150013dc-0878-4d23-b9d2-ed4bb6959563"
            }
        },
        {
            "cell_type": "code",
            "source": [
                "select * from menu limit 3;"
            ],
            "metadata": {
                "azdata_cell_guid": "d9c5f21d-2bc4-42b3-82c6-32fc5e55cb18",
                "tags": [
                    "hide_input"
                ]
            },
            "outputs": [
                {
                    "output_type": "display_data",
                    "data": {
                        "text/html": "(3 row(s) affected)"
                    },
                    "metadata": {}
                },
                {
                    "output_type": "display_data",
                    "data": {
                        "text/html": "Total execution time: 00:00:00.056"
                    },
                    "metadata": {}
                },
                {
                    "output_type": "execute_result",
                    "metadata": {},
                    "execution_count": 1,
                    "data": {
                        "application/vnd.dataresource+json": {
                            "schema": {
                                "fields": [
                                    {
                                        "name": "menuid"
                                    },
                                    {
                                        "name": "descr"
                                    },
                                    {
                                        "name": "descrth"
                                    },
                                    {
                                        "name": "sizeid"
                                    },
                                    {
                                        "name": "categoryid"
                                    },
                                    {
                                        "name": "isrecommended"
                                    },
                                    {
                                        "name": "isdiscontinued"
                                    },
                                    {
                                        "name": "price"
                                    },
                                    {
                                        "name": "cost"
                                    },
                                    {
                                        "name": "margin"
                                    },
                                    {
                                        "name": "username"
                                    },
                                    {
                                        "name": "firstintrodt"
                                    },
                                    {
                                        "name": "discontinueddt"
                                    }
                                ]
                            },
                            "data": [
                                {
                                    "0": "201L6",
                                    "1": "Tom Yum Kung (Large)",
                                    "2": "ต้มยำกุ้ง (ใหญ่)",
                                    "3": "L",
                                    "4": "DI",
                                    "5": "False",
                                    "6": "False",
                                    "7": "200",
                                    "8": "80",
                                    "9": "120.0",
                                    "10": "dbo",
                                    "11": "2002-01-01T00:00:00",
                                    "12": "NULL"
                                },
                                {
                                    "0": "201M7",
                                    "1": "Tom Yum Kung (Medium)",
                                    "2": "ต้มยำกุ้ง (กลาง)",
                                    "3": "M",
                                    "4": "DI",
                                    "5": "True",
                                    "6": "False",
                                    "7": "100",
                                    "8": "40",
                                    "9": "60.0",
                                    "10": "dbo",
                                    "11": "2002-01-01T00:00:00",
                                    "12": "NULL"
                                },
                                {
                                    "0": "201S3",
                                    "1": "Tom Yum Kung (Small)",
                                    "2": "ต้มยำกุ้ง (เล็ก)",
                                    "3": "S",
                                    "4": "DI",
                                    "5": "False",
                                    "6": "False",
                                    "7": "20",
                                    "8": "8",
                                    "9": "12.0",
                                    "10": "dbo",
                                    "11": "2002-01-01T00:00:00",
                                    "12": "NULL"
                                }
                            ]
                        },
                        "text/html": [
                            "<table>",
                            "<tr><th>menuid</th><th>descr</th><th>descrth</th><th>sizeid</th><th>categoryid</th><th>isrecommended</th><th>isdiscontinued</th><th>price</th><th>cost</th><th>margin</th><th>username</th><th>firstintrodt</th><th>discontinueddt</th></tr>",
                            "<tr><td>201L6</td><td>Tom Yum Kung (Large)</td><td>ต้มยำกุ้ง (ใหญ่)</td><td>L</td><td>DI</td><td>False</td><td>False</td><td>200</td><td>80</td><td>120.0</td><td>dbo</td><td>2002-01-01T00:00:00</td><td>NULL</td></tr>",
                            "<tr><td>201M7</td><td>Tom Yum Kung (Medium)</td><td>ต้มยำกุ้ง (กลาง)</td><td>M</td><td>DI</td><td>True</td><td>False</td><td>100</td><td>40</td><td>60.0</td><td>dbo</td><td>2002-01-01T00:00:00</td><td>NULL</td></tr>",
                            "<tr><td>201S3</td><td>Tom Yum Kung (Small)</td><td>ต้มยำกุ้ง (เล็ก)</td><td>S</td><td>DI</td><td>False</td><td>False</td><td>20</td><td>8</td><td>12.0</td><td>dbo</td><td>2002-01-01T00:00:00</td><td>NULL</td></tr>",
                            "</table>"
                        ]
                    }
                }
            ],
            "execution_count": 1
        }
    ]
}