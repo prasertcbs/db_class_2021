{
    "metadata": {
        "kernelspec": {
            "name": "SQL",
            "display_name": "SQL",
            "language": "sql"
        },
        "language_info": {
            "name": "sql",
            "version": ""
        },
        "extensions": {
            "azuredatastudio": {
                "version": 1,
                "views": []
            }
        }
    },
    "nbformat_minor": 2,
    "nbformat": 4,
    "cells": [
        {
            "cell_type": "markdown",
            "source": [
                "# Chart"
            ],
            "metadata": {
                "extensions": {
                    "azuredatastudio": {
                        "views": []
                    }
                },
                "azdata_cell_guid": "6a45227d-4f6f-4db2-afb6-a3f3967ec2e8"
            }
        },
        {
            "cell_type": "code",
            "source": [
                "select * from revenue where year > 2010"
            ],
            "metadata": {
                "extensions": {
                    "azuredatastudio": {
                        "views": []
                    }
                },
                "azdata_cell_guid": "56046236-207a-43b2-a08d-a57c4d8f6483"
            },
            "outputs": [
                {
                    "output_type": "display_data",
                    "data": {
                        "text/html": "(6 row(s) affected)"
                    },
                    "metadata": {}
                },
                {
                    "output_type": "display_data",
                    "data": {
                        "text/html": "Total execution time: 00:00:00.080"
                    },
                    "metadata": {}
                },
                {
                    "output_type": "execute_result",
                    "execution_count": 1,
                    "data": {
                        "application/vnd.dataresource+json": {
                            "schema": {
                                "fields": [
                                    {
                                        "name": "year"
                                    },
                                    {
                                        "name": "studio_entertainment"
                                    },
                                    {
                                        "name": "disney_consumer_products"
                                    },
                                    {
                                        "name": "disney_interactive"
                                    },
                                    {
                                        "name": "walt_disney_parks_and_resorts"
                                    },
                                    {
                                        "name": "disney_media_networks"
                                    },
                                    {
                                        "name": "total"
                                    }
                                ]
                            },
                            "data": [
                                {
                                    "0": "2011",
                                    "1": "6351.0",
                                    "2": "3049.0",
                                    "3": "982.0",
                                    "4": "11797.0",
                                    "5": "18714.0",
                                    "6": "40893"
                                },
                                {
                                    "0": "2012",
                                    "1": "5825.0",
                                    "2": "3252.0",
                                    "3": "845.0",
                                    "4": "12920.0",
                                    "5": "19436.0",
                                    "6": "42278"
                                },
                                {
                                    "0": "2013",
                                    "1": "5979.0",
                                    "2": "3555.0",
                                    "3": "1064.0",
                                    "4": "14087.0",
                                    "5": "20356.0",
                                    "6": "45041"
                                },
                                {
                                    "0": "2014",
                                    "1": "7278.0",
                                    "2": "3985.0",
                                    "3": "1299.0",
                                    "4": "15099.0",
                                    "5": "21152.0",
                                    "6": "48813"
                                },
                                {
                                    "0": "2015",
                                    "1": "7366.0",
                                    "2": "4499.0",
                                    "3": "1174.0",
                                    "4": "16162.0",
                                    "5": "23264.0",
                                    "6": "52465"
                                },
                                {
                                    "0": "2016",
                                    "1": "9441.0",
                                    "2": "NULL",
                                    "3": "NULL",
                                    "4": "16974.0",
                                    "5": "23689.0",
                                    "6": "55632"
                                }
                            ]
                        },
                        "text/html": "<table><tr><th>year</th><th>studio_entertainment</th><th>disney_consumer_products</th><th>disney_interactive</th><th>walt_disney_parks_and_resorts</th><th>disney_media_networks</th><th>total</th></tr><tr><td>2011</td><td>6351.0</td><td>3049.0</td><td>982.0</td><td>11797.0</td><td>18714.0</td><td>40893</td></tr><tr><td>2012</td><td>5825.0</td><td>3252.0</td><td>845.0</td><td>12920.0</td><td>19436.0</td><td>42278</td></tr><tr><td>2013</td><td>5979.0</td><td>3555.0</td><td>1064.0</td><td>14087.0</td><td>20356.0</td><td>45041</td></tr><tr><td>2014</td><td>7278.0</td><td>3985.0</td><td>1299.0</td><td>15099.0</td><td>21152.0</td><td>48813</td></tr><tr><td>2015</td><td>7366.0</td><td>4499.0</td><td>1174.0</td><td>16162.0</td><td>23264.0</td><td>52465</td></tr><tr><td>2016</td><td>9441.0</td><td>NULL</td><td>NULL</td><td>16974.0</td><td>23689.0</td><td>55632</td></tr></table>"
                    },
                    "metadata": {}
                }
            ],
            "execution_count": 1
        },
        {
            "cell_type": "code",
            "source": [
                "select year, studio_entertainment from revenue where year > 2010"
            ],
            "metadata": {
                "extensions": {
                    "azuredatastudio": {
                        "views": []
                    }
                },
                "azdata_cell_guid": "9b4557f1-ba07-48e7-a034-c88ded322ed5"
            },
            "outputs": [
                {
                    "output_type": "display_data",
                    "data": {
                        "text/html": "(6 row(s) affected)"
                    },
                    "metadata": {}
                },
                {
                    "output_type": "display_data",
                    "data": {
                        "text/html": "Total execution time: 00:00:00.048"
                    },
                    "metadata": {}
                },
                {
                    "output_type": "execute_result",
                    "execution_count": 2,
                    "data": {
                        "application/vnd.dataresource+json": {
                            "schema": {
                                "fields": [
                                    {
                                        "name": "year"
                                    },
                                    {
                                        "name": "studio_entertainment"
                                    }
                                ]
                            },
                            "data": [
                                {
                                    "0": "2011",
                                    "1": "6351.0"
                                },
                                {
                                    "0": "2012",
                                    "1": "5825.0"
                                },
                                {
                                    "0": "2013",
                                    "1": "5979.0"
                                },
                                {
                                    "0": "2014",
                                    "1": "7278.0"
                                },
                                {
                                    "0": "2015",
                                    "1": "7366.0"
                                },
                                {
                                    "0": "2016",
                                    "1": "9441.0"
                                }
                            ]
                        },
                        "text/html": "<table><tr><th>year</th><th>studio_entertainment</th></tr><tr><td>2011</td><td>6351.0</td></tr><tr><td>2012</td><td>5825.0</td></tr><tr><td>2013</td><td>5979.0</td></tr><tr><td>2014</td><td>7278.0</td></tr><tr><td>2015</td><td>7366.0</td></tr><tr><td>2016</td><td>9441.0</td></tr></table>"
                    },
                    "metadata": {}
                }
            ],
            "execution_count": 2
        },
        {
            "cell_type": "code",
            "source": [
                "select year, studio_entertainment from revenue where year > 2010"
            ],
            "metadata": {
                "azdata_cell_guid": "3ce166da-7a56-451c-9d75-f139ae031517"
            },
            "outputs": [
                {
                    "output_type": "display_data",
                    "data": {
                        "text/html": "(6 row(s) affected)"
                    },
                    "metadata": {}
                },
                {
                    "output_type": "display_data",
                    "data": {
                        "text/html": "Total execution time: 00:00:00.049"
                    },
                    "metadata": {}
                },
                {
                    "output_type": "execute_result",
                    "metadata": {
                        "azdata_chartOptions": {
                            "type": "bar",
                            "dataDirection": "vertical",
                            "columnsAsLabels": true,
                            "labelFirstColumn": false,
                            "legendPosition": "top",
                            "yAxisMin": 1
                        }
                    },
                    "execution_count": 1,
                    "data": {
                        "application/vnd.dataresource+json": {
                            "schema": {
                                "fields": [
                                    {
                                        "name": "year"
                                    },
                                    {
                                        "name": "studio_entertainment"
                                    }
                                ]
                            },
                            "data": [
                                {
                                    "0": "2011",
                                    "1": "6351.0"
                                },
                                {
                                    "0": "2012",
                                    "1": "5825.0"
                                },
                                {
                                    "0": "2013",
                                    "1": "5979.0"
                                },
                                {
                                    "0": "2014",
                                    "1": "7278.0"
                                },
                                {
                                    "0": "2015",
                                    "1": "7366.0"
                                },
                                {
                                    "0": "2016",
                                    "1": "9441.0"
                                }
                            ]
                        },
                        "text/html": [
                            "<table>",
                            "<tr><th>year</th><th>studio_entertainment</th></tr>",
                            "<tr><td>2011</td><td>6351.0</td></tr>",
                            "<tr><td>2012</td><td>5825.0</td></tr>",
                            "<tr><td>2013</td><td>5979.0</td></tr>",
                            "<tr><td>2014</td><td>7278.0</td></tr>",
                            "<tr><td>2015</td><td>7366.0</td></tr>",
                            "<tr><td>2016</td><td>9441.0</td></tr>",
                            "</table>"
                        ]
                    }
                }
            ],
            "execution_count": 1
        },
        {
            "cell_type": "code",
            "source": [
                "select year, studio_entertainment, disney_consumer_products from revenue where year > 2010"
            ],
            "metadata": {
                "extensions": {
                    "azuredatastudio": {
                        "views": []
                    }
                },
                "azdata_cell_guid": "46f6e1e8-6f34-4247-8918-d4df28a72171"
            },
            "outputs": [
                {
                    "output_type": "display_data",
                    "data": {
                        "text/html": "(6 row(s) affected)"
                    },
                    "metadata": {}
                },
                {
                    "output_type": "display_data",
                    "data": {
                        "text/html": "Total execution time: 00:00:00.038"
                    },
                    "metadata": {}
                },
                {
                    "output_type": "execute_result",
                    "execution_count": 4,
                    "data": {
                        "application/vnd.dataresource+json": {
                            "schema": {
                                "fields": [
                                    {
                                        "name": "year"
                                    },
                                    {
                                        "name": "studio_entertainment"
                                    },
                                    {
                                        "name": "disney_consumer_products"
                                    }
                                ]
                            },
                            "data": [
                                {
                                    "0": "2011",
                                    "1": "6351.0",
                                    "2": "3049.0"
                                },
                                {
                                    "0": "2012",
                                    "1": "5825.0",
                                    "2": "3252.0"
                                },
                                {
                                    "0": "2013",
                                    "1": "5979.0",
                                    "2": "3555.0"
                                },
                                {
                                    "0": "2014",
                                    "1": "7278.0",
                                    "2": "3985.0"
                                },
                                {
                                    "0": "2015",
                                    "1": "7366.0",
                                    "2": "4499.0"
                                },
                                {
                                    "0": "2016",
                                    "1": "9441.0",
                                    "2": "NULL"
                                }
                            ]
                        },
                        "text/html": "<table><tr><th>year</th><th>studio_entertainment</th><th>disney_consumer_products</th></tr><tr><td>2011</td><td>6351.0</td><td>3049.0</td></tr><tr><td>2012</td><td>5825.0</td><td>3252.0</td></tr><tr><td>2013</td><td>5979.0</td><td>3555.0</td></tr><tr><td>2014</td><td>7278.0</td><td>3985.0</td></tr><tr><td>2015</td><td>7366.0</td><td>4499.0</td></tr><tr><td>2016</td><td>9441.0</td><td>NULL</td></tr></table>"
                    },
                    "metadata": {
                        "azdata_chartOptions": {
                            "type": "bar",
                            "dataDirection": "vertical",
                            "columnsAsLabels": true,
                            "labelFirstColumn": false,
                            "legendPosition": "top",
                            "yAxisMin": 1
                        }
                    }
                }
            ],
            "execution_count": 4
        }
    ]
}