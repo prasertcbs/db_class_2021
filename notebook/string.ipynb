{
    "metadata": {
        "kernelspec": {
            "name": "SQL",
            "display_name": "SQL",
            "language": "sql"
        },
        "language_info": {
            "name": "sql",
            "version": ""
        },
        "extensions": {
            "azuredatastudio": {
                "version": 1,
                "views": []
            }
        }
    },
    "nbformat_minor": 2,
    "nbformat": 4,
    "cells": [
        {
            "cell_type": "code",
            "source": [
                "select *, \r\n",
                "    split_part(director, ' ', 1) \"First name\", \r\n",
                "    split_part(director, ' ', 2), \r\n",
                "    split_part(director, ' ', 3)\r\n",
                "    from director;"
            ],
            "metadata": {
                "azdata_cell_guid": "647abfdd-e1d6-45d1-8855-959646f659e9"
            },
            "outputs": [
                {
                    "output_type": "display_data",
                    "data": {
                        "text/html": "(56 row(s) affected)"
                    },
                    "metadata": {}
                },
                {
                    "output_type": "display_data",
                    "data": {
                        "text/html": "Total execution time: 00:00:00.037"
                    },
                    "metadata": {}
                },
                {
                    "output_type": "execute_result",
                    "metadata": {},
                    "execution_count": 15,
                    "data": {
                        "application/vnd.dataresource+json": {
                            "schema": {
                                "fields": [
                                    {
                                        "name": "movie_title"
                                    },
                                    {
                                        "name": "director"
                                    },
                                    {
                                        "name": "First name"
                                    },
                                    {
                                        "name": "split_part"
                                    },
                                    {
                                        "name": "split_part"
                                    }
                                ]
                            },
                            "data": [
                                {
                                    "0": "Snow White and the Seven Dwarfs",
                                    "1": "David Hand",
                                    "2": "David",
                                    "3": "Hand",
                                    "4": "NULL"
                                },
                                {
                                    "0": "Pinocchio",
                                    "1": "Ben Sharpsteen",
                                    "2": "Ben",
                                    "3": "Sharpsteen",
                                    "4": "NULL"
                                },
                                {
                                    "0": "Fantasia",
                                    "1": "full credits",
                                    "2": "full",
                                    "3": "credits",
                                    "4": "NULL"
                                },
                                {
                                    "0": "Dumbo",
                                    "1": "Ben Sharpsteen",
                                    "2": "Ben",
                                    "3": "Sharpsteen",
                                    "4": "NULL"
                                },
                                {
                                    "0": "Bambi",
                                    "1": "David Hand",
                                    "2": "David",
                                    "3": "Hand",
                                    "4": "NULL"
                                },
                                {
                                    "0": "Saludos Amigos",
                                    "1": "Jack Kinney",
                                    "2": "Jack",
                                    "3": "Kinney",
                                    "4": "NULL"
                                },
                                {
                                    "0": "The Three Caballeros",
                                    "1": "Norman Ferguson",
                                    "2": "Norman",
                                    "3": "Ferguson",
                                    "4": "NULL"
                                },
                                {
                                    "0": "Make Mine Music",
                                    "1": "Jack Kinney",
                                    "2": "Jack",
                                    "3": "Kinney",
                                    "4": "NULL"
                                },
                                {
                                    "0": "Fun and Fancy Free",
                                    "1": "Jack Kinney",
                                    "2": "Jack",
                                    "3": "Kinney",
                                    "4": "NULL"
                                },
                                {
                                    "0": "Melody Time",
                                    "1": "Clyde Geronimi",
                                    "2": "Clyde",
                                    "3": "Geronimi",
                                    "4": "NULL"
                                },
                                {
                                    "0": "The Adventures of Ichabod and Mr. Toad",
                                    "1": "Jack Kinney",
                                    "2": "Jack",
                                    "3": "Kinney",
                                    "4": "NULL"
                                },
                                {
                                    "0": "Cinderella",
                                    "1": "Wilfred Jackson",
                                    "2": "Wilfred",
                                    "3": "Jackson",
                                    "4": "NULL"
                                },
                                {
                                    "0": "Alice in Wonderland",
                                    "1": "Clyde Geronimi",
                                    "2": "Clyde",
                                    "3": "Geronimi",
                                    "4": "NULL"
                                },
                                {
                                    "0": "Peter Pan",
                                    "1": "Hamilton Luske",
                                    "2": "Hamilton",
                                    "3": "Luske",
                                    "4": "NULL"
                                },
                                {
                                    "0": "Lady and the Tramp",
                                    "1": "Hamilton Luske",
                                    "2": "Hamilton",
                                    "3": "Luske",
                                    "4": "NULL"
                                },
                                {
                                    "0": "Sleeping Beauty",
                                    "1": "Clyde Geronimi",
                                    "2": "Clyde",
                                    "3": "Geronimi",
                                    "4": "NULL"
                                },
                                {
                                    "0": "101 Dalmatians",
                                    "1": "Wolfgang Reitherman",
                                    "2": "Wolfgang",
                                    "3": "Reitherman",
                                    "4": "NULL"
                                },
                                {
                                    "0": "The Sword in the Stone",
                                    "1": "Wolfgang Reitherman",
                                    "2": "Wolfgang",
                                    "3": "Reitherman",
                                    "4": "NULL"
                                },
                                {
                                    "0": "The Jungle Book",
                                    "1": "Wolfgang Reitherman",
                                    "2": "Wolfgang",
                                    "3": "Reitherman",
                                    "4": "NULL"
                                },
                                {
                                    "0": "The Aristocats",
                                    "1": "Wolfgang Reitherman",
                                    "2": "Wolfgang",
                                    "3": "Reitherman",
                                    "4": "NULL"
                                },
                                {
                                    "0": "Robin Hood",
                                    "1": "Wolfgang Reitherman",
                                    "2": "Wolfgang",
                                    "3": "Reitherman",
                                    "4": "NULL"
                                },
                                {
                                    "0": "The Many Adventures of Winnie the Pooh",
                                    "1": "Wolfgang Reitherman",
                                    "2": "Wolfgang",
                                    "3": "Reitherman",
                                    "4": "NULL"
                                },
                                {
                                    "0": "The Rescuers",
                                    "1": "Wolfgang Reitherman",
                                    "2": "Wolfgang",
                                    "3": "Reitherman",
                                    "4": "NULL"
                                },
                                {
                                    "0": "The Fox and the Hound",
                                    "1": "Art Stevens",
                                    "2": "Art",
                                    "3": "Stevens",
                                    "4": "NULL"
                                },
                                {
                                    "0": "The Black Cauldron",
                                    "1": "Ted Berman",
                                    "2": "Ted",
                                    "3": "Berman",
                                    "4": "NULL"
                                },
                                {
                                    "0": "The Great Mouse Detective",
                                    "1": "Ron Clements",
                                    "2": "Ron",
                                    "3": "Clements",
                                    "4": "NULL"
                                },
                                {
                                    "0": "Oliver & Company",
                                    "1": "George Scribner",
                                    "2": "George",
                                    "3": "Scribner",
                                    "4": "NULL"
                                },
                                {
                                    "0": "The Little Mermaid",
                                    "1": "Ron Clements",
                                    "2": "Ron",
                                    "3": "Clements",
                                    "4": "NULL"
                                },
                                {
                                    "0": "The Rescuers Down Under",
                                    "1": "Mike Gabriel",
                                    "2": "Mike",
                                    "3": "Gabriel",
                                    "4": "NULL"
                                },
                                {
                                    "0": "Beauty and the Beast",
                                    "1": "Gary Trousdale",
                                    "2": "Gary",
                                    "3": "Trousdale",
                                    "4": "NULL"
                                },
                                {
                                    "0": "Aladdin",
                                    "1": "Ron Clements",
                                    "2": "Ron",
                                    "3": "Clements",
                                    "4": "NULL"
                                },
                                {
                                    "0": "The Lion King",
                                    "1": "Roger Allers",
                                    "2": "Roger",
                                    "3": "Allers",
                                    "4": "NULL"
                                },
                                {
                                    "0": "Pocahontas",
                                    "1": "Mike Gabriel",
                                    "2": "Mike",
                                    "3": "Gabriel",
                                    "4": "NULL"
                                },
                                {
                                    "0": "The Hunchback of Notre Dame",
                                    "1": "Gary Trousdale",
                                    "2": "Gary",
                                    "3": "Trousdale",
                                    "4": "NULL"
                                },
                                {
                                    "0": "Hercules",
                                    "1": "Ron Clements",
                                    "2": "Ron",
                                    "3": "Clements",
                                    "4": "NULL"
                                },
                                {
                                    "0": "Mulan",
                                    "1": "Barry Cook",
                                    "2": "Barry",
                                    "3": "Cook",
                                    "4": "NULL"
                                },
                                {
                                    "0": "Tarzan",
                                    "1": "Chris Buck",
                                    "2": "Chris",
                                    "3": "Buck",
                                    "4": "NULL"
                                },
                                {
                                    "0": "Fantasia 2000",
                                    "1": "full credits",
                                    "2": "full",
                                    "3": "credits",
                                    "4": "NULL"
                                },
                                {
                                    "0": "Dinosaur",
                                    "1": "Ralph Zondag",
                                    "2": "Ralph",
                                    "3": "Zondag",
                                    "4": "NULL"
                                },
                                {
                                    "0": "The Emperor's New Groove",
                                    "1": "Mark Dindal",
                                    "2": "Mark",
                                    "3": "Dindal",
                                    "4": "NULL"
                                },
                                {
                                    "0": "Atlantis: The Lost Empire",
                                    "1": "Gary Trousdale",
                                    "2": "Gary",
                                    "3": "Trousdale",
                                    "4": "NULL"
                                },
                                {
                                    "0": "Lilo & Stitch",
                                    "1": "Chris Sanders",
                                    "2": "Chris",
                                    "3": "Sanders",
                                    "4": "NULL"
                                },
                                {
                                    "0": "Treasure Planet",
                                    "1": "Ron Clements",
                                    "2": "Ron",
                                    "3": "Clements",
                                    "4": "NULL"
                                },
                                {
                                    "0": "Brother Bear",
                                    "1": "Robert Walker",
                                    "2": "Robert",
                                    "3": "Walker",
                                    "4": "NULL"
                                },
                                {
                                    "0": "Home on the Range",
                                    "1": "Will Finn",
                                    "2": "Will",
                                    "3": "Finn",
                                    "4": "NULL"
                                },
                                {
                                    "0": "Chicken Little",
                                    "1": "Mark Dindal",
                                    "2": "Mark",
                                    "3": "Dindal",
                                    "4": "NULL"
                                },
                                {
                                    "0": "Meet the Robinsons",
                                    "1": "Stephen J. Anderson",
                                    "2": "Stephen",
                                    "3": "J.",
                                    "4": "Anderson"
                                },
                                {
                                    "0": "Bolt",
                                    "1": "Chris Williams",
                                    "2": "Chris",
                                    "3": "Williams",
                                    "4": "NULL"
                                },
                                {
                                    "0": "The Princess and the Frog",
                                    "1": "Ron Clements",
                                    "2": "Ron",
                                    "3": "Clements",
                                    "4": "NULL"
                                },
                                {
                                    "0": "Tangled",
                                    "1": "Nathan Greno",
                                    "2": "Nathan",
                                    "3": "Greno",
                                    "4": "NULL"
                                },
                                {
                                    "0": "Winnie the Pooh",
                                    "1": "Stephen J. Anderson",
                                    "2": "Stephen",
                                    "3": "J.",
                                    "4": "Anderson"
                                },
                                {
                                    "0": "Wreck-It Ralph",
                                    "1": "Rich Moore",
                                    "2": "Rich",
                                    "3": "Moore",
                                    "4": "NULL"
                                },
                                {
                                    "0": "Frozen",
                                    "1": "Chris Buck",
                                    "2": "Chris",
                                    "3": "Buck",
                                    "4": "NULL"
                                },
                                {
                                    "0": "Big Hero 6",
                                    "1": "Don Hall",
                                    "2": "Don",
                                    "3": "Hall",
                                    "4": "NULL"
                                },
                                {
                                    "0": "Zootopia",
                                    "1": "Byron Howard",
                                    "2": "Byron",
                                    "3": "Howard",
                                    "4": "NULL"
                                },
                                {
                                    "0": "Moana",
                                    "1": "Ron Clements",
                                    "2": "Ron",
                                    "3": "Clements",
                                    "4": "NULL"
                                }
                            ]
                        },
                        "text/html": [
                            "<table>",
                            "<tr><th>movie_title</th><th>director</th><th>First name</th><th>split_part</th><th>split_part</th></tr>",
                            "<tr><td>Snow White and the Seven Dwarfs</td><td>David Hand</td><td>David</td><td>Hand</td><td>NULL</td></tr>",
                            "<tr><td>Pinocchio</td><td>Ben Sharpsteen</td><td>Ben</td><td>Sharpsteen</td><td>NULL</td></tr>",
                            "<tr><td>Fantasia</td><td>full credits</td><td>full</td><td>credits</td><td>NULL</td></tr>",
                            "<tr><td>Dumbo</td><td>Ben Sharpsteen</td><td>Ben</td><td>Sharpsteen</td><td>NULL</td></tr>",
                            "<tr><td>Bambi</td><td>David Hand</td><td>David</td><td>Hand</td><td>NULL</td></tr>",
                            "<tr><td>Saludos Amigos</td><td>Jack Kinney</td><td>Jack</td><td>Kinney</td><td>NULL</td></tr>",
                            "<tr><td>The Three Caballeros</td><td>Norman Ferguson</td><td>Norman</td><td>Ferguson</td><td>NULL</td></tr>",
                            "<tr><td>Make Mine Music</td><td>Jack Kinney</td><td>Jack</td><td>Kinney</td><td>NULL</td></tr>",
                            "<tr><td>Fun and Fancy Free</td><td>Jack Kinney</td><td>Jack</td><td>Kinney</td><td>NULL</td></tr>",
                            "<tr><td>Melody Time</td><td>Clyde Geronimi</td><td>Clyde</td><td>Geronimi</td><td>NULL</td></tr>",
                            "<tr><td>The Adventures of Ichabod and Mr. Toad</td><td>Jack Kinney</td><td>Jack</td><td>Kinney</td><td>NULL</td></tr>",
                            "<tr><td>Cinderella</td><td>Wilfred Jackson</td><td>Wilfred</td><td>Jackson</td><td>NULL</td></tr>",
                            "<tr><td>Alice in Wonderland</td><td>Clyde Geronimi</td><td>Clyde</td><td>Geronimi</td><td>NULL</td></tr>",
                            "<tr><td>Peter Pan</td><td>Hamilton Luske</td><td>Hamilton</td><td>Luske</td><td>NULL</td></tr>",
                            "<tr><td>Lady and the Tramp</td><td>Hamilton Luske</td><td>Hamilton</td><td>Luske</td><td>NULL</td></tr>",
                            "<tr><td>Sleeping Beauty</td><td>Clyde Geronimi</td><td>Clyde</td><td>Geronimi</td><td>NULL</td></tr>",
                            "<tr><td>101 Dalmatians</td><td>Wolfgang Reitherman</td><td>Wolfgang</td><td>Reitherman</td><td>NULL</td></tr>",
                            "<tr><td>The Sword in the Stone</td><td>Wolfgang Reitherman</td><td>Wolfgang</td><td>Reitherman</td><td>NULL</td></tr>",
                            "<tr><td>The Jungle Book</td><td>Wolfgang Reitherman</td><td>Wolfgang</td><td>Reitherman</td><td>NULL</td></tr>",
                            "<tr><td>The Aristocats</td><td>Wolfgang Reitherman</td><td>Wolfgang</td><td>Reitherman</td><td>NULL</td></tr>",
                            "<tr><td>Robin Hood</td><td>Wolfgang Reitherman</td><td>Wolfgang</td><td>Reitherman</td><td>NULL</td></tr>",
                            "<tr><td>The Many Adventures of Winnie the Pooh</td><td>Wolfgang Reitherman</td><td>Wolfgang</td><td>Reitherman</td><td>NULL</td></tr>",
                            "<tr><td>The Rescuers</td><td>Wolfgang Reitherman</td><td>Wolfgang</td><td>Reitherman</td><td>NULL</td></tr>",
                            "<tr><td>The Fox and the Hound</td><td>Art Stevens</td><td>Art</td><td>Stevens</td><td>NULL</td></tr>",
                            "<tr><td>The Black Cauldron</td><td>Ted Berman</td><td>Ted</td><td>Berman</td><td>NULL</td></tr>",
                            "<tr><td>The Great Mouse Detective</td><td>Ron Clements</td><td>Ron</td><td>Clements</td><td>NULL</td></tr>",
                            "<tr><td>Oliver &amp; Company</td><td>George Scribner</td><td>George</td><td>Scribner</td><td>NULL</td></tr>",
                            "<tr><td>The Little Mermaid</td><td>Ron Clements</td><td>Ron</td><td>Clements</td><td>NULL</td></tr>",
                            "<tr><td>The Rescuers Down Under</td><td>Mike Gabriel</td><td>Mike</td><td>Gabriel</td><td>NULL</td></tr>",
                            "<tr><td>Beauty and the Beast</td><td>Gary Trousdale</td><td>Gary</td><td>Trousdale</td><td>NULL</td></tr>",
                            "<tr><td>Aladdin</td><td>Ron Clements</td><td>Ron</td><td>Clements</td><td>NULL</td></tr>",
                            "<tr><td>The Lion King</td><td>Roger Allers</td><td>Roger</td><td>Allers</td><td>NULL</td></tr>",
                            "<tr><td>Pocahontas</td><td>Mike Gabriel</td><td>Mike</td><td>Gabriel</td><td>NULL</td></tr>",
                            "<tr><td>The Hunchback of Notre Dame</td><td>Gary Trousdale</td><td>Gary</td><td>Trousdale</td><td>NULL</td></tr>",
                            "<tr><td>Hercules</td><td>Ron Clements</td><td>Ron</td><td>Clements</td><td>NULL</td></tr>",
                            "<tr><td>Mulan</td><td>Barry Cook</td><td>Barry</td><td>Cook</td><td>NULL</td></tr>",
                            "<tr><td>Tarzan</td><td>Chris Buck</td><td>Chris</td><td>Buck</td><td>NULL</td></tr>",
                            "<tr><td>Fantasia 2000</td><td>full credits</td><td>full</td><td>credits</td><td>NULL</td></tr>",
                            "<tr><td>Dinosaur</td><td>Ralph Zondag</td><td>Ralph</td><td>Zondag</td><td>NULL</td></tr>",
                            "<tr><td>The Emperor's New Groove</td><td>Mark Dindal</td><td>Mark</td><td>Dindal</td><td>NULL</td></tr>",
                            "<tr><td>Atlantis: The Lost Empire</td><td>Gary Trousdale</td><td>Gary</td><td>Trousdale</td><td>NULL</td></tr>",
                            "<tr><td>Lilo &amp; Stitch</td><td>Chris Sanders</td><td>Chris</td><td>Sanders</td><td>NULL</td></tr>",
                            "<tr><td>Treasure Planet</td><td>Ron Clements</td><td>Ron</td><td>Clements</td><td>NULL</td></tr>",
                            "<tr><td>Brother Bear</td><td>Robert Walker</td><td>Robert</td><td>Walker</td><td>NULL</td></tr>",
                            "<tr><td>Home on the Range</td><td>Will Finn</td><td>Will</td><td>Finn</td><td>NULL</td></tr>",
                            "<tr><td>Chicken Little</td><td>Mark Dindal</td><td>Mark</td><td>Dindal</td><td>NULL</td></tr>",
                            "<tr><td>Meet the Robinsons</td><td>Stephen J. Anderson</td><td>Stephen</td><td>J.</td><td>Anderson</td></tr>",
                            "<tr><td>Bolt</td><td>Chris Williams</td><td>Chris</td><td>Williams</td><td>NULL</td></tr>",
                            "<tr><td>The Princess and the Frog</td><td>Ron Clements</td><td>Ron</td><td>Clements</td><td>NULL</td></tr>",
                            "<tr><td>Tangled</td><td>Nathan Greno</td><td>Nathan</td><td>Greno</td><td>NULL</td></tr>",
                            "<tr><td>Winnie the Pooh</td><td>Stephen J. Anderson</td><td>Stephen</td><td>J.</td><td>Anderson</td></tr>",
                            "<tr><td>Wreck-It Ralph</td><td>Rich Moore</td><td>Rich</td><td>Moore</td><td>NULL</td></tr>",
                            "<tr><td>Frozen</td><td>Chris Buck</td><td>Chris</td><td>Buck</td><td>NULL</td></tr>",
                            "<tr><td>Big Hero 6</td><td>Don Hall</td><td>Don</td><td>Hall</td><td>NULL</td></tr>",
                            "<tr><td>Zootopia</td><td>Byron Howard</td><td>Byron</td><td>Howard</td><td>NULL</td></tr>",
                            "<tr><td>Moana</td><td>Ron Clements</td><td>Ron</td><td>Clements</td><td>NULL</td></tr>",
                            "</table>"
                        ]
                    }
                }
            ],
            "execution_count": 15
        }
    ]
}