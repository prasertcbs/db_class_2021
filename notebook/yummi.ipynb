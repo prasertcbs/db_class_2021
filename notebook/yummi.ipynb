{
    "metadata": {
        "kernelspec": {
            "name": "SQL",
            "display_name": "SQL",
            "language": "sql"
        },
        "language_info": {
            "name": "sql",
            "version": ""
        },
        "extensions": {
            "azuredatastudio": {
                "version": 1,
                "views": []
            }
        }
    },
    "nbformat_minor": 2,
    "nbformat": 4,
    "cells": [
        {
            "cell_type": "markdown",
            "source": [
                "# Database: `yummi_plain`"
            ],
            "metadata": {
                "azdata_cell_guid": "150013dc-0878-4d23-b9d2-ed4bb6959563",
                "extensions": {
                    "azuredatastudio": {
                        "views": []
                    }
                }
            }
        },
        {
            "cell_type": "code",
            "source": [
                "select * from menu limit 3;"
            ],
            "metadata": {
                "azdata_cell_guid": "d9c5f21d-2bc4-42b3-82c6-32fc5e55cb18",
                "tags": [
                    "hide_input"
                ],
                "extensions": {
                    "azuredatastudio": {
                        "views": []
                    }
                }
            },
            "outputs": [
                {
                    "output_type": "display_data",
                    "data": {
                        "text/html": "(3 row(s) affected)"
                    },
                    "metadata": {}
                },
                {
                    "output_type": "display_data",
                    "data": {
                        "text/html": "Total execution time: 00:00:00.019"
                    },
                    "metadata": {}
                },
                {
                    "output_type": "execute_result",
                    "metadata": {},
                    "execution_count": 1,
                    "data": {
                        "application/vnd.dataresource+json": {
                            "schema": {
                                "fields": [
                                    {
                                        "name": "menuid"
                                    },
                                    {
                                        "name": "descr"
                                    },
                                    {
                                        "name": "descrth"
                                    },
                                    {
                                        "name": "sizeid"
                                    },
                                    {
                                        "name": "categoryid"
                                    },
                                    {
                                        "name": "isrecommended"
                                    },
                                    {
                                        "name": "isdiscontinued"
                                    },
                                    {
                                        "name": "price"
                                    },
                                    {
                                        "name": "cost"
                                    },
                                    {
                                        "name": "margin"
                                    },
                                    {
                                        "name": "username"
                                    },
                                    {
                                        "name": "firstintrodt"
                                    },
                                    {
                                        "name": "discontinueddt"
                                    }
                                ]
                            },
                            "data": [
                                {
                                    "0": "201L6",
                                    "1": "Tom Yum Kung (Large)",
                                    "2": "ต้มยำกุ้ง (ใหญ่)",
                                    "3": "L",
                                    "4": "DI",
                                    "5": "False",
                                    "6": "False",
                                    "7": "200",
                                    "8": "80",
                                    "9": "120.0",
                                    "10": "dbo",
                                    "11": "2002-01-01T00:00:00",
                                    "12": "NULL"
                                },
                                {
                                    "0": "201M7",
                                    "1": "Tom Yum Kung (Medium)",
                                    "2": "ต้มยำกุ้ง (กลาง)",
                                    "3": "M",
                                    "4": "DI",
                                    "5": "True",
                                    "6": "False",
                                    "7": "100",
                                    "8": "40",
                                    "9": "60.0",
                                    "10": "dbo",
                                    "11": "2002-01-01T00:00:00",
                                    "12": "NULL"
                                },
                                {
                                    "0": "201S3",
                                    "1": "Tom Yum Kung (Small)",
                                    "2": "ต้มยำกุ้ง (เล็ก)",
                                    "3": "S",
                                    "4": "DI",
                                    "5": "False",
                                    "6": "False",
                                    "7": "20",
                                    "8": "8",
                                    "9": "12.0",
                                    "10": "dbo",
                                    "11": "2002-01-01T00:00:00",
                                    "12": "NULL"
                                }
                            ]
                        },
                        "text/html": [
                            "<table>",
                            "<tr><th>menuid</th><th>descr</th><th>descrth</th><th>sizeid</th><th>categoryid</th><th>isrecommended</th><th>isdiscontinued</th><th>price</th><th>cost</th><th>margin</th><th>username</th><th>firstintrodt</th><th>discontinueddt</th></tr>",
                            "<tr><td>201L6</td><td>Tom Yum Kung (Large)</td><td>ต้มยำกุ้ง (ใหญ่)</td><td>L</td><td>DI</td><td>False</td><td>False</td><td>200</td><td>80</td><td>120.0</td><td>dbo</td><td>2002-01-01T00:00:00</td><td>NULL</td></tr>",
                            "<tr><td>201M7</td><td>Tom Yum Kung (Medium)</td><td>ต้มยำกุ้ง (กลาง)</td><td>M</td><td>DI</td><td>True</td><td>False</td><td>100</td><td>40</td><td>60.0</td><td>dbo</td><td>2002-01-01T00:00:00</td><td>NULL</td></tr>",
                            "<tr><td>201S3</td><td>Tom Yum Kung (Small)</td><td>ต้มยำกุ้ง (เล็ก)</td><td>S</td><td>DI</td><td>False</td><td>False</td><td>20</td><td>8</td><td>12.0</td><td>dbo</td><td>2002-01-01T00:00:00</td><td>NULL</td></tr>",
                            "</table>"
                        ]
                    }
                }
            ],
            "execution_count": 1
        },
        {
            "cell_type": "code",
            "source": [
                "select age('2000-02-01'::date), '2021-09-01'::date-'2000-02-01';"
            ],
            "metadata": {
                "azdata_cell_guid": "b70012e3-a8d1-4fb2-98d5-e6caa9507c18"
            },
            "outputs": [
                {
                    "output_type": "display_data",
                    "data": {
                        "text/html": "(1 row(s) affected)"
                    },
                    "metadata": {}
                },
                {
                    "output_type": "display_data",
                    "data": {
                        "text/html": "Total execution time: 00:00:00.018"
                    },
                    "metadata": {}
                },
                {
                    "output_type": "execute_result",
                    "metadata": {},
                    "execution_count": 7,
                    "data": {
                        "application/vnd.dataresource+json": {
                            "schema": {
                                "fields": [
                                    {
                                        "name": "age"
                                    },
                                    {
                                        "name": "Column2"
                                    }
                                ]
                            },
                            "data": [
                                {
                                    "0": "7875 days, 0:00:00",
                                    "1": "7883"
                                }
                            ]
                        },
                        "text/html": [
                            "<table>",
                            "<tr><th>age</th><th>Column2</th></tr>",
                            "<tr><td>7875 days, 0:00:00</td><td>7883</td></tr>",
                            "</table>"
                        ]
                    }
                }
            ],
            "execution_count": 7
        },
        {
            "cell_type": "code",
            "source": [
                "select * from menu where descr ilike '%chicken%'"
            ],
            "metadata": {
                "azdata_cell_guid": "912736cf-e9a0-4e52-91bb-fa5dd4edf0a5",
                "extensions": {
                    "azuredatastudio": {
                        "views": []
                    }
                }
            },
            "outputs": [
                {
                    "output_type": "display_data",
                    "data": {
                        "text/html": "(2 row(s) affected)"
                    },
                    "metadata": {}
                },
                {
                    "output_type": "display_data",
                    "data": {
                        "text/html": "Total execution time: 00:00:00.047"
                    },
                    "metadata": {}
                },
                {
                    "output_type": "execute_result",
                    "execution_count": 1,
                    "data": {
                        "application/vnd.dataresource+json": {
                            "schema": {
                                "fields": [
                                    {
                                        "name": "menuid"
                                    },
                                    {
                                        "name": "descr"
                                    },
                                    {
                                        "name": "descrth"
                                    },
                                    {
                                        "name": "sizeid"
                                    },
                                    {
                                        "name": "categoryid"
                                    },
                                    {
                                        "name": "isrecommended"
                                    },
                                    {
                                        "name": "isdiscontinued"
                                    },
                                    {
                                        "name": "price"
                                    },
                                    {
                                        "name": "cost"
                                    },
                                    {
                                        "name": "margin"
                                    },
                                    {
                                        "name": "username"
                                    },
                                    {
                                        "name": "firstintrodt"
                                    },
                                    {
                                        "name": "discontinueddt"
                                    }
                                ]
                            },
                            "data": [
                                {
                                    "0": "202M9",
                                    "1": "Green Curry with Chicken",
                                    "2": "แกงเขียวหวานไก่",
                                    "3": "M",
                                    "4": "DI",
                                    "5": "True",
                                    "6": "False",
                                    "7": "60",
                                    "8": "24",
                                    "9": "36.0",
                                    "10": "dbo",
                                    "11": "2002-01-01T00:00:00",
                                    "12": "NULL"
                                },
                                {
                                    "0": "205M5",
                                    "1": "Fried Chicken",
                                    "2": "ไก่ทอด",
                                    "3": "M",
                                    "4": "DI",
                                    "5": "False",
                                    "6": "False",
                                    "7": "70",
                                    "8": "28",
                                    "9": "42.0",
                                    "10": "dbo",
                                    "11": "2002-01-01T00:00:00",
                                    "12": "NULL"
                                }
                            ]
                        },
                        "text/html": "<table><tr><th>menuid</th><th>descr</th><th>descrth</th><th>sizeid</th><th>categoryid</th><th>isrecommended</th><th>isdiscontinued</th><th>price</th><th>cost</th><th>margin</th><th>username</th><th>firstintrodt</th><th>discontinueddt</th></tr><tr><td>202M9</td><td>Green Curry with Chicken</td><td>แกงเขียวหวานไก่</td><td>M</td><td>DI</td><td>True</td><td>False</td><td>60</td><td>24</td><td>36.0</td><td>dbo</td><td>2002-01-01T00:00:00</td><td>NULL</td></tr><tr><td>205M5</td><td>Fried Chicken</td><td>ไก่ทอด</td><td>M</td><td>DI</td><td>False</td><td>False</td><td>70</td><td>28</td><td>42.0</td><td>dbo</td><td>2002-01-01T00:00:00</td><td>NULL</td></tr></table>"
                    },
                    "metadata": {}
                }
            ],
            "execution_count": 1
        },
        {
            "cell_type": "code",
            "source": [
                "select * from orderhdr limit 5;"
            ],
            "metadata": {
                "azdata_cell_guid": "b67d9b81-2b6e-4df6-b297-368a708e355d"
            },
            "outputs": [
                {
                    "output_type": "display_data",
                    "data": {
                        "text/html": "(5 row(s) affected)"
                    },
                    "metadata": {}
                },
                {
                    "output_type": "display_data",
                    "data": {
                        "text/html": "Total execution time: 00:00:00.015"
                    },
                    "metadata": {}
                },
                {
                    "output_type": "execute_result",
                    "execution_count": 4,
                    "data": {
                        "application/vnd.dataresource+json": {
                            "schema": {
                                "fields": [
                                    {
                                        "name": "orderid"
                                    },
                                    {
                                        "name": "customerid"
                                    },
                                    {
                                        "name": "noguest"
                                    },
                                    {
                                        "name": "tableno"
                                    },
                                    {
                                        "name": "intime"
                                    },
                                    {
                                        "name": "outtime"
                                    },
                                    {
                                        "name": "dinetypeid"
                                    },
                                    {
                                        "name": "paymentid"
                                    },
                                    {
                                        "name": "total"
                                    },
                                    {
                                        "name": "discount"
                                    },
                                    {
                                        "name": "netpay"
                                    },
                                    {
                                        "name": "vat"
                                    },
                                    {
                                        "name": "isposted"
                                    },
                                    {
                                        "name": "username"
                                    }
                                ]
                            },
                            "data": [
                                {
                                    "0": "1",
                                    "1": "PH1",
                                    "2": "4",
                                    "3": "5",
                                    "4": "2002-01-01T10:51:00",
                                    "5": "2002-01-01T12:00:00",
                                    "6": "EI",
                                    "7": "CASH",
                                    "8": "1300.00",
                                    "9": "187.50",
                                    "10": "1112.50",
                                    "11": "72.78",
                                    "12": "False",
                                    "13": "dbo"
                                },
                                {
                                    "0": "2",
                                    "1": "ZF1",
                                    "2": "1",
                                    "3": "3",
                                    "4": "2002-01-01T11:35:00",
                                    "5": "2002-01-01T12:42:00",
                                    "6": "EI",
                                    "7": "CASH",
                                    "8": "675.00",
                                    "9": "0.00",
                                    "10": "675.00",
                                    "11": "44.16",
                                    "12": "False",
                                    "13": "dbo"
                                },
                                {
                                    "0": "3",
                                    "1": "ZF1",
                                    "2": "2",
                                    "3": "1",
                                    "4": "2002-01-01T12:14:00",
                                    "5": "2002-01-01T14:33:00",
                                    "6": "EI",
                                    "7": "CHK",
                                    "8": "520.00",
                                    "9": "0.00",
                                    "10": "520.00",
                                    "11": "34.02",
                                    "12": "False",
                                    "13": "dbo"
                                },
                                {
                                    "0": "4",
                                    "1": "ZF1",
                                    "2": "3",
                                    "3": "5",
                                    "4": "2002-01-01T18:59:00",
                                    "5": "2002-01-01T19:58:00",
                                    "6": "EI",
                                    "7": "MC",
                                    "8": "490.00",
                                    "9": "19.50",
                                    "10": "470.50",
                                    "11": "30.78",
                                    "12": "False",
                                    "13": "dbo"
                                },
                                {
                                    "0": "5",
                                    "1": "ZF1",
                                    "2": "1",
                                    "3": "5",
                                    "4": "2002-01-02T11:58:00",
                                    "5": "2002-01-02T13:32:00",
                                    "6": "EI",
                                    "7": "CASH",
                                    "8": "480.00",
                                    "9": "0.00",
                                    "10": "480.00",
                                    "11": "31.40",
                                    "12": "False",
                                    "13": "dbo"
                                }
                            ]
                        },
                        "text/html": "<table><tr><th>orderid</th><th>customerid</th><th>noguest</th><th>tableno</th><th>intime</th><th>outtime</th><th>dinetypeid</th><th>paymentid</th><th>total</th><th>discount</th><th>netpay</th><th>vat</th><th>isposted</th><th>username</th></tr><tr><td>1</td><td>PH1</td><td>4</td><td>5</td><td>2002-01-01T10:51:00</td><td>2002-01-01T12:00:00</td><td>EI</td><td>CASH</td><td>1300.00</td><td>187.50</td><td>1112.50</td><td>72.78</td><td>False</td><td>dbo</td></tr><tr><td>2</td><td>ZF1</td><td>1</td><td>3</td><td>2002-01-01T11:35:00</td><td>2002-01-01T12:42:00</td><td>EI</td><td>CASH</td><td>675.00</td><td>0.00</td><td>675.00</td><td>44.16</td><td>False</td><td>dbo</td></tr><tr><td>3</td><td>ZF1</td><td>2</td><td>1</td><td>2002-01-01T12:14:00</td><td>2002-01-01T14:33:00</td><td>EI</td><td>CHK</td><td>520.00</td><td>0.00</td><td>520.00</td><td>34.02</td><td>False</td><td>dbo</td></tr><tr><td>4</td><td>ZF1</td><td>3</td><td>5</td><td>2002-01-01T18:59:00</td><td>2002-01-01T19:58:00</td><td>EI</td><td>MC</td><td>490.00</td><td>19.50</td><td>470.50</td><td>30.78</td><td>False</td><td>dbo</td></tr><tr><td>5</td><td>ZF1</td><td>1</td><td>5</td><td>2002-01-02T11:58:00</td><td>2002-01-02T13:32:00</td><td>EI</td><td>CASH</td><td>480.00</td><td>0.00</td><td>480.00</td><td>31.40</td><td>False</td><td>dbo</td></tr></table>"
                    },
                    "metadata": {}
                }
            ],
            "execution_count": 4
        },
        {
            "cell_type": "code",
            "source": [
                "select sum(total), avg(total), min(total), max(total), count(total), sum(total)/count(total) from orderhdr"
            ],
            "metadata": {
                "azdata_cell_guid": "84f45be9-3e41-4e60-8539-0dd4785738d5"
            },
            "outputs": [
                {
                    "output_type": "display_data",
                    "data": {
                        "text/html": "(1 row(s) affected)"
                    },
                    "metadata": {}
                },
                {
                    "output_type": "display_data",
                    "data": {
                        "text/html": "Total execution time: 00:00:00.013"
                    },
                    "metadata": {}
                },
                {
                    "output_type": "execute_result",
                    "execution_count": 7,
                    "data": {
                        "application/vnd.dataresource+json": {
                            "schema": {
                                "fields": [
                                    {
                                        "name": "sum"
                                    },
                                    {
                                        "name": "avg"
                                    },
                                    {
                                        "name": "min"
                                    },
                                    {
                                        "name": "max"
                                    },
                                    {
                                        "name": "count"
                                    },
                                    {
                                        "name": "Column6"
                                    }
                                ]
                            },
                            "data": [
                                {
                                    "0": "2835540.00",
                                    "1": "567.1080000000000000",
                                    "2": "10.00",
                                    "3": "3035.00",
                                    "4": "5000",
                                    "5": "567.1080000000000000"
                                }
                            ]
                        },
                        "text/html": "<table><tr><th>sum</th><th>avg</th><th>min</th><th>max</th><th>count</th><th>Column6</th></tr><tr><td>2835540.00</td><td>567.1080000000000000</td><td>10.00</td><td>3035.00</td><td>5000</td><td>567.1080000000000000</td></tr></table>"
                    },
                    "metadata": {}
                }
            ],
            "execution_count": 7
        },
        {
            "cell_type": "code",
            "source": [
                "select orderid, intime, outtime, outtime-intime from orderhdr limit 5;"
            ],
            "metadata": {
                "azdata_cell_guid": "1d2a27e0-6a0a-4255-a45d-4d516b770a52"
            },
            "outputs": [
                {
                    "output_type": "display_data",
                    "data": {
                        "text/html": "(5 row(s) affected)"
                    },
                    "metadata": {}
                },
                {
                    "output_type": "display_data",
                    "data": {
                        "text/html": "Total execution time: 00:00:00.011"
                    },
                    "metadata": {}
                },
                {
                    "output_type": "execute_result",
                    "execution_count": 12,
                    "data": {
                        "application/vnd.dataresource+json": {
                            "schema": {
                                "fields": [
                                    {
                                        "name": "orderid"
                                    },
                                    {
                                        "name": "intime"
                                    },
                                    {
                                        "name": "outtime"
                                    },
                                    {
                                        "name": "Column4"
                                    }
                                ]
                            },
                            "data": [
                                {
                                    "0": "1",
                                    "1": "2002-01-01T10:51:00",
                                    "2": "2002-01-01T12:00:00",
                                    "3": "1:09:00"
                                },
                                {
                                    "0": "2",
                                    "1": "2002-01-01T11:35:00",
                                    "2": "2002-01-01T12:42:00",
                                    "3": "1:07:00"
                                },
                                {
                                    "0": "3",
                                    "1": "2002-01-01T12:14:00",
                                    "2": "2002-01-01T14:33:00",
                                    "3": "2:19:00"
                                },
                                {
                                    "0": "4",
                                    "1": "2002-01-01T18:59:00",
                                    "2": "2002-01-01T19:58:00",
                                    "3": "0:59:00"
                                },
                                {
                                    "0": "5",
                                    "1": "2002-01-02T11:58:00",
                                    "2": "2002-01-02T13:32:00",
                                    "3": "1:34:00"
                                }
                            ]
                        },
                        "text/html": "<table><tr><th>orderid</th><th>intime</th><th>outtime</th><th>Column4</th></tr><tr><td>1</td><td>2002-01-01T10:51:00</td><td>2002-01-01T12:00:00</td><td>1:09:00</td></tr><tr><td>2</td><td>2002-01-01T11:35:00</td><td>2002-01-01T12:42:00</td><td>1:07:00</td></tr><tr><td>3</td><td>2002-01-01T12:14:00</td><td>2002-01-01T14:33:00</td><td>2:19:00</td></tr><tr><td>4</td><td>2002-01-01T18:59:00</td><td>2002-01-01T19:58:00</td><td>0:59:00</td></tr><tr><td>5</td><td>2002-01-02T11:58:00</td><td>2002-01-02T13:32:00</td><td>1:34:00</td></tr></table>"
                    },
                    "metadata": {}
                }
            ],
            "execution_count": 12
        },
        {
            "cell_type": "code",
            "source": [
                "select orderid, intime, outtime, avg(outtime-intime) from orderhdr limit 5;"
            ],
            "metadata": {
                "azdata_cell_guid": "f5fb1eef-d550-4f44-886c-fc014336fa9c"
            },
            "outputs": [
                {
                    "output_type": "error",
                    "ename": "",
                    "evalue": "column \"orderhdr.orderid\" must appear in the GROUP BY clause or be used in an aggregate function",
                    "traceback": []
                },
                {
                    "output_type": "display_data",
                    "data": {
                        "text/html": "Total execution time: 00:00:00.002"
                    },
                    "metadata": {}
                }
            ],
            "execution_count": 14
        },
        {
            "cell_type": "code",
            "source": [
                "select avg(outtime-intime) from orderhdr;"
            ],
            "metadata": {
                "azdata_cell_guid": "d58dd45f-4d1c-4bd4-877f-1633e97cc305"
            },
            "outputs": [
                {
                    "output_type": "display_data",
                    "data": {
                        "text/html": "(1 row(s) affected)"
                    },
                    "metadata": {}
                },
                {
                    "output_type": "display_data",
                    "data": {
                        "text/html": "Total execution time: 00:00:00.025"
                    },
                    "metadata": {}
                },
                {
                    "output_type": "execute_result",
                    "execution_count": 13,
                    "data": {
                        "application/vnd.dataresource+json": {
                            "schema": {
                                "fields": [
                                    {
                                        "name": "avg"
                                    }
                                ]
                            },
                            "data": [
                                {
                                    "0": "1:23:27.552000"
                                }
                            ]
                        },
                        "text/html": "<table><tr><th>avg</th></tr><tr><td>1:23:27.552000</td></tr></table>"
                    },
                    "metadata": {}
                }
            ],
            "execution_count": 13
        },
        {
            "cell_type": "code",
            "source": [
                "select age('2016-08-24'::date) -- casting 'date-string'::date"
            ],
            "metadata": {
                "azdata_cell_guid": "b9750a90-159d-440c-82b6-ef21ee6dc7d2"
            },
            "outputs": [
                {
                    "output_type": "display_data",
                    "data": {
                        "text/html": "(1 row(s) affected)"
                    },
                    "metadata": {}
                },
                {
                    "output_type": "display_data",
                    "data": {
                        "text/html": "Total execution time: 00:00:00.027"
                    },
                    "metadata": {}
                },
                {
                    "output_type": "execute_result",
                    "execution_count": 27,
                    "data": {
                        "application/vnd.dataresource+json": {
                            "schema": {
                                "fields": [
                                    {
                                        "name": "age"
                                    }
                                ]
                            },
                            "data": [
                                {
                                    "0": "1826 days, 0:00:00"
                                }
                            ]
                        },
                        "text/html": "<table><tr><th>age</th></tr><tr><td>1826 days, 0:00:00</td></tr></table>"
                    },
                    "metadata": {}
                }
            ],
            "execution_count": 27
        },
        {
            "cell_type": "code",
            "source": [
                "select '2021-08-25'::date - '2016-08-24'::date"
            ],
            "metadata": {
                "azdata_cell_guid": "98161d89-2349-41e5-9391-02aec934a4f2"
            },
            "outputs": [
                {
                    "output_type": "display_data",
                    "data": {
                        "text/html": "(1 row(s) affected)"
                    },
                    "metadata": {}
                },
                {
                    "output_type": "display_data",
                    "data": {
                        "text/html": "Total execution time: 00:00:00.023"
                    },
                    "metadata": {}
                },
                {
                    "output_type": "execute_result",
                    "execution_count": 28,
                    "data": {
                        "application/vnd.dataresource+json": {
                            "schema": {
                                "fields": [
                                    {
                                        "name": "Column1"
                                    }
                                ]
                            },
                            "data": [
                                {
                                    "0": "1827"
                                }
                            ]
                        },
                        "text/html": "<table><tr><th>Column1</th></tr><tr><td>1827</td></tr></table>"
                    },
                    "metadata": {}
                }
            ],
            "execution_count": 28
        },
        {
            "cell_type": "code",
            "source": [
                "select '2021-08-25 11:00'::timestamp - '1995-08-24 09:00'::timestamp"
            ],
            "metadata": {
                "azdata_cell_guid": "62814c24-2298-4489-aed1-9a1e601e741c"
            },
            "outputs": [
                {
                    "output_type": "display_data",
                    "data": {
                        "text/html": "(1 row(s) affected)"
                    },
                    "metadata": {}
                },
                {
                    "output_type": "display_data",
                    "data": {
                        "text/html": "Total execution time: 00:00:00.017"
                    },
                    "metadata": {}
                },
                {
                    "output_type": "execute_result",
                    "execution_count": 24,
                    "data": {
                        "application/vnd.dataresource+json": {
                            "schema": {
                                "fields": [
                                    {
                                        "name": "Column1"
                                    }
                                ]
                            },
                            "data": [
                                {
                                    "0": "9498 days, 2:00:00"
                                }
                            ]
                        },
                        "text/html": "<table><tr><th>Column1</th></tr><tr><td>9498 days, 2:00:00</td></tr></table>"
                    },
                    "metadata": {}
                }
            ],
            "execution_count": 24
        },
        {
            "cell_type": "code",
            "source": [
                "SELECT * FROM orderhdr  order by  orderid desc limit 5"
            ],
            "metadata": {
                "azdata_cell_guid": "f4904336-ab96-43ac-98fb-1ace926a96df"
            },
            "outputs": [
                {
                    "output_type": "display_data",
                    "data": {
                        "text/html": "(5 row(s) affected)"
                    },
                    "metadata": {}
                },
                {
                    "output_type": "display_data",
                    "data": {
                        "text/html": "Total execution time: 00:00:00.020"
                    },
                    "metadata": {}
                },
                {
                    "output_type": "execute_result",
                    "execution_count": 19,
                    "data": {
                        "application/vnd.dataresource+json": {
                            "schema": {
                                "fields": [
                                    {
                                        "name": "orderid"
                                    },
                                    {
                                        "name": "customerid"
                                    },
                                    {
                                        "name": "noguest"
                                    },
                                    {
                                        "name": "tableno"
                                    },
                                    {
                                        "name": "intime"
                                    },
                                    {
                                        "name": "outtime"
                                    },
                                    {
                                        "name": "dinetypeid"
                                    },
                                    {
                                        "name": "paymentid"
                                    },
                                    {
                                        "name": "total"
                                    },
                                    {
                                        "name": "discount"
                                    },
                                    {
                                        "name": "netpay"
                                    },
                                    {
                                        "name": "vat"
                                    },
                                    {
                                        "name": "isposted"
                                    },
                                    {
                                        "name": "username"
                                    }
                                ]
                            },
                            "data": [
                                {
                                    "0": "5000",
                                    "1": "ZM1",
                                    "2": "1",
                                    "3": "0",
                                    "4": "2004-01-03T19:46:00",
                                    "5": "2004-01-03T20:16:00",
                                    "6": "TG",
                                    "7": "CHK",
                                    "8": "940.00",
                                    "9": "0.00",
                                    "10": "940.00",
                                    "11": "61.50",
                                    "12": "False",
                                    "13": "dbo"
                                },
                                {
                                    "0": "4999",
                                    "1": "ZM1",
                                    "2": "2",
                                    "3": "7",
                                    "4": "2004-01-03T12:07:00",
                                    "5": "2004-01-03T13:36:00",
                                    "6": "EI",
                                    "7": "MC",
                                    "8": "130.00",
                                    "9": "4.00",
                                    "10": "126.00",
                                    "11": "8.24",
                                    "12": "False",
                                    "13": "dbo"
                                },
                                {
                                    "0": "4998",
                                    "1": "ZF1",
                                    "2": "5",
                                    "3": "7",
                                    "4": "2004-01-03T12:07:00",
                                    "5": "2004-01-03T14:25:00",
                                    "6": "EI",
                                    "7": "CASH",
                                    "8": "1165.00",
                                    "9": "152.25",
                                    "10": "1012.75",
                                    "11": "66.25",
                                    "12": "False",
                                    "13": "dbo"
                                },
                                {
                                    "0": "4997",
                                    "1": "PJ1",
                                    "2": "2",
                                    "3": "5",
                                    "4": "2004-01-02T19:57:00",
                                    "5": "2004-01-02T20:27:00",
                                    "6": "EI",
                                    "7": "CHK",
                                    "8": "410.00",
                                    "9": "0.00",
                                    "10": "410.00",
                                    "11": "26.82",
                                    "12": "False",
                                    "13": "dbo"
                                },
                                {
                                    "0": "4996",
                                    "1": "ZM1",
                                    "2": "2",
                                    "3": "5",
                                    "4": "2003-12-31T19:59:00",
                                    "5": "2003-12-31T20:55:00",
                                    "6": "EI",
                                    "7": "MC",
                                    "8": "920.00",
                                    "9": "43.50",
                                    "10": "876.50",
                                    "11": "57.34",
                                    "12": "False",
                                    "13": "dbo"
                                }
                            ]
                        },
                        "text/html": "<table><tr><th>orderid</th><th>customerid</th><th>noguest</th><th>tableno</th><th>intime</th><th>outtime</th><th>dinetypeid</th><th>paymentid</th><th>total</th><th>discount</th><th>netpay</th><th>vat</th><th>isposted</th><th>username</th></tr><tr><td>5000</td><td>ZM1</td><td>1</td><td>0</td><td>2004-01-03T19:46:00</td><td>2004-01-03T20:16:00</td><td>TG</td><td>CHK</td><td>940.00</td><td>0.00</td><td>940.00</td><td>61.50</td><td>False</td><td>dbo</td></tr><tr><td>4999</td><td>ZM1</td><td>2</td><td>7</td><td>2004-01-03T12:07:00</td><td>2004-01-03T13:36:00</td><td>EI</td><td>MC</td><td>130.00</td><td>4.00</td><td>126.00</td><td>8.24</td><td>False</td><td>dbo</td></tr><tr><td>4998</td><td>ZF1</td><td>5</td><td>7</td><td>2004-01-03T12:07:00</td><td>2004-01-03T14:25:00</td><td>EI</td><td>CASH</td><td>1165.00</td><td>152.25</td><td>1012.75</td><td>66.25</td><td>False</td><td>dbo</td></tr><tr><td>4997</td><td>PJ1</td><td>2</td><td>5</td><td>2004-01-02T19:57:00</td><td>2004-01-02T20:27:00</td><td>EI</td><td>CHK</td><td>410.00</td><td>0.00</td><td>410.00</td><td>26.82</td><td>False</td><td>dbo</td></tr><tr><td>4996</td><td>ZM1</td><td>2</td><td>5</td><td>2003-12-31T19:59:00</td><td>2003-12-31T20:55:00</td><td>EI</td><td>MC</td><td>920.00</td><td>43.50</td><td>876.50</td><td>57.34</td><td>False</td><td>dbo</td></tr></table>"
                    },
                    "metadata": {}
                }
            ],
            "execution_count": 19
        },
        {
            "cell_type": "code",
            "source": [
                "SELECT avg(total)/count(total) from orderhdr"
            ],
            "metadata": {
                "azdata_cell_guid": "3e3c86a7-f524-4276-a31a-e72dc3ca5192"
            },
            "outputs": [
                {
                    "output_type": "display_data",
                    "data": {
                        "text/html": "(1 row(s) affected)"
                    },
                    "metadata": {}
                },
                {
                    "output_type": "display_data",
                    "data": {
                        "text/html": "Total execution time: 00:00:00.108"
                    },
                    "metadata": {}
                },
                {
                    "output_type": "execute_result",
                    "execution_count": 29,
                    "data": {
                        "application/vnd.dataresource+json": {
                            "schema": {
                                "fields": [
                                    {
                                        "name": "Column1"
                                    }
                                ]
                            },
                            "data": [
                                {
                                    "0": "0.11342160000000000000"
                                }
                            ]
                        },
                        "text/html": "<table><tr><th>Column1</th></tr><tr><td>0.11342160000000000000</td></tr></table>"
                    },
                    "metadata": {}
                }
            ],
            "execution_count": 29
        },
        {
            "cell_type": "code",
            "source": [
                "select sum(total)/sum(noguest) from orderhdr"
            ],
            "metadata": {
                "azdata_cell_guid": "31702ccb-6442-4c6f-a771-ff3decfd3471"
            },
            "outputs": [
                {
                    "output_type": "display_data",
                    "data": {
                        "text/html": "(1 row(s) affected)"
                    },
                    "metadata": {}
                },
                {
                    "output_type": "display_data",
                    "data": {
                        "text/html": "Total execution time: 00:00:00.174"
                    },
                    "metadata": {}
                },
                {
                    "output_type": "execute_result",
                    "execution_count": 30,
                    "data": {
                        "application/vnd.dataresource+json": {
                            "schema": {
                                "fields": [
                                    {
                                        "name": "Column1"
                                    }
                                ]
                            },
                            "data": [
                                {
                                    "0": "204.0103604575868768"
                                }
                            ]
                        },
                        "text/html": "<table><tr><th>Column1</th></tr><tr><td>204.0103604575868768</td></tr></table>"
                    },
                    "metadata": {}
                }
            ],
            "execution_count": 30
        },
        {
            "cell_type": "code",
            "source": [
                "select noguest, count(noguest)\n",
                "    from orderhdr\n",
                "    GROUP BY noguest -- dimension\n",
                "    order by noguest"
            ],
            "metadata": {
                "azdata_cell_guid": "2fd96c56-fcb8-4e9f-a7a4-6deebb65f28a"
            },
            "outputs": [
                {
                    "output_type": "display_data",
                    "data": {
                        "text/html": "(9 row(s) affected)"
                    },
                    "metadata": {}
                },
                {
                    "output_type": "display_data",
                    "data": {
                        "text/html": "Total execution time: 00:00:00.014"
                    },
                    "metadata": {}
                },
                {
                    "output_type": "execute_result",
                    "execution_count": 37,
                    "data": {
                        "application/vnd.dataresource+json": {
                            "schema": {
                                "fields": [
                                    {
                                        "name": "noguest"
                                    },
                                    {
                                        "name": "count"
                                    }
                                ]
                            },
                            "data": [
                                {
                                    "0": "1",
                                    "1": "996"
                                },
                                {
                                    "0": "2",
                                    "1": "1148"
                                },
                                {
                                    "0": "3",
                                    "1": "1492"
                                },
                                {
                                    "0": "4",
                                    "1": "897"
                                },
                                {
                                    "0": "5",
                                    "1": "302"
                                },
                                {
                                    "0": "6",
                                    "1": "141"
                                },
                                {
                                    "0": "7",
                                    "1": "17"
                                },
                                {
                                    "0": "8",
                                    "1": "1"
                                },
                                {
                                    "0": "10",
                                    "1": "6"
                                }
                            ]
                        },
                        "text/html": "<table><tr><th>noguest</th><th>count</th></tr><tr><td>1</td><td>996</td></tr><tr><td>2</td><td>1148</td></tr><tr><td>3</td><td>1492</td></tr><tr><td>4</td><td>897</td></tr><tr><td>5</td><td>302</td></tr><tr><td>6</td><td>141</td></tr><tr><td>7</td><td>17</td></tr><tr><td>8</td><td>1</td></tr><tr><td>10</td><td>6</td></tr></table>"
                    },
                    "metadata": {}
                }
            ],
            "execution_count": 37
        },
        {
            "cell_type": "code",
            "source": [
                "select avg(noguest) from orderhdr -- measure"
            ],
            "metadata": {
                "azdata_cell_guid": "c87d9131-9dec-40e8-a640-da47e9412cfa"
            },
            "outputs": [
                {
                    "output_type": "display_data",
                    "data": {
                        "text/html": "(1 row(s) affected)"
                    },
                    "metadata": {}
                },
                {
                    "output_type": "display_data",
                    "data": {
                        "text/html": "Total execution time: 00:00:00.016"
                    },
                    "metadata": {}
                },
                {
                    "output_type": "execute_result",
                    "execution_count": 38,
                    "data": {
                        "application/vnd.dataresource+json": {
                            "schema": {
                                "fields": [
                                    {
                                        "name": "avg"
                                    }
                                ]
                            },
                            "data": [
                                {
                                    "0": "2.7798000000000000"
                                }
                            ]
                        },
                        "text/html": "<table><tr><th>avg</th></tr><tr><td>2.7798000000000000</td></tr></table>"
                    },
                    "metadata": {}
                }
            ],
            "execution_count": 38
        },
        {
            "cell_type": "code",
            "source": [
                "SELECT paymentid, sum(total) \n",
                "    from orderhdr \n",
                "    GROUP BY paymentid\n",
                "    order by sum(total) desc"
            ],
            "metadata": {
                "azdata_cell_guid": "90088ece-6c51-4684-8ec6-4ba89ccc1b15"
            },
            "outputs": [
                {
                    "output_type": "display_data",
                    "data": {
                        "text/html": "(5 row(s) affected)"
                    },
                    "metadata": {}
                },
                {
                    "output_type": "display_data",
                    "data": {
                        "text/html": "Total execution time: 00:00:00.032"
                    },
                    "metadata": {}
                },
                {
                    "output_type": "execute_result",
                    "execution_count": 34,
                    "data": {
                        "application/vnd.dataresource+json": {
                            "schema": {
                                "fields": [
                                    {
                                        "name": "paymentid"
                                    },
                                    {
                                        "name": "sum"
                                    }
                                ]
                            },
                            "data": [
                                {
                                    "0": "CASH",
                                    "1": "1399905.00"
                                },
                                {
                                    "0": "MC",
                                    "1": "727620.00"
                                },
                                {
                                    "0": "CHK",
                                    "1": "314135.00"
                                },
                                {
                                    "0": "VISA",
                                    "1": "267705.00"
                                },
                                {
                                    "0": "AMEX",
                                    "1": "126175.00"
                                }
                            ]
                        },
                        "text/html": "<table><tr><th>paymentid</th><th>sum</th></tr><tr><td>CASH</td><td>1399905.00</td></tr><tr><td>MC</td><td>727620.00</td></tr><tr><td>CHK</td><td>314135.00</td></tr><tr><td>VISA</td><td>267705.00</td></tr><tr><td>AMEX</td><td>126175.00</td></tr></table>"
                    },
                    "metadata": {}
                }
            ],
            "execution_count": 34
        },
        {
            "cell_type": "code",
            "source": [
                "select * from \n",
                "    (select orderid, intime, outtime, outtime-intime \n",
                "        from orderhdr \n",
                "        order by orderid desc limit 5) \n",
                "    lastNrows_subquery order by orderid"
            ],
            "metadata": {
                "azdata_cell_guid": "060acf47-05cb-49fc-85a2-8fd7e313e38e"
            },
            "outputs": [
                {
                    "output_type": "display_data",
                    "data": {
                        "text/html": "(5 row(s) affected)"
                    },
                    "metadata": {}
                },
                {
                    "output_type": "display_data",
                    "data": {
                        "text/html": "Total execution time: 00:00:00.016"
                    },
                    "metadata": {}
                },
                {
                    "output_type": "execute_result",
                    "execution_count": 35,
                    "data": {
                        "application/vnd.dataresource+json": {
                            "schema": {
                                "fields": [
                                    {
                                        "name": "orderid"
                                    },
                                    {
                                        "name": "intime"
                                    },
                                    {
                                        "name": "outtime"
                                    },
                                    {
                                        "name": "Column4"
                                    }
                                ]
                            },
                            "data": [
                                {
                                    "0": "4996",
                                    "1": "2003-12-31T19:59:00",
                                    "2": "2003-12-31T20:55:00",
                                    "3": "0:56:00"
                                },
                                {
                                    "0": "4997",
                                    "1": "2004-01-02T19:57:00",
                                    "2": "2004-01-02T20:27:00",
                                    "3": "0:30:00"
                                },
                                {
                                    "0": "4998",
                                    "1": "2004-01-03T12:07:00",
                                    "2": "2004-01-03T14:25:00",
                                    "3": "2:18:00"
                                },
                                {
                                    "0": "4999",
                                    "1": "2004-01-03T12:07:00",
                                    "2": "2004-01-03T13:36:00",
                                    "3": "1:29:00"
                                },
                                {
                                    "0": "5000",
                                    "1": "2004-01-03T19:46:00",
                                    "2": "2004-01-03T20:16:00",
                                    "3": "0:30:00"
                                }
                            ]
                        },
                        "text/html": "<table><tr><th>orderid</th><th>intime</th><th>outtime</th><th>Column4</th></tr><tr><td>4996</td><td>2003-12-31T19:59:00</td><td>2003-12-31T20:55:00</td><td>0:56:00</td></tr><tr><td>4997</td><td>2004-01-02T19:57:00</td><td>2004-01-02T20:27:00</td><td>0:30:00</td></tr><tr><td>4998</td><td>2004-01-03T12:07:00</td><td>2004-01-03T14:25:00</td><td>2:18:00</td></tr><tr><td>4999</td><td>2004-01-03T12:07:00</td><td>2004-01-03T13:36:00</td><td>1:29:00</td></tr><tr><td>5000</td><td>2004-01-03T19:46:00</td><td>2004-01-03T20:16:00</td><td>0:30:00</td></tr></table>"
                    },
                    "metadata": {}
                }
            ],
            "execution_count": 35
        },
        {
            "cell_type": "code",
            "source": [
                "SELECT extract(year from intime)::int, sum(total) total -- alias\n",
                "    FROM orderhdr\n",
                "    GROUP BY extract(year from intime)\n",
                "    ORDER BY extract(year from intime) DESC"
            ],
            "metadata": {
                "azdata_cell_guid": "b668b7ba-f553-4e16-9c6d-f25d600b7f04"
            },
            "outputs": [
                {
                    "output_type": "display_data",
                    "data": {
                        "text/html": "(3 row(s) affected)"
                    },
                    "metadata": {}
                },
                {
                    "output_type": "display_data",
                    "data": {
                        "text/html": "Total execution time: 00:00:00.033"
                    },
                    "metadata": {}
                },
                {
                    "output_type": "execute_result",
                    "execution_count": 49,
                    "data": {
                        "application/vnd.dataresource+json": {
                            "schema": {
                                "fields": [
                                    {
                                        "name": "date_part"
                                    },
                                    {
                                        "name": "total"
                                    }
                                ]
                            },
                            "data": [
                                {
                                    "0": "2004",
                                    "1": "2645.00"
                                },
                                {
                                    "0": "2003",
                                    "1": "1313540.00"
                                },
                                {
                                    "0": "2002",
                                    "1": "1519355.00"
                                }
                            ]
                        },
                        "text/html": "<table><tr><th>date_part</th><th>total</th></tr><tr><td>2004</td><td>2645.00</td></tr><tr><td>2003</td><td>1313540.00</td></tr><tr><td>2002</td><td>1519355.00</td></tr></table>"
                    },
                    "metadata": {}
                }
            ],
            "execution_count": 49
        },
        {
            "cell_type": "code",
            "source": [
                "SELECT date_part('year', intime)::int \"year\", sum(total)\n",
                "    from orderhdr\n",
                "    GROUP BY date_part('year',intime)"
            ],
            "metadata": {
                "azdata_cell_guid": "0709b003-2958-4618-b241-cfd0a398ae16"
            },
            "outputs": [
                {
                    "output_type": "display_data",
                    "data": {
                        "text/html": "(3 row(s) affected)"
                    },
                    "metadata": {}
                },
                {
                    "output_type": "display_data",
                    "data": {
                        "text/html": "Total execution time: 00:00:00.017"
                    },
                    "metadata": {}
                },
                {
                    "output_type": "execute_result",
                    "execution_count": 50,
                    "data": {
                        "application/vnd.dataresource+json": {
                            "schema": {
                                "fields": [
                                    {
                                        "name": "year"
                                    },
                                    {
                                        "name": "sum"
                                    }
                                ]
                            },
                            "data": [
                                {
                                    "0": "2002",
                                    "1": "1519355.00"
                                },
                                {
                                    "0": "2003",
                                    "1": "1313540.00"
                                },
                                {
                                    "0": "2004",
                                    "1": "2645.00"
                                }
                            ]
                        },
                        "text/html": "<table><tr><th>year</th><th>sum</th></tr><tr><td>2002</td><td>1519355.00</td></tr><tr><td>2003</td><td>1313540.00</td></tr><tr><td>2004</td><td>2645.00</td></tr></table>"
                    },
                    "metadata": {}
                }
            ],
            "execution_count": 50
        },
        {
            "cell_type": "code",
            "source": [
                "SELECT date_part('year', intime)::int \"year\", \n",
                "    date_part('week', intime)::int \"week\", \n",
                "    sum(total)\n",
                "    from orderhdr\n",
                "    -- where date_part('year', intime) = 2002 and date_part('week', intime)>2\n",
                "    -- where date_part('year', intime) != 2002\n",
                "    GROUP BY date_part('year', intime)::int, date_part('week',intime)::int\n",
                "    having sum(total) > 400000\n",
                "    order by date_part('year',intime)::int, date_part('week',intime)::int"
            ],
            "metadata": {
                "azdata_cell_guid": "bed59267-18f1-4679-83b3-3d726f374aa3"
            },
            "outputs": [
                {
                    "output_type": "display_data",
                    "data": {
                        "text/html": "(1 row(s) affected)"
                    },
                    "metadata": {}
                },
                {
                    "output_type": "display_data",
                    "data": {
                        "text/html": "Total execution time: 00:00:00.021"
                    },
                    "metadata": {}
                },
                {
                    "output_type": "execute_result",
                    "execution_count": 70,
                    "data": {
                        "application/vnd.dataresource+json": {
                            "schema": {
                                "fields": [
                                    {
                                        "name": "year"
                                    },
                                    {
                                        "name": "quarter"
                                    },
                                    {
                                        "name": "sum"
                                    }
                                ]
                            },
                            "data": [
                                {
                                    "0": "2002",
                                    "1": "2",
                                    "2": "441655.00"
                                }
                            ]
                        },
                        "text/html": "<table><tr><th>year</th><th>quarter</th><th>sum</th></tr><tr><td>2002</td><td>2</td><td>441655.00</td></tr></table>"
                    },
                    "metadata": {}
                }
            ],
            "execution_count": 70
        },
        {
            "cell_type": "code",
            "source": [
                "select * from menu \n",
                "    where descr ilike '%chicken%' -- contains % any character [0,] i = case insensitive\n",
                "    -- where descrth like '%ไก่%' -- contains % any character [0,]"
            ],
            "metadata": {
                "azdata_cell_guid": "9f0f88b6-4db7-421f-82b0-6eaa9bf5682d"
            },
            "outputs": [
                {
                    "output_type": "display_data",
                    "data": {
                        "text/html": "(2 row(s) affected)"
                    },
                    "metadata": {}
                },
                {
                    "output_type": "display_data",
                    "data": {
                        "text/html": "Total execution time: 00:00:00.028"
                    },
                    "metadata": {}
                },
                {
                    "output_type": "execute_result",
                    "execution_count": 80,
                    "data": {
                        "application/vnd.dataresource+json": {
                            "schema": {
                                "fields": [
                                    {
                                        "name": "menuid"
                                    },
                                    {
                                        "name": "descr"
                                    },
                                    {
                                        "name": "descrth"
                                    },
                                    {
                                        "name": "sizeid"
                                    },
                                    {
                                        "name": "categoryid"
                                    },
                                    {
                                        "name": "isrecommended"
                                    },
                                    {
                                        "name": "isdiscontinued"
                                    },
                                    {
                                        "name": "price"
                                    },
                                    {
                                        "name": "cost"
                                    },
                                    {
                                        "name": "margin"
                                    },
                                    {
                                        "name": "username"
                                    },
                                    {
                                        "name": "firstintrodt"
                                    },
                                    {
                                        "name": "discontinueddt"
                                    }
                                ]
                            },
                            "data": [
                                {
                                    "0": "202M9",
                                    "1": "Green Curry with Chicken",
                                    "2": "แกงเขียวหวานไก่",
                                    "3": "M",
                                    "4": "DI",
                                    "5": "True",
                                    "6": "False",
                                    "7": "60",
                                    "8": "24",
                                    "9": "36.0",
                                    "10": "dbo",
                                    "11": "2002-01-01T00:00:00",
                                    "12": "NULL"
                                },
                                {
                                    "0": "205M5",
                                    "1": "Fried Chicken",
                                    "2": "ไก่ทอด",
                                    "3": "M",
                                    "4": "DI",
                                    "5": "False",
                                    "6": "False",
                                    "7": "70",
                                    "8": "28",
                                    "9": "42.0",
                                    "10": "dbo",
                                    "11": "2002-01-01T00:00:00",
                                    "12": "NULL"
                                }
                            ]
                        },
                        "text/html": "<table><tr><th>menuid</th><th>descr</th><th>descrth</th><th>sizeid</th><th>categoryid</th><th>isrecommended</th><th>isdiscontinued</th><th>price</th><th>cost</th><th>margin</th><th>username</th><th>firstintrodt</th><th>discontinueddt</th></tr><tr><td>202M9</td><td>Green Curry with Chicken</td><td>แกงเขียวหวานไก่</td><td>M</td><td>DI</td><td>True</td><td>False</td><td>60</td><td>24</td><td>36.0</td><td>dbo</td><td>2002-01-01T00:00:00</td><td>NULL</td></tr><tr><td>205M5</td><td>Fried Chicken</td><td>ไก่ทอด</td><td>M</td><td>DI</td><td>False</td><td>False</td><td>70</td><td>28</td><td>42.0</td><td>dbo</td><td>2002-01-01T00:00:00</td><td>NULL</td></tr></table>"
                    },
                    "metadata": {}
                }
            ],
            "execution_count": 80
        },
        {
            "cell_type": "code",
            "source": [
                "select * from orderhdr\n",
                "    where noguest = 2 and total between 1000 and 1200"
            ],
            "metadata": {
                "azdata_cell_guid": "bce5206f-bb41-438c-b795-ad488148f236"
            },
            "outputs": [
                {
                    "output_type": "display_data",
                    "data": {
                        "text/html": "(29 row(s) affected)"
                    },
                    "metadata": {}
                },
                {
                    "output_type": "display_data",
                    "data": {
                        "text/html": "Total execution time: 00:00:00.023"
                    },
                    "metadata": {}
                },
                {
                    "output_type": "execute_result",
                    "execution_count": 2,
                    "data": {
                        "application/vnd.dataresource+json": {
                            "schema": {
                                "fields": [
                                    {
                                        "name": "orderid"
                                    },
                                    {
                                        "name": "customerid"
                                    },
                                    {
                                        "name": "noguest"
                                    },
                                    {
                                        "name": "tableno"
                                    },
                                    {
                                        "name": "intime"
                                    },
                                    {
                                        "name": "outtime"
                                    },
                                    {
                                        "name": "dinetypeid"
                                    },
                                    {
                                        "name": "paymentid"
                                    },
                                    {
                                        "name": "total"
                                    },
                                    {
                                        "name": "discount"
                                    },
                                    {
                                        "name": "netpay"
                                    },
                                    {
                                        "name": "vat"
                                    },
                                    {
                                        "name": "isposted"
                                    },
                                    {
                                        "name": "username"
                                    }
                                ]
                            },
                            "data": [
                                {
                                    "0": "213",
                                    "1": "PH1",
                                    "2": "2",
                                    "3": "5",
                                    "4": "2002-01-31T18:57:00",
                                    "5": "2002-01-31T19:31:00",
                                    "6": "EI",
                                    "7": "AMEX",
                                    "8": "1020.00",
                                    "9": "0.00",
                                    "10": "1020.00",
                                    "11": "66.73",
                                    "12": "False",
                                    "13": "dbo"
                                },
                                {
                                    "0": "406",
                                    "1": "ZF1",
                                    "2": "2",
                                    "3": "4",
                                    "4": "2002-02-27T18:44:00",
                                    "5": "2002-02-27T20:48:00",
                                    "6": "EI",
                                    "7": "MC",
                                    "8": "1010.00",
                                    "9": "45.50",
                                    "10": "964.50",
                                    "11": "63.10",
                                    "12": "False",
                                    "13": "dbo"
                                },
                                {
                                    "0": "430",
                                    "1": "ZF1",
                                    "2": "2",
                                    "3": "5",
                                    "4": "2002-03-01T19:55:00",
                                    "5": "2002-03-01T22:03:00",
                                    "6": "EI",
                                    "7": "CASH",
                                    "8": "1090.00",
                                    "9": "0.00",
                                    "10": "1090.00",
                                    "11": "71.31",
                                    "12": "False",
                                    "13": "dbo"
                                },
                                {
                                    "0": "434",
                                    "1": "ZF1",
                                    "2": "2",
                                    "3": "5",
                                    "4": "2002-03-02T11:52:00",
                                    "5": "2002-03-02T14:03:00",
                                    "6": "EI",
                                    "7": "CASH",
                                    "8": "1010.00",
                                    "9": "0.00",
                                    "10": "1010.00",
                                    "11": "66.07",
                                    "12": "False",
                                    "13": "dbo"
                                },
                                {
                                    "0": "922",
                                    "1": "PJ1",
                                    "2": "2",
                                    "3": "3",
                                    "4": "2002-05-12T19:35:00",
                                    "5": "2002-05-12T21:11:00",
                                    "6": "EI",
                                    "7": "VISA",
                                    "8": "1040.00",
                                    "9": "0.00",
                                    "10": "1040.00",
                                    "11": "68.04",
                                    "12": "False",
                                    "13": "dbo"
                                },
                                {
                                    "0": "3163",
                                    "1": "ZF1",
                                    "2": "2",
                                    "3": "1",
                                    "4": "2003-03-29T20:18:00",
                                    "5": "2003-03-29T21:43:00",
                                    "6": "EI",
                                    "7": "VISA",
                                    "8": "1000.00",
                                    "9": "0.00",
                                    "10": "1000.00",
                                    "11": "65.42",
                                    "12": "False",
                                    "13": "dbo"
                                },
                                {
                                    "0": "3132",
                                    "1": "PJ1",
                                    "2": "2",
                                    "3": "1",
                                    "4": "2003-03-26T12:14:00",
                                    "5": "2003-03-26T13:25:00",
                                    "6": "EI",
                                    "7": "CASH",
                                    "8": "1020.00",
                                    "9": "0.00",
                                    "10": "1020.00",
                                    "11": "66.73",
                                    "12": "False",
                                    "13": "dbo"
                                },
                                {
                                    "0": "2987",
                                    "1": "ZF1",
                                    "2": "2",
                                    "3": "5",
                                    "4": "2003-03-02T19:55:00",
                                    "5": "2003-03-02T20:41:00",
                                    "6": "EI",
                                    "7": "CHK",
                                    "8": "1100.00",
                                    "9": "0.00",
                                    "10": "1100.00",
                                    "11": "71.96",
                                    "12": "False",
                                    "13": "dbo"
                                },
                                {
                                    "0": "1690",
                                    "1": "PJ1",
                                    "2": "2",
                                    "3": "5",
                                    "4": "2002-08-30T18:51:00",
                                    "5": "2002-08-30T20:29:00",
                                    "6": "EI",
                                    "7": "CASH",
                                    "8": "1030.00",
                                    "9": "0.00",
                                    "10": "1030.00",
                                    "11": "67.38",
                                    "12": "False",
                                    "13": "dbo"
                                },
                                {
                                    "0": "1170",
                                    "1": "PJ1",
                                    "2": "2",
                                    "3": "1",
                                    "4": "2002-06-16T19:01:00",
                                    "5": "2002-06-16T19:45:00",
                                    "6": "EI",
                                    "7": "CASH",
                                    "8": "1150.00",
                                    "9": "0.00",
                                    "10": "1150.00",
                                    "11": "75.23",
                                    "12": "False",
                                    "13": "dbo"
                                },
                                {
                                    "0": "4892",
                                    "1": "ZM1",
                                    "2": "2",
                                    "3": "4",
                                    "4": "2003-12-15T19:48:00",
                                    "5": "2003-12-15T20:54:00",
                                    "6": "EI",
                                    "7": "AMEX",
                                    "8": "1050.00",
                                    "9": "0.00",
                                    "10": "1050.00",
                                    "11": "68.69",
                                    "12": "False",
                                    "13": "dbo"
                                },
                                {
                                    "0": "1433",
                                    "1": "ZF1",
                                    "2": "2",
                                    "3": "2",
                                    "4": "2002-07-26T19:27:00",
                                    "5": "2002-07-26T20:36:00",
                                    "6": "EI",
                                    "7": "VISA",
                                    "8": "1035.00",
                                    "9": "0.00",
                                    "10": "1035.00",
                                    "11": "67.71",
                                    "12": "False",
                                    "13": "dbo"
                                },
                                {
                                    "0": "4991",
                                    "1": "PJ1",
                                    "2": "2",
                                    "3": "4",
                                    "4": "2003-12-30T11:46:00",
                                    "5": "2003-12-30T12:31:00",
                                    "6": "EI",
                                    "7": "CHK",
                                    "8": "1030.00",
                                    "9": "0.00",
                                    "10": "1030.00",
                                    "11": "67.38",
                                    "12": "False",
                                    "13": "dbo"
                                },
                                {
                                    "0": "1564",
                                    "1": "ZM1",
                                    "2": "2",
                                    "3": "7",
                                    "4": "2002-08-11T20:07:00",
                                    "5": "2002-08-11T22:03:00",
                                    "6": "EI",
                                    "7": "CASH",
                                    "8": "1050.00",
                                    "9": "0.00",
                                    "10": "1050.00",
                                    "11": "68.69",
                                    "12": "False",
                                    "13": "dbo"
                                },
                                {
                                    "0": "4233",
                                    "1": "ZF1",
                                    "2": "2",
                                    "3": "2",
                                    "4": "2003-09-07T20:23:00",
                                    "5": "2003-09-07T22:18:00",
                                    "6": "EI",
                                    "7": "CASH",
                                    "8": "1050.00",
                                    "9": "0.00",
                                    "10": "1050.00",
                                    "11": "68.69",
                                    "12": "False",
                                    "13": "dbo"
                                },
                                {
                                    "0": "1618",
                                    "1": "ZF1",
                                    "2": "2",
                                    "3": "3",
                                    "4": "2002-08-18T19:31:00",
                                    "5": "2002-08-18T21:55:00",
                                    "6": "EI",
                                    "7": "MC",
                                    "8": "1080.00",
                                    "9": "49.00",
                                    "10": "1031.00",
                                    "11": "67.45",
                                    "12": "False",
                                    "13": "dbo"
                                },
                                {
                                    "0": "4335",
                                    "1": "ZM1",
                                    "2": "2",
                                    "3": "1",
                                    "4": "2003-09-22T20:11:00",
                                    "5": "2003-09-22T21:45:00",
                                    "6": "EI",
                                    "7": "MC",
                                    "8": "1060.00",
                                    "9": "48.00",
                                    "10": "1012.00",
                                    "11": "66.21",
                                    "12": "False",
                                    "13": "dbo"
                                },
                                {
                                    "0": "4341",
                                    "1": "ZM1",
                                    "2": "2",
                                    "3": "5",
                                    "4": "2003-09-24T19:54:00",
                                    "5": "2003-09-24T20:49:00",
                                    "6": "EI",
                                    "7": "CASH",
                                    "8": "1030.00",
                                    "9": "0.00",
                                    "10": "1030.00",
                                    "11": "67.38",
                                    "12": "False",
                                    "13": "dbo"
                                },
                                {
                                    "0": "1481",
                                    "1": "RH1",
                                    "2": "2",
                                    "3": "5",
                                    "4": "2002-08-02T19:05:00",
                                    "5": "2002-08-02T21:14:00",
                                    "6": "EI",
                                    "7": "VISA",
                                    "8": "1020.00",
                                    "9": "0.00",
                                    "10": "1020.00",
                                    "11": "66.73",
                                    "12": "False",
                                    "13": "dbo"
                                },
                                {
                                    "0": "4159",
                                    "1": "ZF1",
                                    "2": "2",
                                    "3": "5",
                                    "4": "2003-08-29T18:56:00",
                                    "5": "2003-08-29T20:31:00",
                                    "6": "EI",
                                    "7": "CASH",
                                    "8": "1050.00",
                                    "9": "0.00",
                                    "10": "1050.00",
                                    "11": "68.69",
                                    "12": "False",
                                    "13": "dbo"
                                },
                                {
                                    "0": "1592",
                                    "1": "ZF1",
                                    "2": "2",
                                    "3": "5",
                                    "4": "2002-08-16T19:50:00",
                                    "5": "2002-08-16T20:53:00",
                                    "6": "EI",
                                    "7": "CASH",
                                    "8": "1075.00",
                                    "9": "0.00",
                                    "10": "1075.00",
                                    "11": "70.33",
                                    "12": "False",
                                    "13": "dbo"
                                },
                                {
                                    "0": "4261",
                                    "1": "PJ1",
                                    "2": "2",
                                    "3": "5",
                                    "4": "2003-09-12T11:59:00",
                                    "5": "2003-09-12T13:33:00",
                                    "6": "EI",
                                    "7": "VISA",
                                    "8": "1020.00",
                                    "9": "0.00",
                                    "10": "1020.00",
                                    "11": "66.73",
                                    "12": "False",
                                    "13": "dbo"
                                },
                                {
                                    "0": "2510",
                                    "1": "ZF1",
                                    "2": "2",
                                    "3": "2",
                                    "4": "2002-12-23T12:27:00",
                                    "5": "2002-12-23T13:19:00",
                                    "6": "EI",
                                    "7": "CASH",
                                    "8": "1115.00",
                                    "9": "0.00",
                                    "10": "1115.00",
                                    "11": "72.94",
                                    "12": "False",
                                    "13": "dbo"
                                },
                                {
                                    "0": "2789",
                                    "1": "PJ1",
                                    "2": "2",
                                    "3": "1",
                                    "4": "2003-02-01T20:10:00",
                                    "5": "2003-02-01T22:24:00",
                                    "6": "EI",
                                    "7": "MC",
                                    "8": "1030.00",
                                    "9": "46.50",
                                    "10": "983.50",
                                    "11": "64.34",
                                    "12": "False",
                                    "13": "dbo"
                                },
                                {
                                    "0": "2663",
                                    "1": "ZM1",
                                    "2": "2",
                                    "3": "5",
                                    "4": "2003-01-17T19:51:00",
                                    "5": "2003-01-17T20:28:00",
                                    "6": "EI",
                                    "7": "CASH",
                                    "8": "1000.00",
                                    "9": "0.00",
                                    "10": "1000.00",
                                    "11": "65.42",
                                    "12": "False",
                                    "13": "dbo"
                                },
                                {
                                    "0": "4682",
                                    "1": "PJ1",
                                    "2": "2",
                                    "3": "6",
                                    "4": "2003-11-19T11:06:00",
                                    "5": "2003-11-19T11:46:00",
                                    "6": "EI",
                                    "7": "CASH",
                                    "8": "1060.00",
                                    "9": "0.00",
                                    "10": "1060.00",
                                    "11": "69.35",
                                    "12": "False",
                                    "13": "dbo"
                                },
                                {
                                    "0": "3550",
                                    "1": "ZM1",
                                    "2": "2",
                                    "3": "2",
                                    "4": "2003-05-30T19:22:00",
                                    "5": "2003-05-30T21:13:00",
                                    "6": "EI",
                                    "7": "CASH",
                                    "8": "1040.00",
                                    "9": "0.00",
                                    "10": "1040.00",
                                    "11": "68.04",
                                    "12": "False",
                                    "13": "dbo"
                                },
                                {
                                    "0": "3637",
                                    "1": "ZF1",
                                    "2": "2",
                                    "3": "4",
                                    "4": "2003-06-13T10:45:00",
                                    "5": "2003-06-13T12:22:00",
                                    "6": "EI",
                                    "7": "MC",
                                    "8": "1000.00",
                                    "9": "45.00",
                                    "10": "955.00",
                                    "11": "62.48",
                                    "12": "False",
                                    "13": "dbo"
                                },
                                {
                                    "0": "3507",
                                    "1": "ZF1",
                                    "2": "2",
                                    "3": "4",
                                    "4": "2003-05-24T10:48:00",
                                    "5": "2003-05-24T12:51:00",
                                    "6": "EI",
                                    "7": "CASH",
                                    "8": "1130.00",
                                    "9": "0.00",
                                    "10": "1130.00",
                                    "11": "73.93",
                                    "12": "False",
                                    "13": "dbo"
                                }
                            ]
                        },
                        "text/html": "<table><tr><th>orderid</th><th>customerid</th><th>noguest</th><th>tableno</th><th>intime</th><th>outtime</th><th>dinetypeid</th><th>paymentid</th><th>total</th><th>discount</th><th>netpay</th><th>vat</th><th>isposted</th><th>username</th></tr><tr><td>213</td><td>PH1</td><td>2</td><td>5</td><td>2002-01-31T18:57:00</td><td>2002-01-31T19:31:00</td><td>EI</td><td>AMEX</td><td>1020.00</td><td>0.00</td><td>1020.00</td><td>66.73</td><td>False</td><td>dbo</td></tr><tr><td>406</td><td>ZF1</td><td>2</td><td>4</td><td>2002-02-27T18:44:00</td><td>2002-02-27T20:48:00</td><td>EI</td><td>MC</td><td>1010.00</td><td>45.50</td><td>964.50</td><td>63.10</td><td>False</td><td>dbo</td></tr><tr><td>430</td><td>ZF1</td><td>2</td><td>5</td><td>2002-03-01T19:55:00</td><td>2002-03-01T22:03:00</td><td>EI</td><td>CASH</td><td>1090.00</td><td>0.00</td><td>1090.00</td><td>71.31</td><td>False</td><td>dbo</td></tr><tr><td>434</td><td>ZF1</td><td>2</td><td>5</td><td>2002-03-02T11:52:00</td><td>2002-03-02T14:03:00</td><td>EI</td><td>CASH</td><td>1010.00</td><td>0.00</td><td>1010.00</td><td>66.07</td><td>False</td><td>dbo</td></tr><tr><td>922</td><td>PJ1</td><td>2</td><td>3</td><td>2002-05-12T19:35:00</td><td>2002-05-12T21:11:00</td><td>EI</td><td>VISA</td><td>1040.00</td><td>0.00</td><td>1040.00</td><td>68.04</td><td>False</td><td>dbo</td></tr><tr><td>3163</td><td>ZF1</td><td>2</td><td>1</td><td>2003-03-29T20:18:00</td><td>2003-03-29T21:43:00</td><td>EI</td><td>VISA</td><td>1000.00</td><td>0.00</td><td>1000.00</td><td>65.42</td><td>False</td><td>dbo</td></tr><tr><td>3132</td><td>PJ1</td><td>2</td><td>1</td><td>2003-03-26T12:14:00</td><td>2003-03-26T13:25:00</td><td>EI</td><td>CASH</td><td>1020.00</td><td>0.00</td><td>1020.00</td><td>66.73</td><td>False</td><td>dbo</td></tr><tr><td>2987</td><td>ZF1</td><td>2</td><td>5</td><td>2003-03-02T19:55:00</td><td>2003-03-02T20:41:00</td><td>EI</td><td>CHK</td><td>1100.00</td><td>0.00</td><td>1100.00</td><td>71.96</td><td>False</td><td>dbo</td></tr><tr><td>1690</td><td>PJ1</td><td>2</td><td>5</td><td>2002-08-30T18:51:00</td><td>2002-08-30T20:29:00</td><td>EI</td><td>CASH</td><td>1030.00</td><td>0.00</td><td>1030.00</td><td>67.38</td><td>False</td><td>dbo</td></tr><tr><td>1170</td><td>PJ1</td><td>2</td><td>1</td><td>2002-06-16T19:01:00</td><td>2002-06-16T19:45:00</td><td>EI</td><td>CASH</td><td>1150.00</td><td>0.00</td><td>1150.00</td><td>75.23</td><td>False</td><td>dbo</td></tr><tr><td>4892</td><td>ZM1</td><td>2</td><td>4</td><td>2003-12-15T19:48:00</td><td>2003-12-15T20:54:00</td><td>EI</td><td>AMEX</td><td>1050.00</td><td>0.00</td><td>1050.00</td><td>68.69</td><td>False</td><td>dbo</td></tr><tr><td>1433</td><td>ZF1</td><td>2</td><td>2</td><td>2002-07-26T19:27:00</td><td>2002-07-26T20:36:00</td><td>EI</td><td>VISA</td><td>1035.00</td><td>0.00</td><td>1035.00</td><td>67.71</td><td>False</td><td>dbo</td></tr><tr><td>4991</td><td>PJ1</td><td>2</td><td>4</td><td>2003-12-30T11:46:00</td><td>2003-12-30T12:31:00</td><td>EI</td><td>CHK</td><td>1030.00</td><td>0.00</td><td>1030.00</td><td>67.38</td><td>False</td><td>dbo</td></tr><tr><td>1564</td><td>ZM1</td><td>2</td><td>7</td><td>2002-08-11T20:07:00</td><td>2002-08-11T22:03:00</td><td>EI</td><td>CASH</td><td>1050.00</td><td>0.00</td><td>1050.00</td><td>68.69</td><td>False</td><td>dbo</td></tr><tr><td>4233</td><td>ZF1</td><td>2</td><td>2</td><td>2003-09-07T20:23:00</td><td>2003-09-07T22:18:00</td><td>EI</td><td>CASH</td><td>1050.00</td><td>0.00</td><td>1050.00</td><td>68.69</td><td>False</td><td>dbo</td></tr><tr><td>1618</td><td>ZF1</td><td>2</td><td>3</td><td>2002-08-18T19:31:00</td><td>2002-08-18T21:55:00</td><td>EI</td><td>MC</td><td>1080.00</td><td>49.00</td><td>1031.00</td><td>67.45</td><td>False</td><td>dbo</td></tr><tr><td>4335</td><td>ZM1</td><td>2</td><td>1</td><td>2003-09-22T20:11:00</td><td>2003-09-22T21:45:00</td><td>EI</td><td>MC</td><td>1060.00</td><td>48.00</td><td>1012.00</td><td>66.21</td><td>False</td><td>dbo</td></tr><tr><td>4341</td><td>ZM1</td><td>2</td><td>5</td><td>2003-09-24T19:54:00</td><td>2003-09-24T20:49:00</td><td>EI</td><td>CASH</td><td>1030.00</td><td>0.00</td><td>1030.00</td><td>67.38</td><td>False</td><td>dbo</td></tr><tr><td>1481</td><td>RH1</td><td>2</td><td>5</td><td>2002-08-02T19:05:00</td><td>2002-08-02T21:14:00</td><td>EI</td><td>VISA</td><td>1020.00</td><td>0.00</td><td>1020.00</td><td>66.73</td><td>False</td><td>dbo</td></tr><tr><td>4159</td><td>ZF1</td><td>2</td><td>5</td><td>2003-08-29T18:56:00</td><td>2003-08-29T20:31:00</td><td>EI</td><td>CASH</td><td>1050.00</td><td>0.00</td><td>1050.00</td><td>68.69</td><td>False</td><td>dbo</td></tr><tr><td>1592</td><td>ZF1</td><td>2</td><td>5</td><td>2002-08-16T19:50:00</td><td>2002-08-16T20:53:00</td><td>EI</td><td>CASH</td><td>1075.00</td><td>0.00</td><td>1075.00</td><td>70.33</td><td>False</td><td>dbo</td></tr><tr><td>4261</td><td>PJ1</td><td>2</td><td>5</td><td>2003-09-12T11:59:00</td><td>2003-09-12T13:33:00</td><td>EI</td><td>VISA</td><td>1020.00</td><td>0.00</td><td>1020.00</td><td>66.73</td><td>False</td><td>dbo</td></tr><tr><td>2510</td><td>ZF1</td><td>2</td><td>2</td><td>2002-12-23T12:27:00</td><td>2002-12-23T13:19:00</td><td>EI</td><td>CASH</td><td>1115.00</td><td>0.00</td><td>1115.00</td><td>72.94</td><td>False</td><td>dbo</td></tr><tr><td>2789</td><td>PJ1</td><td>2</td><td>1</td><td>2003-02-01T20:10:00</td><td>2003-02-01T22:24:00</td><td>EI</td><td>MC</td><td>1030.00</td><td>46.50</td><td>983.50</td><td>64.34</td><td>False</td><td>dbo</td></tr><tr><td>2663</td><td>ZM1</td><td>2</td><td>5</td><td>2003-01-17T19:51:00</td><td>2003-01-17T20:28:00</td><td>EI</td><td>CASH</td><td>1000.00</td><td>0.00</td><td>1000.00</td><td>65.42</td><td>False</td><td>dbo</td></tr><tr><td>4682</td><td>PJ1</td><td>2</td><td>6</td><td>2003-11-19T11:06:00</td><td>2003-11-19T11:46:00</td><td>EI</td><td>CASH</td><td>1060.00</td><td>0.00</td><td>1060.00</td><td>69.35</td><td>False</td><td>dbo</td></tr><tr><td>3550</td><td>ZM1</td><td>2</td><td>2</td><td>2003-05-30T19:22:00</td><td>2003-05-30T21:13:00</td><td>EI</td><td>CASH</td><td>1040.00</td><td>0.00</td><td>1040.00</td><td>68.04</td><td>False</td><td>dbo</td></tr><tr><td>3637</td><td>ZF1</td><td>2</td><td>4</td><td>2003-06-13T10:45:00</td><td>2003-06-13T12:22:00</td><td>EI</td><td>MC</td><td>1000.00</td><td>45.00</td><td>955.00</td><td>62.48</td><td>False</td><td>dbo</td></tr><tr><td>3507</td><td>ZF1</td><td>2</td><td>4</td><td>2003-05-24T10:48:00</td><td>2003-05-24T12:51:00</td><td>EI</td><td>CASH</td><td>1130.00</td><td>0.00</td><td>1130.00</td><td>73.93</td><td>False</td><td>dbo</td></tr></table>"
                    },
                    "metadata": {}
                }
            ],
            "execution_count": 2
        },
        {
            "cell_type": "code",
            "source": [
                "select * from menu\n",
                "    -- where categoryid = 'AP' or categoryid = 'BE' or categoryid = 'DI'\n",
                "    where categoryid not in('AP', 'BE', 'DI')"
            ],
            "metadata": {
                "azdata_cell_guid": "36197c3c-4c59-433f-a1a6-eb700ae9f79c"
            },
            "outputs": [
                {
                    "output_type": "display_data",
                    "data": {
                        "text/html": "(4 row(s) affected)"
                    },
                    "metadata": {}
                },
                {
                    "output_type": "display_data",
                    "data": {
                        "text/html": "Total execution time: 00:00:00.012"
                    },
                    "metadata": {}
                },
                {
                    "output_type": "execute_result",
                    "execution_count": 90,
                    "data": {
                        "application/vnd.dataresource+json": {
                            "schema": {
                                "fields": [
                                    {
                                        "name": "menuid"
                                    },
                                    {
                                        "name": "descr"
                                    },
                                    {
                                        "name": "descrth"
                                    },
                                    {
                                        "name": "sizeid"
                                    },
                                    {
                                        "name": "categoryid"
                                    },
                                    {
                                        "name": "isrecommended"
                                    },
                                    {
                                        "name": "isdiscontinued"
                                    },
                                    {
                                        "name": "price"
                                    },
                                    {
                                        "name": "cost"
                                    },
                                    {
                                        "name": "margin"
                                    },
                                    {
                                        "name": "username"
                                    },
                                    {
                                        "name": "firstintrodt"
                                    },
                                    {
                                        "name": "discontinueddt"
                                    }
                                ]
                            },
                            "data": [
                                {
                                    "0": "401S1",
                                    "1": "Coconut Ice Cream",
                                    "2": "ไอศครีมกะทิ",
                                    "3": "S",
                                    "4": "DE",
                                    "5": "False",
                                    "6": "False",
                                    "7": "15",
                                    "8": "5",
                                    "9": "9.75",
                                    "10": "dbo",
                                    "11": "2002-01-01T00:00:00",
                                    "12": "NULL"
                                },
                                {
                                    "0": "402S3",
                                    "1": "Sticky Rice with Mango",
                                    "2": "ข้าวเหนียวมะม่วง",
                                    "3": "S",
                                    "4": "DE",
                                    "5": "False",
                                    "6": "False",
                                    "7": "40",
                                    "8": "14",
                                    "9": "26.0",
                                    "10": "dbo",
                                    "11": "2002-01-01T00:00:00",
                                    "12": "NULL"
                                },
                                {
                                    "0": "901S1",
                                    "1": "Lunch Set",
                                    "2": "ชุดอาหารเที่ยง",
                                    "3": "S",
                                    "4": "SE",
                                    "5": "False",
                                    "6": "False",
                                    "7": "100",
                                    "8": "31",
                                    "9": "68.75",
                                    "10": "dbo",
                                    "11": "2002-01-01T00:00:00",
                                    "12": "NULL"
                                },
                                {
                                    "0": "902L6",
                                    "1": "Dinner Set",
                                    "2": "ชุดอาหารเย็น",
                                    "3": "L",
                                    "4": "SE",
                                    "5": "False",
                                    "6": "False",
                                    "7": "400",
                                    "8": "107",
                                    "9": "293.0",
                                    "10": "dbo",
                                    "11": "2002-01-01T00:00:00",
                                    "12": "NULL"
                                }
                            ]
                        },
                        "text/html": "<table><tr><th>menuid</th><th>descr</th><th>descrth</th><th>sizeid</th><th>categoryid</th><th>isrecommended</th><th>isdiscontinued</th><th>price</th><th>cost</th><th>margin</th><th>username</th><th>firstintrodt</th><th>discontinueddt</th></tr><tr><td>401S1</td><td>Coconut Ice Cream</td><td>ไอศครีมกะทิ</td><td>S</td><td>DE</td><td>False</td><td>False</td><td>15</td><td>5</td><td>9.75</td><td>dbo</td><td>2002-01-01T00:00:00</td><td>NULL</td></tr><tr><td>402S3</td><td>Sticky Rice with Mango</td><td>ข้าวเหนียวมะม่วง</td><td>S</td><td>DE</td><td>False</td><td>False</td><td>40</td><td>14</td><td>26.0</td><td>dbo</td><td>2002-01-01T00:00:00</td><td>NULL</td></tr><tr><td>901S1</td><td>Lunch Set</td><td>ชุดอาหารเที่ยง</td><td>S</td><td>SE</td><td>False</td><td>False</td><td>100</td><td>31</td><td>68.75</td><td>dbo</td><td>2002-01-01T00:00:00</td><td>NULL</td></tr><tr><td>902L6</td><td>Dinner Set</td><td>ชุดอาหารเย็น</td><td>L</td><td>SE</td><td>False</td><td>False</td><td>400</td><td>107</td><td>293.0</td><td>dbo</td><td>2002-01-01T00:00:00</td><td>NULL</td></tr></table>"
                    },
                    "metadata": {}
                }
            ],
            "execution_count": 90
        },
        {
            "cell_type": "code",
            "source": [
                "select distinct categoryid, sizeid from menu order by categoryid"
            ],
            "metadata": {
                "azdata_cell_guid": "6be60c13-08e8-4bd4-b6a9-0924e5a9e22c"
            },
            "outputs": [
                {
                    "output_type": "display_data",
                    "data": {
                        "text/html": "(9 row(s) affected)"
                    },
                    "metadata": {}
                },
                {
                    "output_type": "display_data",
                    "data": {
                        "text/html": "Total execution time: 00:00:00.024"
                    },
                    "metadata": {}
                },
                {
                    "output_type": "execute_result",
                    "metadata": {},
                    "execution_count": 11,
                    "data": {
                        "application/vnd.dataresource+json": {
                            "schema": {
                                "fields": [
                                    {
                                        "name": "categoryid"
                                    },
                                    {
                                        "name": "sizeid"
                                    }
                                ]
                            },
                            "data": [
                                {
                                    "0": "AP",
                                    "1": "S"
                                },
                                {
                                    "0": "BE",
                                    "1": "M"
                                },
                                {
                                    "0": "BE",
                                    "1": "S"
                                },
                                {
                                    "0": "DE",
                                    "1": "S"
                                },
                                {
                                    "0": "DI",
                                    "1": "L"
                                },
                                {
                                    "0": "DI",
                                    "1": "M"
                                },
                                {
                                    "0": "DI",
                                    "1": "S"
                                },
                                {
                                    "0": "SE",
                                    "1": "L"
                                },
                                {
                                    "0": "SE",
                                    "1": "S"
                                }
                            ]
                        },
                        "text/html": [
                            "<table>",
                            "<tr><th>categoryid</th><th>sizeid</th></tr>",
                            "<tr><td>AP</td><td>S</td></tr>",
                            "<tr><td>BE</td><td>M</td></tr>",
                            "<tr><td>BE</td><td>S</td></tr>",
                            "<tr><td>DE</td><td>S</td></tr>",
                            "<tr><td>DI</td><td>L</td></tr>",
                            "<tr><td>DI</td><td>M</td></tr>",
                            "<tr><td>DI</td><td>S</td></tr>",
                            "<tr><td>SE</td><td>L</td></tr>",
                            "<tr><td>SE</td><td>S</td></tr>",
                            "</table>"
                        ]
                    }
                }
            ],
            "execution_count": 11
        },
        {
            "cell_type": "code",
            "source": [
                "select categoryid from menu group by categoryid"
            ],
            "metadata": {
                "azdata_cell_guid": "5b27734a-35a5-4941-86c0-bc3b0c561583"
            },
            "outputs": [
                {
                    "output_type": "display_data",
                    "data": {
                        "text/html": "(5 row(s) affected)"
                    },
                    "metadata": {}
                },
                {
                    "output_type": "display_data",
                    "data": {
                        "text/html": "Total execution time: 00:00:00.013"
                    },
                    "metadata": {}
                },
                {
                    "output_type": "execute_result",
                    "metadata": {},
                    "execution_count": 12,
                    "data": {
                        "application/vnd.dataresource+json": {
                            "schema": {
                                "fields": [
                                    {
                                        "name": "categoryid"
                                    }
                                ]
                            },
                            "data": [
                                {
                                    "0": "DI"
                                },
                                {
                                    "0": "DE"
                                },
                                {
                                    "0": "AP"
                                },
                                {
                                    "0": "BE"
                                },
                                {
                                    "0": "SE"
                                }
                            ]
                        },
                        "text/html": [
                            "<table>",
                            "<tr><th>categoryid</th></tr>",
                            "<tr><td>DI</td></tr>",
                            "<tr><td>DE</td></tr>",
                            "<tr><td>AP</td></tr>",
                            "<tr><td>BE</td></tr>",
                            "<tr><td>SE</td></tr>",
                            "</table>"
                        ]
                    }
                }
            ],
            "execution_count": 12
        },
        {
            "cell_type": "code",
            "source": [
                "select * from customer"
            ],
            "metadata": {
                "azdata_cell_guid": "931a2313-0d0d-4977-a50d-89a67ef5fc6b"
            },
            "outputs": [
                {
                    "output_type": "display_data",
                    "data": {
                        "text/html": "(8 row(s) affected)"
                    },
                    "metadata": {}
                },
                {
                    "output_type": "display_data",
                    "data": {
                        "text/html": "Total execution time: 00:00:00.041"
                    },
                    "metadata": {}
                },
                {
                    "output_type": "execute_result",
                    "metadata": {},
                    "execution_count": 13,
                    "data": {
                        "application/vnd.dataresource+json": {
                            "schema": {
                                "fields": [
                                    {
                                        "name": "customerid"
                                    },
                                    {
                                        "name": "fname"
                                    },
                                    {
                                        "name": "lname"
                                    },
                                    {
                                        "name": "gender"
                                    },
                                    {
                                        "name": "address"
                                    },
                                    {
                                        "name": "city"
                                    },
                                    {
                                        "name": "province"
                                    },
                                    {
                                        "name": "countryid"
                                    },
                                    {
                                        "name": "zipcode"
                                    },
                                    {
                                        "name": "tel"
                                    },
                                    {
                                        "name": "firstvisitdt"
                                    }
                                ]
                            },
                            "data": [
                                {
                                    "0": "AC1",
                                    "1": "Amy",
                                    "2": "Crawford",
                                    "3": "F",
                                    "4": "NULL",
                                    "5": "NULL",
                                    "6": "NULL",
                                    "7": "UK",
                                    "8": "NULL",
                                    "9": "(621) 789-0934",
                                    "10": "2002-01-07T12:07:00"
                                },
                                {
                                    "0": "CS1",
                                    "1": "Colleen",
                                    "2": "Smith",
                                    "3": "F",
                                    "4": "478 Euclid Ave.",
                                    "5": "Cleveland",
                                    "6": "OH",
                                    "7": "US",
                                    "8": "44123",
                                    "9": "(216) 712-1234",
                                    "10": "2002-01-08T19:17:00"
                                },
                                {
                                    "0": "PJ1",
                                    "1": "Pete",
                                    "2": "Johnson",
                                    "3": "M",
                                    "4": "2054 Fairview Ave.",
                                    "5": "Cleveland",
                                    "6": "OH",
                                    "7": "US",
                                    "8": "44106",
                                    "9": "NULL",
                                    "10": "2002-01-04T11:55:00"
                                },
                                {
                                    "0": "PH1",
                                    "1": "Paul",
                                    "2": "Hank",
                                    "3": "M",
                                    "4": "NULL",
                                    "5": "NULL",
                                    "6": "NULL",
                                    "7": "UK",
                                    "8": "NULL",
                                    "9": "(208) 321-3122",
                                    "10": "2002-01-01T10:51:00"
                                },
                                {
                                    "0": "RH1",
                                    "1": "Richard",
                                    "2": "Hank",
                                    "3": "M",
                                    "4": "123 West 23rd",
                                    "5": "Seattle",
                                    "6": "WA",
                                    "7": "US",
                                    "8": "12340",
                                    "9": "NULL",
                                    "10": "2002-01-04T18:37:00"
                                },
                                {
                                    "0": "RH2",
                                    "1": "Rick",
                                    "2": "Holme",
                                    "3": "M",
                                    "4": "NULL",
                                    "5": "NULL",
                                    "6": "NULL",
                                    "7": "TH",
                                    "8": "10110",
                                    "9": "NULL",
                                    "10": "2002-01-13T20:10:00"
                                },
                                {
                                    "0": "ZF1",
                                    "1": "Any",
                                    "2": "Female",
                                    "3": "F",
                                    "4": "NULL",
                                    "5": "NULL",
                                    "6": "NULL",
                                    "7": "TH",
                                    "8": "NULL",
                                    "9": "(277) 872-8899",
                                    "10": "2002-01-01T11:35:00"
                                },
                                {
                                    "0": "ZM1",
                                    "1": "Any",
                                    "2": "Male",
                                    "3": "M",
                                    "4": "NULL",
                                    "5": "NULL",
                                    "6": "NULL",
                                    "7": "TH",
                                    "8": "NULL",
                                    "9": "(216) 789-2842",
                                    "10": "2002-01-04T19:22:00"
                                }
                            ]
                        },
                        "text/html": [
                            "<table>",
                            "<tr><th>customerid</th><th>fname</th><th>lname</th><th>gender</th><th>address</th><th>city</th><th>province</th><th>countryid</th><th>zipcode</th><th>tel</th><th>firstvisitdt</th></tr>",
                            "<tr><td>AC1</td><td>Amy</td><td>Crawford</td><td>F</td><td>NULL</td><td>NULL</td><td>NULL</td><td>UK</td><td>NULL</td><td>(621) 789-0934</td><td>2002-01-07T12:07:00</td></tr>",
                            "<tr><td>CS1</td><td>Colleen</td><td>Smith</td><td>F</td><td>478 Euclid Ave.</td><td>Cleveland</td><td>OH</td><td>US</td><td>44123</td><td>(216) 712-1234</td><td>2002-01-08T19:17:00</td></tr>",
                            "<tr><td>PJ1</td><td>Pete</td><td>Johnson</td><td>M</td><td>2054 Fairview Ave.</td><td>Cleveland</td><td>OH</td><td>US</td><td>44106</td><td>NULL</td><td>2002-01-04T11:55:00</td></tr>",
                            "<tr><td>PH1</td><td>Paul</td><td>Hank</td><td>M</td><td>NULL</td><td>NULL</td><td>NULL</td><td>UK</td><td>NULL</td><td>(208) 321-3122</td><td>2002-01-01T10:51:00</td></tr>",
                            "<tr><td>RH1</td><td>Richard</td><td>Hank</td><td>M</td><td>123 West 23rd</td><td>Seattle</td><td>WA</td><td>US</td><td>12340</td><td>NULL</td><td>2002-01-04T18:37:00</td></tr>",
                            "<tr><td>RH2</td><td>Rick</td><td>Holme</td><td>M</td><td>NULL</td><td>NULL</td><td>NULL</td><td>TH</td><td>10110</td><td>NULL</td><td>2002-01-13T20:10:00</td></tr>",
                            "<tr><td>ZF1</td><td>Any</td><td>Female</td><td>F</td><td>NULL</td><td>NULL</td><td>NULL</td><td>TH</td><td>NULL</td><td>(277) 872-8899</td><td>2002-01-01T11:35:00</td></tr>",
                            "<tr><td>ZM1</td><td>Any</td><td>Male</td><td>M</td><td>NULL</td><td>NULL</td><td>NULL</td><td>TH</td><td>NULL</td><td>(216) 789-2842</td><td>2002-01-04T19:22:00</td></tr>",
                            "</table>"
                        ]
                    }
                }
            ],
            "execution_count": 13
        },
        {
            "cell_type": "code",
            "source": [
                "select * from customer where tel is not NULL"
            ],
            "metadata": {
                "azdata_cell_guid": "d3d4d855-8819-449e-b691-fc77c70a9d75"
            },
            "outputs": [
                {
                    "output_type": "display_data",
                    "data": {
                        "text/html": "(5 row(s) affected)"
                    },
                    "metadata": {}
                },
                {
                    "output_type": "display_data",
                    "data": {
                        "text/html": "Total execution time: 00:00:00.025"
                    },
                    "metadata": {}
                },
                {
                    "output_type": "execute_result",
                    "metadata": {},
                    "execution_count": 22,
                    "data": {
                        "application/vnd.dataresource+json": {
                            "schema": {
                                "fields": [
                                    {
                                        "name": "customerid"
                                    },
                                    {
                                        "name": "fname"
                                    },
                                    {
                                        "name": "lname"
                                    },
                                    {
                                        "name": "gender"
                                    },
                                    {
                                        "name": "address"
                                    },
                                    {
                                        "name": "city"
                                    },
                                    {
                                        "name": "province"
                                    },
                                    {
                                        "name": "countryid"
                                    },
                                    {
                                        "name": "zipcode"
                                    },
                                    {
                                        "name": "tel"
                                    },
                                    {
                                        "name": "firstvisitdt"
                                    }
                                ]
                            },
                            "data": [
                                {
                                    "0": "AC1",
                                    "1": "Amy",
                                    "2": "Crawford",
                                    "3": "F",
                                    "4": "NULL",
                                    "5": "NULL",
                                    "6": "NULL",
                                    "7": "UK",
                                    "8": "NULL",
                                    "9": "(621) 789-0934",
                                    "10": "2002-01-07T12:07:00"
                                },
                                {
                                    "0": "CS1",
                                    "1": "Colleen",
                                    "2": "Smith",
                                    "3": "F",
                                    "4": "478 Euclid Ave.",
                                    "5": "Cleveland",
                                    "6": "OH",
                                    "7": "US",
                                    "8": "44123",
                                    "9": "(216) 712-1234",
                                    "10": "2002-01-08T19:17:00"
                                },
                                {
                                    "0": "PH1",
                                    "1": "Paul",
                                    "2": "Hank",
                                    "3": "M",
                                    "4": "NULL",
                                    "5": "NULL",
                                    "6": "NULL",
                                    "7": "UK",
                                    "8": "NULL",
                                    "9": "(208) 321-3122",
                                    "10": "2002-01-01T10:51:00"
                                },
                                {
                                    "0": "ZF1",
                                    "1": "Any",
                                    "2": "Female",
                                    "3": "F",
                                    "4": "NULL",
                                    "5": "NULL",
                                    "6": "NULL",
                                    "7": "TH",
                                    "8": "NULL",
                                    "9": "(277) 872-8899",
                                    "10": "2002-01-01T11:35:00"
                                },
                                {
                                    "0": "ZM1",
                                    "1": "Any",
                                    "2": "Male",
                                    "3": "M",
                                    "4": "NULL",
                                    "5": "NULL",
                                    "6": "NULL",
                                    "7": "TH",
                                    "8": "NULL",
                                    "9": "(216) 789-2842",
                                    "10": "2002-01-04T19:22:00"
                                }
                            ]
                        },
                        "text/html": [
                            "<table>",
                            "<tr><th>customerid</th><th>fname</th><th>lname</th><th>gender</th><th>address</th><th>city</th><th>province</th><th>countryid</th><th>zipcode</th><th>tel</th><th>firstvisitdt</th></tr>",
                            "<tr><td>AC1</td><td>Amy</td><td>Crawford</td><td>F</td><td>NULL</td><td>NULL</td><td>NULL</td><td>UK</td><td>NULL</td><td>(621) 789-0934</td><td>2002-01-07T12:07:00</td></tr>",
                            "<tr><td>CS1</td><td>Colleen</td><td>Smith</td><td>F</td><td>478 Euclid Ave.</td><td>Cleveland</td><td>OH</td><td>US</td><td>44123</td><td>(216) 712-1234</td><td>2002-01-08T19:17:00</td></tr>",
                            "<tr><td>PH1</td><td>Paul</td><td>Hank</td><td>M</td><td>NULL</td><td>NULL</td><td>NULL</td><td>UK</td><td>NULL</td><td>(208) 321-3122</td><td>2002-01-01T10:51:00</td></tr>",
                            "<tr><td>ZF1</td><td>Any</td><td>Female</td><td>F</td><td>NULL</td><td>NULL</td><td>NULL</td><td>TH</td><td>NULL</td><td>(277) 872-8899</td><td>2002-01-01T11:35:00</td></tr>",
                            "<tr><td>ZM1</td><td>Any</td><td>Male</td><td>M</td><td>NULL</td><td>NULL</td><td>NULL</td><td>TH</td><td>NULL</td><td>(216) 789-2842</td><td>2002-01-04T19:22:00</td></tr>",
                            "</table>"
                        ]
                    }
                }
            ],
            "execution_count": 22
        },
        {
            "cell_type": "code",
            "source": [
                "select null != null, 1 = 1, 1 = 2, 1 < 2, 1=null -- =, <, >, !=, <=, >="
            ],
            "metadata": {
                "azdata_cell_guid": "a8fab2f4-d534-4c9f-94f9-bb3741278edf"
            },
            "outputs": [
                {
                    "output_type": "display_data",
                    "data": {
                        "text/html": "(1 row(s) affected)"
                    },
                    "metadata": {}
                },
                {
                    "output_type": "display_data",
                    "data": {
                        "text/html": "Total execution time: 00:00:00.013"
                    },
                    "metadata": {}
                },
                {
                    "output_type": "execute_result",
                    "metadata": {},
                    "execution_count": 20,
                    "data": {
                        "application/vnd.dataresource+json": {
                            "schema": {
                                "fields": [
                                    {
                                        "name": "Column1"
                                    },
                                    {
                                        "name": "Column2"
                                    },
                                    {
                                        "name": "Column3"
                                    },
                                    {
                                        "name": "Column4"
                                    },
                                    {
                                        "name": "Column5"
                                    }
                                ]
                            },
                            "data": [
                                {
                                    "0": "NULL",
                                    "1": "True",
                                    "2": "False",
                                    "3": "True",
                                    "4": "NULL"
                                }
                            ]
                        },
                        "text/html": [
                            "<table>",
                            "<tr><th>Column1</th><th>Column2</th><th>Column3</th><th>Column4</th><th>Column5</th></tr>",
                            "<tr><td>NULL</td><td>True</td><td>False</td><td>True</td><td>NULL</td></tr>",
                            "</table>"
                        ]
                    }
                }
            ],
            "execution_count": 20
        },
        {
            "cell_type": "code",
            "source": [
                ""
            ],
            "metadata": {
                "azdata_cell_guid": "7ecf0457-3a7d-4fbc-ad99-f7f554f96773"
            },
            "outputs": [],
            "execution_count": null
        },
        {
            "cell_type": "code",
            "source": [
                ""
            ],
            "metadata": {
                "azdata_cell_guid": "4a638699-9f91-4246-9859-8f89aafaabe2"
            },
            "outputs": [],
            "execution_count": null
        },
        {
            "cell_type": "code",
            "source": [
                ""
            ],
            "metadata": {
                "azdata_cell_guid": "c312baaa-054a-4d35-96ea-8f9368031e95"
            },
            "outputs": [],
            "execution_count": null
        },
        {
            "cell_type": "code",
            "source": [
                ""
            ],
            "metadata": {
                "azdata_cell_guid": "279403c7-1ef2-4106-9d67-3984b3cf91b2"
            },
            "outputs": [],
            "execution_count": null
        },
        {
            "cell_type": "code",
            "source": [
                ""
            ],
            "metadata": {
                "azdata_cell_guid": "c64b50ec-ed7e-4d86-b8a5-61022b531416"
            },
            "outputs": [],
            "execution_count": null
        }
    ]
}