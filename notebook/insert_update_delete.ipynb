{
    "metadata": {
        "kernelspec": {
            "name": "SQL",
            "display_name": "SQL",
            "language": "sql"
        },
        "language_info": {
            "name": "sql",
            "version": ""
        },
        "extensions": {
            "azuredatastudio": {
                "version": 1,
                "views": []
            }
        }
    },
    "nbformat_minor": 2,
    "nbformat": 4,
    "cells": [
        {
            "cell_type": "code",
            "source": [
                "DROP TABLE IF EXISTS medal;\r\n",
                "CREATE TABLE medal (\r\n",
                "    id varchar(3),\r\n",
                "    country varchar(50),\r\n",
                "    gold int,\r\n",
                "    silver int,\r\n",
                "    bronze int,\r\n",
                "    total int);"
            ],
            "metadata": {
                "azdata_cell_guid": "58e0e1b8-9830-4c0d-a53d-915c35f7b0ec"
            },
            "outputs": [
                {
                    "output_type": "display_data",
                    "data": {
                        "text/html": "Commands completed successfully"
                    },
                    "metadata": {}
                },
                {
                    "output_type": "display_data",
                    "data": {
                        "text/html": "Commands completed successfully"
                    },
                    "metadata": {}
                },
                {
                    "output_type": "display_data",
                    "data": {
                        "text/html": "Total execution time: 00:00:00.030"
                    },
                    "metadata": {}
                }
            ],
            "execution_count": 5
        },
        {
            "cell_type": "code",
            "source": [
                "INSERT INTO medal VALUES ('USA', 'United States', 46, 37, 38, 121);\r\n",
                "INSERT INTO medal VALUES ('GBR', 'Great Britain', 27, 23, 17, 67);\r\n",
                "INSERT INTO medal VALUES ('CHN', 'China', 26, 18, 26, 70);\r\n",
                "INSERT INTO medal VALUES ('RUS', 'Russia', 19, 17, 19, 55);\r\n",
                "INSERT INTO medal VALUES ('GER', 'Germany', 17, 10, 15, 42);\r\n",
                "INSERT INTO medal VALUES ('JPN', 'Japan', 12, 8, 21, 41);\r\n",
                "INSERT INTO medal VALUES ('FRA', 'France', 10, 18, 14, 42);\r\n",
                "INSERT INTO medal VALUES ('KOR', 'South Korea', 9, 3, 9, 21);\r\n",
                "INSERT INTO medal VALUES ('ITA', 'Italy', 8, 12, 8, 28);"
            ],
            "metadata": {
                "azdata_cell_guid": "294649d7-972c-4725-992f-9922badd4179"
            },
            "outputs": [
                {
                    "output_type": "display_data",
                    "data": {
                        "text/html": "Commands completed successfully"
                    },
                    "metadata": {}
                },
                {
                    "output_type": "display_data",
                    "data": {
                        "text/html": "Commands completed successfully"
                    },
                    "metadata": {}
                },
                {
                    "output_type": "display_data",
                    "data": {
                        "text/html": "Commands completed successfully"
                    },
                    "metadata": {}
                },
                {
                    "output_type": "display_data",
                    "data": {
                        "text/html": "Commands completed successfully"
                    },
                    "metadata": {}
                },
                {
                    "output_type": "display_data",
                    "data": {
                        "text/html": "Commands completed successfully"
                    },
                    "metadata": {}
                },
                {
                    "output_type": "display_data",
                    "data": {
                        "text/html": "Commands completed successfully"
                    },
                    "metadata": {}
                },
                {
                    "output_type": "display_data",
                    "data": {
                        "text/html": "Commands completed successfully"
                    },
                    "metadata": {}
                },
                {
                    "output_type": "display_data",
                    "data": {
                        "text/html": "Commands completed successfully"
                    },
                    "metadata": {}
                },
                {
                    "output_type": "display_data",
                    "data": {
                        "text/html": "Commands completed successfully"
                    },
                    "metadata": {}
                },
                {
                    "output_type": "display_data",
                    "data": {
                        "text/html": "Total execution time: 00:00:00.085"
                    },
                    "metadata": {}
                }
            ],
            "execution_count": 6
        },
        {
            "cell_type": "code",
            "source": [
                "INSERT INTO medal VALUES\r\n",
                "    ('USA', 'United States', 46, 37, 38, 121),\r\n",
                "    ('GBR', 'Great Britain', 27, 23, 17, 67),\r\n",
                "    ('CHN', 'China', 26, 18, 26, 70),\r\n",
                "    ('RUS', 'Russia', 19, 17, 19, 55),\r\n",
                "    ('GER', 'Germany', 17, 10, 15, 42),\r\n",
                "    ('JPN', 'Japan', 12, 8, 21, 41),\r\n",
                "    ('FRA', 'France', 10, 18, 14, 42),\r\n",
                "    ('KOR', 'South Korea', 9, 3, 9, 21),\r\n",
                "    ('ITA', 'Italy', 8, 12, 8, 28)"
            ],
            "metadata": {
                "azdata_cell_guid": "6f21d121-3633-459a-a509-5cd6ac8742a1"
            },
            "outputs": [],
            "execution_count": null
        },
        {
            "cell_type": "code",
            "source": [
                "DROP TABLE IF EXISTS medal2020;\r\n",
                "CREATE TABLE medal2020 (\r\n",
                "    id varchar(3),\r\n",
                "    country varchar(50),\r\n",
                "    gold int,\r\n",
                "    silver int,\r\n",
                "    bronze int,\r\n",
                "    total int);"
            ],
            "metadata": {
                "azdata_cell_guid": "aa40cc83-71f2-4b3a-8e57-9ed2828022de"
            },
            "outputs": [
                {
                    "output_type": "display_data",
                    "data": {
                        "text/html": "NOTICE:  table \"medal2020\" does not exist, skipping\n"
                    },
                    "metadata": {}
                },
                {
                    "output_type": "display_data",
                    "data": {
                        "text/html": "Commands completed successfully"
                    },
                    "metadata": {}
                },
                {
                    "output_type": "display_data",
                    "data": {
                        "text/html": "Commands completed successfully"
                    },
                    "metadata": {}
                },
                {
                    "output_type": "display_data",
                    "data": {
                        "text/html": "Total execution time: 00:00:00.025"
                    },
                    "metadata": {}
                }
            ],
            "execution_count": 3
        },
        {
            "cell_type": "code",
            "source": [
                "INSERT INTO medal2020 VALUES ('AUS', 'Australia', 8, 11, 10, 29);\r\n",
                "INSERT INTO medal2020 VALUES ('NED', 'Netherlands', 8, 7, 4, 19);\r\n",
                "INSERT INTO medal2020 VALUES ('HUN', 'Hungary', 8, 3, 4, 15);\r\n",
                "INSERT INTO medal2020 VALUES ('BRA', 'Brazil', 7, 6, 6, 19);\r\n",
                "INSERT INTO medal2020 VALUES ('ESP', 'Spain', 7, 4, 6, 17);\r\n",
                "INSERT INTO medal2020 VALUES ('KEN', 'Kenya', 6, 6, 1, 13);\r\n",
                "INSERT INTO medal2020 VALUES ('JAM', 'Jamaica', 6, 3, 2, 11);\r\n",
                "INSERT INTO medal2020 VALUES ('CRO', 'Croatia', 5, 3, 2, 10);\r\n",
                "INSERT INTO medal2020 VALUES ('CUB', 'Cuba', 5, 2, 4, 11);"
            ],
            "metadata": {
                "azdata_cell_guid": "2e98faaf-4256-453c-ae3f-595f66f401bc"
            },
            "outputs": [
                {
                    "output_type": "display_data",
                    "data": {
                        "text/html": "Commands completed successfully"
                    },
                    "metadata": {}
                },
                {
                    "output_type": "display_data",
                    "data": {
                        "text/html": "Commands completed successfully"
                    },
                    "metadata": {}
                },
                {
                    "output_type": "display_data",
                    "data": {
                        "text/html": "Commands completed successfully"
                    },
                    "metadata": {}
                },
                {
                    "output_type": "display_data",
                    "data": {
                        "text/html": "Commands completed successfully"
                    },
                    "metadata": {}
                },
                {
                    "output_type": "display_data",
                    "data": {
                        "text/html": "Commands completed successfully"
                    },
                    "metadata": {}
                },
                {
                    "output_type": "display_data",
                    "data": {
                        "text/html": "Commands completed successfully"
                    },
                    "metadata": {}
                },
                {
                    "output_type": "display_data",
                    "data": {
                        "text/html": "Commands completed successfully"
                    },
                    "metadata": {}
                },
                {
                    "output_type": "display_data",
                    "data": {
                        "text/html": "Commands completed successfully"
                    },
                    "metadata": {}
                },
                {
                    "output_type": "display_data",
                    "data": {
                        "text/html": "Commands completed successfully"
                    },
                    "metadata": {}
                },
                {
                    "output_type": "display_data",
                    "data": {
                        "text/html": "Total execution time: 00:00:00.070"
                    },
                    "metadata": {}
                }
            ],
            "execution_count": 4
        },
        {
            "cell_type": "code",
            "source": [
                "insert into medal\r\n",
                "    select * from medal2020 where gold > 6"
            ],
            "metadata": {
                "azdata_cell_guid": "eed682ad-7649-4b29-aedb-3ec5519e8c1e"
            },
            "outputs": [
                {
                    "output_type": "display_data",
                    "data": {
                        "text/html": "Commands completed successfully"
                    },
                    "metadata": {}
                },
                {
                    "output_type": "display_data",
                    "data": {
                        "text/html": "Total execution time: 00:00:00.030"
                    },
                    "metadata": {}
                }
            ],
            "execution_count": 7
        },
        {
            "cell_type": "code",
            "source": [
                "select * from medal"
            ],
            "metadata": {
                "azdata_cell_guid": "b35632e1-00e9-48dd-918c-b5946849d926"
            },
            "outputs": [
                {
                    "output_type": "display_data",
                    "data": {
                        "text/html": "(14 row(s) affected)"
                    },
                    "metadata": {}
                },
                {
                    "output_type": "display_data",
                    "data": {
                        "text/html": "Total execution time: 00:00:00.043"
                    },
                    "metadata": {}
                },
                {
                    "output_type": "execute_result",
                    "execution_count": 8,
                    "data": {
                        "application/vnd.dataresource+json": {
                            "schema": {
                                "fields": [
                                    {
                                        "name": "id"
                                    },
                                    {
                                        "name": "country"
                                    },
                                    {
                                        "name": "gold"
                                    },
                                    {
                                        "name": "silver"
                                    },
                                    {
                                        "name": "bronze"
                                    },
                                    {
                                        "name": "total"
                                    }
                                ]
                            },
                            "data": [
                                {
                                    "0": "USA",
                                    "1": "United States",
                                    "2": "46",
                                    "3": "37",
                                    "4": "38",
                                    "5": "121"
                                },
                                {
                                    "0": "GBR",
                                    "1": "Great Britain",
                                    "2": "27",
                                    "3": "23",
                                    "4": "17",
                                    "5": "67"
                                },
                                {
                                    "0": "CHN",
                                    "1": "China",
                                    "2": "26",
                                    "3": "18",
                                    "4": "26",
                                    "5": "70"
                                },
                                {
                                    "0": "RUS",
                                    "1": "Russia",
                                    "2": "19",
                                    "3": "17",
                                    "4": "19",
                                    "5": "55"
                                },
                                {
                                    "0": "GER",
                                    "1": "Germany",
                                    "2": "17",
                                    "3": "10",
                                    "4": "15",
                                    "5": "42"
                                },
                                {
                                    "0": "JPN",
                                    "1": "Japan",
                                    "2": "12",
                                    "3": "8",
                                    "4": "21",
                                    "5": "41"
                                },
                                {
                                    "0": "FRA",
                                    "1": "France",
                                    "2": "10",
                                    "3": "18",
                                    "4": "14",
                                    "5": "42"
                                },
                                {
                                    "0": "KOR",
                                    "1": "South Korea",
                                    "2": "9",
                                    "3": "3",
                                    "4": "9",
                                    "5": "21"
                                },
                                {
                                    "0": "ITA",
                                    "1": "Italy",
                                    "2": "8",
                                    "3": "12",
                                    "4": "8",
                                    "5": "28"
                                },
                                {
                                    "0": "AUS",
                                    "1": "Australia",
                                    "2": "8",
                                    "3": "11",
                                    "4": "10",
                                    "5": "29"
                                },
                                {
                                    "0": "NED",
                                    "1": "Netherlands",
                                    "2": "8",
                                    "3": "7",
                                    "4": "4",
                                    "5": "19"
                                },
                                {
                                    "0": "HUN",
                                    "1": "Hungary",
                                    "2": "8",
                                    "3": "3",
                                    "4": "4",
                                    "5": "15"
                                },
                                {
                                    "0": "BRA",
                                    "1": "Brazil",
                                    "2": "7",
                                    "3": "6",
                                    "4": "6",
                                    "5": "19"
                                },
                                {
                                    "0": "ESP",
                                    "1": "Spain",
                                    "2": "7",
                                    "3": "4",
                                    "4": "6",
                                    "5": "17"
                                }
                            ]
                        },
                        "text/html": "<table><tr><th>id</th><th>country</th><th>gold</th><th>silver</th><th>bronze</th><th>total</th></tr><tr><td>USA</td><td>United States</td><td>46</td><td>37</td><td>38</td><td>121</td></tr><tr><td>GBR</td><td>Great Britain</td><td>27</td><td>23</td><td>17</td><td>67</td></tr><tr><td>CHN</td><td>China</td><td>26</td><td>18</td><td>26</td><td>70</td></tr><tr><td>RUS</td><td>Russia</td><td>19</td><td>17</td><td>19</td><td>55</td></tr><tr><td>GER</td><td>Germany</td><td>17</td><td>10</td><td>15</td><td>42</td></tr><tr><td>JPN</td><td>Japan</td><td>12</td><td>8</td><td>21</td><td>41</td></tr><tr><td>FRA</td><td>France</td><td>10</td><td>18</td><td>14</td><td>42</td></tr><tr><td>KOR</td><td>South Korea</td><td>9</td><td>3</td><td>9</td><td>21</td></tr><tr><td>ITA</td><td>Italy</td><td>8</td><td>12</td><td>8</td><td>28</td></tr><tr><td>AUS</td><td>Australia</td><td>8</td><td>11</td><td>10</td><td>29</td></tr><tr><td>NED</td><td>Netherlands</td><td>8</td><td>7</td><td>4</td><td>19</td></tr><tr><td>HUN</td><td>Hungary</td><td>8</td><td>3</td><td>4</td><td>15</td></tr><tr><td>BRA</td><td>Brazil</td><td>7</td><td>6</td><td>6</td><td>19</td></tr><tr><td>ESP</td><td>Spain</td><td>7</td><td>4</td><td>6</td><td>17</td></tr></table>"
                    },
                    "metadata": {}
                }
            ],
            "execution_count": 8
        },
        {
            "cell_type": "code",
            "source": [
                "insert into medal(id, gold)\r\n",
                "    select id, gold from medal2020 where gold <= 6"
            ],
            "metadata": {
                "azdata_cell_guid": "ad0692d4-abbb-4a6f-b540-9b5bc93cccf8"
            },
            "outputs": [
                {
                    "output_type": "display_data",
                    "data": {
                        "text/html": "Commands completed successfully"
                    },
                    "metadata": {}
                },
                {
                    "output_type": "display_data",
                    "data": {
                        "text/html": "Total execution time: 00:00:00.012"
                    },
                    "metadata": {}
                }
            ],
            "execution_count": 9
        },
        {
            "cell_type": "code",
            "source": [
                "select * from medal"
            ],
            "metadata": {
                "azdata_cell_guid": "5d72a673-5b21-4e6e-95f9-562059e9a03a"
            },
            "outputs": [
                {
                    "output_type": "display_data",
                    "data": {
                        "text/html": "(18 row(s) affected)"
                    },
                    "metadata": {}
                },
                {
                    "output_type": "display_data",
                    "data": {
                        "text/html": "Total execution time: 00:00:00.040"
                    },
                    "metadata": {}
                },
                {
                    "output_type": "execute_result",
                    "execution_count": 10,
                    "data": {
                        "application/vnd.dataresource+json": {
                            "schema": {
                                "fields": [
                                    {
                                        "name": "id"
                                    },
                                    {
                                        "name": "country"
                                    },
                                    {
                                        "name": "gold"
                                    },
                                    {
                                        "name": "silver"
                                    },
                                    {
                                        "name": "bronze"
                                    },
                                    {
                                        "name": "total"
                                    }
                                ]
                            },
                            "data": [
                                {
                                    "0": "USA",
                                    "1": "United States",
                                    "2": "46",
                                    "3": "37",
                                    "4": "38",
                                    "5": "121"
                                },
                                {
                                    "0": "GBR",
                                    "1": "Great Britain",
                                    "2": "27",
                                    "3": "23",
                                    "4": "17",
                                    "5": "67"
                                },
                                {
                                    "0": "CHN",
                                    "1": "China",
                                    "2": "26",
                                    "3": "18",
                                    "4": "26",
                                    "5": "70"
                                },
                                {
                                    "0": "RUS",
                                    "1": "Russia",
                                    "2": "19",
                                    "3": "17",
                                    "4": "19",
                                    "5": "55"
                                },
                                {
                                    "0": "GER",
                                    "1": "Germany",
                                    "2": "17",
                                    "3": "10",
                                    "4": "15",
                                    "5": "42"
                                },
                                {
                                    "0": "JPN",
                                    "1": "Japan",
                                    "2": "12",
                                    "3": "8",
                                    "4": "21",
                                    "5": "41"
                                },
                                {
                                    "0": "FRA",
                                    "1": "France",
                                    "2": "10",
                                    "3": "18",
                                    "4": "14",
                                    "5": "42"
                                },
                                {
                                    "0": "KOR",
                                    "1": "South Korea",
                                    "2": "9",
                                    "3": "3",
                                    "4": "9",
                                    "5": "21"
                                },
                                {
                                    "0": "ITA",
                                    "1": "Italy",
                                    "2": "8",
                                    "3": "12",
                                    "4": "8",
                                    "5": "28"
                                },
                                {
                                    "0": "AUS",
                                    "1": "Australia",
                                    "2": "8",
                                    "3": "11",
                                    "4": "10",
                                    "5": "29"
                                },
                                {
                                    "0": "NED",
                                    "1": "Netherlands",
                                    "2": "8",
                                    "3": "7",
                                    "4": "4",
                                    "5": "19"
                                },
                                {
                                    "0": "HUN",
                                    "1": "Hungary",
                                    "2": "8",
                                    "3": "3",
                                    "4": "4",
                                    "5": "15"
                                },
                                {
                                    "0": "BRA",
                                    "1": "Brazil",
                                    "2": "7",
                                    "3": "6",
                                    "4": "6",
                                    "5": "19"
                                },
                                {
                                    "0": "ESP",
                                    "1": "Spain",
                                    "2": "7",
                                    "3": "4",
                                    "4": "6",
                                    "5": "17"
                                },
                                {
                                    "0": "KEN",
                                    "1": "NULL",
                                    "2": "6",
                                    "3": "NULL",
                                    "4": "NULL",
                                    "5": "NULL"
                                },
                                {
                                    "0": "JAM",
                                    "1": "NULL",
                                    "2": "6",
                                    "3": "NULL",
                                    "4": "NULL",
                                    "5": "NULL"
                                },
                                {
                                    "0": "CRO",
                                    "1": "NULL",
                                    "2": "5",
                                    "3": "NULL",
                                    "4": "NULL",
                                    "5": "NULL"
                                },
                                {
                                    "0": "CUB",
                                    "1": "NULL",
                                    "2": "5",
                                    "3": "NULL",
                                    "4": "NULL",
                                    "5": "NULL"
                                }
                            ]
                        },
                        "text/html": "<table><tr><th>id</th><th>country</th><th>gold</th><th>silver</th><th>bronze</th><th>total</th></tr><tr><td>USA</td><td>United States</td><td>46</td><td>37</td><td>38</td><td>121</td></tr><tr><td>GBR</td><td>Great Britain</td><td>27</td><td>23</td><td>17</td><td>67</td></tr><tr><td>CHN</td><td>China</td><td>26</td><td>18</td><td>26</td><td>70</td></tr><tr><td>RUS</td><td>Russia</td><td>19</td><td>17</td><td>19</td><td>55</td></tr><tr><td>GER</td><td>Germany</td><td>17</td><td>10</td><td>15</td><td>42</td></tr><tr><td>JPN</td><td>Japan</td><td>12</td><td>8</td><td>21</td><td>41</td></tr><tr><td>FRA</td><td>France</td><td>10</td><td>18</td><td>14</td><td>42</td></tr><tr><td>KOR</td><td>South Korea</td><td>9</td><td>3</td><td>9</td><td>21</td></tr><tr><td>ITA</td><td>Italy</td><td>8</td><td>12</td><td>8</td><td>28</td></tr><tr><td>AUS</td><td>Australia</td><td>8</td><td>11</td><td>10</td><td>29</td></tr><tr><td>NED</td><td>Netherlands</td><td>8</td><td>7</td><td>4</td><td>19</td></tr><tr><td>HUN</td><td>Hungary</td><td>8</td><td>3</td><td>4</td><td>15</td></tr><tr><td>BRA</td><td>Brazil</td><td>7</td><td>6</td><td>6</td><td>19</td></tr><tr><td>ESP</td><td>Spain</td><td>7</td><td>4</td><td>6</td><td>17</td></tr><tr><td>KEN</td><td>NULL</td><td>6</td><td>NULL</td><td>NULL</td><td>NULL</td></tr><tr><td>JAM</td><td>NULL</td><td>6</td><td>NULL</td><td>NULL</td><td>NULL</td></tr><tr><td>CRO</td><td>NULL</td><td>5</td><td>NULL</td><td>NULL</td><td>NULL</td></tr><tr><td>CUB</td><td>NULL</td><td>5</td><td>NULL</td><td>NULL</td><td>NULL</td></tr></table>"
                    },
                    "metadata": {}
                }
            ],
            "execution_count": 10
        },
        {
            "cell_type": "code",
            "source": [
                "select id, gold\r\n",
                "into newmedal\r\n",
                "from medal"
            ],
            "metadata": {
                "azdata_cell_guid": "9db02948-116a-4eb2-bfae-a1201e87de59"
            },
            "outputs": [
                {
                    "output_type": "error",
                    "ename": "",
                    "evalue": "SELECT ... INTO is not allowed here",
                    "traceback": []
                },
                {
                    "output_type": "display_data",
                    "data": {
                        "text/html": "Total execution time: 00:00:00.012"
                    },
                    "metadata": {}
                }
            ],
            "execution_count": 12
        },
        {
            "cell_type": "code",
            "source": [
                "update medal\r\n",
                "    set country = upper(country) || '(' || upper(id) || ')',\r\n",
                "        id = lower(id),\r\n",
                "        total = 0"
            ],
            "metadata": {
                "azdata_cell_guid": "58d6bebf-acdc-474c-a793-407d129749e1"
            },
            "outputs": [
                {
                    "output_type": "display_data",
                    "data": {
                        "text/html": "Commands completed successfully"
                    },
                    "metadata": {}
                },
                {
                    "output_type": "display_data",
                    "data": {
                        "text/html": "Total execution time: 00:00:00.012"
                    },
                    "metadata": {}
                }
            ],
            "execution_count": 19
        },
        {
            "cell_type": "code",
            "source": [
                "select right(country, 5) from medal"
            ],
            "metadata": {
                "azdata_cell_guid": "bda4e593-b09a-4afd-b6c7-2b7807f0205b"
            },
            "outputs": [
                {
                    "output_type": "display_data",
                    "data": {
                        "text/html": "(18 row(s) affected)"
                    },
                    "metadata": {}
                },
                {
                    "output_type": "display_data",
                    "data": {
                        "text/html": "Total execution time: 00:00:00.055"
                    },
                    "metadata": {}
                },
                {
                    "output_type": "execute_result",
                    "execution_count": 21,
                    "data": {
                        "application/vnd.dataresource+json": {
                            "schema": {
                                "fields": [
                                    {
                                        "name": "right"
                                    }
                                ]
                            },
                            "data": [
                                {
                                    "0": "(USA)"
                                },
                                {
                                    "0": "(GBR)"
                                },
                                {
                                    "0": "(CHN)"
                                },
                                {
                                    "0": "(RUS)"
                                },
                                {
                                    "0": "(GER)"
                                },
                                {
                                    "0": "(JPN)"
                                },
                                {
                                    "0": "(FRA)"
                                },
                                {
                                    "0": "(KOR)"
                                },
                                {
                                    "0": "(ITA)"
                                },
                                {
                                    "0": "(AUS)"
                                },
                                {
                                    "0": "(NED)"
                                },
                                {
                                    "0": "(HUN)"
                                },
                                {
                                    "0": "(BRA)"
                                },
                                {
                                    "0": "(ESP)"
                                },
                                {
                                    "0": "NULL"
                                },
                                {
                                    "0": "NULL"
                                },
                                {
                                    "0": "NULL"
                                },
                                {
                                    "0": "NULL"
                                }
                            ]
                        },
                        "text/html": "<table><tr><th>right</th></tr><tr><td>(USA)</td></tr><tr><td>(GBR)</td></tr><tr><td>(CHN)</td></tr><tr><td>(RUS)</td></tr><tr><td>(GER)</td></tr><tr><td>(JPN)</td></tr><tr><td>(FRA)</td></tr><tr><td>(KOR)</td></tr><tr><td>(ITA)</td></tr><tr><td>(AUS)</td></tr><tr><td>(NED)</td></tr><tr><td>(HUN)</td></tr><tr><td>(BRA)</td></tr><tr><td>(ESP)</td></tr><tr><td>NULL</td></tr><tr><td>NULL</td></tr><tr><td>NULL</td></tr><tr><td>NULL</td></tr></table>"
                    },
                    "metadata": {}
                }
            ],
            "execution_count": 21
        },
        {
            "cell_type": "code",
            "source": [
                "select country, left(country, length(country)-5) from medal;"
            ],
            "metadata": {
                "azdata_cell_guid": "1ec02daf-26a2-43ee-9148-e542e5b55980"
            },
            "outputs": [
                {
                    "output_type": "display_data",
                    "data": {
                        "text/html": "(18 row(s) affected)"
                    },
                    "metadata": {}
                },
                {
                    "output_type": "display_data",
                    "data": {
                        "text/html": "Total execution time: 00:00:00.043"
                    },
                    "metadata": {}
                },
                {
                    "output_type": "execute_result",
                    "execution_count": 24,
                    "data": {
                        "application/vnd.dataresource+json": {
                            "schema": {
                                "fields": [
                                    {
                                        "name": "country"
                                    },
                                    {
                                        "name": "left"
                                    }
                                ]
                            },
                            "data": [
                                {
                                    "0": "UNITED STATES(USA)",
                                    "1": "UNITED STATES"
                                },
                                {
                                    "0": "GREAT BRITAIN(GBR)",
                                    "1": "GREAT BRITAIN"
                                },
                                {
                                    "0": "CHINA(CHN)",
                                    "1": "CHINA"
                                },
                                {
                                    "0": "RUSSIA(RUS)",
                                    "1": "RUSSIA"
                                },
                                {
                                    "0": "GERMANY(GER)",
                                    "1": "GERMANY"
                                },
                                {
                                    "0": "JAPAN(JPN)",
                                    "1": "JAPAN"
                                },
                                {
                                    "0": "FRANCE(FRA)",
                                    "1": "FRANCE"
                                },
                                {
                                    "0": "SOUTH KOREA(KOR)",
                                    "1": "SOUTH KOREA"
                                },
                                {
                                    "0": "ITALY(ITA)",
                                    "1": "ITALY"
                                },
                                {
                                    "0": "AUSTRALIA(AUS)",
                                    "1": "AUSTRALIA"
                                },
                                {
                                    "0": "NETHERLANDS(NED)",
                                    "1": "NETHERLANDS"
                                },
                                {
                                    "0": "HUNGARY(HUN)",
                                    "1": "HUNGARY"
                                },
                                {
                                    "0": "BRAZIL(BRA)",
                                    "1": "BRAZIL"
                                },
                                {
                                    "0": "SPAIN(ESP)",
                                    "1": "SPAIN"
                                },
                                {
                                    "0": "NULL",
                                    "1": "NULL"
                                },
                                {
                                    "0": "NULL",
                                    "1": "NULL"
                                },
                                {
                                    "0": "NULL",
                                    "1": "NULL"
                                },
                                {
                                    "0": "NULL",
                                    "1": "NULL"
                                }
                            ]
                        },
                        "text/html": "<table><tr><th>country</th><th>left</th></tr><tr><td>UNITED STATES(USA)</td><td>UNITED STATES</td></tr><tr><td>GREAT BRITAIN(GBR)</td><td>GREAT BRITAIN</td></tr><tr><td>CHINA(CHN)</td><td>CHINA</td></tr><tr><td>RUSSIA(RUS)</td><td>RUSSIA</td></tr><tr><td>GERMANY(GER)</td><td>GERMANY</td></tr><tr><td>JAPAN(JPN)</td><td>JAPAN</td></tr><tr><td>FRANCE(FRA)</td><td>FRANCE</td></tr><tr><td>SOUTH KOREA(KOR)</td><td>SOUTH KOREA</td></tr><tr><td>ITALY(ITA)</td><td>ITALY</td></tr><tr><td>AUSTRALIA(AUS)</td><td>AUSTRALIA</td></tr><tr><td>NETHERLANDS(NED)</td><td>NETHERLANDS</td></tr><tr><td>HUNGARY(HUN)</td><td>HUNGARY</td></tr><tr><td>BRAZIL(BRA)</td><td>BRAZIL</td></tr><tr><td>SPAIN(ESP)</td><td>SPAIN</td></tr><tr><td>NULL</td><td>NULL</td></tr><tr><td>NULL</td><td>NULL</td></tr><tr><td>NULL</td><td>NULL</td></tr><tr><td>NULL</td><td>NULL</td></tr></table>"
                    },
                    "metadata": {}
                }
            ],
            "execution_count": 24
        },
        {
            "cell_type": "code",
            "source": [
                "update medal\r\n",
                "    set country = left(country, length(country)-5) || ' (' || upper(id) || ')';\r\n",
                "\r\n",
                "select * from medal;"
            ],
            "metadata": {
                "azdata_cell_guid": "f901dd0a-d065-4489-8aa0-3c284de9e40a"
            },
            "outputs": [
                {
                    "output_type": "display_data",
                    "data": {
                        "text/html": "Commands completed successfully"
                    },
                    "metadata": {}
                },
                {
                    "output_type": "display_data",
                    "data": {
                        "text/html": "(18 row(s) affected)"
                    },
                    "metadata": {}
                },
                {
                    "output_type": "display_data",
                    "data": {
                        "text/html": "Total execution time: 00:00:00.070"
                    },
                    "metadata": {}
                },
                {
                    "output_type": "execute_result",
                    "execution_count": 25,
                    "data": {
                        "application/vnd.dataresource+json": {
                            "schema": {
                                "fields": [
                                    {
                                        "name": "id"
                                    },
                                    {
                                        "name": "country"
                                    },
                                    {
                                        "name": "gold"
                                    },
                                    {
                                        "name": "silver"
                                    },
                                    {
                                        "name": "bronze"
                                    },
                                    {
                                        "name": "total"
                                    }
                                ]
                            },
                            "data": [
                                {
                                    "0": "usa",
                                    "1": "UNITED STATES (USA)",
                                    "2": "46",
                                    "3": "37",
                                    "4": "38",
                                    "5": "0"
                                },
                                {
                                    "0": "gbr",
                                    "1": "GREAT BRITAIN (GBR)",
                                    "2": "27",
                                    "3": "23",
                                    "4": "17",
                                    "5": "0"
                                },
                                {
                                    "0": "chn",
                                    "1": "CHINA (CHN)",
                                    "2": "26",
                                    "3": "18",
                                    "4": "26",
                                    "5": "0"
                                },
                                {
                                    "0": "rus",
                                    "1": "RUSSIA (RUS)",
                                    "2": "19",
                                    "3": "17",
                                    "4": "19",
                                    "5": "0"
                                },
                                {
                                    "0": "ger",
                                    "1": "GERMANY (GER)",
                                    "2": "17",
                                    "3": "10",
                                    "4": "15",
                                    "5": "0"
                                },
                                {
                                    "0": "jpn",
                                    "1": "JAPAN (JPN)",
                                    "2": "12",
                                    "3": "8",
                                    "4": "21",
                                    "5": "0"
                                },
                                {
                                    "0": "fra",
                                    "1": "FRANCE (FRA)",
                                    "2": "10",
                                    "3": "18",
                                    "4": "14",
                                    "5": "0"
                                },
                                {
                                    "0": "kor",
                                    "1": "SOUTH KOREA (KOR)",
                                    "2": "9",
                                    "3": "3",
                                    "4": "9",
                                    "5": "0"
                                },
                                {
                                    "0": "ita",
                                    "1": "ITALY (ITA)",
                                    "2": "8",
                                    "3": "12",
                                    "4": "8",
                                    "5": "0"
                                },
                                {
                                    "0": "aus",
                                    "1": "AUSTRALIA (AUS)",
                                    "2": "8",
                                    "3": "11",
                                    "4": "10",
                                    "5": "0"
                                },
                                {
                                    "0": "ned",
                                    "1": "NETHERLANDS (NED)",
                                    "2": "8",
                                    "3": "7",
                                    "4": "4",
                                    "5": "0"
                                },
                                {
                                    "0": "hun",
                                    "1": "HUNGARY (HUN)",
                                    "2": "8",
                                    "3": "3",
                                    "4": "4",
                                    "5": "0"
                                },
                                {
                                    "0": "bra",
                                    "1": "BRAZIL (BRA)",
                                    "2": "7",
                                    "3": "6",
                                    "4": "6",
                                    "5": "0"
                                },
                                {
                                    "0": "esp",
                                    "1": "SPAIN (ESP)",
                                    "2": "7",
                                    "3": "4",
                                    "4": "6",
                                    "5": "0"
                                },
                                {
                                    "0": "ken",
                                    "1": "NULL",
                                    "2": "6",
                                    "3": "NULL",
                                    "4": "NULL",
                                    "5": "0"
                                },
                                {
                                    "0": "jam",
                                    "1": "NULL",
                                    "2": "6",
                                    "3": "NULL",
                                    "4": "NULL",
                                    "5": "0"
                                },
                                {
                                    "0": "cro",
                                    "1": "NULL",
                                    "2": "5",
                                    "3": "NULL",
                                    "4": "NULL",
                                    "5": "0"
                                },
                                {
                                    "0": "cub",
                                    "1": "NULL",
                                    "2": "5",
                                    "3": "NULL",
                                    "4": "NULL",
                                    "5": "0"
                                }
                            ]
                        },
                        "text/html": "<table><tr><th>id</th><th>country</th><th>gold</th><th>silver</th><th>bronze</th><th>total</th></tr><tr><td>usa</td><td>UNITED STATES (USA)</td><td>46</td><td>37</td><td>38</td><td>0</td></tr><tr><td>gbr</td><td>GREAT BRITAIN (GBR)</td><td>27</td><td>23</td><td>17</td><td>0</td></tr><tr><td>chn</td><td>CHINA (CHN)</td><td>26</td><td>18</td><td>26</td><td>0</td></tr><tr><td>rus</td><td>RUSSIA (RUS)</td><td>19</td><td>17</td><td>19</td><td>0</td></tr><tr><td>ger</td><td>GERMANY (GER)</td><td>17</td><td>10</td><td>15</td><td>0</td></tr><tr><td>jpn</td><td>JAPAN (JPN)</td><td>12</td><td>8</td><td>21</td><td>0</td></tr><tr><td>fra</td><td>FRANCE (FRA)</td><td>10</td><td>18</td><td>14</td><td>0</td></tr><tr><td>kor</td><td>SOUTH KOREA (KOR)</td><td>9</td><td>3</td><td>9</td><td>0</td></tr><tr><td>ita</td><td>ITALY (ITA)</td><td>8</td><td>12</td><td>8</td><td>0</td></tr><tr><td>aus</td><td>AUSTRALIA (AUS)</td><td>8</td><td>11</td><td>10</td><td>0</td></tr><tr><td>ned</td><td>NETHERLANDS (NED)</td><td>8</td><td>7</td><td>4</td><td>0</td></tr><tr><td>hun</td><td>HUNGARY (HUN)</td><td>8</td><td>3</td><td>4</td><td>0</td></tr><tr><td>bra</td><td>BRAZIL (BRA)</td><td>7</td><td>6</td><td>6</td><td>0</td></tr><tr><td>esp</td><td>SPAIN (ESP)</td><td>7</td><td>4</td><td>6</td><td>0</td></tr><tr><td>ken</td><td>NULL</td><td>6</td><td>NULL</td><td>NULL</td><td>0</td></tr><tr><td>jam</td><td>NULL</td><td>6</td><td>NULL</td><td>NULL</td><td>0</td></tr><tr><td>cro</td><td>NULL</td><td>5</td><td>NULL</td><td>NULL</td><td>0</td></tr><tr><td>cub</td><td>NULL</td><td>5</td><td>NULL</td><td>NULL</td><td>0</td></tr></table>"
                    },
                    "metadata": {}
                }
            ],
            "execution_count": 25
        },
        {
            "cell_type": "code",
            "source": [
                "update medal \r\n",
                "    set total = coalesce(gold,0) + coalesce(silver,0) + coalesce(bronze,0);\r\n",
                "    where\r\n",
                "select * from medal;"
            ],
            "metadata": {
                "azdata_cell_guid": "5290a512-c680-490e-a457-97495aea5c3b"
            },
            "outputs": [
                {
                    "output_type": "display_data",
                    "data": {
                        "text/html": "Commands completed successfully"
                    },
                    "metadata": {}
                },
                {
                    "output_type": "display_data",
                    "data": {
                        "text/html": "(18 row(s) affected)"
                    },
                    "metadata": {}
                },
                {
                    "output_type": "display_data",
                    "data": {
                        "text/html": "Total execution time: 00:00:00.083"
                    },
                    "metadata": {}
                },
                {
                    "output_type": "execute_result",
                    "execution_count": 27,
                    "data": {
                        "application/vnd.dataresource+json": {
                            "schema": {
                                "fields": [
                                    {
                                        "name": "id"
                                    },
                                    {
                                        "name": "country"
                                    },
                                    {
                                        "name": "gold"
                                    },
                                    {
                                        "name": "silver"
                                    },
                                    {
                                        "name": "bronze"
                                    },
                                    {
                                        "name": "total"
                                    }
                                ]
                            },
                            "data": [
                                {
                                    "0": "usa",
                                    "1": "UNITED STATES (USA)",
                                    "2": "46",
                                    "3": "37",
                                    "4": "38",
                                    "5": "121"
                                },
                                {
                                    "0": "gbr",
                                    "1": "GREAT BRITAIN (GBR)",
                                    "2": "27",
                                    "3": "23",
                                    "4": "17",
                                    "5": "67"
                                },
                                {
                                    "0": "chn",
                                    "1": "CHINA (CHN)",
                                    "2": "26",
                                    "3": "18",
                                    "4": "26",
                                    "5": "70"
                                },
                                {
                                    "0": "rus",
                                    "1": "RUSSIA (RUS)",
                                    "2": "19",
                                    "3": "17",
                                    "4": "19",
                                    "5": "55"
                                },
                                {
                                    "0": "ger",
                                    "1": "GERMANY (GER)",
                                    "2": "17",
                                    "3": "10",
                                    "4": "15",
                                    "5": "42"
                                },
                                {
                                    "0": "jpn",
                                    "1": "JAPAN (JPN)",
                                    "2": "12",
                                    "3": "8",
                                    "4": "21",
                                    "5": "41"
                                },
                                {
                                    "0": "fra",
                                    "1": "FRANCE (FRA)",
                                    "2": "10",
                                    "3": "18",
                                    "4": "14",
                                    "5": "42"
                                },
                                {
                                    "0": "kor",
                                    "1": "SOUTH KOREA (KOR)",
                                    "2": "9",
                                    "3": "3",
                                    "4": "9",
                                    "5": "21"
                                },
                                {
                                    "0": "ita",
                                    "1": "ITALY (ITA)",
                                    "2": "8",
                                    "3": "12",
                                    "4": "8",
                                    "5": "28"
                                },
                                {
                                    "0": "aus",
                                    "1": "AUSTRALIA (AUS)",
                                    "2": "8",
                                    "3": "11",
                                    "4": "10",
                                    "5": "29"
                                },
                                {
                                    "0": "ned",
                                    "1": "NETHERLANDS (NED)",
                                    "2": "8",
                                    "3": "7",
                                    "4": "4",
                                    "5": "19"
                                },
                                {
                                    "0": "hun",
                                    "1": "HUNGARY (HUN)",
                                    "2": "8",
                                    "3": "3",
                                    "4": "4",
                                    "5": "15"
                                },
                                {
                                    "0": "bra",
                                    "1": "BRAZIL (BRA)",
                                    "2": "7",
                                    "3": "6",
                                    "4": "6",
                                    "5": "19"
                                },
                                {
                                    "0": "esp",
                                    "1": "SPAIN (ESP)",
                                    "2": "7",
                                    "3": "4",
                                    "4": "6",
                                    "5": "17"
                                },
                                {
                                    "0": "ken",
                                    "1": "NULL",
                                    "2": "6",
                                    "3": "NULL",
                                    "4": "NULL",
                                    "5": "6"
                                },
                                {
                                    "0": "jam",
                                    "1": "NULL",
                                    "2": "6",
                                    "3": "NULL",
                                    "4": "NULL",
                                    "5": "6"
                                },
                                {
                                    "0": "cro",
                                    "1": "NULL",
                                    "2": "5",
                                    "3": "NULL",
                                    "4": "NULL",
                                    "5": "5"
                                },
                                {
                                    "0": "cub",
                                    "1": "NULL",
                                    "2": "5",
                                    "3": "NULL",
                                    "4": "NULL",
                                    "5": "5"
                                }
                            ]
                        },
                        "text/html": "<table><tr><th>id</th><th>country</th><th>gold</th><th>silver</th><th>bronze</th><th>total</th></tr><tr><td>usa</td><td>UNITED STATES (USA)</td><td>46</td><td>37</td><td>38</td><td>121</td></tr><tr><td>gbr</td><td>GREAT BRITAIN (GBR)</td><td>27</td><td>23</td><td>17</td><td>67</td></tr><tr><td>chn</td><td>CHINA (CHN)</td><td>26</td><td>18</td><td>26</td><td>70</td></tr><tr><td>rus</td><td>RUSSIA (RUS)</td><td>19</td><td>17</td><td>19</td><td>55</td></tr><tr><td>ger</td><td>GERMANY (GER)</td><td>17</td><td>10</td><td>15</td><td>42</td></tr><tr><td>jpn</td><td>JAPAN (JPN)</td><td>12</td><td>8</td><td>21</td><td>41</td></tr><tr><td>fra</td><td>FRANCE (FRA)</td><td>10</td><td>18</td><td>14</td><td>42</td></tr><tr><td>kor</td><td>SOUTH KOREA (KOR)</td><td>9</td><td>3</td><td>9</td><td>21</td></tr><tr><td>ita</td><td>ITALY (ITA)</td><td>8</td><td>12</td><td>8</td><td>28</td></tr><tr><td>aus</td><td>AUSTRALIA (AUS)</td><td>8</td><td>11</td><td>10</td><td>29</td></tr><tr><td>ned</td><td>NETHERLANDS (NED)</td><td>8</td><td>7</td><td>4</td><td>19</td></tr><tr><td>hun</td><td>HUNGARY (HUN)</td><td>8</td><td>3</td><td>4</td><td>15</td></tr><tr><td>bra</td><td>BRAZIL (BRA)</td><td>7</td><td>6</td><td>6</td><td>19</td></tr><tr><td>esp</td><td>SPAIN (ESP)</td><td>7</td><td>4</td><td>6</td><td>17</td></tr><tr><td>ken</td><td>NULL</td><td>6</td><td>NULL</td><td>NULL</td><td>6</td></tr><tr><td>jam</td><td>NULL</td><td>6</td><td>NULL</td><td>NULL</td><td>6</td></tr><tr><td>cro</td><td>NULL</td><td>5</td><td>NULL</td><td>NULL</td><td>5</td></tr><tr><td>cub</td><td>NULL</td><td>5</td><td>NULL</td><td>NULL</td><td>5</td></tr></table>"
                    },
                    "metadata": {}
                }
            ],
            "execution_count": 27
        },
        {
            "cell_type": "code",
            "source": [
                "update medal \r\n",
                "    set country = country || '**'\r\n",
                "    where gold >= 10;\r\n",
                "\r\n",
                "select * from medal;"
            ],
            "metadata": {
                "azdata_cell_guid": "d94cecbc-f39e-408d-9be7-a87abff1ce94"
            },
            "outputs": [
                {
                    "output_type": "display_data",
                    "data": {
                        "text/html": "Commands completed successfully"
                    },
                    "metadata": {}
                },
                {
                    "output_type": "display_data",
                    "data": {
                        "text/html": "(18 row(s) affected)"
                    },
                    "metadata": {}
                },
                {
                    "output_type": "display_data",
                    "data": {
                        "text/html": "Total execution time: 00:00:00.080"
                    },
                    "metadata": {}
                },
                {
                    "output_type": "execute_result",
                    "execution_count": 31,
                    "data": {
                        "application/vnd.dataresource+json": {
                            "schema": {
                                "fields": [
                                    {
                                        "name": "id"
                                    },
                                    {
                                        "name": "country"
                                    },
                                    {
                                        "name": "gold"
                                    },
                                    {
                                        "name": "silver"
                                    },
                                    {
                                        "name": "bronze"
                                    },
                                    {
                                        "name": "total"
                                    }
                                ]
                            },
                            "data": [
                                {
                                    "0": "kor",
                                    "1": "SOUTH KOREA (KOR)",
                                    "2": "9",
                                    "3": "3",
                                    "4": "9",
                                    "5": "21"
                                },
                                {
                                    "0": "ita",
                                    "1": "ITALY (ITA)",
                                    "2": "8",
                                    "3": "12",
                                    "4": "8",
                                    "5": "28"
                                },
                                {
                                    "0": "aus",
                                    "1": "AUSTRALIA (AUS)",
                                    "2": "8",
                                    "3": "11",
                                    "4": "10",
                                    "5": "29"
                                },
                                {
                                    "0": "ned",
                                    "1": "NETHERLANDS (NED)",
                                    "2": "8",
                                    "3": "7",
                                    "4": "4",
                                    "5": "19"
                                },
                                {
                                    "0": "hun",
                                    "1": "HUNGARY (HUN)",
                                    "2": "8",
                                    "3": "3",
                                    "4": "4",
                                    "5": "15"
                                },
                                {
                                    "0": "bra",
                                    "1": "BRAZIL (BRA)",
                                    "2": "7",
                                    "3": "6",
                                    "4": "6",
                                    "5": "19"
                                },
                                {
                                    "0": "esp",
                                    "1": "SPAIN (ESP)",
                                    "2": "7",
                                    "3": "4",
                                    "4": "6",
                                    "5": "17"
                                },
                                {
                                    "0": "ken",
                                    "1": "NULL",
                                    "2": "6",
                                    "3": "NULL",
                                    "4": "NULL",
                                    "5": "6"
                                },
                                {
                                    "0": "jam",
                                    "1": "NULL",
                                    "2": "6",
                                    "3": "NULL",
                                    "4": "NULL",
                                    "5": "6"
                                },
                                {
                                    "0": "cro",
                                    "1": "NULL",
                                    "2": "5",
                                    "3": "NULL",
                                    "4": "NULL",
                                    "5": "5"
                                },
                                {
                                    "0": "cub",
                                    "1": "NULL",
                                    "2": "5",
                                    "3": "NULL",
                                    "4": "NULL",
                                    "5": "5"
                                },
                                {
                                    "0": "usa",
                                    "1": "UNITED STATES (USA)******",
                                    "2": "46",
                                    "3": "37",
                                    "4": "38",
                                    "5": "121"
                                },
                                {
                                    "0": "gbr",
                                    "1": "GREAT BRITAIN (GBR)******",
                                    "2": "27",
                                    "3": "23",
                                    "4": "17",
                                    "5": "67"
                                },
                                {
                                    "0": "chn",
                                    "1": "CHINA (CHN)******",
                                    "2": "26",
                                    "3": "18",
                                    "4": "26",
                                    "5": "70"
                                },
                                {
                                    "0": "rus",
                                    "1": "RUSSIA (RUS)******",
                                    "2": "19",
                                    "3": "17",
                                    "4": "19",
                                    "5": "55"
                                },
                                {
                                    "0": "ger",
                                    "1": "GERMANY (GER)******",
                                    "2": "17",
                                    "3": "10",
                                    "4": "15",
                                    "5": "42"
                                },
                                {
                                    "0": "jpn",
                                    "1": "JAPAN (JPN)******",
                                    "2": "12",
                                    "3": "8",
                                    "4": "21",
                                    "5": "41"
                                },
                                {
                                    "0": "fra",
                                    "1": "FRANCE (FRA)******",
                                    "2": "10",
                                    "3": "18",
                                    "4": "14",
                                    "5": "42"
                                }
                            ]
                        },
                        "text/html": "<table><tr><th>id</th><th>country</th><th>gold</th><th>silver</th><th>bronze</th><th>total</th></tr><tr><td>kor</td><td>SOUTH KOREA (KOR)</td><td>9</td><td>3</td><td>9</td><td>21</td></tr><tr><td>ita</td><td>ITALY (ITA)</td><td>8</td><td>12</td><td>8</td><td>28</td></tr><tr><td>aus</td><td>AUSTRALIA (AUS)</td><td>8</td><td>11</td><td>10</td><td>29</td></tr><tr><td>ned</td><td>NETHERLANDS (NED)</td><td>8</td><td>7</td><td>4</td><td>19</td></tr><tr><td>hun</td><td>HUNGARY (HUN)</td><td>8</td><td>3</td><td>4</td><td>15</td></tr><tr><td>bra</td><td>BRAZIL (BRA)</td><td>7</td><td>6</td><td>6</td><td>19</td></tr><tr><td>esp</td><td>SPAIN (ESP)</td><td>7</td><td>4</td><td>6</td><td>17</td></tr><tr><td>ken</td><td>NULL</td><td>6</td><td>NULL</td><td>NULL</td><td>6</td></tr><tr><td>jam</td><td>NULL</td><td>6</td><td>NULL</td><td>NULL</td><td>6</td></tr><tr><td>cro</td><td>NULL</td><td>5</td><td>NULL</td><td>NULL</td><td>5</td></tr><tr><td>cub</td><td>NULL</td><td>5</td><td>NULL</td><td>NULL</td><td>5</td></tr><tr><td>usa</td><td>UNITED STATES (USA)******</td><td>46</td><td>37</td><td>38</td><td>121</td></tr><tr><td>gbr</td><td>GREAT BRITAIN (GBR)******</td><td>27</td><td>23</td><td>17</td><td>67</td></tr><tr><td>chn</td><td>CHINA (CHN)******</td><td>26</td><td>18</td><td>26</td><td>70</td></tr><tr><td>rus</td><td>RUSSIA (RUS)******</td><td>19</td><td>17</td><td>19</td><td>55</td></tr><tr><td>ger</td><td>GERMANY (GER)******</td><td>17</td><td>10</td><td>15</td><td>42</td></tr><tr><td>jpn</td><td>JAPAN (JPN)******</td><td>12</td><td>8</td><td>21</td><td>41</td></tr><tr><td>fra</td><td>FRANCE (FRA)******</td><td>10</td><td>18</td><td>14</td><td>42</td></tr></table>"
                    },
                    "metadata": {}
                }
            ],
            "execution_count": 31
        },
        {
            "cell_type": "code",
            "source": [
                "delete from medal where gold <= 10;"
            ],
            "metadata": {
                "azdata_cell_guid": "fe59244b-b0b1-4d6f-8c2b-0d512295c763"
            },
            "outputs": [
                {
                    "output_type": "display_data",
                    "data": {
                        "text/html": "Commands completed successfully"
                    },
                    "metadata": {}
                },
                {
                    "output_type": "display_data",
                    "data": {
                        "text/html": "Total execution time: 00:00:00.014"
                    },
                    "metadata": {}
                }
            ],
            "execution_count": 32
        },
        {
            "cell_type": "code",
            "source": [
                "select * from medal;"
            ],
            "metadata": {
                "azdata_cell_guid": "a108cd74-986a-4167-8bec-93d38d0065c3"
            },
            "outputs": [
                {
                    "output_type": "display_data",
                    "data": {
                        "text/html": "(6 row(s) affected)"
                    },
                    "metadata": {}
                },
                {
                    "output_type": "display_data",
                    "data": {
                        "text/html": "Total execution time: 00:00:00.041"
                    },
                    "metadata": {}
                },
                {
                    "output_type": "execute_result",
                    "execution_count": 33,
                    "data": {
                        "application/vnd.dataresource+json": {
                            "schema": {
                                "fields": [
                                    {
                                        "name": "id"
                                    },
                                    {
                                        "name": "country"
                                    },
                                    {
                                        "name": "gold"
                                    },
                                    {
                                        "name": "silver"
                                    },
                                    {
                                        "name": "bronze"
                                    },
                                    {
                                        "name": "total"
                                    }
                                ]
                            },
                            "data": [
                                {
                                    "0": "usa",
                                    "1": "UNITED STATES (USA)******",
                                    "2": "46",
                                    "3": "37",
                                    "4": "38",
                                    "5": "121"
                                },
                                {
                                    "0": "gbr",
                                    "1": "GREAT BRITAIN (GBR)******",
                                    "2": "27",
                                    "3": "23",
                                    "4": "17",
                                    "5": "67"
                                },
                                {
                                    "0": "chn",
                                    "1": "CHINA (CHN)******",
                                    "2": "26",
                                    "3": "18",
                                    "4": "26",
                                    "5": "70"
                                },
                                {
                                    "0": "rus",
                                    "1": "RUSSIA (RUS)******",
                                    "2": "19",
                                    "3": "17",
                                    "4": "19",
                                    "5": "55"
                                },
                                {
                                    "0": "ger",
                                    "1": "GERMANY (GER)******",
                                    "2": "17",
                                    "3": "10",
                                    "4": "15",
                                    "5": "42"
                                },
                                {
                                    "0": "jpn",
                                    "1": "JAPAN (JPN)******",
                                    "2": "12",
                                    "3": "8",
                                    "4": "21",
                                    "5": "41"
                                }
                            ]
                        },
                        "text/html": "<table><tr><th>id</th><th>country</th><th>gold</th><th>silver</th><th>bronze</th><th>total</th></tr><tr><td>usa</td><td>UNITED STATES (USA)******</td><td>46</td><td>37</td><td>38</td><td>121</td></tr><tr><td>gbr</td><td>GREAT BRITAIN (GBR)******</td><td>27</td><td>23</td><td>17</td><td>67</td></tr><tr><td>chn</td><td>CHINA (CHN)******</td><td>26</td><td>18</td><td>26</td><td>70</td></tr><tr><td>rus</td><td>RUSSIA (RUS)******</td><td>19</td><td>17</td><td>19</td><td>55</td></tr><tr><td>ger</td><td>GERMANY (GER)******</td><td>17</td><td>10</td><td>15</td><td>42</td></tr><tr><td>jpn</td><td>JAPAN (JPN)******</td><td>12</td><td>8</td><td>21</td><td>41</td></tr></table>"
                    },
                    "metadata": {}
                }
            ],
            "execution_count": 33
        },
        {
            "cell_type": "code",
            "source": [
                "select * from medal"
            ],
            "metadata": {
                "azdata_cell_guid": "e3392a45-d0f2-44db-a91a-9b7361115247"
            },
            "outputs": [
                {
                    "output_type": "display_data",
                    "data": {
                        "text/html": "(87 row(s) affected)"
                    },
                    "metadata": {}
                },
                {
                    "output_type": "display_data",
                    "data": {
                        "text/html": "Total execution time: 00:00:00.049"
                    },
                    "metadata": {}
                },
                {
                    "output_type": "execute_result",
                    "execution_count": 35,
                    "data": {
                        "application/vnd.dataresource+json": {
                            "schema": {
                                "fields": [
                                    {
                                        "name": "id"
                                    },
                                    {
                                        "name": "country"
                                    },
                                    {
                                        "name": "gold"
                                    },
                                    {
                                        "name": "silver"
                                    },
                                    {
                                        "name": "bronze"
                                    },
                                    {
                                        "name": "total"
                                    }
                                ]
                            },
                            "data": [
                                {
                                    "0": "USA",
                                    "1": "United States",
                                    "2": "46",
                                    "3": "37",
                                    "4": "38",
                                    "5": "121"
                                },
                                {
                                    "0": "GBR",
                                    "1": "Great Britain",
                                    "2": "27",
                                    "3": "23",
                                    "4": "17",
                                    "5": "67"
                                },
                                {
                                    "0": "CHN",
                                    "1": "China",
                                    "2": "26",
                                    "3": "18",
                                    "4": "26",
                                    "5": "70"
                                },
                                {
                                    "0": "RUS",
                                    "1": "Russia",
                                    "2": "19",
                                    "3": "17",
                                    "4": "19",
                                    "5": "55"
                                },
                                {
                                    "0": "GER",
                                    "1": "Germany",
                                    "2": "17",
                                    "3": "10",
                                    "4": "15",
                                    "5": "42"
                                },
                                {
                                    "0": "JPN",
                                    "1": "Japan",
                                    "2": "12",
                                    "3": "8",
                                    "4": "21",
                                    "5": "41"
                                },
                                {
                                    "0": "FRA",
                                    "1": "France",
                                    "2": "10",
                                    "3": "18",
                                    "4": "14",
                                    "5": "42"
                                },
                                {
                                    "0": "KOR",
                                    "1": "South Korea",
                                    "2": "9",
                                    "3": "3",
                                    "4": "9",
                                    "5": "21"
                                },
                                {
                                    "0": "ITA",
                                    "1": "Italy",
                                    "2": "8",
                                    "3": "12",
                                    "4": "8",
                                    "5": "28"
                                },
                                {
                                    "0": "AUS",
                                    "1": "Australia",
                                    "2": "8",
                                    "3": "11",
                                    "4": "10",
                                    "5": "29"
                                },
                                {
                                    "0": "NED",
                                    "1": "Netherlands",
                                    "2": "8",
                                    "3": "7",
                                    "4": "4",
                                    "5": "19"
                                },
                                {
                                    "0": "HUN",
                                    "1": "Hungary",
                                    "2": "8",
                                    "3": "3",
                                    "4": "4",
                                    "5": "15"
                                },
                                {
                                    "0": "BRA",
                                    "1": "Brazil",
                                    "2": "7",
                                    "3": "6",
                                    "4": "6",
                                    "5": "19"
                                },
                                {
                                    "0": "ESP",
                                    "1": "Spain",
                                    "2": "7",
                                    "3": "4",
                                    "4": "6",
                                    "5": "17"
                                },
                                {
                                    "0": "KEN",
                                    "1": "Kenya",
                                    "2": "6",
                                    "3": "6",
                                    "4": "1",
                                    "5": "13"
                                },
                                {
                                    "0": "JAM",
                                    "1": "Jamaica",
                                    "2": "6",
                                    "3": "3",
                                    "4": "2",
                                    "5": "11"
                                },
                                {
                                    "0": "CRO",
                                    "1": "Croatia",
                                    "2": "5",
                                    "3": "3",
                                    "4": "2",
                                    "5": "10"
                                },
                                {
                                    "0": "CUB",
                                    "1": "Cuba",
                                    "2": "5",
                                    "3": "2",
                                    "4": "4",
                                    "5": "11"
                                },
                                {
                                    "0": "NZL",
                                    "1": "New Zealand",
                                    "2": "4",
                                    "3": "9",
                                    "4": "5",
                                    "5": "18"
                                },
                                {
                                    "0": "CAN",
                                    "1": "Canada",
                                    "2": "4",
                                    "3": "3",
                                    "4": "15",
                                    "5": "22"
                                },
                                {
                                    "0": "UZB",
                                    "1": "Uzbekistan",
                                    "2": "4",
                                    "3": "2",
                                    "4": "7",
                                    "5": "13"
                                },
                                {
                                    "0": "KAZ",
                                    "1": "Kazakhstan",
                                    "2": "3",
                                    "3": "5",
                                    "4": "9",
                                    "5": "17"
                                },
                                {
                                    "0": "COL",
                                    "1": "Colombia",
                                    "2": "3",
                                    "3": "2",
                                    "4": "3",
                                    "5": "8"
                                },
                                {
                                    "0": "SUI",
                                    "1": "Switzerland",
                                    "2": "3",
                                    "3": "2",
                                    "4": "2",
                                    "5": "7"
                                },
                                {
                                    "0": "IRI",
                                    "1": "Iran",
                                    "2": "3",
                                    "3": "1",
                                    "4": "4",
                                    "5": "8"
                                },
                                {
                                    "0": "GRE",
                                    "1": "Greece",
                                    "2": "3",
                                    "3": "1",
                                    "4": "2",
                                    "5": "6"
                                },
                                {
                                    "0": "ARG",
                                    "1": "Argentina",
                                    "2": "3",
                                    "3": "1",
                                    "4": "0",
                                    "5": "4"
                                },
                                {
                                    "0": "DEN",
                                    "1": "Denmark",
                                    "2": "2",
                                    "3": "6",
                                    "4": "7",
                                    "5": "15"
                                },
                                {
                                    "0": "SWE",
                                    "1": "Sweden",
                                    "2": "2",
                                    "3": "6",
                                    "4": "3",
                                    "5": "11"
                                },
                                {
                                    "0": "RSA",
                                    "1": "South Africa",
                                    "2": "2",
                                    "3": "6",
                                    "4": "2",
                                    "5": "10"
                                },
                                {
                                    "0": "UKR",
                                    "1": "Ukraine",
                                    "2": "2",
                                    "3": "5",
                                    "4": "4",
                                    "5": "11"
                                },
                                {
                                    "0": "SRB",
                                    "1": "Serbia",
                                    "2": "2",
                                    "3": "4",
                                    "4": "2",
                                    "5": "8"
                                },
                                {
                                    "0": "POL",
                                    "1": "Poland",
                                    "2": "2",
                                    "3": "3",
                                    "4": "6",
                                    "5": "11"
                                },
                                {
                                    "0": "PRK",
                                    "1": "North Korea",
                                    "2": "2",
                                    "3": "3",
                                    "4": "2",
                                    "5": "7"
                                },
                                {
                                    "0": "BEL",
                                    "1": "Belgium",
                                    "2": "2",
                                    "3": "2",
                                    "4": "2",
                                    "5": "6"
                                },
                                {
                                    "0": "THA",
                                    "1": "Thailand",
                                    "2": "2",
                                    "3": "2",
                                    "4": "2",
                                    "5": "6"
                                },
                                {
                                    "0": "SVK",
                                    "1": "Slovakia",
                                    "2": "2",
                                    "3": "2",
                                    "4": "0",
                                    "5": "4"
                                },
                                {
                                    "0": "GEO",
                                    "1": "Georgia",
                                    "2": "2",
                                    "3": "1",
                                    "4": "4",
                                    "5": "7"
                                },
                                {
                                    "0": "AZE",
                                    "1": "Azerbaijan",
                                    "2": "1",
                                    "3": "7",
                                    "4": "10",
                                    "5": "18"
                                },
                                {
                                    "0": "BLR",
                                    "1": "Belarus",
                                    "2": "1",
                                    "3": "4",
                                    "4": "4",
                                    "5": "9"
                                },
                                {
                                    "0": "TUR",
                                    "1": "Turkey",
                                    "2": "1",
                                    "3": "3",
                                    "4": "4",
                                    "5": "8"
                                },
                                {
                                    "0": "ARM",
                                    "1": "Armenia",
                                    "2": "1",
                                    "3": "3",
                                    "4": "0",
                                    "5": "4"
                                },
                                {
                                    "0": "CZE",
                                    "1": "Czech Republic",
                                    "2": "1",
                                    "3": "2",
                                    "4": "7",
                                    "5": "10"
                                },
                                {
                                    "0": "ETH",
                                    "1": "Ethiopia",
                                    "2": "1",
                                    "3": "2",
                                    "4": "5",
                                    "5": "8"
                                },
                                {
                                    "0": "SLO",
                                    "1": "Slovenia",
                                    "2": "1",
                                    "3": "2",
                                    "4": "1",
                                    "5": "4"
                                },
                                {
                                    "0": "INA",
                                    "1": "Indonesia",
                                    "2": "1",
                                    "3": "2",
                                    "4": "0",
                                    "5": "3"
                                },
                                {
                                    "0": "ROU",
                                    "1": "Romania",
                                    "2": "1",
                                    "3": "1",
                                    "4": "2",
                                    "5": "4"
                                },
                                {
                                    "0": "BRN",
                                    "1": "Bahrain",
                                    "2": "1",
                                    "3": "1",
                                    "4": "0",
                                    "5": "2"
                                },
                                {
                                    "0": "VIE",
                                    "1": "Vietnam",
                                    "2": "1",
                                    "3": "1",
                                    "4": "0",
                                    "5": "2"
                                },
                                {
                                    "0": "TPE",
                                    "1": "Chinese Taipei",
                                    "2": "1",
                                    "3": "0",
                                    "4": "2",
                                    "5": "3"
                                },
                                {
                                    "0": "BAH",
                                    "1": "Bahamas",
                                    "2": "1",
                                    "3": "0",
                                    "4": "1",
                                    "5": "2"
                                },
                                {
                                    "0": "CIV",
                                    "1": "Côte d'Ivoire",
                                    "2": "1",
                                    "3": "0",
                                    "4": "1",
                                    "5": "2"
                                },
                                {
                                    "0": "IOA",
                                    "1": "Independent Olympic Athletes",
                                    "2": "1",
                                    "3": "0",
                                    "4": "1",
                                    "5": "2"
                                },
                                {
                                    "0": "FIJ",
                                    "1": "Fiji",
                                    "2": "1",
                                    "3": "0",
                                    "4": "0",
                                    "5": "1"
                                },
                                {
                                    "0": "JOR",
                                    "1": "Jordan",
                                    "2": "1",
                                    "3": "0",
                                    "4": "0",
                                    "5": "1"
                                },
                                {
                                    "0": "KOS",
                                    "1": "Kosovo",
                                    "2": "1",
                                    "3": "0",
                                    "4": "0",
                                    "5": "1"
                                },
                                {
                                    "0": "PUR",
                                    "1": "Puerto Rico",
                                    "2": "1",
                                    "3": "0",
                                    "4": "0",
                                    "5": "1"
                                },
                                {
                                    "0": "SIN",
                                    "1": "Singapore",
                                    "2": "1",
                                    "3": "0",
                                    "4": "0",
                                    "5": "1"
                                },
                                {
                                    "0": "TJK",
                                    "1": "Tajikistan",
                                    "2": "1",
                                    "3": "0",
                                    "4": "0",
                                    "5": "1"
                                },
                                {
                                    "0": "MAS",
                                    "1": "Malaysia",
                                    "2": "0",
                                    "3": "4",
                                    "4": "1",
                                    "5": "5"
                                },
                                {
                                    "0": "MEX",
                                    "1": "Mexico",
                                    "2": "0",
                                    "3": "3",
                                    "4": "2",
                                    "5": "5"
                                },
                                {
                                    "0": "ALG",
                                    "1": "Algeria",
                                    "2": "0",
                                    "3": "2",
                                    "4": "0",
                                    "5": "2"
                                },
                                {
                                    "0": "IRL",
                                    "1": "Ireland",
                                    "2": "0",
                                    "3": "2",
                                    "4": "0",
                                    "5": "2"
                                },
                                {
                                    "0": "LTU",
                                    "1": "Lithuania",
                                    "2": "0",
                                    "3": "1",
                                    "4": "3",
                                    "5": "4"
                                },
                                {
                                    "0": "BUL",
                                    "1": "Bulgaria",
                                    "2": "0",
                                    "3": "1",
                                    "4": "2",
                                    "5": "3"
                                },
                                {
                                    "0": "VEN",
                                    "1": "Venezuela",
                                    "2": "0",
                                    "3": "1",
                                    "4": "2",
                                    "5": "3"
                                },
                                {
                                    "0": "IND",
                                    "1": "India",
                                    "2": "0",
                                    "3": "1",
                                    "4": "1",
                                    "5": "2"
                                },
                                {
                                    "0": "MGL",
                                    "1": "Mongolia",
                                    "2": "0",
                                    "3": "1",
                                    "4": "1",
                                    "5": "2"
                                },
                                {
                                    "0": "BDI",
                                    "1": "Burundi",
                                    "2": "0",
                                    "3": "1",
                                    "4": "0",
                                    "5": "1"
                                },
                                {
                                    "0": "GRN",
                                    "1": "Grenada",
                                    "2": "0",
                                    "3": "1",
                                    "4": "0",
                                    "5": "1"
                                },
                                {
                                    "0": "NIG",
                                    "1": "Niger",
                                    "2": "0",
                                    "3": "1",
                                    "4": "0",
                                    "5": "1"
                                },
                                {
                                    "0": "PHI",
                                    "1": "Philippines",
                                    "2": "0",
                                    "3": "1",
                                    "4": "0",
                                    "5": "1"
                                },
                                {
                                    "0": "QAT",
                                    "1": "Qatar",
                                    "2": "0",
                                    "3": "1",
                                    "4": "0",
                                    "5": "1"
                                },
                                {
                                    "0": "NOR",
                                    "1": "Norway",
                                    "2": "0",
                                    "3": "0",
                                    "4": "4",
                                    "5": "4"
                                },
                                {
                                    "0": "EGY",
                                    "1": "Egypt",
                                    "2": "0",
                                    "3": "0",
                                    "4": "3",
                                    "5": "3"
                                },
                                {
                                    "0": "TUN",
                                    "1": "Tunisia",
                                    "2": "0",
                                    "3": "0",
                                    "4": "3",
                                    "5": "3"
                                },
                                {
                                    "0": "ISR",
                                    "1": "Israel",
                                    "2": "0",
                                    "3": "0",
                                    "4": "2",
                                    "5": "2"
                                },
                                {
                                    "0": "AUT",
                                    "1": "Austria",
                                    "2": "0",
                                    "3": "0",
                                    "4": "1",
                                    "5": "1"
                                },
                                {
                                    "0": "DOM",
                                    "1": "Dominican Republic",
                                    "2": "0",
                                    "3": "0",
                                    "4": "1",
                                    "5": "1"
                                },
                                {
                                    "0": "EST",
                                    "1": "Estonia",
                                    "2": "0",
                                    "3": "0",
                                    "4": "1",
                                    "5": "1"
                                },
                                {
                                    "0": "FIN",
                                    "1": "Finland",
                                    "2": "0",
                                    "3": "0",
                                    "4": "1",
                                    "5": "1"
                                },
                                {
                                    "0": "MAR",
                                    "1": "Morocco",
                                    "2": "0",
                                    "3": "0",
                                    "4": "1",
                                    "5": "1"
                                },
                                {
                                    "0": "MDA",
                                    "1": "Moldova",
                                    "2": "0",
                                    "3": "0",
                                    "4": "1",
                                    "5": "1"
                                },
                                {
                                    "0": "NGR",
                                    "1": "Nigeria",
                                    "2": "0",
                                    "3": "0",
                                    "4": "1",
                                    "5": "1"
                                },
                                {
                                    "0": "POR",
                                    "1": "Portugal",
                                    "2": "0",
                                    "3": "0",
                                    "4": "1",
                                    "5": "1"
                                },
                                {
                                    "0": "TTO",
                                    "1": "Trinidad and Tobago",
                                    "2": "0",
                                    "3": "0",
                                    "4": "1",
                                    "5": "1"
                                },
                                {
                                    "0": "UAE",
                                    "1": "United Arab Emirates",
                                    "2": "0",
                                    "3": "0",
                                    "4": "1",
                                    "5": "1"
                                }
                            ]
                        },
                        "text/html": "<table><tr><th>id</th><th>country</th><th>gold</th><th>silver</th><th>bronze</th><th>total</th></tr><tr><td>USA</td><td>United States</td><td>46</td><td>37</td><td>38</td><td>121</td></tr><tr><td>GBR</td><td>Great Britain</td><td>27</td><td>23</td><td>17</td><td>67</td></tr><tr><td>CHN</td><td>China</td><td>26</td><td>18</td><td>26</td><td>70</td></tr><tr><td>RUS</td><td>Russia</td><td>19</td><td>17</td><td>19</td><td>55</td></tr><tr><td>GER</td><td>Germany</td><td>17</td><td>10</td><td>15</td><td>42</td></tr><tr><td>JPN</td><td>Japan</td><td>12</td><td>8</td><td>21</td><td>41</td></tr><tr><td>FRA</td><td>France</td><td>10</td><td>18</td><td>14</td><td>42</td></tr><tr><td>KOR</td><td>South Korea</td><td>9</td><td>3</td><td>9</td><td>21</td></tr><tr><td>ITA</td><td>Italy</td><td>8</td><td>12</td><td>8</td><td>28</td></tr><tr><td>AUS</td><td>Australia</td><td>8</td><td>11</td><td>10</td><td>29</td></tr><tr><td>NED</td><td>Netherlands</td><td>8</td><td>7</td><td>4</td><td>19</td></tr><tr><td>HUN</td><td>Hungary</td><td>8</td><td>3</td><td>4</td><td>15</td></tr><tr><td>BRA</td><td>Brazil</td><td>7</td><td>6</td><td>6</td><td>19</td></tr><tr><td>ESP</td><td>Spain</td><td>7</td><td>4</td><td>6</td><td>17</td></tr><tr><td>KEN</td><td>Kenya</td><td>6</td><td>6</td><td>1</td><td>13</td></tr><tr><td>JAM</td><td>Jamaica</td><td>6</td><td>3</td><td>2</td><td>11</td></tr><tr><td>CRO</td><td>Croatia</td><td>5</td><td>3</td><td>2</td><td>10</td></tr><tr><td>CUB</td><td>Cuba</td><td>5</td><td>2</td><td>4</td><td>11</td></tr><tr><td>NZL</td><td>New Zealand</td><td>4</td><td>9</td><td>5</td><td>18</td></tr><tr><td>CAN</td><td>Canada</td><td>4</td><td>3</td><td>15</td><td>22</td></tr><tr><td>UZB</td><td>Uzbekistan</td><td>4</td><td>2</td><td>7</td><td>13</td></tr><tr><td>KAZ</td><td>Kazakhstan</td><td>3</td><td>5</td><td>9</td><td>17</td></tr><tr><td>COL</td><td>Colombia</td><td>3</td><td>2</td><td>3</td><td>8</td></tr><tr><td>SUI</td><td>Switzerland</td><td>3</td><td>2</td><td>2</td><td>7</td></tr><tr><td>IRI</td><td>Iran</td><td>3</td><td>1</td><td>4</td><td>8</td></tr><tr><td>GRE</td><td>Greece</td><td>3</td><td>1</td><td>2</td><td>6</td></tr><tr><td>ARG</td><td>Argentina</td><td>3</td><td>1</td><td>0</td><td>4</td></tr><tr><td>DEN</td><td>Denmark</td><td>2</td><td>6</td><td>7</td><td>15</td></tr><tr><td>SWE</td><td>Sweden</td><td>2</td><td>6</td><td>3</td><td>11</td></tr><tr><td>RSA</td><td>South Africa</td><td>2</td><td>6</td><td>2</td><td>10</td></tr><tr><td>UKR</td><td>Ukraine</td><td>2</td><td>5</td><td>4</td><td>11</td></tr><tr><td>SRB</td><td>Serbia</td><td>2</td><td>4</td><td>2</td><td>8</td></tr><tr><td>POL</td><td>Poland</td><td>2</td><td>3</td><td>6</td><td>11</td></tr><tr><td>PRK</td><td>North Korea</td><td>2</td><td>3</td><td>2</td><td>7</td></tr><tr><td>BEL</td><td>Belgium</td><td>2</td><td>2</td><td>2</td><td>6</td></tr><tr><td>THA</td><td>Thailand</td><td>2</td><td>2</td><td>2</td><td>6</td></tr><tr><td>SVK</td><td>Slovakia</td><td>2</td><td>2</td><td>0</td><td>4</td></tr><tr><td>GEO</td><td>Georgia</td><td>2</td><td>1</td><td>4</td><td>7</td></tr><tr><td>AZE</td><td>Azerbaijan</td><td>1</td><td>7</td><td>10</td><td>18</td></tr><tr><td>BLR</td><td>Belarus</td><td>1</td><td>4</td><td>4</td><td>9</td></tr><tr><td>TUR</td><td>Turkey</td><td>1</td><td>3</td><td>4</td><td>8</td></tr><tr><td>ARM</td><td>Armenia</td><td>1</td><td>3</td><td>0</td><td>4</td></tr><tr><td>CZE</td><td>Czech Republic</td><td>1</td><td>2</td><td>7</td><td>10</td></tr><tr><td>ETH</td><td>Ethiopia</td><td>1</td><td>2</td><td>5</td><td>8</td></tr><tr><td>SLO</td><td>Slovenia</td><td>1</td><td>2</td><td>1</td><td>4</td></tr><tr><td>INA</td><td>Indonesia</td><td>1</td><td>2</td><td>0</td><td>3</td></tr><tr><td>ROU</td><td>Romania</td><td>1</td><td>1</td><td>2</td><td>4</td></tr><tr><td>BRN</td><td>Bahrain</td><td>1</td><td>1</td><td>0</td><td>2</td></tr><tr><td>VIE</td><td>Vietnam</td><td>1</td><td>1</td><td>0</td><td>2</td></tr><tr><td>TPE</td><td>Chinese Taipei</td><td>1</td><td>0</td><td>2</td><td>3</td></tr><tr><td>BAH</td><td>Bahamas</td><td>1</td><td>0</td><td>1</td><td>2</td></tr><tr><td>CIV</td><td>Côte d'Ivoire</td><td>1</td><td>0</td><td>1</td><td>2</td></tr><tr><td>IOA</td><td>Independent Olympic Athletes</td><td>1</td><td>0</td><td>1</td><td>2</td></tr><tr><td>FIJ</td><td>Fiji</td><td>1</td><td>0</td><td>0</td><td>1</td></tr><tr><td>JOR</td><td>Jordan</td><td>1</td><td>0</td><td>0</td><td>1</td></tr><tr><td>KOS</td><td>Kosovo</td><td>1</td><td>0</td><td>0</td><td>1</td></tr><tr><td>PUR</td><td>Puerto Rico</td><td>1</td><td>0</td><td>0</td><td>1</td></tr><tr><td>SIN</td><td>Singapore</td><td>1</td><td>0</td><td>0</td><td>1</td></tr><tr><td>TJK</td><td>Tajikistan</td><td>1</td><td>0</td><td>0</td><td>1</td></tr><tr><td>MAS</td><td>Malaysia</td><td>0</td><td>4</td><td>1</td><td>5</td></tr><tr><td>MEX</td><td>Mexico</td><td>0</td><td>3</td><td>2</td><td>5</td></tr><tr><td>ALG</td><td>Algeria</td><td>0</td><td>2</td><td>0</td><td>2</td></tr><tr><td>IRL</td><td>Ireland</td><td>0</td><td>2</td><td>0</td><td>2</td></tr><tr><td>LTU</td><td>Lithuania</td><td>0</td><td>1</td><td>3</td><td>4</td></tr><tr><td>BUL</td><td>Bulgaria</td><td>0</td><td>1</td><td>2</td><td>3</td></tr><tr><td>VEN</td><td>Venezuela</td><td>0</td><td>1</td><td>2</td><td>3</td></tr><tr><td>IND</td><td>India</td><td>0</td><td>1</td><td>1</td><td>2</td></tr><tr><td>MGL</td><td>Mongolia</td><td>0</td><td>1</td><td>1</td><td>2</td></tr><tr><td>BDI</td><td>Burundi</td><td>0</td><td>1</td><td>0</td><td>1</td></tr><tr><td>GRN</td><td>Grenada</td><td>0</td><td>1</td><td>0</td><td>1</td></tr><tr><td>NIG</td><td>Niger</td><td>0</td><td>1</td><td>0</td><td>1</td></tr><tr><td>PHI</td><td>Philippines</td><td>0</td><td>1</td><td>0</td><td>1</td></tr><tr><td>QAT</td><td>Qatar</td><td>0</td><td>1</td><td>0</td><td>1</td></tr><tr><td>NOR</td><td>Norway</td><td>0</td><td>0</td><td>4</td><td>4</td></tr><tr><td>EGY</td><td>Egypt</td><td>0</td><td>0</td><td>3</td><td>3</td></tr><tr><td>TUN</td><td>Tunisia</td><td>0</td><td>0</td><td>3</td><td>3</td></tr><tr><td>ISR</td><td>Israel</td><td>0</td><td>0</td><td>2</td><td>2</td></tr><tr><td>AUT</td><td>Austria</td><td>0</td><td>0</td><td>1</td><td>1</td></tr><tr><td>DOM</td><td>Dominican Republic</td><td>0</td><td>0</td><td>1</td><td>1</td></tr><tr><td>EST</td><td>Estonia</td><td>0</td><td>0</td><td>1</td><td>1</td></tr><tr><td>FIN</td><td>Finland</td><td>0</td><td>0</td><td>1</td><td>1</td></tr><tr><td>MAR</td><td>Morocco</td><td>0</td><td>0</td><td>1</td><td>1</td></tr><tr><td>MDA</td><td>Moldova</td><td>0</td><td>0</td><td>1</td><td>1</td></tr><tr><td>NGR</td><td>Nigeria</td><td>0</td><td>0</td><td>1</td><td>1</td></tr><tr><td>POR</td><td>Portugal</td><td>0</td><td>0</td><td>1</td><td>1</td></tr><tr><td>TTO</td><td>Trinidad and Tobago</td><td>0</td><td>0</td><td>1</td><td>1</td></tr><tr><td>UAE</td><td>United Arab Emirates</td><td>0</td><td>0</td><td>1</td><td>1</td></tr></table>"
                    },
                    "metadata": {}
                }
            ],
            "execution_count": 35
        }
    ]
}