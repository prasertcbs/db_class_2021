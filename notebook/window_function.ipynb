{
    "metadata": {
        "kernelspec": {
            "name": "SQL",
            "display_name": "SQL",
            "language": "sql"
        },
        "language_info": {
            "name": "sql",
            "version": ""
        },
        "extensions": {
            "azuredatastudio": {
                "version": 1,
                "views": []
            }
        }
    },
    "nbformat_minor": 2,
    "nbformat": 4,
    "cells": [
        {
            "cell_type": "code",
            "source": [
                "drop table if exists province;\r\n",
                "\r\n",
                "CREATE TABLE province (\r\n",
                "    p_id varchar(3),\r\n",
                "    name varchar(15),\r\n",
                "    name_en varchar(24),\r\n",
                "    region varchar(2),\r\n",
                "    area_km2 real\r\n",
                ");\r\n",
                "\r\n",
                "\r\n",
                "INSERT INTO province VALUES ('กจ', 'กาญจนบุรี', 'Kanchanaburi', 'C', 19483.148);\r\n",
                "INSERT INTO province VALUES ('กทม', 'กรุงเทพมหานคร', 'Bangkok', 'C', 1568.737);\r\n",
                "INSERT INTO province VALUES ('จบ', 'จันทบุรี', 'Chanthaburi', 'C', 6338);\r\n",
                "INSERT INTO province VALUES ('ฉช', 'ฉะเชิงเทรา', 'Chachoengsao', 'C', 5351);\r\n",
                "INSERT INTO province VALUES ('ชน', 'ชัยนาท', 'Chainat', 'C', 2469.746);\r\n",
                "INSERT INTO province VALUES ('ชบ', 'ชลบุรี', 'Chonburi', 'C', 4611.829000000001);\r\n",
                "INSERT INTO province VALUES ('ตร', 'ตราด', 'Trat', 'C', 2819);\r\n",
                "INSERT INTO province VALUES ('นฐ', 'นครปฐม', 'Nakhon Pathom', 'C', 2168.327);\r\n",
                "INSERT INTO province VALUES ('นบ', 'นนทบุรี', 'Nonthaburi', 'C', 622.303);\r\n",
                "INSERT INTO province VALUES ('นย', 'นครนายก', 'Nakhon Nayok', 'C', 2122);\r\n",
                "INSERT INTO province VALUES ('ปข', 'ประจวบคีรีขันธ์', 'Prachuap Khiri Khan', 'C', 6367.62);\r\n",
                "INSERT INTO province VALUES ('ปจ', 'ปราจีนบุรี', 'Prachinburi', 'C', 4762.362);\r\n",
                "INSERT INTO province VALUES ('ปท', 'ปทุมธานี', 'Pathum Thani', 'C', 1525.856);\r\n",
                "INSERT INTO province VALUES ('พบ', 'เพชรบุรี', 'Phetchaburi', 'C', 6225.138000000001);\r\n",
                "INSERT INTO province VALUES ('รบ', 'ราชบุรี', 'Ratchaburi', 'C', 5196.462);\r\n",
                "INSERT INTO province VALUES ('รย', 'ระยอง', 'Rayong', 'C', 3552);\r\n",
                "INSERT INTO province VALUES ('ลบ', 'ลพบุรี', 'Lopburi', 'C', 6199.753000000001);\r\n",
                "INSERT INTO province VALUES ('สก', 'สระแก้ว', 'Sa Kaeo', 'C', 7195.436);\r\n",
                "INSERT INTO province VALUES ('สค', 'สมุทรสาคร', 'Samut Sakhon', 'C', 872.347);\r\n",
                "INSERT INTO province VALUES ('สบ', 'สระบุรี', 'Saraburi', 'C', 3576.486);\r\n",
                "INSERT INTO province VALUES ('สป', 'สมุทรปราการ', 'Samut Prakan', 'C', 1004.092);\r\n",
                "INSERT INTO province VALUES ('สพ', 'สุพรรณบุรี', 'Suphan Buri', 'C', 5358.008000000001);\r\n",
                "INSERT INTO province VALUES ('สส', 'สมุทรสงคราม', 'Samut Songkhram', 'C', 416.707);\r\n",
                "INSERT INTO province VALUES ('สห', 'สิงห์บุรี', 'Sing Buri', 'C', 822.4780000000001);\r\n",
                "INSERT INTO province VALUES ('อท', 'อ่างทอง', 'Ang Thong', 'C', 968.372);\r\n",
                "INSERT INTO province VALUES ('อย', 'พระนครศรีอยุธยา', 'Phra Nakhon Si Ayutthaya', 'C', 2556.64);\r\n",
                "INSERT INTO province VALUES ('กพ', 'กำแพงเพชร', 'Kamphaeng Phet', 'N', 8607.49);\r\n",
                "INSERT INTO province VALUES ('ชม', 'เชียงใหม่', 'Chiang Mai', 'N', 20107.057);\r\n",
                "INSERT INTO province VALUES ('ชร', 'เชียงราย', 'Chiang Rai', 'N', 11678.368999999999);\r\n",
                "INSERT INTO province VALUES ('ตก', 'ตาก', 'Tak', 'N', 16406.65);\r\n",
                "INSERT INTO province VALUES ('นน', 'น่าน', 'Nan', 'N', 11472.072);\r\n",
                "INSERT INTO province VALUES ('นว', 'นครสวรรค์', 'Nakhon Sawan', 'N', 9597.677);\r\n",
                "INSERT INTO province VALUES ('พจ', 'พิจิตร', 'Phichit', 'N', 4531.013);\r\n",
                "INSERT INTO province VALUES ('พช', 'เพชรบูรณ์', 'Phetchabun', 'N', 12668.416000000001);\r\n",
                "INSERT INTO province VALUES ('พย', 'พะเยา', 'Phayao', 'N', 6335.06);\r\n",
                "INSERT INTO province VALUES ('พร', 'แพร่', 'Phrae', 'N', 6538.598000000001);\r\n",
                "INSERT INTO province VALUES ('พล', 'พิษณุโลก', 'Phitsanulok', 'N', 10815.854);\r\n",
                "INSERT INTO province VALUES ('มส', 'แม่ฮ่องสอน', 'Mae Hong Son', 'N', 12681.258999999998);\r\n",
                "INSERT INTO province VALUES ('ลป', 'ลำปาง', 'Lampang', 'N', 12533.961000000001);\r\n",
                "INSERT INTO province VALUES ('ลพ', 'ลำพูน', 'Lamphun', 'N', 4505.8820000000005);\r\n",
                "INSERT INTO province VALUES ('สท', 'สุโขทัย', 'Sukhothai', 'N', 6596.092);\r\n",
                "INSERT INTO province VALUES ('อต', 'อุตรดิตถ์', 'Uttaradit', 'N', 7838.592);\r\n",
                "INSERT INTO province VALUES ('อน', 'อุทัยธานี', 'Uthai Thani', 'N', 6730.246);\r\n",
                "INSERT INTO province VALUES ('กส', 'กาฬสินธุ์', 'Kalasin', 'NE', 6946.746);\r\n",
                "INSERT INTO province VALUES ('ขก', 'ขอนแก่น', 'Khon Kaen', 'NE', 10885.991000000002);\r\n",
                "INSERT INTO province VALUES ('ชย', 'ชัยภูมิ', 'Chaiyaphum', 'NE', 12778.287);\r\n",
                "INSERT INTO province VALUES ('นค', 'หนองคาย', 'Nong Khai', 'NE', 3027.28);\r\n",
                "INSERT INTO province VALUES ('นพ', 'นครพนม', 'Nakhon Phanom', 'NE', 5512.668000000001);\r\n",
                "INSERT INTO province VALUES ('นภ', 'หนองบัวลำภู', 'Nong Bua Lamphu', 'NE', 3859.086);\r\n",
                "INSERT INTO province VALUES ('นม', 'นครราชสีมา', 'Nakhon Ratchasima', 'NE', 20493.964);\r\n",
                "INSERT INTO province VALUES ('บก', 'บึงกาฬ', 'Bueng Kan', 'NE', 4305);\r\n",
                "INSERT INTO province VALUES ('บร', 'บุรีรัมย์', 'Buriram', 'NE', 10322.885);\r\n",
                "INSERT INTO province VALUES ('มค', 'มหาสารคาม', 'Maha Sarakham', 'NE', 5291.683000000001);\r\n",
                "INSERT INTO province VALUES ('มห', 'มุกดาหาร', 'Mukdahan', 'NE', 4339.83);\r\n",
                "INSERT INTO province VALUES ('ยส', 'ยโสธร', 'Yasothon', 'NE', 4161.664000000001);\r\n",
                "INSERT INTO province VALUES ('รอ', 'ร้อยเอ็ด', 'Roi Et', 'NE', 8299.449);\r\n",
                "INSERT INTO province VALUES ('ลย', 'เลย', 'Loei', 'NE', 11424.612);\r\n",
                "INSERT INTO province VALUES ('ศก', 'ศรีสะเกษ', 'Sisaket', 'NE', 8839.976);\r\n",
                "INSERT INTO province VALUES ('สน', 'สกลนคร', 'Sakon Nakhon', 'NE', 9605.764000000001);\r\n",
                "INSERT INTO province VALUES ('สร', 'สุรินทร์', 'Surin', 'NE', 8124.056);\r\n",
                "INSERT INTO province VALUES ('อจ', 'อำนาจเจริญ', 'Amnat Charoen', 'NE', 3161.248);\r\n",
                "INSERT INTO province VALUES ('อด', 'อุดรธานี', 'Udon Thani', 'NE', 11730.302);\r\n",
                "INSERT INTO province VALUES ('อบ', 'อุบลราชธานี', 'Ubon Ratchathani', 'NE', 16112.65);\r\n",
                "INSERT INTO province VALUES ('กบ', 'กระบี่', 'Krabi', 'S', 4708.512);\r\n",
                "INSERT INTO province VALUES ('ชพ', 'ชุมพร', 'Chumphon', 'S', 6010.849);\r\n",
                "INSERT INTO province VALUES ('ตง', 'ตรัง', 'Trang', 'S', 4917.519);\r\n",
                "INSERT INTO province VALUES ('นธ', 'นราธิวาส', 'Narathiwat', 'S', 4475.43);\r\n",
                "INSERT INTO province VALUES ('นศ', 'นครศรีธรรมราช', 'Nakhon Si Thammarat', 'S', 9942.502);\r\n",
                "INSERT INTO province VALUES ('ปน', 'ปัตตานี', 'Pattani', 'S', 1940.356);\r\n",
                "INSERT INTO province VALUES ('พง', 'พังงา', 'Phang Nga', 'S', 4170.895);\r\n",
                "INSERT INTO province VALUES ('พท', 'พัทลุง', 'Phattalung', 'S', 3424.473);\r\n",
                "INSERT INTO province VALUES ('ภก', 'ภูเก็ต', 'Phuket', 'S', 543.034);\r\n",
                "INSERT INTO province VALUES ('ยล', 'ยะลา', 'Yala', 'S', 4521.0779999999995);\r\n",
                "INSERT INTO province VALUES ('รน', 'ระนอง', 'Ranong', 'S', 3298.045);\r\n",
                "INSERT INTO province VALUES ('สข', 'สงขลา', 'Songkhla', 'S', 7393.889);\r\n",
                "INSERT INTO province VALUES ('สฎ', 'สุราษฎร์ธานี', 'Surat Thani', 'S', 12891.469);\r\n",
                "INSERT INTO province VALUES ('สต', 'สตูล', 'Satun', 'S', 2478.9770000000003);\r\n",
                "\r\n",
                ""
            ],
            "metadata": {
                "azdata_cell_guid": "418d2072-5201-4603-8600-6501457d448f"
            },
            "outputs": [
                {
                    "output_type": "display_data",
                    "data": {
                        "text/html": "Commands completed successfully"
                    },
                    "metadata": {}
                },
                {
                    "output_type": "display_data",
                    "data": {
                        "text/html": "Commands completed successfully"
                    },
                    "metadata": {}
                },
                {
                    "output_type": "display_data",
                    "data": {
                        "text/html": "Commands completed successfully"
                    },
                    "metadata": {}
                },
                {
                    "output_type": "display_data",
                    "data": {
                        "text/html": "Commands completed successfully"
                    },
                    "metadata": {}
                },
                {
                    "output_type": "display_data",
                    "data": {
                        "text/html": "Commands completed successfully"
                    },
                    "metadata": {}
                },
                {
                    "output_type": "display_data",
                    "data": {
                        "text/html": "Commands completed successfully"
                    },
                    "metadata": {}
                },
                {
                    "output_type": "display_data",
                    "data": {
                        "text/html": "Commands completed successfully"
                    },
                    "metadata": {}
                },
                {
                    "output_type": "display_data",
                    "data": {
                        "text/html": "Commands completed successfully"
                    },
                    "metadata": {}
                },
                {
                    "output_type": "display_data",
                    "data": {
                        "text/html": "Commands completed successfully"
                    },
                    "metadata": {}
                },
                {
                    "output_type": "display_data",
                    "data": {
                        "text/html": "Commands completed successfully"
                    },
                    "metadata": {}
                },
                {
                    "output_type": "display_data",
                    "data": {
                        "text/html": "Commands completed successfully"
                    },
                    "metadata": {}
                },
                {
                    "output_type": "display_data",
                    "data": {
                        "text/html": "Commands completed successfully"
                    },
                    "metadata": {}
                },
                {
                    "output_type": "display_data",
                    "data": {
                        "text/html": "Commands completed successfully"
                    },
                    "metadata": {}
                },
                {
                    "output_type": "display_data",
                    "data": {
                        "text/html": "Commands completed successfully"
                    },
                    "metadata": {}
                },
                {
                    "output_type": "display_data",
                    "data": {
                        "text/html": "Commands completed successfully"
                    },
                    "metadata": {}
                },
                {
                    "output_type": "display_data",
                    "data": {
                        "text/html": "Commands completed successfully"
                    },
                    "metadata": {}
                },
                {
                    "output_type": "display_data",
                    "data": {
                        "text/html": "Commands completed successfully"
                    },
                    "metadata": {}
                },
                {
                    "output_type": "display_data",
                    "data": {
                        "text/html": "Commands completed successfully"
                    },
                    "metadata": {}
                },
                {
                    "output_type": "display_data",
                    "data": {
                        "text/html": "Commands completed successfully"
                    },
                    "metadata": {}
                },
                {
                    "output_type": "display_data",
                    "data": {
                        "text/html": "Commands completed successfully"
                    },
                    "metadata": {}
                },
                {
                    "output_type": "display_data",
                    "data": {
                        "text/html": "Commands completed successfully"
                    },
                    "metadata": {}
                },
                {
                    "output_type": "display_data",
                    "data": {
                        "text/html": "Commands completed successfully"
                    },
                    "metadata": {}
                },
                {
                    "output_type": "display_data",
                    "data": {
                        "text/html": "Commands completed successfully"
                    },
                    "metadata": {}
                },
                {
                    "output_type": "display_data",
                    "data": {
                        "text/html": "Commands completed successfully"
                    },
                    "metadata": {}
                },
                {
                    "output_type": "display_data",
                    "data": {
                        "text/html": "Commands completed successfully"
                    },
                    "metadata": {}
                },
                {
                    "output_type": "display_data",
                    "data": {
                        "text/html": "Commands completed successfully"
                    },
                    "metadata": {}
                },
                {
                    "output_type": "display_data",
                    "data": {
                        "text/html": "Commands completed successfully"
                    },
                    "metadata": {}
                },
                {
                    "output_type": "display_data",
                    "data": {
                        "text/html": "Commands completed successfully"
                    },
                    "metadata": {}
                },
                {
                    "output_type": "display_data",
                    "data": {
                        "text/html": "Commands completed successfully"
                    },
                    "metadata": {}
                },
                {
                    "output_type": "display_data",
                    "data": {
                        "text/html": "Commands completed successfully"
                    },
                    "metadata": {}
                },
                {
                    "output_type": "display_data",
                    "data": {
                        "text/html": "Commands completed successfully"
                    },
                    "metadata": {}
                },
                {
                    "output_type": "display_data",
                    "data": {
                        "text/html": "Commands completed successfully"
                    },
                    "metadata": {}
                },
                {
                    "output_type": "display_data",
                    "data": {
                        "text/html": "Commands completed successfully"
                    },
                    "metadata": {}
                },
                {
                    "output_type": "display_data",
                    "data": {
                        "text/html": "Commands completed successfully"
                    },
                    "metadata": {}
                },
                {
                    "output_type": "display_data",
                    "data": {
                        "text/html": "Commands completed successfully"
                    },
                    "metadata": {}
                },
                {
                    "output_type": "display_data",
                    "data": {
                        "text/html": "Commands completed successfully"
                    },
                    "metadata": {}
                },
                {
                    "output_type": "display_data",
                    "data": {
                        "text/html": "Commands completed successfully"
                    },
                    "metadata": {}
                },
                {
                    "output_type": "display_data",
                    "data": {
                        "text/html": "Commands completed successfully"
                    },
                    "metadata": {}
                },
                {
                    "output_type": "display_data",
                    "data": {
                        "text/html": "Commands completed successfully"
                    },
                    "metadata": {}
                },
                {
                    "output_type": "display_data",
                    "data": {
                        "text/html": "Commands completed successfully"
                    },
                    "metadata": {}
                },
                {
                    "output_type": "display_data",
                    "data": {
                        "text/html": "Commands completed successfully"
                    },
                    "metadata": {}
                },
                {
                    "output_type": "display_data",
                    "data": {
                        "text/html": "Commands completed successfully"
                    },
                    "metadata": {}
                },
                {
                    "output_type": "display_data",
                    "data": {
                        "text/html": "Commands completed successfully"
                    },
                    "metadata": {}
                },
                {
                    "output_type": "display_data",
                    "data": {
                        "text/html": "Commands completed successfully"
                    },
                    "metadata": {}
                },
                {
                    "output_type": "display_data",
                    "data": {
                        "text/html": "Commands completed successfully"
                    },
                    "metadata": {}
                },
                {
                    "output_type": "display_data",
                    "data": {
                        "text/html": "Commands completed successfully"
                    },
                    "metadata": {}
                },
                {
                    "output_type": "display_data",
                    "data": {
                        "text/html": "Commands completed successfully"
                    },
                    "metadata": {}
                },
                {
                    "output_type": "display_data",
                    "data": {
                        "text/html": "Commands completed successfully"
                    },
                    "metadata": {}
                },
                {
                    "output_type": "display_data",
                    "data": {
                        "text/html": "Commands completed successfully"
                    },
                    "metadata": {}
                },
                {
                    "output_type": "display_data",
                    "data": {
                        "text/html": "Commands completed successfully"
                    },
                    "metadata": {}
                },
                {
                    "output_type": "display_data",
                    "data": {
                        "text/html": "Commands completed successfully"
                    },
                    "metadata": {}
                },
                {
                    "output_type": "display_data",
                    "data": {
                        "text/html": "Commands completed successfully"
                    },
                    "metadata": {}
                },
                {
                    "output_type": "display_data",
                    "data": {
                        "text/html": "Commands completed successfully"
                    },
                    "metadata": {}
                },
                {
                    "output_type": "display_data",
                    "data": {
                        "text/html": "Commands completed successfully"
                    },
                    "metadata": {}
                },
                {
                    "output_type": "display_data",
                    "data": {
                        "text/html": "Commands completed successfully"
                    },
                    "metadata": {}
                },
                {
                    "output_type": "display_data",
                    "data": {
                        "text/html": "Commands completed successfully"
                    },
                    "metadata": {}
                },
                {
                    "output_type": "display_data",
                    "data": {
                        "text/html": "Commands completed successfully"
                    },
                    "metadata": {}
                },
                {
                    "output_type": "display_data",
                    "data": {
                        "text/html": "Commands completed successfully"
                    },
                    "metadata": {}
                },
                {
                    "output_type": "display_data",
                    "data": {
                        "text/html": "Commands completed successfully"
                    },
                    "metadata": {}
                },
                {
                    "output_type": "display_data",
                    "data": {
                        "text/html": "Commands completed successfully"
                    },
                    "metadata": {}
                },
                {
                    "output_type": "display_data",
                    "data": {
                        "text/html": "Commands completed successfully"
                    },
                    "metadata": {}
                },
                {
                    "output_type": "display_data",
                    "data": {
                        "text/html": "Commands completed successfully"
                    },
                    "metadata": {}
                },
                {
                    "output_type": "display_data",
                    "data": {
                        "text/html": "Commands completed successfully"
                    },
                    "metadata": {}
                },
                {
                    "output_type": "display_data",
                    "data": {
                        "text/html": "Commands completed successfully"
                    },
                    "metadata": {}
                },
                {
                    "output_type": "display_data",
                    "data": {
                        "text/html": "Commands completed successfully"
                    },
                    "metadata": {}
                },
                {
                    "output_type": "display_data",
                    "data": {
                        "text/html": "Commands completed successfully"
                    },
                    "metadata": {}
                },
                {
                    "output_type": "display_data",
                    "data": {
                        "text/html": "Commands completed successfully"
                    },
                    "metadata": {}
                },
                {
                    "output_type": "display_data",
                    "data": {
                        "text/html": "Commands completed successfully"
                    },
                    "metadata": {}
                },
                {
                    "output_type": "display_data",
                    "data": {
                        "text/html": "Commands completed successfully"
                    },
                    "metadata": {}
                },
                {
                    "output_type": "display_data",
                    "data": {
                        "text/html": "Commands completed successfully"
                    },
                    "metadata": {}
                },
                {
                    "output_type": "display_data",
                    "data": {
                        "text/html": "Commands completed successfully"
                    },
                    "metadata": {}
                },
                {
                    "output_type": "display_data",
                    "data": {
                        "text/html": "Commands completed successfully"
                    },
                    "metadata": {}
                },
                {
                    "output_type": "display_data",
                    "data": {
                        "text/html": "Commands completed successfully"
                    },
                    "metadata": {}
                },
                {
                    "output_type": "display_data",
                    "data": {
                        "text/html": "Commands completed successfully"
                    },
                    "metadata": {}
                },
                {
                    "output_type": "display_data",
                    "data": {
                        "text/html": "Commands completed successfully"
                    },
                    "metadata": {}
                },
                {
                    "output_type": "display_data",
                    "data": {
                        "text/html": "Commands completed successfully"
                    },
                    "metadata": {}
                },
                {
                    "output_type": "display_data",
                    "data": {
                        "text/html": "Commands completed successfully"
                    },
                    "metadata": {}
                },
                {
                    "output_type": "display_data",
                    "data": {
                        "text/html": "Commands completed successfully"
                    },
                    "metadata": {}
                },
                {
                    "output_type": "display_data",
                    "data": {
                        "text/html": "Commands completed successfully"
                    },
                    "metadata": {}
                },
                {
                    "output_type": "display_data",
                    "data": {
                        "text/html": "Total execution time: 00:00:00.746"
                    },
                    "metadata": {}
                }
            ],
            "execution_count": 2
        },
        {
            "cell_type": "code",
            "source": [
                "select * from province;"
            ],
            "metadata": {
                "azdata_cell_guid": "e27bb4e9-439b-4745-90fe-4a6e76ded6b8"
            },
            "outputs": [
                {
                    "output_type": "display_data",
                    "data": {
                        "text/html": "(77 row(s) affected)"
                    },
                    "metadata": {}
                },
                {
                    "output_type": "display_data",
                    "data": {
                        "text/html": "Total execution time: 00:00:00.059"
                    },
                    "metadata": {}
                },
                {
                    "output_type": "execute_result",
                    "metadata": {},
                    "execution_count": 4,
                    "data": {
                        "application/vnd.dataresource+json": {
                            "schema": {
                                "fields": [
                                    {
                                        "name": "p_id"
                                    },
                                    {
                                        "name": "name"
                                    },
                                    {
                                        "name": "name_en"
                                    },
                                    {
                                        "name": "region"
                                    },
                                    {
                                        "name": "area_km2"
                                    }
                                ]
                            },
                            "data": [
                                {
                                    "0": "กจ",
                                    "1": "กาญจนบุรี",
                                    "2": "Kanchanaburi",
                                    "3": "C",
                                    "4": "19483.1"
                                },
                                {
                                    "0": "กทม",
                                    "1": "กรุงเทพมหานคร",
                                    "2": "Bangkok",
                                    "3": "C",
                                    "4": "1568.74"
                                },
                                {
                                    "0": "จบ",
                                    "1": "จันทบุรี",
                                    "2": "Chanthaburi",
                                    "3": "C",
                                    "4": "6338.0"
                                },
                                {
                                    "0": "ฉช",
                                    "1": "ฉะเชิงเทรา",
                                    "2": "Chachoengsao",
                                    "3": "C",
                                    "4": "5351.0"
                                },
                                {
                                    "0": "ชน",
                                    "1": "ชัยนาท",
                                    "2": "Chainat",
                                    "3": "C",
                                    "4": "2469.75"
                                },
                                {
                                    "0": "ชบ",
                                    "1": "ชลบุรี",
                                    "2": "Chonburi",
                                    "3": "C",
                                    "4": "4611.83"
                                },
                                {
                                    "0": "ตร",
                                    "1": "ตราด",
                                    "2": "Trat",
                                    "3": "C",
                                    "4": "2819.0"
                                },
                                {
                                    "0": "นฐ",
                                    "1": "นครปฐม",
                                    "2": "Nakhon Pathom",
                                    "3": "C",
                                    "4": "2168.33"
                                },
                                {
                                    "0": "นบ",
                                    "1": "นนทบุรี",
                                    "2": "Nonthaburi",
                                    "3": "C",
                                    "4": "622.303"
                                },
                                {
                                    "0": "นย",
                                    "1": "นครนายก",
                                    "2": "Nakhon Nayok",
                                    "3": "C",
                                    "4": "2122.0"
                                },
                                {
                                    "0": "ปข",
                                    "1": "ประจวบคีรีขันธ์",
                                    "2": "Prachuap Khiri Khan",
                                    "3": "C",
                                    "4": "6367.62"
                                },
                                {
                                    "0": "ปจ",
                                    "1": "ปราจีนบุรี",
                                    "2": "Prachinburi",
                                    "3": "C",
                                    "4": "4762.36"
                                },
                                {
                                    "0": "ปท",
                                    "1": "ปทุมธานี",
                                    "2": "Pathum Thani",
                                    "3": "C",
                                    "4": "1525.86"
                                },
                                {
                                    "0": "พบ",
                                    "1": "เพชรบุรี",
                                    "2": "Phetchaburi",
                                    "3": "C",
                                    "4": "6225.14"
                                },
                                {
                                    "0": "รบ",
                                    "1": "ราชบุรี",
                                    "2": "Ratchaburi",
                                    "3": "C",
                                    "4": "5196.46"
                                },
                                {
                                    "0": "รย",
                                    "1": "ระยอง",
                                    "2": "Rayong",
                                    "3": "C",
                                    "4": "3552.0"
                                },
                                {
                                    "0": "ลบ",
                                    "1": "ลพบุรี",
                                    "2": "Lopburi",
                                    "3": "C",
                                    "4": "6199.75"
                                },
                                {
                                    "0": "สก",
                                    "1": "สระแก้ว",
                                    "2": "Sa Kaeo",
                                    "3": "C",
                                    "4": "7195.44"
                                },
                                {
                                    "0": "สค",
                                    "1": "สมุทรสาคร",
                                    "2": "Samut Sakhon",
                                    "3": "C",
                                    "4": "872.347"
                                },
                                {
                                    "0": "สบ",
                                    "1": "สระบุรี",
                                    "2": "Saraburi",
                                    "3": "C",
                                    "4": "3576.49"
                                },
                                {
                                    "0": "สป",
                                    "1": "สมุทรปราการ",
                                    "2": "Samut Prakan",
                                    "3": "C",
                                    "4": "1004.09"
                                },
                                {
                                    "0": "สพ",
                                    "1": "สุพรรณบุรี",
                                    "2": "Suphan Buri",
                                    "3": "C",
                                    "4": "5358.01"
                                },
                                {
                                    "0": "สส",
                                    "1": "สมุทรสงคราม",
                                    "2": "Samut Songkhram",
                                    "3": "C",
                                    "4": "416.707"
                                },
                                {
                                    "0": "สห",
                                    "1": "สิงห์บุรี",
                                    "2": "Sing Buri",
                                    "3": "C",
                                    "4": "822.478"
                                },
                                {
                                    "0": "อท",
                                    "1": "อ่างทอง",
                                    "2": "Ang Thong",
                                    "3": "C",
                                    "4": "968.372"
                                },
                                {
                                    "0": "อย",
                                    "1": "พระนครศรีอยุธยา",
                                    "2": "Phra Nakhon Si Ayutthaya",
                                    "3": "C",
                                    "4": "2556.64"
                                },
                                {
                                    "0": "กพ",
                                    "1": "กำแพงเพชร",
                                    "2": "Kamphaeng Phet",
                                    "3": "N",
                                    "4": "8607.49"
                                },
                                {
                                    "0": "ชม",
                                    "1": "เชียงใหม่",
                                    "2": "Chiang Mai",
                                    "3": "N",
                                    "4": "20107.1"
                                },
                                {
                                    "0": "ชร",
                                    "1": "เชียงราย",
                                    "2": "Chiang Rai",
                                    "3": "N",
                                    "4": "11678.4"
                                },
                                {
                                    "0": "ตก",
                                    "1": "ตาก",
                                    "2": "Tak",
                                    "3": "N",
                                    "4": "16406.7"
                                },
                                {
                                    "0": "นน",
                                    "1": "น่าน",
                                    "2": "Nan",
                                    "3": "N",
                                    "4": "11472.1"
                                },
                                {
                                    "0": "นว",
                                    "1": "นครสวรรค์",
                                    "2": "Nakhon Sawan",
                                    "3": "N",
                                    "4": "9597.68"
                                },
                                {
                                    "0": "พจ",
                                    "1": "พิจิตร",
                                    "2": "Phichit",
                                    "3": "N",
                                    "4": "4531.01"
                                },
                                {
                                    "0": "พช",
                                    "1": "เพชรบูรณ์",
                                    "2": "Phetchabun",
                                    "3": "N",
                                    "4": "12668.4"
                                },
                                {
                                    "0": "พย",
                                    "1": "พะเยา",
                                    "2": "Phayao",
                                    "3": "N",
                                    "4": "6335.06"
                                },
                                {
                                    "0": "พร",
                                    "1": "แพร่",
                                    "2": "Phrae",
                                    "3": "N",
                                    "4": "6538.6"
                                },
                                {
                                    "0": "พล",
                                    "1": "พิษณุโลก",
                                    "2": "Phitsanulok",
                                    "3": "N",
                                    "4": "10815.9"
                                },
                                {
                                    "0": "มส",
                                    "1": "แม่ฮ่องสอน",
                                    "2": "Mae Hong Son",
                                    "3": "N",
                                    "4": "12681.3"
                                },
                                {
                                    "0": "ลป",
                                    "1": "ลำปาง",
                                    "2": "Lampang",
                                    "3": "N",
                                    "4": "12534.0"
                                },
                                {
                                    "0": "ลพ",
                                    "1": "ลำพูน",
                                    "2": "Lamphun",
                                    "3": "N",
                                    "4": "4505.88"
                                },
                                {
                                    "0": "สท",
                                    "1": "สุโขทัย",
                                    "2": "Sukhothai",
                                    "3": "N",
                                    "4": "6596.09"
                                },
                                {
                                    "0": "อต",
                                    "1": "อุตรดิตถ์",
                                    "2": "Uttaradit",
                                    "3": "N",
                                    "4": "7838.59"
                                },
                                {
                                    "0": "อน",
                                    "1": "อุทัยธานี",
                                    "2": "Uthai Thani",
                                    "3": "N",
                                    "4": "6730.25"
                                },
                                {
                                    "0": "กส",
                                    "1": "กาฬสินธุ์",
                                    "2": "Kalasin",
                                    "3": "NE",
                                    "4": "6946.75"
                                },
                                {
                                    "0": "ขก",
                                    "1": "ขอนแก่น",
                                    "2": "Khon Kaen",
                                    "3": "NE",
                                    "4": "10886.0"
                                },
                                {
                                    "0": "ชย",
                                    "1": "ชัยภูมิ",
                                    "2": "Chaiyaphum",
                                    "3": "NE",
                                    "4": "12778.3"
                                },
                                {
                                    "0": "นค",
                                    "1": "หนองคาย",
                                    "2": "Nong Khai",
                                    "3": "NE",
                                    "4": "3027.28"
                                },
                                {
                                    "0": "นพ",
                                    "1": "นครพนม",
                                    "2": "Nakhon Phanom",
                                    "3": "NE",
                                    "4": "5512.67"
                                },
                                {
                                    "0": "นภ",
                                    "1": "หนองบัวลำภู",
                                    "2": "Nong Bua Lamphu",
                                    "3": "NE",
                                    "4": "3859.09"
                                },
                                {
                                    "0": "นม",
                                    "1": "นครราชสีมา",
                                    "2": "Nakhon Ratchasima",
                                    "3": "NE",
                                    "4": "20494.0"
                                },
                                {
                                    "0": "บก",
                                    "1": "บึงกาฬ",
                                    "2": "Bueng Kan",
                                    "3": "NE",
                                    "4": "4305.0"
                                },
                                {
                                    "0": "บร",
                                    "1": "บุรีรัมย์",
                                    "2": "Buriram",
                                    "3": "NE",
                                    "4": "10322.9"
                                },
                                {
                                    "0": "มค",
                                    "1": "มหาสารคาม",
                                    "2": "Maha Sarakham",
                                    "3": "NE",
                                    "4": "5291.68"
                                },
                                {
                                    "0": "มห",
                                    "1": "มุกดาหาร",
                                    "2": "Mukdahan",
                                    "3": "NE",
                                    "4": "4339.83"
                                },
                                {
                                    "0": "ยส",
                                    "1": "ยโสธร",
                                    "2": "Yasothon",
                                    "3": "NE",
                                    "4": "4161.66"
                                },
                                {
                                    "0": "รอ",
                                    "1": "ร้อยเอ็ด",
                                    "2": "Roi Et",
                                    "3": "NE",
                                    "4": "8299.45"
                                },
                                {
                                    "0": "ลย",
                                    "1": "เลย",
                                    "2": "Loei",
                                    "3": "NE",
                                    "4": "11424.6"
                                },
                                {
                                    "0": "ศก",
                                    "1": "ศรีสะเกษ",
                                    "2": "Sisaket",
                                    "3": "NE",
                                    "4": "8839.98"
                                },
                                {
                                    "0": "สน",
                                    "1": "สกลนคร",
                                    "2": "Sakon Nakhon",
                                    "3": "NE",
                                    "4": "9605.76"
                                },
                                {
                                    "0": "สร",
                                    "1": "สุรินทร์",
                                    "2": "Surin",
                                    "3": "NE",
                                    "4": "8124.06"
                                },
                                {
                                    "0": "อจ",
                                    "1": "อำนาจเจริญ",
                                    "2": "Amnat Charoen",
                                    "3": "NE",
                                    "4": "3161.25"
                                },
                                {
                                    "0": "อด",
                                    "1": "อุดรธานี",
                                    "2": "Udon Thani",
                                    "3": "NE",
                                    "4": "11730.3"
                                },
                                {
                                    "0": "อบ",
                                    "1": "อุบลราชธานี",
                                    "2": "Ubon Ratchathani",
                                    "3": "NE",
                                    "4": "16112.7"
                                },
                                {
                                    "0": "กบ",
                                    "1": "กระบี่",
                                    "2": "Krabi",
                                    "3": "S",
                                    "4": "4708.51"
                                },
                                {
                                    "0": "ชพ",
                                    "1": "ชุมพร",
                                    "2": "Chumphon",
                                    "3": "S",
                                    "4": "6010.85"
                                },
                                {
                                    "0": "ตง",
                                    "1": "ตรัง",
                                    "2": "Trang",
                                    "3": "S",
                                    "4": "4917.52"
                                },
                                {
                                    "0": "นธ",
                                    "1": "นราธิวาส",
                                    "2": "Narathiwat",
                                    "3": "S",
                                    "4": "4475.43"
                                },
                                {
                                    "0": "นศ",
                                    "1": "นครศรีธรรมราช",
                                    "2": "Nakhon Si Thammarat",
                                    "3": "S",
                                    "4": "9942.5"
                                },
                                {
                                    "0": "ปน",
                                    "1": "ปัตตานี",
                                    "2": "Pattani",
                                    "3": "S",
                                    "4": "1940.36"
                                },
                                {
                                    "0": "พง",
                                    "1": "พังงา",
                                    "2": "Phang Nga",
                                    "3": "S",
                                    "4": "4170.9"
                                },
                                {
                                    "0": "พท",
                                    "1": "พัทลุง",
                                    "2": "Phattalung",
                                    "3": "S",
                                    "4": "3424.47"
                                },
                                {
                                    "0": "ภก",
                                    "1": "ภูเก็ต",
                                    "2": "Phuket",
                                    "3": "S",
                                    "4": "543.034"
                                },
                                {
                                    "0": "ยล",
                                    "1": "ยะลา",
                                    "2": "Yala",
                                    "3": "S",
                                    "4": "4521.08"
                                },
                                {
                                    "0": "รน",
                                    "1": "ระนอง",
                                    "2": "Ranong",
                                    "3": "S",
                                    "4": "3298.04"
                                },
                                {
                                    "0": "สข",
                                    "1": "สงขลา",
                                    "2": "Songkhla",
                                    "3": "S",
                                    "4": "7393.89"
                                },
                                {
                                    "0": "สฎ",
                                    "1": "สุราษฎร์ธานี",
                                    "2": "Surat Thani",
                                    "3": "S",
                                    "4": "12891.5"
                                },
                                {
                                    "0": "สต",
                                    "1": "สตูล",
                                    "2": "Satun",
                                    "3": "S",
                                    "4": "2478.98"
                                }
                            ]
                        },
                        "text/html": [
                            "<table>",
                            "<tr><th>p_id</th><th>name</th><th>name_en</th><th>region</th><th>area_km2</th></tr>",
                            "<tr><td>กจ</td><td>กาญจนบุรี</td><td>Kanchanaburi</td><td>C</td><td>19483.1</td></tr>",
                            "<tr><td>กทม</td><td>กรุงเทพมหานคร</td><td>Bangkok</td><td>C</td><td>1568.74</td></tr>",
                            "<tr><td>จบ</td><td>จันทบุรี</td><td>Chanthaburi</td><td>C</td><td>6338.0</td></tr>",
                            "<tr><td>ฉช</td><td>ฉะเชิงเทรา</td><td>Chachoengsao</td><td>C</td><td>5351.0</td></tr>",
                            "<tr><td>ชน</td><td>ชัยนาท</td><td>Chainat</td><td>C</td><td>2469.75</td></tr>",
                            "<tr><td>ชบ</td><td>ชลบุรี</td><td>Chonburi</td><td>C</td><td>4611.83</td></tr>",
                            "<tr><td>ตร</td><td>ตราด</td><td>Trat</td><td>C</td><td>2819.0</td></tr>",
                            "<tr><td>นฐ</td><td>นครปฐม</td><td>Nakhon Pathom</td><td>C</td><td>2168.33</td></tr>",
                            "<tr><td>นบ</td><td>นนทบุรี</td><td>Nonthaburi</td><td>C</td><td>622.303</td></tr>",
                            "<tr><td>นย</td><td>นครนายก</td><td>Nakhon Nayok</td><td>C</td><td>2122.0</td></tr>",
                            "<tr><td>ปข</td><td>ประจวบคีรีขันธ์</td><td>Prachuap Khiri Khan</td><td>C</td><td>6367.62</td></tr>",
                            "<tr><td>ปจ</td><td>ปราจีนบุรี</td><td>Prachinburi</td><td>C</td><td>4762.36</td></tr>",
                            "<tr><td>ปท</td><td>ปทุมธานี</td><td>Pathum Thani</td><td>C</td><td>1525.86</td></tr>",
                            "<tr><td>พบ</td><td>เพชรบุรี</td><td>Phetchaburi</td><td>C</td><td>6225.14</td></tr>",
                            "<tr><td>รบ</td><td>ราชบุรี</td><td>Ratchaburi</td><td>C</td><td>5196.46</td></tr>",
                            "<tr><td>รย</td><td>ระยอง</td><td>Rayong</td><td>C</td><td>3552.0</td></tr>",
                            "<tr><td>ลบ</td><td>ลพบุรี</td><td>Lopburi</td><td>C</td><td>6199.75</td></tr>",
                            "<tr><td>สก</td><td>สระแก้ว</td><td>Sa Kaeo</td><td>C</td><td>7195.44</td></tr>",
                            "<tr><td>สค</td><td>สมุทรสาคร</td><td>Samut Sakhon</td><td>C</td><td>872.347</td></tr>",
                            "<tr><td>สบ</td><td>สระบุรี</td><td>Saraburi</td><td>C</td><td>3576.49</td></tr>",
                            "<tr><td>สป</td><td>สมุทรปราการ</td><td>Samut Prakan</td><td>C</td><td>1004.09</td></tr>",
                            "<tr><td>สพ</td><td>สุพรรณบุรี</td><td>Suphan Buri</td><td>C</td><td>5358.01</td></tr>",
                            "<tr><td>สส</td><td>สมุทรสงคราม</td><td>Samut Songkhram</td><td>C</td><td>416.707</td></tr>",
                            "<tr><td>สห</td><td>สิงห์บุรี</td><td>Sing Buri</td><td>C</td><td>822.478</td></tr>",
                            "<tr><td>อท</td><td>อ่างทอง</td><td>Ang Thong</td><td>C</td><td>968.372</td></tr>",
                            "<tr><td>อย</td><td>พระนครศรีอยุธยา</td><td>Phra Nakhon Si Ayutthaya</td><td>C</td><td>2556.64</td></tr>",
                            "<tr><td>กพ</td><td>กำแพงเพชร</td><td>Kamphaeng Phet</td><td>N</td><td>8607.49</td></tr>",
                            "<tr><td>ชม</td><td>เชียงใหม่</td><td>Chiang Mai</td><td>N</td><td>20107.1</td></tr>",
                            "<tr><td>ชร</td><td>เชียงราย</td><td>Chiang Rai</td><td>N</td><td>11678.4</td></tr>",
                            "<tr><td>ตก</td><td>ตาก</td><td>Tak</td><td>N</td><td>16406.7</td></tr>",
                            "<tr><td>นน</td><td>น่าน</td><td>Nan</td><td>N</td><td>11472.1</td></tr>",
                            "<tr><td>นว</td><td>นครสวรรค์</td><td>Nakhon Sawan</td><td>N</td><td>9597.68</td></tr>",
                            "<tr><td>พจ</td><td>พิจิตร</td><td>Phichit</td><td>N</td><td>4531.01</td></tr>",
                            "<tr><td>พช</td><td>เพชรบูรณ์</td><td>Phetchabun</td><td>N</td><td>12668.4</td></tr>",
                            "<tr><td>พย</td><td>พะเยา</td><td>Phayao</td><td>N</td><td>6335.06</td></tr>",
                            "<tr><td>พร</td><td>แพร่</td><td>Phrae</td><td>N</td><td>6538.6</td></tr>",
                            "<tr><td>พล</td><td>พิษณุโลก</td><td>Phitsanulok</td><td>N</td><td>10815.9</td></tr>",
                            "<tr><td>มส</td><td>แม่ฮ่องสอน</td><td>Mae Hong Son</td><td>N</td><td>12681.3</td></tr>",
                            "<tr><td>ลป</td><td>ลำปาง</td><td>Lampang</td><td>N</td><td>12534.0</td></tr>",
                            "<tr><td>ลพ</td><td>ลำพูน</td><td>Lamphun</td><td>N</td><td>4505.88</td></tr>",
                            "<tr><td>สท</td><td>สุโขทัย</td><td>Sukhothai</td><td>N</td><td>6596.09</td></tr>",
                            "<tr><td>อต</td><td>อุตรดิตถ์</td><td>Uttaradit</td><td>N</td><td>7838.59</td></tr>",
                            "<tr><td>อน</td><td>อุทัยธานี</td><td>Uthai Thani</td><td>N</td><td>6730.25</td></tr>",
                            "<tr><td>กส</td><td>กาฬสินธุ์</td><td>Kalasin</td><td>NE</td><td>6946.75</td></tr>",
                            "<tr><td>ขก</td><td>ขอนแก่น</td><td>Khon Kaen</td><td>NE</td><td>10886.0</td></tr>",
                            "<tr><td>ชย</td><td>ชัยภูมิ</td><td>Chaiyaphum</td><td>NE</td><td>12778.3</td></tr>",
                            "<tr><td>นค</td><td>หนองคาย</td><td>Nong Khai</td><td>NE</td><td>3027.28</td></tr>",
                            "<tr><td>นพ</td><td>นครพนม</td><td>Nakhon Phanom</td><td>NE</td><td>5512.67</td></tr>",
                            "<tr><td>นภ</td><td>หนองบัวลำภู</td><td>Nong Bua Lamphu</td><td>NE</td><td>3859.09</td></tr>",
                            "<tr><td>นม</td><td>นครราชสีมา</td><td>Nakhon Ratchasima</td><td>NE</td><td>20494.0</td></tr>",
                            "<tr><td>บก</td><td>บึงกาฬ</td><td>Bueng Kan</td><td>NE</td><td>4305.0</td></tr>",
                            "<tr><td>บร</td><td>บุรีรัมย์</td><td>Buriram</td><td>NE</td><td>10322.9</td></tr>",
                            "<tr><td>มค</td><td>มหาสารคาม</td><td>Maha Sarakham</td><td>NE</td><td>5291.68</td></tr>",
                            "<tr><td>มห</td><td>มุกดาหาร</td><td>Mukdahan</td><td>NE</td><td>4339.83</td></tr>",
                            "<tr><td>ยส</td><td>ยโสธร</td><td>Yasothon</td><td>NE</td><td>4161.66</td></tr>",
                            "<tr><td>รอ</td><td>ร้อยเอ็ด</td><td>Roi Et</td><td>NE</td><td>8299.45</td></tr>",
                            "<tr><td>ลย</td><td>เลย</td><td>Loei</td><td>NE</td><td>11424.6</td></tr>",
                            "<tr><td>ศก</td><td>ศรีสะเกษ</td><td>Sisaket</td><td>NE</td><td>8839.98</td></tr>",
                            "<tr><td>สน</td><td>สกลนคร</td><td>Sakon Nakhon</td><td>NE</td><td>9605.76</td></tr>",
                            "<tr><td>สร</td><td>สุรินทร์</td><td>Surin</td><td>NE</td><td>8124.06</td></tr>",
                            "<tr><td>อจ</td><td>อำนาจเจริญ</td><td>Amnat Charoen</td><td>NE</td><td>3161.25</td></tr>",
                            "<tr><td>อด</td><td>อุดรธานี</td><td>Udon Thani</td><td>NE</td><td>11730.3</td></tr>",
                            "<tr><td>อบ</td><td>อุบลราชธานี</td><td>Ubon Ratchathani</td><td>NE</td><td>16112.7</td></tr>",
                            "<tr><td>กบ</td><td>กระบี่</td><td>Krabi</td><td>S</td><td>4708.51</td></tr>",
                            "<tr><td>ชพ</td><td>ชุมพร</td><td>Chumphon</td><td>S</td><td>6010.85</td></tr>",
                            "<tr><td>ตง</td><td>ตรัง</td><td>Trang</td><td>S</td><td>4917.52</td></tr>",
                            "<tr><td>นธ</td><td>นราธิวาส</td><td>Narathiwat</td><td>S</td><td>4475.43</td></tr>",
                            "<tr><td>นศ</td><td>นครศรีธรรมราช</td><td>Nakhon Si Thammarat</td><td>S</td><td>9942.5</td></tr>",
                            "<tr><td>ปน</td><td>ปัตตานี</td><td>Pattani</td><td>S</td><td>1940.36</td></tr>",
                            "<tr><td>พง</td><td>พังงา</td><td>Phang Nga</td><td>S</td><td>4170.9</td></tr>",
                            "<tr><td>พท</td><td>พัทลุง</td><td>Phattalung</td><td>S</td><td>3424.47</td></tr>",
                            "<tr><td>ภก</td><td>ภูเก็ต</td><td>Phuket</td><td>S</td><td>543.034</td></tr>",
                            "<tr><td>ยล</td><td>ยะลา</td><td>Yala</td><td>S</td><td>4521.08</td></tr>",
                            "<tr><td>รน</td><td>ระนอง</td><td>Ranong</td><td>S</td><td>3298.04</td></tr>",
                            "<tr><td>สข</td><td>สงขลา</td><td>Songkhla</td><td>S</td><td>7393.89</td></tr>",
                            "<tr><td>สฎ</td><td>สุราษฎร์ธานี</td><td>Surat Thani</td><td>S</td><td>12891.5</td></tr>",
                            "<tr><td>สต</td><td>สตูล</td><td>Satun</td><td>S</td><td>2478.98</td></tr>",
                            "</table>"
                        ]
                    }
                }
            ],
            "execution_count": 4
        },
        {
            "cell_type": "code",
            "source": [
                "select * from province order by region;"
            ],
            "metadata": {
                "azdata_cell_guid": "580b709c-18ad-4b2b-927e-efac58213ab1"
            },
            "outputs": [
                {
                    "output_type": "display_data",
                    "data": {
                        "text/html": "(77 row(s) affected)"
                    },
                    "metadata": {}
                },
                {
                    "output_type": "display_data",
                    "data": {
                        "text/html": "Total execution time: 00:00:00.036"
                    },
                    "metadata": {}
                },
                {
                    "output_type": "execute_result",
                    "metadata": {},
                    "execution_count": 9,
                    "data": {
                        "application/vnd.dataresource+json": {
                            "schema": {
                                "fields": [
                                    {
                                        "name": "p_id"
                                    },
                                    {
                                        "name": "name"
                                    },
                                    {
                                        "name": "name_en"
                                    },
                                    {
                                        "name": "region"
                                    },
                                    {
                                        "name": "area_km2"
                                    }
                                ]
                            },
                            "data": [
                                {
                                    "0": "กจ",
                                    "1": "กาญจนบุรี",
                                    "2": "Kanchanaburi",
                                    "3": "C",
                                    "4": "19483.1"
                                },
                                {
                                    "0": "กทม",
                                    "1": "กรุงเทพมหานคร",
                                    "2": "Bangkok",
                                    "3": "C",
                                    "4": "1568.74"
                                },
                                {
                                    "0": "จบ",
                                    "1": "จันทบุรี",
                                    "2": "Chanthaburi",
                                    "3": "C",
                                    "4": "6338.0"
                                },
                                {
                                    "0": "ฉช",
                                    "1": "ฉะเชิงเทรา",
                                    "2": "Chachoengsao",
                                    "3": "C",
                                    "4": "5351.0"
                                },
                                {
                                    "0": "ชน",
                                    "1": "ชัยนาท",
                                    "2": "Chainat",
                                    "3": "C",
                                    "4": "2469.75"
                                },
                                {
                                    "0": "ชบ",
                                    "1": "ชลบุรี",
                                    "2": "Chonburi",
                                    "3": "C",
                                    "4": "4611.83"
                                },
                                {
                                    "0": "ตร",
                                    "1": "ตราด",
                                    "2": "Trat",
                                    "3": "C",
                                    "4": "2819.0"
                                },
                                {
                                    "0": "นฐ",
                                    "1": "นครปฐม",
                                    "2": "Nakhon Pathom",
                                    "3": "C",
                                    "4": "2168.33"
                                },
                                {
                                    "0": "นบ",
                                    "1": "นนทบุรี",
                                    "2": "Nonthaburi",
                                    "3": "C",
                                    "4": "622.303"
                                },
                                {
                                    "0": "นย",
                                    "1": "นครนายก",
                                    "2": "Nakhon Nayok",
                                    "3": "C",
                                    "4": "2122.0"
                                },
                                {
                                    "0": "ปข",
                                    "1": "ประจวบคีรีขันธ์",
                                    "2": "Prachuap Khiri Khan",
                                    "3": "C",
                                    "4": "6367.62"
                                },
                                {
                                    "0": "ปจ",
                                    "1": "ปราจีนบุรี",
                                    "2": "Prachinburi",
                                    "3": "C",
                                    "4": "4762.36"
                                },
                                {
                                    "0": "ปท",
                                    "1": "ปทุมธานี",
                                    "2": "Pathum Thani",
                                    "3": "C",
                                    "4": "1525.86"
                                },
                                {
                                    "0": "พบ",
                                    "1": "เพชรบุรี",
                                    "2": "Phetchaburi",
                                    "3": "C",
                                    "4": "6225.14"
                                },
                                {
                                    "0": "รบ",
                                    "1": "ราชบุรี",
                                    "2": "Ratchaburi",
                                    "3": "C",
                                    "4": "5196.46"
                                },
                                {
                                    "0": "รย",
                                    "1": "ระยอง",
                                    "2": "Rayong",
                                    "3": "C",
                                    "4": "3552.0"
                                },
                                {
                                    "0": "ลบ",
                                    "1": "ลพบุรี",
                                    "2": "Lopburi",
                                    "3": "C",
                                    "4": "6199.75"
                                },
                                {
                                    "0": "สก",
                                    "1": "สระแก้ว",
                                    "2": "Sa Kaeo",
                                    "3": "C",
                                    "4": "7195.44"
                                },
                                {
                                    "0": "สค",
                                    "1": "สมุทรสาคร",
                                    "2": "Samut Sakhon",
                                    "3": "C",
                                    "4": "872.347"
                                },
                                {
                                    "0": "สบ",
                                    "1": "สระบุรี",
                                    "2": "Saraburi",
                                    "3": "C",
                                    "4": "3576.49"
                                },
                                {
                                    "0": "สป",
                                    "1": "สมุทรปราการ",
                                    "2": "Samut Prakan",
                                    "3": "C",
                                    "4": "1004.09"
                                },
                                {
                                    "0": "สพ",
                                    "1": "สุพรรณบุรี",
                                    "2": "Suphan Buri",
                                    "3": "C",
                                    "4": "5358.01"
                                },
                                {
                                    "0": "สส",
                                    "1": "สมุทรสงคราม",
                                    "2": "Samut Songkhram",
                                    "3": "C",
                                    "4": "416.707"
                                },
                                {
                                    "0": "สห",
                                    "1": "สิงห์บุรี",
                                    "2": "Sing Buri",
                                    "3": "C",
                                    "4": "822.478"
                                },
                                {
                                    "0": "อท",
                                    "1": "อ่างทอง",
                                    "2": "Ang Thong",
                                    "3": "C",
                                    "4": "968.372"
                                },
                                {
                                    "0": "อย",
                                    "1": "พระนครศรีอยุธยา",
                                    "2": "Phra Nakhon Si Ayutthaya",
                                    "3": "C",
                                    "4": "2556.64"
                                },
                                {
                                    "0": "กพ",
                                    "1": "กำแพงเพชร",
                                    "2": "Kamphaeng Phet",
                                    "3": "N",
                                    "4": "8607.49"
                                },
                                {
                                    "0": "ชม",
                                    "1": "เชียงใหม่",
                                    "2": "Chiang Mai",
                                    "3": "N",
                                    "4": "20107.1"
                                },
                                {
                                    "0": "ชร",
                                    "1": "เชียงราย",
                                    "2": "Chiang Rai",
                                    "3": "N",
                                    "4": "11678.4"
                                },
                                {
                                    "0": "ตก",
                                    "1": "ตาก",
                                    "2": "Tak",
                                    "3": "N",
                                    "4": "16406.7"
                                },
                                {
                                    "0": "นน",
                                    "1": "น่าน",
                                    "2": "Nan",
                                    "3": "N",
                                    "4": "11472.1"
                                },
                                {
                                    "0": "นว",
                                    "1": "นครสวรรค์",
                                    "2": "Nakhon Sawan",
                                    "3": "N",
                                    "4": "9597.68"
                                },
                                {
                                    "0": "พจ",
                                    "1": "พิจิตร",
                                    "2": "Phichit",
                                    "3": "N",
                                    "4": "4531.01"
                                },
                                {
                                    "0": "พช",
                                    "1": "เพชรบูรณ์",
                                    "2": "Phetchabun",
                                    "3": "N",
                                    "4": "12668.4"
                                },
                                {
                                    "0": "พย",
                                    "1": "พะเยา",
                                    "2": "Phayao",
                                    "3": "N",
                                    "4": "6335.06"
                                },
                                {
                                    "0": "พร",
                                    "1": "แพร่",
                                    "2": "Phrae",
                                    "3": "N",
                                    "4": "6538.6"
                                },
                                {
                                    "0": "พล",
                                    "1": "พิษณุโลก",
                                    "2": "Phitsanulok",
                                    "3": "N",
                                    "4": "10815.9"
                                },
                                {
                                    "0": "มส",
                                    "1": "แม่ฮ่องสอน",
                                    "2": "Mae Hong Son",
                                    "3": "N",
                                    "4": "12681.3"
                                },
                                {
                                    "0": "ลป",
                                    "1": "ลำปาง",
                                    "2": "Lampang",
                                    "3": "N",
                                    "4": "12534.0"
                                },
                                {
                                    "0": "ลพ",
                                    "1": "ลำพูน",
                                    "2": "Lamphun",
                                    "3": "N",
                                    "4": "4505.88"
                                },
                                {
                                    "0": "สท",
                                    "1": "สุโขทัย",
                                    "2": "Sukhothai",
                                    "3": "N",
                                    "4": "6596.09"
                                },
                                {
                                    "0": "อต",
                                    "1": "อุตรดิตถ์",
                                    "2": "Uttaradit",
                                    "3": "N",
                                    "4": "7838.59"
                                },
                                {
                                    "0": "อน",
                                    "1": "อุทัยธานี",
                                    "2": "Uthai Thani",
                                    "3": "N",
                                    "4": "6730.25"
                                },
                                {
                                    "0": "กส",
                                    "1": "กาฬสินธุ์",
                                    "2": "Kalasin",
                                    "3": "NE",
                                    "4": "6946.75"
                                },
                                {
                                    "0": "ขก",
                                    "1": "ขอนแก่น",
                                    "2": "Khon Kaen",
                                    "3": "NE",
                                    "4": "10886.0"
                                },
                                {
                                    "0": "ชย",
                                    "1": "ชัยภูมิ",
                                    "2": "Chaiyaphum",
                                    "3": "NE",
                                    "4": "12778.3"
                                },
                                {
                                    "0": "นค",
                                    "1": "หนองคาย",
                                    "2": "Nong Khai",
                                    "3": "NE",
                                    "4": "3027.28"
                                },
                                {
                                    "0": "นพ",
                                    "1": "นครพนม",
                                    "2": "Nakhon Phanom",
                                    "3": "NE",
                                    "4": "5512.67"
                                },
                                {
                                    "0": "นภ",
                                    "1": "หนองบัวลำภู",
                                    "2": "Nong Bua Lamphu",
                                    "3": "NE",
                                    "4": "3859.09"
                                },
                                {
                                    "0": "นม",
                                    "1": "นครราชสีมา",
                                    "2": "Nakhon Ratchasima",
                                    "3": "NE",
                                    "4": "20494.0"
                                },
                                {
                                    "0": "บก",
                                    "1": "บึงกาฬ",
                                    "2": "Bueng Kan",
                                    "3": "NE",
                                    "4": "4305.0"
                                },
                                {
                                    "0": "บร",
                                    "1": "บุรีรัมย์",
                                    "2": "Buriram",
                                    "3": "NE",
                                    "4": "10322.9"
                                },
                                {
                                    "0": "มค",
                                    "1": "มหาสารคาม",
                                    "2": "Maha Sarakham",
                                    "3": "NE",
                                    "4": "5291.68"
                                },
                                {
                                    "0": "มห",
                                    "1": "มุกดาหาร",
                                    "2": "Mukdahan",
                                    "3": "NE",
                                    "4": "4339.83"
                                },
                                {
                                    "0": "ยส",
                                    "1": "ยโสธร",
                                    "2": "Yasothon",
                                    "3": "NE",
                                    "4": "4161.66"
                                },
                                {
                                    "0": "รอ",
                                    "1": "ร้อยเอ็ด",
                                    "2": "Roi Et",
                                    "3": "NE",
                                    "4": "8299.45"
                                },
                                {
                                    "0": "ลย",
                                    "1": "เลย",
                                    "2": "Loei",
                                    "3": "NE",
                                    "4": "11424.6"
                                },
                                {
                                    "0": "ศก",
                                    "1": "ศรีสะเกษ",
                                    "2": "Sisaket",
                                    "3": "NE",
                                    "4": "8839.98"
                                },
                                {
                                    "0": "สน",
                                    "1": "สกลนคร",
                                    "2": "Sakon Nakhon",
                                    "3": "NE",
                                    "4": "9605.76"
                                },
                                {
                                    "0": "สร",
                                    "1": "สุรินทร์",
                                    "2": "Surin",
                                    "3": "NE",
                                    "4": "8124.06"
                                },
                                {
                                    "0": "อจ",
                                    "1": "อำนาจเจริญ",
                                    "2": "Amnat Charoen",
                                    "3": "NE",
                                    "4": "3161.25"
                                },
                                {
                                    "0": "อด",
                                    "1": "อุดรธานี",
                                    "2": "Udon Thani",
                                    "3": "NE",
                                    "4": "11730.3"
                                },
                                {
                                    "0": "อบ",
                                    "1": "อุบลราชธานี",
                                    "2": "Ubon Ratchathani",
                                    "3": "NE",
                                    "4": "16112.7"
                                },
                                {
                                    "0": "กบ",
                                    "1": "กระบี่",
                                    "2": "Krabi",
                                    "3": "S",
                                    "4": "4708.51"
                                },
                                {
                                    "0": "ชพ",
                                    "1": "ชุมพร",
                                    "2": "Chumphon",
                                    "3": "S",
                                    "4": "6010.85"
                                },
                                {
                                    "0": "ตง",
                                    "1": "ตรัง",
                                    "2": "Trang",
                                    "3": "S",
                                    "4": "4917.52"
                                },
                                {
                                    "0": "นธ",
                                    "1": "นราธิวาส",
                                    "2": "Narathiwat",
                                    "3": "S",
                                    "4": "4475.43"
                                },
                                {
                                    "0": "นศ",
                                    "1": "นครศรีธรรมราช",
                                    "2": "Nakhon Si Thammarat",
                                    "3": "S",
                                    "4": "9942.5"
                                },
                                {
                                    "0": "ปน",
                                    "1": "ปัตตานี",
                                    "2": "Pattani",
                                    "3": "S",
                                    "4": "1940.36"
                                },
                                {
                                    "0": "พง",
                                    "1": "พังงา",
                                    "2": "Phang Nga",
                                    "3": "S",
                                    "4": "4170.9"
                                },
                                {
                                    "0": "พท",
                                    "1": "พัทลุง",
                                    "2": "Phattalung",
                                    "3": "S",
                                    "4": "3424.47"
                                },
                                {
                                    "0": "ภก",
                                    "1": "ภูเก็ต",
                                    "2": "Phuket",
                                    "3": "S",
                                    "4": "543.034"
                                },
                                {
                                    "0": "ยล",
                                    "1": "ยะลา",
                                    "2": "Yala",
                                    "3": "S",
                                    "4": "4521.08"
                                },
                                {
                                    "0": "รน",
                                    "1": "ระนอง",
                                    "2": "Ranong",
                                    "3": "S",
                                    "4": "3298.04"
                                },
                                {
                                    "0": "สข",
                                    "1": "สงขลา",
                                    "2": "Songkhla",
                                    "3": "S",
                                    "4": "7393.89"
                                },
                                {
                                    "0": "สฎ",
                                    "1": "สุราษฎร์ธานี",
                                    "2": "Surat Thani",
                                    "3": "S",
                                    "4": "12891.5"
                                },
                                {
                                    "0": "สต",
                                    "1": "สตูล",
                                    "2": "Satun",
                                    "3": "S",
                                    "4": "2478.98"
                                }
                            ]
                        },
                        "text/html": [
                            "<table>",
                            "<tr><th>p_id</th><th>name</th><th>name_en</th><th>region</th><th>area_km2</th></tr>",
                            "<tr><td>กจ</td><td>กาญจนบุรี</td><td>Kanchanaburi</td><td>C</td><td>19483.1</td></tr>",
                            "<tr><td>กทม</td><td>กรุงเทพมหานคร</td><td>Bangkok</td><td>C</td><td>1568.74</td></tr>",
                            "<tr><td>จบ</td><td>จันทบุรี</td><td>Chanthaburi</td><td>C</td><td>6338.0</td></tr>",
                            "<tr><td>ฉช</td><td>ฉะเชิงเทรา</td><td>Chachoengsao</td><td>C</td><td>5351.0</td></tr>",
                            "<tr><td>ชน</td><td>ชัยนาท</td><td>Chainat</td><td>C</td><td>2469.75</td></tr>",
                            "<tr><td>ชบ</td><td>ชลบุรี</td><td>Chonburi</td><td>C</td><td>4611.83</td></tr>",
                            "<tr><td>ตร</td><td>ตราด</td><td>Trat</td><td>C</td><td>2819.0</td></tr>",
                            "<tr><td>นฐ</td><td>นครปฐม</td><td>Nakhon Pathom</td><td>C</td><td>2168.33</td></tr>",
                            "<tr><td>นบ</td><td>นนทบุรี</td><td>Nonthaburi</td><td>C</td><td>622.303</td></tr>",
                            "<tr><td>นย</td><td>นครนายก</td><td>Nakhon Nayok</td><td>C</td><td>2122.0</td></tr>",
                            "<tr><td>ปข</td><td>ประจวบคีรีขันธ์</td><td>Prachuap Khiri Khan</td><td>C</td><td>6367.62</td></tr>",
                            "<tr><td>ปจ</td><td>ปราจีนบุรี</td><td>Prachinburi</td><td>C</td><td>4762.36</td></tr>",
                            "<tr><td>ปท</td><td>ปทุมธานี</td><td>Pathum Thani</td><td>C</td><td>1525.86</td></tr>",
                            "<tr><td>พบ</td><td>เพชรบุรี</td><td>Phetchaburi</td><td>C</td><td>6225.14</td></tr>",
                            "<tr><td>รบ</td><td>ราชบุรี</td><td>Ratchaburi</td><td>C</td><td>5196.46</td></tr>",
                            "<tr><td>รย</td><td>ระยอง</td><td>Rayong</td><td>C</td><td>3552.0</td></tr>",
                            "<tr><td>ลบ</td><td>ลพบุรี</td><td>Lopburi</td><td>C</td><td>6199.75</td></tr>",
                            "<tr><td>สก</td><td>สระแก้ว</td><td>Sa Kaeo</td><td>C</td><td>7195.44</td></tr>",
                            "<tr><td>สค</td><td>สมุทรสาคร</td><td>Samut Sakhon</td><td>C</td><td>872.347</td></tr>",
                            "<tr><td>สบ</td><td>สระบุรี</td><td>Saraburi</td><td>C</td><td>3576.49</td></tr>",
                            "<tr><td>สป</td><td>สมุทรปราการ</td><td>Samut Prakan</td><td>C</td><td>1004.09</td></tr>",
                            "<tr><td>สพ</td><td>สุพรรณบุรี</td><td>Suphan Buri</td><td>C</td><td>5358.01</td></tr>",
                            "<tr><td>สส</td><td>สมุทรสงคราม</td><td>Samut Songkhram</td><td>C</td><td>416.707</td></tr>",
                            "<tr><td>สห</td><td>สิงห์บุรี</td><td>Sing Buri</td><td>C</td><td>822.478</td></tr>",
                            "<tr><td>อท</td><td>อ่างทอง</td><td>Ang Thong</td><td>C</td><td>968.372</td></tr>",
                            "<tr><td>อย</td><td>พระนครศรีอยุธยา</td><td>Phra Nakhon Si Ayutthaya</td><td>C</td><td>2556.64</td></tr>",
                            "<tr><td>กพ</td><td>กำแพงเพชร</td><td>Kamphaeng Phet</td><td>N</td><td>8607.49</td></tr>",
                            "<tr><td>ชม</td><td>เชียงใหม่</td><td>Chiang Mai</td><td>N</td><td>20107.1</td></tr>",
                            "<tr><td>ชร</td><td>เชียงราย</td><td>Chiang Rai</td><td>N</td><td>11678.4</td></tr>",
                            "<tr><td>ตก</td><td>ตาก</td><td>Tak</td><td>N</td><td>16406.7</td></tr>",
                            "<tr><td>นน</td><td>น่าน</td><td>Nan</td><td>N</td><td>11472.1</td></tr>",
                            "<tr><td>นว</td><td>นครสวรรค์</td><td>Nakhon Sawan</td><td>N</td><td>9597.68</td></tr>",
                            "<tr><td>พจ</td><td>พิจิตร</td><td>Phichit</td><td>N</td><td>4531.01</td></tr>",
                            "<tr><td>พช</td><td>เพชรบูรณ์</td><td>Phetchabun</td><td>N</td><td>12668.4</td></tr>",
                            "<tr><td>พย</td><td>พะเยา</td><td>Phayao</td><td>N</td><td>6335.06</td></tr>",
                            "<tr><td>พร</td><td>แพร่</td><td>Phrae</td><td>N</td><td>6538.6</td></tr>",
                            "<tr><td>พล</td><td>พิษณุโลก</td><td>Phitsanulok</td><td>N</td><td>10815.9</td></tr>",
                            "<tr><td>มส</td><td>แม่ฮ่องสอน</td><td>Mae Hong Son</td><td>N</td><td>12681.3</td></tr>",
                            "<tr><td>ลป</td><td>ลำปาง</td><td>Lampang</td><td>N</td><td>12534.0</td></tr>",
                            "<tr><td>ลพ</td><td>ลำพูน</td><td>Lamphun</td><td>N</td><td>4505.88</td></tr>",
                            "<tr><td>สท</td><td>สุโขทัย</td><td>Sukhothai</td><td>N</td><td>6596.09</td></tr>",
                            "<tr><td>อต</td><td>อุตรดิตถ์</td><td>Uttaradit</td><td>N</td><td>7838.59</td></tr>",
                            "<tr><td>อน</td><td>อุทัยธานี</td><td>Uthai Thani</td><td>N</td><td>6730.25</td></tr>",
                            "<tr><td>กส</td><td>กาฬสินธุ์</td><td>Kalasin</td><td>NE</td><td>6946.75</td></tr>",
                            "<tr><td>ขก</td><td>ขอนแก่น</td><td>Khon Kaen</td><td>NE</td><td>10886.0</td></tr>",
                            "<tr><td>ชย</td><td>ชัยภูมิ</td><td>Chaiyaphum</td><td>NE</td><td>12778.3</td></tr>",
                            "<tr><td>นค</td><td>หนองคาย</td><td>Nong Khai</td><td>NE</td><td>3027.28</td></tr>",
                            "<tr><td>นพ</td><td>นครพนม</td><td>Nakhon Phanom</td><td>NE</td><td>5512.67</td></tr>",
                            "<tr><td>นภ</td><td>หนองบัวลำภู</td><td>Nong Bua Lamphu</td><td>NE</td><td>3859.09</td></tr>",
                            "<tr><td>นม</td><td>นครราชสีมา</td><td>Nakhon Ratchasima</td><td>NE</td><td>20494.0</td></tr>",
                            "<tr><td>บก</td><td>บึงกาฬ</td><td>Bueng Kan</td><td>NE</td><td>4305.0</td></tr>",
                            "<tr><td>บร</td><td>บุรีรัมย์</td><td>Buriram</td><td>NE</td><td>10322.9</td></tr>",
                            "<tr><td>มค</td><td>มหาสารคาม</td><td>Maha Sarakham</td><td>NE</td><td>5291.68</td></tr>",
                            "<tr><td>มห</td><td>มุกดาหาร</td><td>Mukdahan</td><td>NE</td><td>4339.83</td></tr>",
                            "<tr><td>ยส</td><td>ยโสธร</td><td>Yasothon</td><td>NE</td><td>4161.66</td></tr>",
                            "<tr><td>รอ</td><td>ร้อยเอ็ด</td><td>Roi Et</td><td>NE</td><td>8299.45</td></tr>",
                            "<tr><td>ลย</td><td>เลย</td><td>Loei</td><td>NE</td><td>11424.6</td></tr>",
                            "<tr><td>ศก</td><td>ศรีสะเกษ</td><td>Sisaket</td><td>NE</td><td>8839.98</td></tr>",
                            "<tr><td>สน</td><td>สกลนคร</td><td>Sakon Nakhon</td><td>NE</td><td>9605.76</td></tr>",
                            "<tr><td>สร</td><td>สุรินทร์</td><td>Surin</td><td>NE</td><td>8124.06</td></tr>",
                            "<tr><td>อจ</td><td>อำนาจเจริญ</td><td>Amnat Charoen</td><td>NE</td><td>3161.25</td></tr>",
                            "<tr><td>อด</td><td>อุดรธานี</td><td>Udon Thani</td><td>NE</td><td>11730.3</td></tr>",
                            "<tr><td>อบ</td><td>อุบลราชธานี</td><td>Ubon Ratchathani</td><td>NE</td><td>16112.7</td></tr>",
                            "<tr><td>กบ</td><td>กระบี่</td><td>Krabi</td><td>S</td><td>4708.51</td></tr>",
                            "<tr><td>ชพ</td><td>ชุมพร</td><td>Chumphon</td><td>S</td><td>6010.85</td></tr>",
                            "<tr><td>ตง</td><td>ตรัง</td><td>Trang</td><td>S</td><td>4917.52</td></tr>",
                            "<tr><td>นธ</td><td>นราธิวาส</td><td>Narathiwat</td><td>S</td><td>4475.43</td></tr>",
                            "<tr><td>นศ</td><td>นครศรีธรรมราช</td><td>Nakhon Si Thammarat</td><td>S</td><td>9942.5</td></tr>",
                            "<tr><td>ปน</td><td>ปัตตานี</td><td>Pattani</td><td>S</td><td>1940.36</td></tr>",
                            "<tr><td>พง</td><td>พังงา</td><td>Phang Nga</td><td>S</td><td>4170.9</td></tr>",
                            "<tr><td>พท</td><td>พัทลุง</td><td>Phattalung</td><td>S</td><td>3424.47</td></tr>",
                            "<tr><td>ภก</td><td>ภูเก็ต</td><td>Phuket</td><td>S</td><td>543.034</td></tr>",
                            "<tr><td>ยล</td><td>ยะลา</td><td>Yala</td><td>S</td><td>4521.08</td></tr>",
                            "<tr><td>รน</td><td>ระนอง</td><td>Ranong</td><td>S</td><td>3298.04</td></tr>",
                            "<tr><td>สข</td><td>สงขลา</td><td>Songkhla</td><td>S</td><td>7393.89</td></tr>",
                            "<tr><td>สฎ</td><td>สุราษฎร์ธานี</td><td>Surat Thani</td><td>S</td><td>12891.5</td></tr>",
                            "<tr><td>สต</td><td>สตูล</td><td>Satun</td><td>S</td><td>2478.98</td></tr>",
                            "</table>"
                        ]
                    }
                }
            ],
            "execution_count": 9
        },
        {
            "cell_type": "code",
            "source": [
                "Split-Apply-Combine (SAC) -> Window function"
            ],
            "metadata": {
                "azdata_cell_guid": "daeb84d4-d323-4c30-901e-67f51bae1c53"
            },
            "outputs": [],
            "execution_count": null
        },
        {
            "cell_type": "code",
            "source": [
                "with c as (\r\n",
                "    select * from province where region = 'C' order by area_km2 desc limit 3\r\n",
                "),\r\n",
                "n as (\r\n",
                "    select * from province where region = 'N' order by area_km2 desc limit 3\r\n",
                "),\r\n",
                "ne as (\r\n",
                "    select * from province where region = 'NE' order by area_km2 desc limit 3\r\n",
                "),\r\n",
                "s as (\r\n",
                "    select * from province where region = 'S' order by area_km2 desc limit 3\r\n",
                ")\r\n",
                "select * from c\r\n",
                "UNION\r\n",
                "select * from n\r\n",
                "UNION\r\n",
                "select * from ne\r\n",
                "UNION\r\n",
                "select * from s order by region, area_km2\r\n",
                ""
            ],
            "metadata": {
                "azdata_cell_guid": "1af8b666-dc9c-4d03-8f0b-79c598e470f1"
            },
            "outputs": [
                {
                    "output_type": "display_data",
                    "data": {
                        "text/html": "(12 row(s) affected)"
                    },
                    "metadata": {}
                },
                {
                    "output_type": "display_data",
                    "data": {
                        "text/html": "Total execution time: 00:00:00.045"
                    },
                    "metadata": {}
                },
                {
                    "output_type": "execute_result",
                    "metadata": {},
                    "execution_count": 12,
                    "data": {
                        "application/vnd.dataresource+json": {
                            "schema": {
                                "fields": [
                                    {
                                        "name": "p_id"
                                    },
                                    {
                                        "name": "name"
                                    },
                                    {
                                        "name": "name_en"
                                    },
                                    {
                                        "name": "region"
                                    },
                                    {
                                        "name": "area_km2"
                                    }
                                ]
                            },
                            "data": [
                                {
                                    "0": "ปข",
                                    "1": "ประจวบคีรีขันธ์",
                                    "2": "Prachuap Khiri Khan",
                                    "3": "C",
                                    "4": "6367.62"
                                },
                                {
                                    "0": "สก",
                                    "1": "สระแก้ว",
                                    "2": "Sa Kaeo",
                                    "3": "C",
                                    "4": "7195.44"
                                },
                                {
                                    "0": "กจ",
                                    "1": "กาญจนบุรี",
                                    "2": "Kanchanaburi",
                                    "3": "C",
                                    "4": "19483.1"
                                },
                                {
                                    "0": "มส",
                                    "1": "แม่ฮ่องสอน",
                                    "2": "Mae Hong Son",
                                    "3": "N",
                                    "4": "12681.3"
                                },
                                {
                                    "0": "ตก",
                                    "1": "ตาก",
                                    "2": "Tak",
                                    "3": "N",
                                    "4": "16406.7"
                                },
                                {
                                    "0": "ชม",
                                    "1": "เชียงใหม่",
                                    "2": "Chiang Mai",
                                    "3": "N",
                                    "4": "20107.1"
                                },
                                {
                                    "0": "ชย",
                                    "1": "ชัยภูมิ",
                                    "2": "Chaiyaphum",
                                    "3": "NE",
                                    "4": "12778.3"
                                },
                                {
                                    "0": "อบ",
                                    "1": "อุบลราชธานี",
                                    "2": "Ubon Ratchathani",
                                    "3": "NE",
                                    "4": "16112.7"
                                },
                                {
                                    "0": "นม",
                                    "1": "นครราชสีมา",
                                    "2": "Nakhon Ratchasima",
                                    "3": "NE",
                                    "4": "20494.0"
                                },
                                {
                                    "0": "สข",
                                    "1": "สงขลา",
                                    "2": "Songkhla",
                                    "3": "S",
                                    "4": "7393.89"
                                },
                                {
                                    "0": "นศ",
                                    "1": "นครศรีธรรมราช",
                                    "2": "Nakhon Si Thammarat",
                                    "3": "S",
                                    "4": "9942.5"
                                },
                                {
                                    "0": "สฎ",
                                    "1": "สุราษฎร์ธานี",
                                    "2": "Surat Thani",
                                    "3": "S",
                                    "4": "12891.5"
                                }
                            ]
                        },
                        "text/html": [
                            "<table>",
                            "<tr><th>p_id</th><th>name</th><th>name_en</th><th>region</th><th>area_km2</th></tr>",
                            "<tr><td>ปข</td><td>ประจวบคีรีขันธ์</td><td>Prachuap Khiri Khan</td><td>C</td><td>6367.62</td></tr>",
                            "<tr><td>สก</td><td>สระแก้ว</td><td>Sa Kaeo</td><td>C</td><td>7195.44</td></tr>",
                            "<tr><td>กจ</td><td>กาญจนบุรี</td><td>Kanchanaburi</td><td>C</td><td>19483.1</td></tr>",
                            "<tr><td>มส</td><td>แม่ฮ่องสอน</td><td>Mae Hong Son</td><td>N</td><td>12681.3</td></tr>",
                            "<tr><td>ตก</td><td>ตาก</td><td>Tak</td><td>N</td><td>16406.7</td></tr>",
                            "<tr><td>ชม</td><td>เชียงใหม่</td><td>Chiang Mai</td><td>N</td><td>20107.1</td></tr>",
                            "<tr><td>ชย</td><td>ชัยภูมิ</td><td>Chaiyaphum</td><td>NE</td><td>12778.3</td></tr>",
                            "<tr><td>อบ</td><td>อุบลราชธานี</td><td>Ubon Ratchathani</td><td>NE</td><td>16112.7</td></tr>",
                            "<tr><td>นม</td><td>นครราชสีมา</td><td>Nakhon Ratchasima</td><td>NE</td><td>20494.0</td></tr>",
                            "<tr><td>สข</td><td>สงขลา</td><td>Songkhla</td><td>S</td><td>7393.89</td></tr>",
                            "<tr><td>นศ</td><td>นครศรีธรรมราช</td><td>Nakhon Si Thammarat</td><td>S</td><td>9942.5</td></tr>",
                            "<tr><td>สฎ</td><td>สุราษฎร์ธานี</td><td>Surat Thani</td><td>S</td><td>12891.5</td></tr>",
                            "</table>"
                        ]
                    }
                }
            ],
            "execution_count": 12
        },
        {
            "cell_type": "code",
            "source": [
                "cumulative / running total"
            ],
            "metadata": {
                "azdata_cell_guid": "d0b002c1-794e-475f-8aa7-1c289a91d1dd"
            },
            "outputs": [],
            "execution_count": null
        },
        {
            "cell_type": "code",
            "source": [
                "-- window function (Split-Apply-Combine)\r\n",
                "with t as (\r\n",
                "    select \r\n",
                "        -- row_number() over (order by name) row_num, \r\n",
                "        rank() over (partition by region order by area_km2 desc) rank, \r\n",
                "        -- rank() over (order by area_km2) rank, \r\n",
                "        *  \r\n",
                "        from province\r\n",
                ")\r\n",
                "select * from t where rank <=3 order by region, area_km2 desc\r\n",
                ""
            ],
            "metadata": {
                "azdata_cell_guid": "afbf2d83-bb0f-4676-98b5-8215456463b3"
            },
            "outputs": [
                {
                    "output_type": "display_data",
                    "data": {
                        "text/html": "(12 row(s) affected)"
                    },
                    "metadata": {}
                },
                {
                    "output_type": "display_data",
                    "data": {
                        "text/html": "Total execution time: 00:00:00.045"
                    },
                    "metadata": {}
                },
                {
                    "output_type": "execute_result",
                    "metadata": {},
                    "execution_count": 20,
                    "data": {
                        "application/vnd.dataresource+json": {
                            "schema": {
                                "fields": [
                                    {
                                        "name": "rank"
                                    },
                                    {
                                        "name": "p_id"
                                    },
                                    {
                                        "name": "name"
                                    },
                                    {
                                        "name": "name_en"
                                    },
                                    {
                                        "name": "region"
                                    },
                                    {
                                        "name": "area_km2"
                                    }
                                ]
                            },
                            "data": [
                                {
                                    "0": "1",
                                    "1": "กจ",
                                    "2": "กาญจนบุรี",
                                    "3": "Kanchanaburi",
                                    "4": "C",
                                    "5": "19483.1"
                                },
                                {
                                    "0": "2",
                                    "1": "สก",
                                    "2": "สระแก้ว",
                                    "3": "Sa Kaeo",
                                    "4": "C",
                                    "5": "7195.44"
                                },
                                {
                                    "0": "3",
                                    "1": "ปข",
                                    "2": "ประจวบคีรีขันธ์",
                                    "3": "Prachuap Khiri Khan",
                                    "4": "C",
                                    "5": "6367.62"
                                },
                                {
                                    "0": "1",
                                    "1": "ชม",
                                    "2": "เชียงใหม่",
                                    "3": "Chiang Mai",
                                    "4": "N",
                                    "5": "20107.1"
                                },
                                {
                                    "0": "2",
                                    "1": "ตก",
                                    "2": "ตาก",
                                    "3": "Tak",
                                    "4": "N",
                                    "5": "16406.7"
                                },
                                {
                                    "0": "3",
                                    "1": "มส",
                                    "2": "แม่ฮ่องสอน",
                                    "3": "Mae Hong Son",
                                    "4": "N",
                                    "5": "12681.3"
                                },
                                {
                                    "0": "1",
                                    "1": "นม",
                                    "2": "นครราชสีมา",
                                    "3": "Nakhon Ratchasima",
                                    "4": "NE",
                                    "5": "20494.0"
                                },
                                {
                                    "0": "2",
                                    "1": "อบ",
                                    "2": "อุบลราชธานี",
                                    "3": "Ubon Ratchathani",
                                    "4": "NE",
                                    "5": "16112.7"
                                },
                                {
                                    "0": "3",
                                    "1": "ชย",
                                    "2": "ชัยภูมิ",
                                    "3": "Chaiyaphum",
                                    "4": "NE",
                                    "5": "12778.3"
                                },
                                {
                                    "0": "1",
                                    "1": "สฎ",
                                    "2": "สุราษฎร์ธานี",
                                    "3": "Surat Thani",
                                    "4": "S",
                                    "5": "12891.5"
                                },
                                {
                                    "0": "2",
                                    "1": "นศ",
                                    "2": "นครศรีธรรมราช",
                                    "3": "Nakhon Si Thammarat",
                                    "4": "S",
                                    "5": "9942.5"
                                },
                                {
                                    "0": "3",
                                    "1": "สข",
                                    "2": "สงขลา",
                                    "3": "Songkhla",
                                    "4": "S",
                                    "5": "7393.89"
                                }
                            ]
                        },
                        "text/html": [
                            "<table>",
                            "<tr><th>rank</th><th>p_id</th><th>name</th><th>name_en</th><th>region</th><th>area_km2</th></tr>",
                            "<tr><td>1</td><td>กจ</td><td>กาญจนบุรี</td><td>Kanchanaburi</td><td>C</td><td>19483.1</td></tr>",
                            "<tr><td>2</td><td>สก</td><td>สระแก้ว</td><td>Sa Kaeo</td><td>C</td><td>7195.44</td></tr>",
                            "<tr><td>3</td><td>ปข</td><td>ประจวบคีรีขันธ์</td><td>Prachuap Khiri Khan</td><td>C</td><td>6367.62</td></tr>",
                            "<tr><td>1</td><td>ชม</td><td>เชียงใหม่</td><td>Chiang Mai</td><td>N</td><td>20107.1</td></tr>",
                            "<tr><td>2</td><td>ตก</td><td>ตาก</td><td>Tak</td><td>N</td><td>16406.7</td></tr>",
                            "<tr><td>3</td><td>มส</td><td>แม่ฮ่องสอน</td><td>Mae Hong Son</td><td>N</td><td>12681.3</td></tr>",
                            "<tr><td>1</td><td>นม</td><td>นครราชสีมา</td><td>Nakhon Ratchasima</td><td>NE</td><td>20494.0</td></tr>",
                            "<tr><td>2</td><td>อบ</td><td>อุบลราชธานี</td><td>Ubon Ratchathani</td><td>NE</td><td>16112.7</td></tr>",
                            "<tr><td>3</td><td>ชย</td><td>ชัยภูมิ</td><td>Chaiyaphum</td><td>NE</td><td>12778.3</td></tr>",
                            "<tr><td>1</td><td>สฎ</td><td>สุราษฎร์ธานี</td><td>Surat Thani</td><td>S</td><td>12891.5</td></tr>",
                            "<tr><td>2</td><td>นศ</td><td>นครศรีธรรมราช</td><td>Nakhon Si Thammarat</td><td>S</td><td>9942.5</td></tr>",
                            "<tr><td>3</td><td>สข</td><td>สงขลา</td><td>Songkhla</td><td>S</td><td>7393.89</td></tr>",
                            "</table>"
                        ]
                    }
                }
            ],
            "execution_count": 20
        },
        {
            "cell_type": "code",
            "source": [
                "select row_number() over (order by area_km2 desc) row_num, * \r\n",
                "    from province;"
            ],
            "metadata": {
                "azdata_cell_guid": "694c7c58-595d-4744-8a98-7b464bca4a1b"
            },
            "outputs": [],
            "execution_count": null
        },
        {
            "cell_type": "code",
            "source": [
                "with t as (\r\n",
                "    select *,\r\n",
                "        sum(area_km2) over (order by name) cumulative_total,\r\n",
                "        sum(area_km2) over () total_area,\r\n",
                "        count(area_km2) over () provinces\r\n",
                "        from province\r\n",
                ")\r\n",
                "select name, area_km2, provinces, to_char(area_km2 * 100 / total_area, '999D99\"%\"')\r\n",
                "    from t"
            ],
            "metadata": {
                "azdata_cell_guid": "0f5fa69c-4bff-4231-aab9-45b549bfc510"
            },
            "outputs": [
                {
                    "output_type": "display_data",
                    "data": {
                        "text/html": "(77 row(s) affected)"
                    },
                    "metadata": {}
                },
                {
                    "output_type": "display_data",
                    "data": {
                        "text/html": "Total execution time: 00:00:00.061"
                    },
                    "metadata": {}
                },
                {
                    "output_type": "execute_result",
                    "metadata": {},
                    "execution_count": 28,
                    "data": {
                        "application/vnd.dataresource+json": {
                            "schema": {
                                "fields": [
                                    {
                                        "name": "name"
                                    },
                                    {
                                        "name": "area_km2"
                                    },
                                    {
                                        "name": "provinces"
                                    },
                                    {
                                        "name": "to_char"
                                    }
                                ]
                            },
                            "data": [
                                {
                                    "0": "กระบี่",
                                    "1": "4708.51",
                                    "2": "77",
                                    "3": "    .92%"
                                },
                                {
                                    "0": "กรุงเทพมหานคร",
                                    "1": "1568.74",
                                    "2": "77",
                                    "3": "    .31%"
                                },
                                {
                                    "0": "กาญจนบุรี",
                                    "1": "19483.1",
                                    "2": "77",
                                    "3": "   3.79%"
                                },
                                {
                                    "0": "กาฬสินธุ์",
                                    "1": "6946.75",
                                    "2": "77",
                                    "3": "   1.35%"
                                },
                                {
                                    "0": "กำแพงเพชร",
                                    "1": "8607.49",
                                    "2": "77",
                                    "3": "   1.68%"
                                },
                                {
                                    "0": "ขอนแก่น",
                                    "1": "10886.0",
                                    "2": "77",
                                    "3": "   2.12%"
                                },
                                {
                                    "0": "จันทบุรี",
                                    "1": "6338.0",
                                    "2": "77",
                                    "3": "   1.23%"
                                },
                                {
                                    "0": "ฉะเชิงเทรา",
                                    "1": "5351.0",
                                    "2": "77",
                                    "3": "   1.04%"
                                },
                                {
                                    "0": "ชลบุรี",
                                    "1": "4611.83",
                                    "2": "77",
                                    "3": "    .90%"
                                },
                                {
                                    "0": "ชัยนาท",
                                    "1": "2469.75",
                                    "2": "77",
                                    "3": "    .48%"
                                },
                                {
                                    "0": "ชัยภูมิ",
                                    "1": "12778.3",
                                    "2": "77",
                                    "3": "   2.49%"
                                },
                                {
                                    "0": "ชุมพร",
                                    "1": "6010.85",
                                    "2": "77",
                                    "3": "   1.17%"
                                },
                                {
                                    "0": "เชียงราย",
                                    "1": "11678.4",
                                    "2": "77",
                                    "3": "   2.27%"
                                },
                                {
                                    "0": "เชียงใหม่",
                                    "1": "20107.1",
                                    "2": "77",
                                    "3": "   3.91%"
                                },
                                {
                                    "0": "ตรัง",
                                    "1": "4917.52",
                                    "2": "77",
                                    "3": "    .96%"
                                },
                                {
                                    "0": "ตราด",
                                    "1": "2819.0",
                                    "2": "77",
                                    "3": "    .55%"
                                },
                                {
                                    "0": "ตาก",
                                    "1": "16406.7",
                                    "2": "77",
                                    "3": "   3.19%"
                                },
                                {
                                    "0": "นครนายก",
                                    "1": "2122.0",
                                    "2": "77",
                                    "3": "    .41%"
                                },
                                {
                                    "0": "นครปฐม",
                                    "1": "2168.33",
                                    "2": "77",
                                    "3": "    .42%"
                                },
                                {
                                    "0": "นครพนม",
                                    "1": "5512.67",
                                    "2": "77",
                                    "3": "   1.07%"
                                },
                                {
                                    "0": "นครราชสีมา",
                                    "1": "20494.0",
                                    "2": "77",
                                    "3": "   3.99%"
                                },
                                {
                                    "0": "นครศรีธรรมราช",
                                    "1": "9942.5",
                                    "2": "77",
                                    "3": "   1.94%"
                                },
                                {
                                    "0": "นครสวรรค์",
                                    "1": "9597.68",
                                    "2": "77",
                                    "3": "   1.87%"
                                },
                                {
                                    "0": "นนทบุรี",
                                    "1": "622.303",
                                    "2": "77",
                                    "3": "    .12%"
                                },
                                {
                                    "0": "นราธิวาส",
                                    "1": "4475.43",
                                    "2": "77",
                                    "3": "    .87%"
                                },
                                {
                                    "0": "น่าน",
                                    "1": "11472.1",
                                    "2": "77",
                                    "3": "   2.23%"
                                },
                                {
                                    "0": "บึงกาฬ",
                                    "1": "4305.0",
                                    "2": "77",
                                    "3": "    .84%"
                                },
                                {
                                    "0": "บุรีรัมย์",
                                    "1": "10322.9",
                                    "2": "77",
                                    "3": "   2.01%"
                                },
                                {
                                    "0": "ปทุมธานี",
                                    "1": "1525.86",
                                    "2": "77",
                                    "3": "    .30%"
                                },
                                {
                                    "0": "ประจวบคีรีขันธ์",
                                    "1": "6367.62",
                                    "2": "77",
                                    "3": "   1.24%"
                                },
                                {
                                    "0": "ปราจีนบุรี",
                                    "1": "4762.36",
                                    "2": "77",
                                    "3": "    .93%"
                                },
                                {
                                    "0": "ปัตตานี",
                                    "1": "1940.36",
                                    "2": "77",
                                    "3": "    .38%"
                                },
                                {
                                    "0": "พระนครศรีอยุธยา",
                                    "1": "2556.64",
                                    "2": "77",
                                    "3": "    .50%"
                                },
                                {
                                    "0": "พะเยา",
                                    "1": "6335.06",
                                    "2": "77",
                                    "3": "   1.23%"
                                },
                                {
                                    "0": "พังงา",
                                    "1": "4170.9",
                                    "2": "77",
                                    "3": "    .81%"
                                },
                                {
                                    "0": "พัทลุง",
                                    "1": "3424.47",
                                    "2": "77",
                                    "3": "    .67%"
                                },
                                {
                                    "0": "พิจิตร",
                                    "1": "4531.01",
                                    "2": "77",
                                    "3": "    .88%"
                                },
                                {
                                    "0": "พิษณุโลก",
                                    "1": "10815.9",
                                    "2": "77",
                                    "3": "   2.11%"
                                },
                                {
                                    "0": "เพชรบุรี",
                                    "1": "6225.14",
                                    "2": "77",
                                    "3": "   1.21%"
                                },
                                {
                                    "0": "เพชรบูรณ์",
                                    "1": "12668.4",
                                    "2": "77",
                                    "3": "   2.47%"
                                },
                                {
                                    "0": "แพร่",
                                    "1": "6538.6",
                                    "2": "77",
                                    "3": "   1.27%"
                                },
                                {
                                    "0": "ภูเก็ต",
                                    "1": "543.034",
                                    "2": "77",
                                    "3": "    .11%"
                                },
                                {
                                    "0": "มหาสารคาม",
                                    "1": "5291.68",
                                    "2": "77",
                                    "3": "   1.03%"
                                },
                                {
                                    "0": "มุกดาหาร",
                                    "1": "4339.83",
                                    "2": "77",
                                    "3": "    .84%"
                                },
                                {
                                    "0": "แม่ฮ่องสอน",
                                    "1": "12681.3",
                                    "2": "77",
                                    "3": "   2.47%"
                                },
                                {
                                    "0": "ยโสธร",
                                    "1": "4161.66",
                                    "2": "77",
                                    "3": "    .81%"
                                },
                                {
                                    "0": "ยะลา",
                                    "1": "4521.08",
                                    "2": "77",
                                    "3": "    .88%"
                                },
                                {
                                    "0": "ร้อยเอ็ด",
                                    "1": "8299.45",
                                    "2": "77",
                                    "3": "   1.62%"
                                },
                                {
                                    "0": "ระนอง",
                                    "1": "3298.04",
                                    "2": "77",
                                    "3": "    .64%"
                                },
                                {
                                    "0": "ระยอง",
                                    "1": "3552.0",
                                    "2": "77",
                                    "3": "    .69%"
                                },
                                {
                                    "0": "ราชบุรี",
                                    "1": "5196.46",
                                    "2": "77",
                                    "3": "   1.01%"
                                },
                                {
                                    "0": "ลพบุรี",
                                    "1": "6199.75",
                                    "2": "77",
                                    "3": "   1.21%"
                                },
                                {
                                    "0": "ลำปาง",
                                    "1": "12534.0",
                                    "2": "77",
                                    "3": "   2.44%"
                                },
                                {
                                    "0": "ลำพูน",
                                    "1": "4505.88",
                                    "2": "77",
                                    "3": "    .88%"
                                },
                                {
                                    "0": "เลย",
                                    "1": "11424.6",
                                    "2": "77",
                                    "3": "   2.22%"
                                },
                                {
                                    "0": "ศรีสะเกษ",
                                    "1": "8839.98",
                                    "2": "77",
                                    "3": "   1.72%"
                                },
                                {
                                    "0": "สกลนคร",
                                    "1": "9605.76",
                                    "2": "77",
                                    "3": "   1.87%"
                                },
                                {
                                    "0": "สงขลา",
                                    "1": "7393.89",
                                    "2": "77",
                                    "3": "   1.44%"
                                },
                                {
                                    "0": "สตูล",
                                    "1": "2478.98",
                                    "2": "77",
                                    "3": "    .48%"
                                },
                                {
                                    "0": "สมุทรปราการ",
                                    "1": "1004.09",
                                    "2": "77",
                                    "3": "    .20%"
                                },
                                {
                                    "0": "สมุทรสงคราม",
                                    "1": "416.707",
                                    "2": "77",
                                    "3": "    .08%"
                                },
                                {
                                    "0": "สมุทรสาคร",
                                    "1": "872.347",
                                    "2": "77",
                                    "3": "    .17%"
                                },
                                {
                                    "0": "สระแก้ว",
                                    "1": "7195.44",
                                    "2": "77",
                                    "3": "   1.40%"
                                },
                                {
                                    "0": "สระบุรี",
                                    "1": "3576.49",
                                    "2": "77",
                                    "3": "    .70%"
                                },
                                {
                                    "0": "สิงห์บุรี",
                                    "1": "822.478",
                                    "2": "77",
                                    "3": "    .16%"
                                },
                                {
                                    "0": "สุโขทัย",
                                    "1": "6596.09",
                                    "2": "77",
                                    "3": "   1.28%"
                                },
                                {
                                    "0": "สุพรรณบุรี",
                                    "1": "5358.01",
                                    "2": "77",
                                    "3": "   1.04%"
                                },
                                {
                                    "0": "สุราษฎร์ธานี",
                                    "1": "12891.5",
                                    "2": "77",
                                    "3": "   2.51%"
                                },
                                {
                                    "0": "สุรินทร์",
                                    "1": "8124.06",
                                    "2": "77",
                                    "3": "   1.58%"
                                },
                                {
                                    "0": "หนองคาย",
                                    "1": "3027.28",
                                    "2": "77",
                                    "3": "    .59%"
                                },
                                {
                                    "0": "หนองบัวลำภู",
                                    "1": "3859.09",
                                    "2": "77",
                                    "3": "    .75%"
                                },
                                {
                                    "0": "อ่างทอง",
                                    "1": "968.372",
                                    "2": "77",
                                    "3": "    .19%"
                                },
                                {
                                    "0": "อำนาจเจริญ",
                                    "1": "3161.25",
                                    "2": "77",
                                    "3": "    .62%"
                                },
                                {
                                    "0": "อุดรธานี",
                                    "1": "11730.3",
                                    "2": "77",
                                    "3": "   2.28%"
                                },
                                {
                                    "0": "อุตรดิตถ์",
                                    "1": "7838.59",
                                    "2": "77",
                                    "3": "   1.53%"
                                },
                                {
                                    "0": "อุทัยธานี",
                                    "1": "6730.25",
                                    "2": "77",
                                    "3": "   1.31%"
                                },
                                {
                                    "0": "อุบลราชธานี",
                                    "1": "16112.7",
                                    "2": "77",
                                    "3": "   3.14%"
                                }
                            ]
                        },
                        "text/html": [
                            "<table>",
                            "<tr><th>name</th><th>area_km2</th><th>provinces</th><th>to_char</th></tr>",
                            "<tr><td>กระบี่</td><td>4708.51</td><td>77</td><td>    .92%</td></tr>",
                            "<tr><td>กรุงเทพมหานคร</td><td>1568.74</td><td>77</td><td>    .31%</td></tr>",
                            "<tr><td>กาญจนบุรี</td><td>19483.1</td><td>77</td><td>   3.79%</td></tr>",
                            "<tr><td>กาฬสินธุ์</td><td>6946.75</td><td>77</td><td>   1.35%</td></tr>",
                            "<tr><td>กำแพงเพชร</td><td>8607.49</td><td>77</td><td>   1.68%</td></tr>",
                            "<tr><td>ขอนแก่น</td><td>10886.0</td><td>77</td><td>   2.12%</td></tr>",
                            "<tr><td>จันทบุรี</td><td>6338.0</td><td>77</td><td>   1.23%</td></tr>",
                            "<tr><td>ฉะเชิงเทรา</td><td>5351.0</td><td>77</td><td>   1.04%</td></tr>",
                            "<tr><td>ชลบุรี</td><td>4611.83</td><td>77</td><td>    .90%</td></tr>",
                            "<tr><td>ชัยนาท</td><td>2469.75</td><td>77</td><td>    .48%</td></tr>",
                            "<tr><td>ชัยภูมิ</td><td>12778.3</td><td>77</td><td>   2.49%</td></tr>",
                            "<tr><td>ชุมพร</td><td>6010.85</td><td>77</td><td>   1.17%</td></tr>",
                            "<tr><td>เชียงราย</td><td>11678.4</td><td>77</td><td>   2.27%</td></tr>",
                            "<tr><td>เชียงใหม่</td><td>20107.1</td><td>77</td><td>   3.91%</td></tr>",
                            "<tr><td>ตรัง</td><td>4917.52</td><td>77</td><td>    .96%</td></tr>",
                            "<tr><td>ตราด</td><td>2819.0</td><td>77</td><td>    .55%</td></tr>",
                            "<tr><td>ตาก</td><td>16406.7</td><td>77</td><td>   3.19%</td></tr>",
                            "<tr><td>นครนายก</td><td>2122.0</td><td>77</td><td>    .41%</td></tr>",
                            "<tr><td>นครปฐม</td><td>2168.33</td><td>77</td><td>    .42%</td></tr>",
                            "<tr><td>นครพนม</td><td>5512.67</td><td>77</td><td>   1.07%</td></tr>",
                            "<tr><td>นครราชสีมา</td><td>20494.0</td><td>77</td><td>   3.99%</td></tr>",
                            "<tr><td>นครศรีธรรมราช</td><td>9942.5</td><td>77</td><td>   1.94%</td></tr>",
                            "<tr><td>นครสวรรค์</td><td>9597.68</td><td>77</td><td>   1.87%</td></tr>",
                            "<tr><td>นนทบุรี</td><td>622.303</td><td>77</td><td>    .12%</td></tr>",
                            "<tr><td>นราธิวาส</td><td>4475.43</td><td>77</td><td>    .87%</td></tr>",
                            "<tr><td>น่าน</td><td>11472.1</td><td>77</td><td>   2.23%</td></tr>",
                            "<tr><td>บึงกาฬ</td><td>4305.0</td><td>77</td><td>    .84%</td></tr>",
                            "<tr><td>บุรีรัมย์</td><td>10322.9</td><td>77</td><td>   2.01%</td></tr>",
                            "<tr><td>ปทุมธานี</td><td>1525.86</td><td>77</td><td>    .30%</td></tr>",
                            "<tr><td>ประจวบคีรีขันธ์</td><td>6367.62</td><td>77</td><td>   1.24%</td></tr>",
                            "<tr><td>ปราจีนบุรี</td><td>4762.36</td><td>77</td><td>    .93%</td></tr>",
                            "<tr><td>ปัตตานี</td><td>1940.36</td><td>77</td><td>    .38%</td></tr>",
                            "<tr><td>พระนครศรีอยุธยา</td><td>2556.64</td><td>77</td><td>    .50%</td></tr>",
                            "<tr><td>พะเยา</td><td>6335.06</td><td>77</td><td>   1.23%</td></tr>",
                            "<tr><td>พังงา</td><td>4170.9</td><td>77</td><td>    .81%</td></tr>",
                            "<tr><td>พัทลุง</td><td>3424.47</td><td>77</td><td>    .67%</td></tr>",
                            "<tr><td>พิจิตร</td><td>4531.01</td><td>77</td><td>    .88%</td></tr>",
                            "<tr><td>พิษณุโลก</td><td>10815.9</td><td>77</td><td>   2.11%</td></tr>",
                            "<tr><td>เพชรบุรี</td><td>6225.14</td><td>77</td><td>   1.21%</td></tr>",
                            "<tr><td>เพชรบูรณ์</td><td>12668.4</td><td>77</td><td>   2.47%</td></tr>",
                            "<tr><td>แพร่</td><td>6538.6</td><td>77</td><td>   1.27%</td></tr>",
                            "<tr><td>ภูเก็ต</td><td>543.034</td><td>77</td><td>    .11%</td></tr>",
                            "<tr><td>มหาสารคาม</td><td>5291.68</td><td>77</td><td>   1.03%</td></tr>",
                            "<tr><td>มุกดาหาร</td><td>4339.83</td><td>77</td><td>    .84%</td></tr>",
                            "<tr><td>แม่ฮ่องสอน</td><td>12681.3</td><td>77</td><td>   2.47%</td></tr>",
                            "<tr><td>ยโสธร</td><td>4161.66</td><td>77</td><td>    .81%</td></tr>",
                            "<tr><td>ยะลา</td><td>4521.08</td><td>77</td><td>    .88%</td></tr>",
                            "<tr><td>ร้อยเอ็ด</td><td>8299.45</td><td>77</td><td>   1.62%</td></tr>",
                            "<tr><td>ระนอง</td><td>3298.04</td><td>77</td><td>    .64%</td></tr>",
                            "<tr><td>ระยอง</td><td>3552.0</td><td>77</td><td>    .69%</td></tr>",
                            "<tr><td>ราชบุรี</td><td>5196.46</td><td>77</td><td>   1.01%</td></tr>",
                            "<tr><td>ลพบุรี</td><td>6199.75</td><td>77</td><td>   1.21%</td></tr>",
                            "<tr><td>ลำปาง</td><td>12534.0</td><td>77</td><td>   2.44%</td></tr>",
                            "<tr><td>ลำพูน</td><td>4505.88</td><td>77</td><td>    .88%</td></tr>",
                            "<tr><td>เลย</td><td>11424.6</td><td>77</td><td>   2.22%</td></tr>",
                            "<tr><td>ศรีสะเกษ</td><td>8839.98</td><td>77</td><td>   1.72%</td></tr>",
                            "<tr><td>สกลนคร</td><td>9605.76</td><td>77</td><td>   1.87%</td></tr>",
                            "<tr><td>สงขลา</td><td>7393.89</td><td>77</td><td>   1.44%</td></tr>",
                            "<tr><td>สตูล</td><td>2478.98</td><td>77</td><td>    .48%</td></tr>",
                            "<tr><td>สมุทรปราการ</td><td>1004.09</td><td>77</td><td>    .20%</td></tr>",
                            "<tr><td>สมุทรสงคราม</td><td>416.707</td><td>77</td><td>    .08%</td></tr>",
                            "<tr><td>สมุทรสาคร</td><td>872.347</td><td>77</td><td>    .17%</td></tr>",
                            "<tr><td>สระแก้ว</td><td>7195.44</td><td>77</td><td>   1.40%</td></tr>",
                            "<tr><td>สระบุรี</td><td>3576.49</td><td>77</td><td>    .70%</td></tr>",
                            "<tr><td>สิงห์บุรี</td><td>822.478</td><td>77</td><td>    .16%</td></tr>",
                            "<tr><td>สุโขทัย</td><td>6596.09</td><td>77</td><td>   1.28%</td></tr>",
                            "<tr><td>สุพรรณบุรี</td><td>5358.01</td><td>77</td><td>   1.04%</td></tr>",
                            "<tr><td>สุราษฎร์ธานี</td><td>12891.5</td><td>77</td><td>   2.51%</td></tr>",
                            "<tr><td>สุรินทร์</td><td>8124.06</td><td>77</td><td>   1.58%</td></tr>",
                            "<tr><td>หนองคาย</td><td>3027.28</td><td>77</td><td>    .59%</td></tr>",
                            "<tr><td>หนองบัวลำภู</td><td>3859.09</td><td>77</td><td>    .75%</td></tr>",
                            "<tr><td>อ่างทอง</td><td>968.372</td><td>77</td><td>    .19%</td></tr>",
                            "<tr><td>อำนาจเจริญ</td><td>3161.25</td><td>77</td><td>    .62%</td></tr>",
                            "<tr><td>อุดรธานี</td><td>11730.3</td><td>77</td><td>   2.28%</td></tr>",
                            "<tr><td>อุตรดิตถ์</td><td>7838.59</td><td>77</td><td>   1.53%</td></tr>",
                            "<tr><td>อุทัยธานี</td><td>6730.25</td><td>77</td><td>   1.31%</td></tr>",
                            "<tr><td>อุบลราชธานี</td><td>16112.7</td><td>77</td><td>   3.14%</td></tr>",
                            "</table>"
                        ]
                    }
                }
            ],
            "execution_count": 28
        },
        {
            "cell_type": "code",
            "source": [
                "select year, studio_entertainment,\r\n",
                "    sum(studio_entertainment) over () grand_total,\r\n",
                "    sum(studio_entertainment) over (order by year) cumulative_total\r\n",
                "    from revenue"
            ],
            "metadata": {
                "azdata_cell_guid": "11b2fb17-e240-4d60-bef4-e69032e754a1"
            },
            "outputs": [],
            "execution_count": null
        },
        {
            "cell_type": "code",
            "source": [
                "-- Split-Apply-Combine\r\n",
                "select row_number() over (partition by region order by area_km2 desc) row_num, * \r\n",
                "    from province;"
            ],
            "metadata": {
                "azdata_cell_guid": "74eb67d4-4099-4692-a822-5a0a550254c4"
            },
            "outputs": [],
            "execution_count": null
        },
        {
            "cell_type": "code",
            "source": [
                "select row_number() over (partition by substr(abbr, 1, 1) order by area_km2 desc) row_num, * \r\n",
                "    from province;"
            ],
            "metadata": {
                "azdata_cell_guid": "6d46f970-d2e6-4a36-a6fa-788e5767037d"
            },
            "outputs": [],
            "execution_count": null
        },
        {
            "cell_type": "code",
            "source": [
                "select row_number() over (partition by region, substr(abbr, 1, 1) order by area_km2 desc) row_num, * \r\n",
                "    from province;"
            ],
            "metadata": {
                "azdata_cell_guid": "7fdc42c9-ea4f-40fe-bd4f-0c09487ccce9"
            },
            "outputs": [],
            "execution_count": null
        },
        {
            "cell_type": "code",
            "source": [
                "select row_number() over (partition by region, substr(abbr, 1, 1) order by region, abbr desc) row_num, * \r\n",
                "    from province;\r\n",
                ""
            ],
            "metadata": {
                "azdata_cell_guid": "b355cd4d-45e3-4194-aef1-c32691bae7dc"
            },
            "outputs": [],
            "execution_count": null
        }
    ]
}