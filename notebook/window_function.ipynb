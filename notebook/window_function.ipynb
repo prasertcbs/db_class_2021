{
    "metadata": {
        "kernelspec": {
            "name": "SQL",
            "display_name": "SQL",
            "language": "sql"
        },
        "language_info": {
            "name": "sql",
            "version": ""
        },
        "extensions": {
            "azuredatastudio": {
                "version": 1,
                "views": []
            }
        }
    },
    "nbformat_minor": 2,
    "nbformat": 4,
    "cells": [
        {
            "cell_type": "code",
            "source": [
                "drop table if exists province;\r\n",
                "CREATE TABLE province (\r\n",
                "    p_id varchar(3),\r\n",
                "    name varchar(15),\r\n",
                "    name_en varchar(24),\r\n",
                "    region varchar(2),\r\n",
                "    area_km2 real\r\n",
                ");\r\n",
                "\r\n",
                "\r\n",
                "INSERT INTO province VALUES ('กจ', 'กาญจนบุรี', 'Kanchanaburi', 'C', 19483.148);\r\n",
                "INSERT INTO province VALUES ('กทม', 'กรุงเทพมหานคร', 'Bangkok', 'C', 1568.737);\r\n",
                "INSERT INTO province VALUES ('จบ', 'จันทบุรี', 'Chanthaburi', 'C', 6338);\r\n",
                "INSERT INTO province VALUES ('ฉช', 'ฉะเชิงเทรา', 'Chachoengsao', 'C', 5351);\r\n",
                "INSERT INTO province VALUES ('ชน', 'ชัยนาท', 'Chainat', 'C', 2469.746);\r\n",
                "INSERT INTO province VALUES ('ชบ', 'ชลบุรี', 'Chonburi', 'C', 4611.829000000001);\r\n",
                "INSERT INTO province VALUES ('ตร', 'ตราด', 'Trat', 'C', 2819);\r\n",
                "INSERT INTO province VALUES ('นฐ', 'นครปฐม', 'Nakhon Pathom', 'C', 2168.327);\r\n",
                "INSERT INTO province VALUES ('นบ', 'นนทบุรี', 'Nonthaburi', 'C', 622.303);\r\n",
                "INSERT INTO province VALUES ('นย', 'นครนายก', 'Nakhon Nayok', 'C', 2122);\r\n",
                "INSERT INTO province VALUES ('ปข', 'ประจวบคีรีขันธ์', 'Prachuap Khiri Khan', 'C', 6367.62);\r\n",
                "INSERT INTO province VALUES ('ปจ', 'ปราจีนบุรี', 'Prachinburi', 'C', 4762.362);\r\n",
                "INSERT INTO province VALUES ('ปท', 'ปทุมธานี', 'Pathum Thani', 'C', 1525.856);\r\n",
                "INSERT INTO province VALUES ('พบ', 'เพชรบุรี', 'Phetchaburi', 'C', 6225.138000000001);\r\n",
                "INSERT INTO province VALUES ('รบ', 'ราชบุรี', 'Ratchaburi', 'C', 5196.462);\r\n",
                "INSERT INTO province VALUES ('รย', 'ระยอง', 'Rayong', 'C', 3552);\r\n",
                "INSERT INTO province VALUES ('ลบ', 'ลพบุรี', 'Lopburi', 'C', 6199.753000000001);\r\n",
                "INSERT INTO province VALUES ('สก', 'สระแก้ว', 'Sa Kaeo', 'C', 7195.436);\r\n",
                "INSERT INTO province VALUES ('สค', 'สมุทรสาคร', 'Samut Sakhon', 'C', 872.347);\r\n",
                "INSERT INTO province VALUES ('สบ', 'สระบุรี', 'Saraburi', 'C', 3576.486);\r\n",
                "INSERT INTO province VALUES ('สป', 'สมุทรปราการ', 'Samut Prakan', 'C', 1004.092);\r\n",
                "INSERT INTO province VALUES ('สพ', 'สุพรรณบุรี', 'Suphan Buri', 'C', 5358.008000000001);\r\n",
                "INSERT INTO province VALUES ('สส', 'สมุทรสงคราม', 'Samut Songkhram', 'C', 416.707);\r\n",
                "INSERT INTO province VALUES ('สห', 'สิงห์บุรี', 'Sing Buri', 'C', 822.4780000000001);\r\n",
                "INSERT INTO province VALUES ('อท', 'อ่างทอง', 'Ang Thong', 'C', 968.372);\r\n",
                "INSERT INTO province VALUES ('อย', 'พระนครศรีอยุธยา', 'Phra Nakhon Si Ayutthaya', 'C', 2556.64);\r\n",
                "INSERT INTO province VALUES ('กพ', 'กำแพงเพชร', 'Kamphaeng Phet', 'N', 8607.49);\r\n",
                "INSERT INTO province VALUES ('ชม', 'เชียงใหม่', 'Chiang Mai', 'N', 20107.057);\r\n",
                "INSERT INTO province VALUES ('ชร', 'เชียงราย', 'Chiang Rai', 'N', 11678.368999999999);\r\n",
                "INSERT INTO province VALUES ('ตก', 'ตาก', 'Tak', 'N', 16406.65);\r\n",
                "INSERT INTO province VALUES ('นน', 'น่าน', 'Nan', 'N', 11472.072);\r\n",
                "INSERT INTO province VALUES ('นว', 'นครสวรรค์', 'Nakhon Sawan', 'N', 9597.677);\r\n",
                "INSERT INTO province VALUES ('พจ', 'พิจิตร', 'Phichit', 'N', 4531.013);\r\n",
                "INSERT INTO province VALUES ('พช', 'เพชรบูรณ์', 'Phetchabun', 'N', 12668.416000000001);\r\n",
                "INSERT INTO province VALUES ('พย', 'พะเยา', 'Phayao', 'N', 6335.06);\r\n",
                "INSERT INTO province VALUES ('พร', 'แพร่', 'Phrae', 'N', 6538.598000000001);\r\n",
                "INSERT INTO province VALUES ('พล', 'พิษณุโลก', 'Phitsanulok', 'N', 10815.854);\r\n",
                "INSERT INTO province VALUES ('มส', 'แม่ฮ่องสอน', 'Mae Hong Son', 'N', 12681.258999999998);\r\n",
                "INSERT INTO province VALUES ('ลป', 'ลำปาง', 'Lampang', 'N', 12533.961000000001);\r\n",
                "INSERT INTO province VALUES ('ลพ', 'ลำพูน', 'Lamphun', 'N', 4505.8820000000005);\r\n",
                "INSERT INTO province VALUES ('สท', 'สุโขทัย', 'Sukhothai', 'N', 6596.092);\r\n",
                "INSERT INTO province VALUES ('อต', 'อุตรดิตถ์', 'Uttaradit', 'N', 7838.592);\r\n",
                "INSERT INTO province VALUES ('อน', 'อุทัยธานี', 'Uthai Thani', 'N', 6730.246);\r\n",
                "INSERT INTO province VALUES ('กส', 'กาฬสินธุ์', 'Kalasin', 'NE', 6946.746);\r\n",
                "INSERT INTO province VALUES ('ขก', 'ขอนแก่น', 'Khon Kaen', 'NE', 10885.991000000002);\r\n",
                "INSERT INTO province VALUES ('ชย', 'ชัยภูมิ', 'Chaiyaphum', 'NE', 12778.287);\r\n",
                "INSERT INTO province VALUES ('นค', 'หนองคาย', 'Nong Khai', 'NE', 3027.28);\r\n",
                "INSERT INTO province VALUES ('นพ', 'นครพนม', 'Nakhon Phanom', 'NE', 5512.668000000001);\r\n",
                "INSERT INTO province VALUES ('นภ', 'หนองบัวลำภู', 'Nong Bua Lamphu', 'NE', 3859.086);\r\n",
                "INSERT INTO province VALUES ('นม', 'นครราชสีมา', 'Nakhon Ratchasima', 'NE', 20493.964);\r\n",
                "INSERT INTO province VALUES ('บก', 'บึงกาฬ', 'Bueng Kan', 'NE', 4305);\r\n",
                "INSERT INTO province VALUES ('บร', 'บุรีรัมย์', 'Buriram', 'NE', 10322.885);\r\n",
                "INSERT INTO province VALUES ('มค', 'มหาสารคาม', 'Maha Sarakham', 'NE', 5291.683000000001);\r\n",
                "INSERT INTO province VALUES ('มห', 'มุกดาหาร', 'Mukdahan', 'NE', 4339.83);\r\n",
                "INSERT INTO province VALUES ('ยส', 'ยโสธร', 'Yasothon', 'NE', 4161.664000000001);\r\n",
                "INSERT INTO province VALUES ('รอ', 'ร้อยเอ็ด', 'Roi Et', 'NE', 8299.449);\r\n",
                "INSERT INTO province VALUES ('ลย', 'เลย', 'Loei', 'NE', 11424.612);\r\n",
                "INSERT INTO province VALUES ('ศก', 'ศรีสะเกษ', 'Sisaket', 'NE', 8839.976);\r\n",
                "INSERT INTO province VALUES ('สน', 'สกลนคร', 'Sakon Nakhon', 'NE', 9605.764000000001);\r\n",
                "INSERT INTO province VALUES ('สร', 'สุรินทร์', 'Surin', 'NE', 8124.056);\r\n",
                "INSERT INTO province VALUES ('อจ', 'อำนาจเจริญ', 'Amnat Charoen', 'NE', 3161.248);\r\n",
                "INSERT INTO province VALUES ('อด', 'อุดรธานี', 'Udon Thani', 'NE', 11730.302);\r\n",
                "INSERT INTO province VALUES ('อบ', 'อุบลราชธานี', 'Ubon Ratchathani', 'NE', 16112.65);\r\n",
                "INSERT INTO province VALUES ('กบ', 'กระบี่', 'Krabi', 'S', 4708.512);\r\n",
                "INSERT INTO province VALUES ('ชพ', 'ชุมพร', 'Chumphon', 'S', 6010.849);\r\n",
                "INSERT INTO province VALUES ('ตง', 'ตรัง', 'Trang', 'S', 4917.519);\r\n",
                "INSERT INTO province VALUES ('นธ', 'นราธิวาส', 'Narathiwat', 'S', 4475.43);\r\n",
                "INSERT INTO province VALUES ('นศ', 'นครศรีธรรมราช', 'Nakhon Si Thammarat', 'S', 9942.502);\r\n",
                "INSERT INTO province VALUES ('ปน', 'ปัตตานี', 'Pattani', 'S', 1940.356);\r\n",
                "INSERT INTO province VALUES ('พง', 'พังงา', 'Phang Nga', 'S', 4170.895);\r\n",
                "INSERT INTO province VALUES ('พท', 'พัทลุง', 'Phattalung', 'S', 3424.473);\r\n",
                "INSERT INTO province VALUES ('ภก', 'ภูเก็ต', 'Phuket', 'S', 543.034);\r\n",
                "INSERT INTO province VALUES ('ยล', 'ยะลา', 'Yala', 'S', 4521.0779999999995);\r\n",
                "INSERT INTO province VALUES ('รน', 'ระนอง', 'Ranong', 'S', 3298.045);\r\n",
                "INSERT INTO province VALUES ('สข', 'สงขลา', 'Songkhla', 'S', 7393.889);\r\n",
                "INSERT INTO province VALUES ('สฎ', 'สุราษฎร์ธานี', 'Surat Thani', 'S', 12891.469);\r\n",
                "INSERT INTO province VALUES ('สต', 'สตูล', 'Satun', 'S', 2478.9770000000003);\r\n",
                "\r\n",
                ""
            ],
            "metadata": {
                "azdata_cell_guid": "418d2072-5201-4603-8600-6501457d448f"
            },
            "outputs": [
                {
                    "output_type": "display_data",
                    "data": {
                        "text/html": "Commands completed successfully"
                    },
                    "metadata": {}
                },
                {
                    "output_type": "display_data",
                    "data": {
                        "text/html": "Commands completed successfully"
                    },
                    "metadata": {}
                },
                {
                    "output_type": "display_data",
                    "data": {
                        "text/html": "Commands completed successfully"
                    },
                    "metadata": {}
                },
                {
                    "output_type": "display_data",
                    "data": {
                        "text/html": "Commands completed successfully"
                    },
                    "metadata": {}
                },
                {
                    "output_type": "display_data",
                    "data": {
                        "text/html": "Commands completed successfully"
                    },
                    "metadata": {}
                },
                {
                    "output_type": "display_data",
                    "data": {
                        "text/html": "Commands completed successfully"
                    },
                    "metadata": {}
                },
                {
                    "output_type": "display_data",
                    "data": {
                        "text/html": "Commands completed successfully"
                    },
                    "metadata": {}
                },
                {
                    "output_type": "display_data",
                    "data": {
                        "text/html": "Commands completed successfully"
                    },
                    "metadata": {}
                },
                {
                    "output_type": "display_data",
                    "data": {
                        "text/html": "Commands completed successfully"
                    },
                    "metadata": {}
                },
                {
                    "output_type": "display_data",
                    "data": {
                        "text/html": "Commands completed successfully"
                    },
                    "metadata": {}
                },
                {
                    "output_type": "display_data",
                    "data": {
                        "text/html": "Commands completed successfully"
                    },
                    "metadata": {}
                },
                {
                    "output_type": "display_data",
                    "data": {
                        "text/html": "Commands completed successfully"
                    },
                    "metadata": {}
                },
                {
                    "output_type": "display_data",
                    "data": {
                        "text/html": "Commands completed successfully"
                    },
                    "metadata": {}
                },
                {
                    "output_type": "display_data",
                    "data": {
                        "text/html": "Commands completed successfully"
                    },
                    "metadata": {}
                },
                {
                    "output_type": "display_data",
                    "data": {
                        "text/html": "Commands completed successfully"
                    },
                    "metadata": {}
                },
                {
                    "output_type": "display_data",
                    "data": {
                        "text/html": "Commands completed successfully"
                    },
                    "metadata": {}
                },
                {
                    "output_type": "display_data",
                    "data": {
                        "text/html": "Commands completed successfully"
                    },
                    "metadata": {}
                },
                {
                    "output_type": "display_data",
                    "data": {
                        "text/html": "Commands completed successfully"
                    },
                    "metadata": {}
                },
                {
                    "output_type": "display_data",
                    "data": {
                        "text/html": "Commands completed successfully"
                    },
                    "metadata": {}
                },
                {
                    "output_type": "display_data",
                    "data": {
                        "text/html": "Commands completed successfully"
                    },
                    "metadata": {}
                },
                {
                    "output_type": "display_data",
                    "data": {
                        "text/html": "Commands completed successfully"
                    },
                    "metadata": {}
                },
                {
                    "output_type": "display_data",
                    "data": {
                        "text/html": "Commands completed successfully"
                    },
                    "metadata": {}
                },
                {
                    "output_type": "display_data",
                    "data": {
                        "text/html": "Commands completed successfully"
                    },
                    "metadata": {}
                },
                {
                    "output_type": "display_data",
                    "data": {
                        "text/html": "Commands completed successfully"
                    },
                    "metadata": {}
                },
                {
                    "output_type": "display_data",
                    "data": {
                        "text/html": "Commands completed successfully"
                    },
                    "metadata": {}
                },
                {
                    "output_type": "display_data",
                    "data": {
                        "text/html": "Commands completed successfully"
                    },
                    "metadata": {}
                },
                {
                    "output_type": "display_data",
                    "data": {
                        "text/html": "Commands completed successfully"
                    },
                    "metadata": {}
                },
                {
                    "output_type": "display_data",
                    "data": {
                        "text/html": "Commands completed successfully"
                    },
                    "metadata": {}
                },
                {
                    "output_type": "display_data",
                    "data": {
                        "text/html": "Commands completed successfully"
                    },
                    "metadata": {}
                },
                {
                    "output_type": "display_data",
                    "data": {
                        "text/html": "Commands completed successfully"
                    },
                    "metadata": {}
                },
                {
                    "output_type": "display_data",
                    "data": {
                        "text/html": "Commands completed successfully"
                    },
                    "metadata": {}
                },
                {
                    "output_type": "display_data",
                    "data": {
                        "text/html": "Commands completed successfully"
                    },
                    "metadata": {}
                },
                {
                    "output_type": "display_data",
                    "data": {
                        "text/html": "Commands completed successfully"
                    },
                    "metadata": {}
                },
                {
                    "output_type": "display_data",
                    "data": {
                        "text/html": "Commands completed successfully"
                    },
                    "metadata": {}
                },
                {
                    "output_type": "display_data",
                    "data": {
                        "text/html": "Commands completed successfully"
                    },
                    "metadata": {}
                },
                {
                    "output_type": "display_data",
                    "data": {
                        "text/html": "Commands completed successfully"
                    },
                    "metadata": {}
                },
                {
                    "output_type": "display_data",
                    "data": {
                        "text/html": "Commands completed successfully"
                    },
                    "metadata": {}
                },
                {
                    "output_type": "display_data",
                    "data": {
                        "text/html": "Commands completed successfully"
                    },
                    "metadata": {}
                },
                {
                    "output_type": "display_data",
                    "data": {
                        "text/html": "Commands completed successfully"
                    },
                    "metadata": {}
                },
                {
                    "output_type": "display_data",
                    "data": {
                        "text/html": "Commands completed successfully"
                    },
                    "metadata": {}
                },
                {
                    "output_type": "display_data",
                    "data": {
                        "text/html": "Commands completed successfully"
                    },
                    "metadata": {}
                },
                {
                    "output_type": "display_data",
                    "data": {
                        "text/html": "Commands completed successfully"
                    },
                    "metadata": {}
                },
                {
                    "output_type": "display_data",
                    "data": {
                        "text/html": "Commands completed successfully"
                    },
                    "metadata": {}
                },
                {
                    "output_type": "display_data",
                    "data": {
                        "text/html": "Commands completed successfully"
                    },
                    "metadata": {}
                },
                {
                    "output_type": "display_data",
                    "data": {
                        "text/html": "Commands completed successfully"
                    },
                    "metadata": {}
                },
                {
                    "output_type": "display_data",
                    "data": {
                        "text/html": "Commands completed successfully"
                    },
                    "metadata": {}
                },
                {
                    "output_type": "display_data",
                    "data": {
                        "text/html": "Commands completed successfully"
                    },
                    "metadata": {}
                },
                {
                    "output_type": "display_data",
                    "data": {
                        "text/html": "Commands completed successfully"
                    },
                    "metadata": {}
                },
                {
                    "output_type": "display_data",
                    "data": {
                        "text/html": "Commands completed successfully"
                    },
                    "metadata": {}
                },
                {
                    "output_type": "display_data",
                    "data": {
                        "text/html": "Commands completed successfully"
                    },
                    "metadata": {}
                },
                {
                    "output_type": "display_data",
                    "data": {
                        "text/html": "Commands completed successfully"
                    },
                    "metadata": {}
                },
                {
                    "output_type": "display_data",
                    "data": {
                        "text/html": "Commands completed successfully"
                    },
                    "metadata": {}
                },
                {
                    "output_type": "display_data",
                    "data": {
                        "text/html": "Commands completed successfully"
                    },
                    "metadata": {}
                },
                {
                    "output_type": "display_data",
                    "data": {
                        "text/html": "Commands completed successfully"
                    },
                    "metadata": {}
                },
                {
                    "output_type": "display_data",
                    "data": {
                        "text/html": "Commands completed successfully"
                    },
                    "metadata": {}
                },
                {
                    "output_type": "display_data",
                    "data": {
                        "text/html": "Commands completed successfully"
                    },
                    "metadata": {}
                },
                {
                    "output_type": "display_data",
                    "data": {
                        "text/html": "Commands completed successfully"
                    },
                    "metadata": {}
                },
                {
                    "output_type": "display_data",
                    "data": {
                        "text/html": "Commands completed successfully"
                    },
                    "metadata": {}
                },
                {
                    "output_type": "display_data",
                    "data": {
                        "text/html": "Commands completed successfully"
                    },
                    "metadata": {}
                },
                {
                    "output_type": "display_data",
                    "data": {
                        "text/html": "Commands completed successfully"
                    },
                    "metadata": {}
                },
                {
                    "output_type": "display_data",
                    "data": {
                        "text/html": "Commands completed successfully"
                    },
                    "metadata": {}
                },
                {
                    "output_type": "display_data",
                    "data": {
                        "text/html": "Commands completed successfully"
                    },
                    "metadata": {}
                },
                {
                    "output_type": "display_data",
                    "data": {
                        "text/html": "Commands completed successfully"
                    },
                    "metadata": {}
                },
                {
                    "output_type": "display_data",
                    "data": {
                        "text/html": "Commands completed successfully"
                    },
                    "metadata": {}
                },
                {
                    "output_type": "display_data",
                    "data": {
                        "text/html": "Commands completed successfully"
                    },
                    "metadata": {}
                },
                {
                    "output_type": "display_data",
                    "data": {
                        "text/html": "Commands completed successfully"
                    },
                    "metadata": {}
                },
                {
                    "output_type": "display_data",
                    "data": {
                        "text/html": "Commands completed successfully"
                    },
                    "metadata": {}
                },
                {
                    "output_type": "display_data",
                    "data": {
                        "text/html": "Commands completed successfully"
                    },
                    "metadata": {}
                },
                {
                    "output_type": "display_data",
                    "data": {
                        "text/html": "Commands completed successfully"
                    },
                    "metadata": {}
                },
                {
                    "output_type": "display_data",
                    "data": {
                        "text/html": "Commands completed successfully"
                    },
                    "metadata": {}
                },
                {
                    "output_type": "display_data",
                    "data": {
                        "text/html": "Commands completed successfully"
                    },
                    "metadata": {}
                },
                {
                    "output_type": "display_data",
                    "data": {
                        "text/html": "Commands completed successfully"
                    },
                    "metadata": {}
                },
                {
                    "output_type": "display_data",
                    "data": {
                        "text/html": "Commands completed successfully"
                    },
                    "metadata": {}
                },
                {
                    "output_type": "display_data",
                    "data": {
                        "text/html": "Commands completed successfully"
                    },
                    "metadata": {}
                },
                {
                    "output_type": "display_data",
                    "data": {
                        "text/html": "Commands completed successfully"
                    },
                    "metadata": {}
                },
                {
                    "output_type": "display_data",
                    "data": {
                        "text/html": "Commands completed successfully"
                    },
                    "metadata": {}
                },
                {
                    "output_type": "display_data",
                    "data": {
                        "text/html": "Commands completed successfully"
                    },
                    "metadata": {}
                },
                {
                    "output_type": "display_data",
                    "data": {
                        "text/html": "Commands completed successfully"
                    },
                    "metadata": {}
                },
                {
                    "output_type": "display_data",
                    "data": {
                        "text/html": "Commands completed successfully"
                    },
                    "metadata": {}
                },
                {
                    "output_type": "display_data",
                    "data": {
                        "text/html": "Total execution time: 00:00:00.703"
                    },
                    "metadata": {}
                }
            ],
            "execution_count": 2
        },
        {
            "cell_type": "code",
            "source": [
                "select * from province;"
            ],
            "metadata": {
                "azdata_cell_guid": "e27bb4e9-439b-4745-90fe-4a6e76ded6b8"
            },
            "outputs": [],
            "execution_count": null
        },
        {
            "cell_type": "code",
            "source": [
                "-- window function \r\n",
                "select row_number() over (order by area_km2) row_num, * \r\n",
                "    from province;"
            ],
            "metadata": {
                "azdata_cell_guid": "afbf2d83-bb0f-4676-98b5-8215456463b3"
            },
            "outputs": [],
            "execution_count": null
        },
        {
            "cell_type": "code",
            "source": [
                "select row_number() over (order by area_km2 desc) row_num, * \r\n",
                "    from province;"
            ],
            "metadata": {
                "azdata_cell_guid": "694c7c58-595d-4744-8a98-7b464bca4a1b"
            },
            "outputs": [],
            "execution_count": null
        },
        {
            "cell_type": "code",
            "source": [
                "-- Split-Apply-Combine\r\n",
                "select row_number() over (partition by region order by area_km2 desc) row_num, * \r\n",
                "    from province;"
            ],
            "metadata": {
                "azdata_cell_guid": "74eb67d4-4099-4692-a822-5a0a550254c4"
            },
            "outputs": [],
            "execution_count": null
        },
        {
            "cell_type": "code",
            "source": [
                "select row_number() over (partition by substr(abbr, 1, 1) order by area_km2 desc) row_num, * \r\n",
                "    from province;"
            ],
            "metadata": {
                "azdata_cell_guid": "6d46f970-d2e6-4a36-a6fa-788e5767037d"
            },
            "outputs": [],
            "execution_count": null
        },
        {
            "cell_type": "code",
            "source": [
                "select row_number() over (partition by region, substr(abbr, 1, 1) order by area_km2 desc) row_num, * \r\n",
                "    from province;"
            ],
            "metadata": {
                "azdata_cell_guid": "7fdc42c9-ea4f-40fe-bd4f-0c09487ccce9"
            },
            "outputs": [],
            "execution_count": null
        },
        {
            "cell_type": "code",
            "source": [
                "select row_number() over (partition by region, substr(abbr, 1, 1) order by region, abbr desc) row_num, * \r\n",
                "    from province;\r\n",
                ""
            ],
            "metadata": {
                "azdata_cell_guid": "b355cd4d-45e3-4194-aef1-c32691bae7dc"
            },
            "outputs": [],
            "execution_count": null
        }
    ]
}